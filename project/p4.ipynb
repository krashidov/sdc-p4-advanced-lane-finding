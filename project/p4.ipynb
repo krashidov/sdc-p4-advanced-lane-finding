{
 "cells": [
  {
   "cell_type": "markdown",
   "metadata": {
    "deletable": true,
    "editable": true
   },
   "source": [
    "## Advanced Lane Finding Project\n",
    "\n",
    "The goals / steps of this project are the following:\n",
    "\n",
    "* Compute the camera calibration matrix and distortion coefficients given a set of chessboard images.\n",
    "* Apply a distortion correction to raw images.\n",
    "* Use color transforms, gradients, etc., to create a thresholded binary image.\n",
    "* Apply a perspective transform to rectify binary image (\"birds-eye view\").\n",
    "* Detect lane pixels and fit to find the lane boundary.\n",
    "* Determine the curvature of the lane and vehicle position with respect to center.\n",
    "* Warp the detected lane boundaries back onto the original image.\n",
    "* Output visual display of the lane boundaries and numerical estimation of lane curvature and vehicle position.\n",
    "\n",
    "---\n",
    "## First, I'll compute the camera calibration using chessboard images"
   ]
  },
  {
   "cell_type": "code",
   "execution_count": 2,
   "metadata": {
    "collapsed": true,
    "deletable": true,
    "editable": true
   },
   "outputs": [],
   "source": [
    "import numpy as np\n",
    "import cv2\n",
    "import glob\n",
    "import matplotlib.pyplot as plt\n",
    "%matplotlib qt\n",
    "\n",
    "# prepare object points, like (0,0,0), (1,0,0), (2,0,0) ....,(6,5,0)\n",
    "objp = np.zeros((6*9,3), np.float32)\n",
    "objp[:,:2] = np.mgrid[0:9,0:6].T.reshape(-1,2)\n",
    "\n",
    "# Arrays to store object points and image points from all the images.\n",
    "objpoints = [] # 3d points in real world space\n",
    "imgpoints = [] # 2d points in image plane.\n",
    "\n",
    "# Make a list of calibration images\n",
    "images = glob.glob('../camera_cal/calibration*.jpg')\n",
    "\n",
    "# Step through the list and search for chessboard corners\n",
    "for fname in images:\n",
    "    img = cv2.imread(fname)\n",
    "    gray = cv2.cvtColor(img,cv2.COLOR_BGR2GRAY)\n",
    "\n",
    "    # Find the chessboard corners\n",
    "    ret, corners = cv2.findChessboardCorners(gray, (9,6),None)\n",
    "\n",
    "    # If found, add object points, image points\n",
    "    if ret == True:\n",
    "        objpoints.append(objp)\n",
    "        imgpoints.append(corners)\n",
    "\n",
    "        # Draw and display the corners\n",
    "        img = cv2.drawChessboardCorners(img, (9,6), corners, ret)\n",
    "        cv2.imshow('img',img)\n",
    "        cv2.waitKey(500)\n",
    "\n",
    "cv2.destroyAllWindows()"
   ]
  },
  {
   "cell_type": "markdown",
   "metadata": {
    "deletable": true,
    "editable": true
   },
   "source": [
    "## And so on and so forth..."
   ]
  },
  {
   "cell_type": "code",
   "execution_count": 3,
   "metadata": {
    "collapsed": false,
    "deletable": true,
    "editable": true
   },
   "outputs": [],
   "source": [
    "img = cv2.imread('../camera_cal/calibration1.jpg')\n",
    "img_size = (img.shape[1], img.shape[0])\n",
    "\n",
    "ret, mtx, dist, rvecs, tvecs = cv2.calibrateCamera(objpoints, imgpoints, img_size, None, None)\n",
    "\n"
   ]
  },
  {
   "cell_type": "markdown",
   "metadata": {},
   "source": [
    "## Color And Gradient Thresholding "
   ]
  },
  {
   "cell_type": "code",
   "execution_count": 4,
   "metadata": {
    "collapsed": true,
    "deletable": true,
    "editable": true
   },
   "outputs": [],
   "source": [
    "def abs_sobel_thresh(img, orient='x', sobel_kernel=3, thresh=(0, 255)):\n",
    "    gray = cv2.cvtColor(img, cv2.COLOR_RGB2GRAY)\n",
    "    if orient == 'x':\n",
    "        abs_sobel = np.absolute(cv2.Sobel(gray, cv2.CV_64F, 1, 0))\n",
    "    if orient == 'y':\n",
    "        abs_sobel = np.absolute(cv2.Sobel(gray, cv2.CV_64F, 0, 1))\n",
    "\n",
    "    scaled_sobel = np.uint8(255*abs_sobel/np.max(abs_sobel))\n",
    "    binary_output = np.zeros_like(scaled_sobel)    \n",
    "\n",
    "    binary_output[(scaled_sobel > thresh[0]) & (scaled_sobel < thresh[1])] = 1\n",
    "    return binary_output\n",
    "\n",
    "def mag_thresh(img, sobel_kernel=3, mag_thresh=(0, 255)):\n",
    "    gray = cv2.cvtColor(img, cv2.COLOR_RGB2GRAY)\n",
    "\n",
    "    sobelx = cv2.Sobel(gray, cv2.CV_64F, 1, 0, ksize=sobel_kernel)\n",
    "    sobely = cv2.Sobel(gray, cv2.CV_64F, 0, 1, ksize=sobel_kernel)\n",
    "    \n",
    "    # Calculate the gradient magnitude\n",
    "    gradmag = np.sqrt(sobelx**2 + sobely**2)\n",
    "    # Rescale to 8 bit\n",
    "    scale_factor = np.max(gradmag)/255 \n",
    "    gradmag = (gradmag/scale_factor).astype(np.uint8) \n",
    "    \n",
    "    # Create a binary image of ones where threshold is met, zeros otherwise\n",
    "    binary_output = np.zeros_like(gradmag)\n",
    "    binary_output[(gradmag >= mag_thresh[0]) & (gradmag <= mag_thresh[1])] = 1\n",
    "\n",
    "    # Return the binary image\n",
    "    return binary_output\n",
    "\n",
    "def dir_threshold(img, sobel_kernel=3, thresh=(0, np.pi/2)):\n",
    "    # Grayscale\n",
    "    gray = cv2.cvtColor(img, cv2.COLOR_RGB2GRAY)\n",
    "    # Calculate the x and y gradients\n",
    "    sobelx = cv2.Sobel(gray, cv2.CV_64F, 1, 0, ksize=sobel_kernel)\n",
    "    sobely = cv2.Sobel(gray, cv2.CV_64F, 0, 1, ksize=sobel_kernel)\n",
    "    # Take the absolute value of the gradient direction, \n",
    "    # apply a threshold, and create a binary image result\n",
    "    absgraddir = np.arctan2(np.absolute(sobely), np.absolute(sobelx))\n",
    "    binary_output =  np.zeros_like(absgraddir)\n",
    "    binary_output[(absgraddir >= thresh[0]) & (absgraddir <= thresh[1])] = 1\n",
    "\n",
    "    # Return the binary image\n",
    "    return binary_output\n",
    "\n",
    "def hls_select(img, thresh=(0, 255)):\n",
    "    hls = cv2.cvtColor(img, cv2.COLOR_RGB2HLS)\n",
    "    s_channel = hls[:,:,2]\n",
    "    binary_output = np.zeros_like(s_channel)\n",
    "    binary_output[(s_channel > thresh[0]) & (s_channel <= thresh[1])] = 1\n",
    "    return binary_output\n",
    "\n",
    "def hsv_select(img, thresh=(0, 255)):\n",
    "    hsv = cv2.cvtColor(img, cv2.COLOR_RGB2HSV)\n",
    "    v_channel = hsv[:,:,2]\n",
    "    binary_output = np.zeros_like(v_channel)\n",
    "    binary_output[(v_channel > thresh[0]) & (v_channel <= thresh[1])] = 1\n",
    "    return binary_output\n",
    "\n",
    "def color_threshold(image, sthresh, vthresh):\n",
    "    s_binary = hls_select(image, sthresh)\n",
    "    v_binary = hsv_select(image, vthresh)\n",
    "    \n",
    "    output = np.zeros_like(s_binary)\n",
    "    #any overlap results in a pixel being drawn\n",
    "    output[(s_binary == 1) & (v_binary == 1) == 1] = 1\n",
    "    return output"
   ]
  },
  {
   "cell_type": "code",
   "execution_count": 5,
   "metadata": {
    "collapsed": false,
    "deletable": true,
    "editable": true
   },
   "outputs": [],
   "source": [
    "\n"
   ]
  },
  {
   "cell_type": "code",
   "execution_count": 6,
   "metadata": {
    "collapsed": true,
    "deletable": true,
    "editable": true
   },
   "outputs": [],
   "source": [
    "class Line():\n",
    "    def __init__(self):\n",
    "        # was the line detected in the last iteration?\n",
    "        self.detected = False  \n",
    "        self.n = 5\n",
    "\n",
    "        #radius of curvature of the line in some units\n",
    "        self.radius_of_curvature = None \n",
    "        #distance in meters of vehicle center from the line\n",
    "        self.line_base_pos = None \n",
    "        #difference in fit coefficients between last and new fits\n",
    "        self.diffs = np.array([0,0,0], dtype='float') \n",
    "        #x values for detected line pixels\n",
    "        self.all_x = []  \n",
    "        #y values for detected line pixels\n",
    "        self.all_y = []\n",
    "        \n",
    "        self.all_a = []\n",
    "        self.all_b = []\n",
    "        self.all_c = []\n",
    "        \n",
    "        \n",
    "    def bestx(self):\n",
    "        return np.mean(self.recent_xfitted)\n",
    "    \n",
    "    def add_coefficients(self, coefficients):\n",
    "        self.all_a.append(coefficients[0])\n",
    "        self.all_b.append(coefficients[1])\n",
    "        self.all_c.append(coefficients[2])\n",
    "        \n",
    "    def current_fit(self):\n",
    "        return [self.all_a[-1], self.all_b[-1], self.all_c[-1]]\n",
    "    \n",
    "    def average_coefficients(self, farback=0):\n",
    "        return [np.mean(self.all_a[-farback:]), np.mean(self.all_b[-farback:]), np.mean(self.all_c[-farback:])]\n",
    "    \n",
    "    def add_x(self, x):\n",
    "        self.all_x.append(x)\n",
    "\n",
    "        \n",
    "    def best_x(self):\n",
    "        return np.mean(self.all_x[-1 * self.n:])\n",
    "    \n",
    "    def add_y(self, y):\n",
    "        self.all_y.append(y)\n",
    "        \n",
    "    def currentx(self):\n",
    "        return self.all_x[-1]\n",
    "\n",
    "    def currenty(self):\n",
    "        return self.all_y[-1]\n",
    "    \n",
    "    def best_y(self):\n",
    "        return np.mean(self.all_y[-1 * self.n])\n",
    "    \n",
    "    def best_coefficients(self):\n",
    "        self.average_coefficients(self.n)\n",
    "    \n",
    "    \n",
    "\n",
    "        "
   ]
  },
  {
   "cell_type": "code",
   "execution_count": 17,
   "metadata": {
    "collapsed": false
   },
   "outputs": [
    {
     "data": {
      "text/plain": [
       "True"
      ]
     },
     "execution_count": 17,
     "metadata": {},
     "output_type": "execute_result"
    }
   ],
   "source": [
    "fname = '../test_images/test1.jpg'\n",
    "img = cv2.imread(fname)\n",
    "img = cv2.undistort(img, mtx, dist, None, mtx)\n",
    "cv2.imwrite('./undistorted.jpg', img)"
   ]
  },
  {
   "cell_type": "code",
   "execution_count": 67,
   "metadata": {
    "collapsed": false,
    "deletable": true,
    "editable": true
   },
   "outputs": [],
   "source": [
    "test_images = glob.glob('../test_images/*.jpg')\n",
    "\n",
    "class Tracker:\n",
    "    def __init__(self):\n",
    "        self.previousLeftRadius = None\n",
    "        self.previousRightRaidus = None\n",
    "        self.previousWindow = None\n",
    "        self.previousLeftRadius = None\n",
    "        self.previousRightRadius = None\n",
    "        self.previousRightFitx = None\n",
    "        self.previousLeftFitx = None\n",
    "        self.previousCenterDiff = []\n",
    "        \n",
    "        self.previousLeftXBase = None\n",
    "        self.previousRightXBase = None\n",
    "        self.left = Line()\n",
    "        self.right = Line()\n",
    "        \n",
    "    def histogramize(self, binary_warped):\n",
    "        # Assuming you have created a warped binary image called \"binary_warped\"\n",
    "        # Take a histogram of the bottom half of the image\n",
    "        histogram = np.sum(binary_warped[int(binary_warped.shape[0]/2):,:], axis=0)\n",
    "        # Create an output image to draw on and  visualize the result\n",
    "        out_img = np.dstack((binary_warped, binary_warped, binary_warped))*255\n",
    "        # Find the peak of the left and right halves of the histogram\n",
    "        # These will be the starting point for the left and right lines\n",
    "        midpoint = np.int(histogram.shape[0]/2)\n",
    "        leftx_base = np.argmax(histogram[:midpoint])\n",
    "        rightx_base = np.argmax(histogram[midpoint:]) + midpoint\n",
    "\n",
    "        # Choose the number of sliding windows\n",
    "        nwindows = 9\n",
    "        # Set height of windows\n",
    "        window_height = np.int(binary_warped.shape[0]/nwindows)\n",
    "        # Identify the x and y positions of all nonzero pixels in the image\n",
    "        nonzero = binary_warped.nonzero()\n",
    "        nonzeroy = np.array(nonzero[0])\n",
    "        nonzerox = np.array(nonzero[1])\n",
    "        # Current positions to be updated for each window\n",
    "        leftx_current = leftx_base\n",
    "        rightx_current = rightx_base\n",
    "        # Set the width of the windows +/- margin\n",
    "        margin = 100\n",
    "        # Set minimum number of pixels found to recenter window\n",
    "        minpix = 50\n",
    "        # Create empty lists to receive left and right lane pixel indices\n",
    "        left_lane_inds = []\n",
    "        right_lane_inds = []\n",
    "\n",
    "        # Step through the windows one by one\n",
    "        for window in range(nwindows):\n",
    "            # Identify window boundaries in x and y (and right and left)\n",
    "            win_y_low = binary_warped.shape[0] - (window+1)*window_height\n",
    "            win_y_high = binary_warped.shape[0] - window*window_height\n",
    "            win_xleft_low = leftx_current - margin\n",
    "            win_xleft_high = leftx_current + margin\n",
    "            win_xright_low = rightx_current - margin\n",
    "            win_xright_high = rightx_current + margin\n",
    "            # Draw the windows on the visualization image\n",
    "            cv2.rectangle(out_img,(win_xleft_low,win_y_low),(win_xleft_high,win_y_high),(0,255,0), 2) \n",
    "            cv2.rectangle(out_img,(win_xright_low,win_y_low),(win_xright_high,win_y_high),(0,255,0), 2) \n",
    "            # Identify the nonzero pixels in x and y within the window\n",
    "            good_left_inds = ((nonzeroy >= win_y_low) & (nonzeroy < win_y_high) & (nonzerox >= win_xleft_low) & (nonzerox < win_xleft_high)).nonzero()[0]\n",
    "            good_right_inds = ((nonzeroy >= win_y_low) & (nonzeroy < win_y_high) & (nonzerox >= win_xright_low) & (nonzerox < win_xright_high)).nonzero()[0]\n",
    "            # Append these indices to the lists\n",
    "            left_lane_inds.append(good_left_inds)\n",
    "            right_lane_inds.append(good_right_inds)\n",
    "            # If you found > minpix pixels, recenter next window on their mean position\n",
    "            if len(good_left_inds) > minpix:\n",
    "                leftx_current = np.int(np.mean(nonzerox[good_left_inds]))\n",
    "            if len(good_right_inds) > minpix:        \n",
    "                rightx_current = np.int(np.mean(nonzerox[good_right_inds]))\n",
    "\n",
    "        # Concatenate the arrays of indices\n",
    "        left_lane_inds = np.concatenate(left_lane_inds)\n",
    "        right_lane_inds = np.concatenate(right_lane_inds)\n",
    "\n",
    "        # Extract left and right line pixel positions\n",
    "        leftx = nonzerox[left_lane_inds]\n",
    "        lefty = nonzeroy[left_lane_inds] \n",
    "        rightx = nonzerox[right_lane_inds]\n",
    "        righty = nonzeroy[right_lane_inds] \n",
    "        \n",
    "        self.previousLeftXBase = leftx_current\n",
    "        self.previousRightXBase = rightx_current\n",
    "\n",
    "        # Fit a second order polynomial to each\n",
    "        left_fit = np.polyfit(lefty, leftx, 2)\n",
    "        right_fit = np.polyfit(righty, rightx, 2)\n",
    "\n",
    "        ploty = np.linspace(0, binary_warped.shape[0]-1, binary_warped.shape[0] )\n",
    "        \n",
    "        left_fitx = left_fit[0]*ploty**2 + left_fit[1]*ploty + left_fit[2]\n",
    "        \n",
    "        right_fitx = right_fit[0]*ploty**2 + right_fit[1]*ploty + right_fit[2]\n",
    "        \n",
    "        \n",
    "        out_img = np.dstack((binary_warped, binary_warped, binary_warped))*255\n",
    "        window_img = np.zeros_like(out_img)\n",
    "        # Color in left and right line pixels\n",
    "        out_img[nonzeroy[left_lane_inds], nonzerox[left_lane_inds]] = [255, 0, 0]\n",
    "        out_img[nonzeroy[right_lane_inds], nonzerox[right_lane_inds]] = [0, 0, 255]\n",
    "\n",
    "        # Generate a polygon to illustrate the search window area\n",
    "        # And recast the x and y points into usable format for cv2.fillPoly()\n",
    "        left_line_window1 = np.array([np.transpose(np.vstack([left_fitx-margin, ploty]))])\n",
    "        left_line_window2 = np.array([np.flipud(np.transpose(np.vstack([left_fitx+margin, ploty])))])\n",
    "        left_line_pts = np.hstack((left_line_window1, left_line_window2))\n",
    "        right_line_window1 = np.array([np.transpose(np.vstack([right_fitx-margin, ploty]))])\n",
    "        right_line_window2 = np.array([np.flipud(np.transpose(np.vstack([right_fitx+margin, ploty])))])\n",
    "        right_line_pts = np.hstack((right_line_window1, right_line_window2))\n",
    "\n",
    "        # Draw the lane onto the warped blank image\n",
    "#         cv2.fillPoly(window_img, np.int_([left_line_pts]), (0,255, 0))\n",
    "#         cv2.fillPoly(window_img, np.int_([right_line_pts]), (0,255, 0))\n",
    "#         result = cv2.addWeighted(out_img, 1, window_img, 0.3, 0)\n",
    "#         cv2.imwrite('./lanefinding.jpg', result)\n",
    "#         plt.plot(left_fitx, ploty, color='yellow')\n",
    "#         plt.plot(right_fitx, ploty, color='yellow')\n",
    "#         plt.xlim(0, 1280)\n",
    "#         plt.ylim(720, 0)\n",
    "\n",
    "        \n",
    "        return (left_fitx, right_fitx, ploty)\n",
    "        \n",
    "\n",
    "    def image_width(self, image):\n",
    "        return image.shape[1]\n",
    "\n",
    "    def image_height(self, image):\n",
    "        return image.shape[0]\n",
    "\n",
    "    def src_points(self, image):\n",
    "        #Percentage of bottom for trapezoid\n",
    "        width = self.image_width(image)\n",
    "        height = self.image_height(image)\n",
    "        bottom_width = 0.76\n",
    "        middle_width = 0.08\n",
    "        height_pct = 0.62\n",
    "        bottom_trim = 0.935\n",
    "\n",
    "        top_left = [width * (0.5 - middle_width/2), (height * height_pct)]\n",
    "        top_right = [width * (0.5 + middle_width/2),(height * height_pct)]\n",
    "        bottom_right = [(width *(0.5 + bottom_width/2)), (height * bottom_trim)]\n",
    "        bottom_left = [(width * (0.5 - bottom_width/2)), (height * bottom_trim)]\n",
    "\n",
    "        return np.float32([ top_left, top_right, bottom_right, bottom_left])\n",
    "\n",
    "    def process_image(self, img):\n",
    "        img = cv2.undistort(img, mtx, dist, None, mtx)\n",
    "\n",
    "        #Make a gradient/directional mask\n",
    "        preprocess_image = np.zeros_like(img[:,:,0])\n",
    "        gradx = abs_sobel_thresh(img, orient='x', thresh=(15,255))\n",
    "        grady = abs_sobel_thresh(img, orient='y', thresh=(30,255))\n",
    "\n",
    "        c_binary = color_threshold(img, sthresh=(120,255), vthresh=(60,255))\n",
    "        preprocess_image[(((gradx == 1) & (grady ==1)) | (c_binary == 1))] = 255\n",
    "#         cv2.imwrite('./thresholding.jpg', preprocess_image)\n",
    "\n",
    "        width = self.image_width(preprocess_image)\n",
    "        height = self.image_height(preprocess_image)\n",
    "\n",
    "        source = self.src_points(preprocess_image)\n",
    "\n",
    "        #A quarter of the width of the image\n",
    "        offset = width * 0.2\n",
    "\n",
    "        #top left, top right, bottom right, bottom left\n",
    "        destination = np.float32([[offset, 0], [width-offset, 0], [width-offset, height], [offset, height]])\n",
    "        print(\"DEST\", destination)\n",
    "        print(\"SRC\", source)\n",
    "        #Perspective Transform\n",
    "        M = cv2.getPerspectiveTransform(source, destination)\n",
    "        Minv = cv2.getPerspectiveTransform(destination, source)\n",
    "        warped = cv2.warpPerspective(preprocess_image, M, (width, height), flags=cv2.INTER_LINEAR)\n",
    "        \n",
    "        left_fitx, right_fitx, ploty = self.histogramize(warped)\n",
    "        \n",
    "        # Define conversions in x and y from pixels space to meters\n",
    "        ym_per_pix = 30/720 # meters per pixel in y dimension\n",
    "        xm_per_pix = 3.7/700 # meters per pixel in x dimension\n",
    "        \n",
    "        #in between the two lane lines\n",
    "        camera_center = (left_fitx[-1] + right_fitx[-1])/2 \n",
    "        center_diff = (camera_center - warped.shape[1]/2) * xm_per_pix\n",
    "        side_pos = 'left'\n",
    "        if center_diff <= 0:\n",
    "            side_pos = 'right'\n",
    "        y_eval = np.max(ploty)\n",
    "        \n",
    "        # Calculate the new radii of curvature\n",
    "        left_fit_cr = np.polyfit(ploty*ym_per_pix, left_fitx*xm_per_pix, 2)\n",
    "        right_fit_cr = np.polyfit(ploty*ym_per_pix, right_fitx*xm_per_pix, 2)\n",
    "        \n",
    "        left_curverad = ((1 + (2*left_fit_cr[0]*y_eval*ym_per_pix + left_fit_cr[1])**2)**1.5) / np.absolute(2*left_fit_cr[0])\n",
    "        right_curverad = ((1 + (2*right_fit_cr[0]*y_eval*ym_per_pix + right_fit_cr[1])**2)**1.5) / np.absolute(2*right_fit_cr[0])\n",
    "        diff = \"lol\"\n",
    "        if (self.previousLeftRadius and self.previousRightRadius and self.previousCenterDiff):\n",
    "            diff = abs(abs(center_diff) - np.mean(self.previousCenterDiff[-20:]))\n",
    "            if diff > 0.315:\n",
    "                ploty = self.previousPloty\n",
    "                left_curverad = self.previousLeftRadius\n",
    "                right_curverad = self.previousRightRadius\n",
    "                left_fitx = self.previousLeftFitx\n",
    "                right_fitx = self.previousRightFitx\n",
    "                center_diff = self.previousCenterDiff[-1]\n",
    "            else:\n",
    "                self.previousPloty = ploty\n",
    "                self.previousLeftRadius = left_curverad\n",
    "                self.previousRightRadius = right_curverad\n",
    "                self.previousLeftFitx = left_fitx\n",
    "                self.previousRightFitx = right_fitx\n",
    "                self.previousCenterDiff.append(abs(center_diff))\n",
    "        else:\n",
    "            self.previousPloty = ploty\n",
    "            self.previousLeftRadius = left_curverad\n",
    "            self.previousRightRadius = right_curverad\n",
    "            self.previousLeftFitx = left_fitx\n",
    "            self.previousRightFitx = right_fitx\n",
    "            self.previousCenterDiff.append(abs(center_diff))\n",
    "        \n",
    "\n",
    "        warp_zero = np.zeros_like(warped).astype(np.uint8)\n",
    "        color_warp = np.dstack((warp_zero, warp_zero, warp_zero))\n",
    "\n",
    "        # Recast the x and y points into usable format for cv2.fillPoly()\n",
    "        pts_left = np.array([np.transpose(np.vstack([left_fitx, ploty]))])\n",
    "        pts_right = np.array([np.flipud(np.transpose(np.vstack([right_fitx, ploty])))])\n",
    "        pts = np.hstack((pts_left, pts_right))\n",
    "\n",
    "        # Draw the lane onto the warped blank image\n",
    "        cv2.fillPoly(color_warp, np.int_([pts]), (0,255, 0))\n",
    "\n",
    "        # Warp the blank back to original image space using inverse perspective matrix (Minv)\n",
    "        newwarp = cv2.warpPerspective(color_warp, Minv, (img.shape[1], img.shape[0])) \n",
    "        # Combine the result with the original image\n",
    "        result = cv2.addWeighted(img, 1, newwarp, 0.3, 0)\n",
    "        cv2.putText(result, 'Left radius: ' + str(round(left_curverad, 3)) + 'm', (50,50), cv2.FONT_HERSHEY_SIMPLEX, 1, (255,255,255), 2)\n",
    "        cv2.putText(result, 'Right radius: '+ str(round(right_curverad, 3)) + 'm', (50,100), cv2.FONT_HERSHEY_SIMPLEX, 1, (255,255,255),2)\n",
    "        cv2.putText(result, 'Car is '+ str(round(center_diff,2)) + 'm ' + str(side_pos) + 'of center', (50,150), cv2.FONT_HERSHEY_SIMPLEX, 1, (255,255,255),2)\n",
    "        cv2.putText(result, 'Diff is '+ str(diff), (50,200), cv2.FONT_HERSHEY_SIMPLEX, 1, (255,255,255),2)\n",
    "        \n",
    "        \n",
    "        return result\n",
    "\n"
   ]
  },
  {
   "cell_type": "code",
   "execution_count": 68,
   "metadata": {
    "collapsed": false,
    "deletable": true,
    "editable": true
   },
   "outputs": [
    {
     "name": "stdout",
     "output_type": "stream",
     "text": [
      "DEST [[  256.     0.]\n",
      " [ 1024.     0.]\n",
      " [ 1024.   720.]\n",
      " [  256.   720.]]\n",
      "SRC [[  588.79998779   446.3999939 ]\n",
      " [  691.20001221   446.3999939 ]\n",
      " [ 1126.40002441   673.20001221]\n",
      " [  153.6000061    673.20001221]]\n",
      "DEST [[  256.     0.]\n",
      " [ 1024.     0.]\n",
      " [ 1024.   720.]\n",
      " [  256.   720.]]\n",
      "SRC [[  588.79998779   446.3999939 ]\n",
      " [  691.20001221   446.3999939 ]\n",
      " [ 1126.40002441   673.20001221]\n",
      " [  153.6000061    673.20001221]]\n",
      "DEST [[  256.     0.]\n",
      " [ 1024.     0.]\n",
      " [ 1024.   720.]\n",
      " [  256.   720.]]\n",
      "SRC [[  588.79998779   446.3999939 ]\n",
      " [  691.20001221   446.3999939 ]\n",
      " [ 1126.40002441   673.20001221]\n",
      " [  153.6000061    673.20001221]]\n",
      "DEST [[  256.     0.]\n",
      " [ 1024.     0.]\n",
      " [ 1024.   720.]\n",
      " [  256.   720.]]\n",
      "SRC [[  588.79998779   446.3999939 ]\n",
      " [  691.20001221   446.3999939 ]\n",
      " [ 1126.40002441   673.20001221]\n",
      " [  153.6000061    673.20001221]]\n",
      "DEST [[  256.     0.]\n",
      " [ 1024.     0.]\n",
      " [ 1024.   720.]\n",
      " [  256.   720.]]\n",
      "SRC [[  588.79998779   446.3999939 ]\n",
      " [  691.20001221   446.3999939 ]\n",
      " [ 1126.40002441   673.20001221]\n",
      " [  153.6000061    673.20001221]]\n",
      "DEST [[  256.     0.]\n",
      " [ 1024.     0.]\n",
      " [ 1024.   720.]\n",
      " [  256.   720.]]\n",
      "SRC [[  588.79998779   446.3999939 ]\n",
      " [  691.20001221   446.3999939 ]\n",
      " [ 1126.40002441   673.20001221]\n",
      " [  153.6000061    673.20001221]]\n",
      "DEST [[  256.     0.]\n",
      " [ 1024.     0.]\n",
      " [ 1024.   720.]\n",
      " [  256.   720.]]\n",
      "SRC [[  588.79998779   446.3999939 ]\n",
      " [  691.20001221   446.3999939 ]\n",
      " [ 1126.40002441   673.20001221]\n",
      " [  153.6000061    673.20001221]]\n",
      "DEST [[  256.     0.]\n",
      " [ 1024.     0.]\n",
      " [ 1024.   720.]\n",
      " [  256.   720.]]\n",
      "SRC [[  588.79998779   446.3999939 ]\n",
      " [  691.20001221   446.3999939 ]\n",
      " [ 1126.40002441   673.20001221]\n",
      " [  153.6000061    673.20001221]]\n"
     ]
    }
   ],
   "source": [
    "for idx, fname in enumerate(test_images):\n",
    "    tracker = Tracker()\n",
    "    img = cv2.imread(fname)\n",
    "    result = tracker.process_image(img)\n",
    "    write_name = 'output' + str(idx) + '.jpg'\n",
    "#     plt.figure()\n",
    "#     plt.imshow(result)\n",
    "#     cv2.imwrite(write_name, result)"
   ]
  },
  {
   "cell_type": "code",
   "execution_count": 69,
   "metadata": {
    "collapsed": false,
    "deletable": true,
    "editable": true
   },
   "outputs": [
    {
     "name": "stdout",
     "output_type": "stream",
     "text": [
      "DEST [[  256.     0.]\n",
      " [ 1024.     0.]\n",
      " [ 1024.   720.]\n",
      " [  256.   720.]]\n",
      "SRC [[  588.79998779   446.3999939 ]\n",
      " [  691.20001221   446.3999939 ]\n",
      " [ 1126.40002441   673.20001221]\n",
      " [  153.6000061    673.20001221]]\n",
      "[MoviePy] >>>> Building video ./output_challenge.mp4\n",
      "[MoviePy] Writing video ./output_challenge.mp4\n"
     ]
    },
    {
     "name": "stderr",
     "output_type": "stream",
     "text": [
      "\n",
      "\n",
      "\n",
      "\n",
      "\n",
      "  0%|          | 0/485 [00:00<?, ?it/s]\u001b[A\u001b[A\u001b[A\u001b[A\u001b[A\n",
      "\n",
      "\n",
      "\n",
      "\n",
      "  0%|          | 1/485 [00:00<01:02,  7.76it/s]"
     ]
    },
    {
     "name": "stdout",
     "output_type": "stream",
     "text": [
      "DEST [[  256.     0.]\n",
      " [ 1024.     0.]\n",
      " [ 1024.   720.]\n",
      " [  256.   720.]]\n",
      "SRC [[  588.79998779   446.3999939 ]\n",
      " [  691.20001221   446.3999939 ]\n",
      " [ 1126.40002441   673.20001221]\n",
      " [  153.6000061    673.20001221]]\n"
     ]
    },
    {
     "name": "stderr",
     "output_type": "stream",
     "text": [
      "\u001b[A\u001b[A\u001b[A\u001b[A\u001b[A\n",
      "\n",
      "\n",
      "\n",
      "\n",
      "  0%|          | 2/485 [00:00<01:01,  7.84it/s]"
     ]
    },
    {
     "name": "stdout",
     "output_type": "stream",
     "text": [
      "DEST [[  256.     0.]\n",
      " [ 1024.     0.]\n",
      " [ 1024.   720.]\n",
      " [  256.   720.]]\n",
      "SRC [[  588.79998779   446.3999939 ]\n",
      " [  691.20001221   446.3999939 ]\n",
      " [ 1126.40002441   673.20001221]\n",
      " [  153.6000061    673.20001221]]\n"
     ]
    },
    {
     "name": "stderr",
     "output_type": "stream",
     "text": [
      "\u001b[A\u001b[A\u001b[A\u001b[A\u001b[A\n",
      "\n",
      "\n",
      "\n",
      "\n",
      "  1%|          | 3/485 [00:00<01:02,  7.74it/s]"
     ]
    },
    {
     "name": "stdout",
     "output_type": "stream",
     "text": [
      "DEST [[  256.     0.]\n",
      " [ 1024.     0.]\n",
      " [ 1024.   720.]\n",
      " [  256.   720.]]\n",
      "SRC [[  588.79998779   446.3999939 ]\n",
      " [  691.20001221   446.3999939 ]\n",
      " [ 1126.40002441   673.20001221]\n",
      " [  153.6000061    673.20001221]]\n"
     ]
    },
    {
     "name": "stderr",
     "output_type": "stream",
     "text": [
      "\u001b[A\u001b[A\u001b[A\u001b[A\u001b[A\n",
      "\n",
      "\n",
      "\n",
      "\n",
      "  1%|          | 4/485 [00:00<01:03,  7.61it/s]"
     ]
    },
    {
     "name": "stdout",
     "output_type": "stream",
     "text": [
      "DEST [[  256.     0.]\n",
      " [ 1024.     0.]\n",
      " [ 1024.   720.]\n",
      " [  256.   720.]]\n",
      "SRC [[  588.79998779   446.3999939 ]\n",
      " [  691.20001221   446.3999939 ]\n",
      " [ 1126.40002441   673.20001221]\n",
      " [  153.6000061    673.20001221]]\n"
     ]
    },
    {
     "name": "stderr",
     "output_type": "stream",
     "text": [
      "\u001b[A\u001b[A\u001b[A\u001b[A\u001b[A\n",
      "\n",
      "\n",
      "\n",
      "\n",
      "  1%|          | 5/485 [00:00<01:02,  7.64it/s]"
     ]
    },
    {
     "name": "stdout",
     "output_type": "stream",
     "text": [
      "DEST [[  256.     0.]\n",
      " [ 1024.     0.]\n",
      " [ 1024.   720.]\n",
      " [  256.   720.]]\n",
      "SRC [[  588.79998779   446.3999939 ]\n",
      " [  691.20001221   446.3999939 ]\n",
      " [ 1126.40002441   673.20001221]\n",
      " [  153.6000061    673.20001221]]\n"
     ]
    },
    {
     "name": "stderr",
     "output_type": "stream",
     "text": [
      "\u001b[A\u001b[A\u001b[A\u001b[A\u001b[A\n",
      "\n",
      "\n",
      "\n",
      "\n",
      "  1%|          | 6/485 [00:00<01:03,  7.57it/s]"
     ]
    },
    {
     "name": "stdout",
     "output_type": "stream",
     "text": [
      "DEST [[  256.     0.]\n",
      " [ 1024.     0.]\n",
      " [ 1024.   720.]\n",
      " [  256.   720.]]\n",
      "SRC [[  588.79998779   446.3999939 ]\n",
      " [  691.20001221   446.3999939 ]\n",
      " [ 1126.40002441   673.20001221]\n",
      " [  153.6000061    673.20001221]]\n"
     ]
    },
    {
     "name": "stderr",
     "output_type": "stream",
     "text": [
      "\u001b[A\u001b[A\u001b[A\u001b[A\u001b[A\n",
      "\n",
      "\n",
      "\n",
      "\n",
      "  1%|▏         | 7/485 [00:00<01:04,  7.40it/s]"
     ]
    },
    {
     "name": "stdout",
     "output_type": "stream",
     "text": [
      "DEST [[  256.     0.]\n",
      " [ 1024.     0.]\n",
      " [ 1024.   720.]\n",
      " [  256.   720.]]\n",
      "SRC [[  588.79998779   446.3999939 ]\n",
      " [  691.20001221   446.3999939 ]\n",
      " [ 1126.40002441   673.20001221]\n",
      " [  153.6000061    673.20001221]]\n"
     ]
    },
    {
     "name": "stderr",
     "output_type": "stream",
     "text": [
      "\u001b[A\u001b[A\u001b[A\u001b[A\u001b[A\n",
      "\n",
      "\n",
      "\n",
      "\n",
      "  2%|▏         | 8/485 [00:01<01:03,  7.49it/s]"
     ]
    },
    {
     "name": "stdout",
     "output_type": "stream",
     "text": [
      "DEST [[  256.     0.]\n",
      " [ 1024.     0.]\n",
      " [ 1024.   720.]\n",
      " [  256.   720.]]\n",
      "SRC [[  588.79998779   446.3999939 ]\n",
      " [  691.20001221   446.3999939 ]\n",
      " [ 1126.40002441   673.20001221]\n",
      " [  153.6000061    673.20001221]]\n"
     ]
    },
    {
     "name": "stderr",
     "output_type": "stream",
     "text": [
      "\u001b[A\u001b[A\u001b[A\u001b[A\u001b[A\n",
      "\n",
      "\n",
      "\n",
      "\n",
      "  2%|▏         | 9/485 [00:01<01:03,  7.54it/s]"
     ]
    },
    {
     "name": "stdout",
     "output_type": "stream",
     "text": [
      "DEST [[  256.     0.]\n",
      " [ 1024.     0.]\n",
      " [ 1024.   720.]\n",
      " [  256.   720.]]\n",
      "SRC [[  588.79998779   446.3999939 ]\n",
      " [  691.20001221   446.3999939 ]\n",
      " [ 1126.40002441   673.20001221]\n",
      " [  153.6000061    673.20001221]]\n"
     ]
    },
    {
     "name": "stderr",
     "output_type": "stream",
     "text": [
      "\u001b[A\u001b[A\u001b[A\u001b[A\u001b[A\n",
      "\n",
      "\n",
      "\n",
      "\n",
      "  2%|▏         | 10/485 [00:01<01:02,  7.61it/s]"
     ]
    },
    {
     "name": "stdout",
     "output_type": "stream",
     "text": [
      "DEST [[  256.     0.]\n",
      " [ 1024.     0.]\n",
      " [ 1024.   720.]\n",
      " [  256.   720.]]\n",
      "SRC [[  588.79998779   446.3999939 ]\n",
      " [  691.20001221   446.3999939 ]\n",
      " [ 1126.40002441   673.20001221]\n",
      " [  153.6000061    673.20001221]]\n"
     ]
    },
    {
     "name": "stderr",
     "output_type": "stream",
     "text": [
      "\u001b[A\u001b[A\u001b[A\u001b[A\u001b[A\n",
      "\n",
      "\n",
      "\n",
      "\n",
      "  2%|▏         | 11/485 [00:01<01:01,  7.70it/s]"
     ]
    },
    {
     "name": "stdout",
     "output_type": "stream",
     "text": [
      "DEST [[  256.     0.]\n",
      " [ 1024.     0.]\n",
      " [ 1024.   720.]\n",
      " [  256.   720.]]\n",
      "SRC [[  588.79998779   446.3999939 ]\n",
      " [  691.20001221   446.3999939 ]\n",
      " [ 1126.40002441   673.20001221]\n",
      " [  153.6000061    673.20001221]]\n"
     ]
    },
    {
     "name": "stderr",
     "output_type": "stream",
     "text": [
      "\u001b[A\u001b[A\u001b[A\u001b[A\u001b[A\n",
      "\n",
      "\n",
      "\n",
      "\n",
      "  2%|▏         | 12/485 [00:01<01:00,  7.82it/s]"
     ]
    },
    {
     "name": "stdout",
     "output_type": "stream",
     "text": [
      "DEST [[  256.     0.]\n",
      " [ 1024.     0.]\n",
      " [ 1024.   720.]\n",
      " [  256.   720.]]\n",
      "SRC [[  588.79998779   446.3999939 ]\n",
      " [  691.20001221   446.3999939 ]\n",
      " [ 1126.40002441   673.20001221]\n",
      " [  153.6000061    673.20001221]]\n"
     ]
    },
    {
     "name": "stderr",
     "output_type": "stream",
     "text": [
      "\u001b[A\u001b[A\u001b[A\u001b[A\u001b[A\n",
      "\n",
      "\n",
      "\n",
      "\n",
      "  3%|▎         | 13/485 [00:01<01:00,  7.78it/s]"
     ]
    },
    {
     "name": "stdout",
     "output_type": "stream",
     "text": [
      "DEST [[  256.     0.]\n",
      " [ 1024.     0.]\n",
      " [ 1024.   720.]\n",
      " [  256.   720.]]\n",
      "SRC [[  588.79998779   446.3999939 ]\n",
      " [  691.20001221   446.3999939 ]\n",
      " [ 1126.40002441   673.20001221]\n",
      " [  153.6000061    673.20001221]]\n"
     ]
    },
    {
     "name": "stderr",
     "output_type": "stream",
     "text": [
      "\u001b[A\u001b[A\u001b[A\u001b[A\u001b[A\n",
      "\n",
      "\n",
      "\n",
      "\n",
      "  3%|▎         | 14/485 [00:01<00:59,  7.86it/s]"
     ]
    },
    {
     "name": "stdout",
     "output_type": "stream",
     "text": [
      "DEST [[  256.     0.]\n",
      " [ 1024.     0.]\n",
      " [ 1024.   720.]\n",
      " [  256.   720.]]\n",
      "SRC [[  588.79998779   446.3999939 ]\n",
      " [  691.20001221   446.3999939 ]\n",
      " [ 1126.40002441   673.20001221]\n",
      " [  153.6000061    673.20001221]]\n"
     ]
    },
    {
     "name": "stderr",
     "output_type": "stream",
     "text": [
      "\u001b[A\u001b[A\u001b[A\u001b[A\u001b[A\n",
      "\n",
      "\n",
      "\n",
      "\n",
      "  3%|▎         | 15/485 [00:01<01:01,  7.69it/s]"
     ]
    },
    {
     "name": "stdout",
     "output_type": "stream",
     "text": [
      "DEST [[  256.     0.]\n",
      " [ 1024.     0.]\n",
      " [ 1024.   720.]\n",
      " [  256.   720.]]\n",
      "SRC [[  588.79998779   446.3999939 ]\n",
      " [  691.20001221   446.3999939 ]\n",
      " [ 1126.40002441   673.20001221]\n",
      " [  153.6000061    673.20001221]]\n"
     ]
    },
    {
     "name": "stderr",
     "output_type": "stream",
     "text": [
      "\u001b[A\u001b[A\u001b[A\u001b[A\u001b[A\n",
      "\n",
      "\n",
      "\n",
      "\n",
      "  3%|▎         | 16/485 [00:02<01:00,  7.78it/s]"
     ]
    },
    {
     "name": "stdout",
     "output_type": "stream",
     "text": [
      "DEST [[  256.     0.]\n",
      " [ 1024.     0.]\n",
      " [ 1024.   720.]\n",
      " [  256.   720.]]\n",
      "SRC [[  588.79998779   446.3999939 ]\n",
      " [  691.20001221   446.3999939 ]\n",
      " [ 1126.40002441   673.20001221]\n",
      " [  153.6000061    673.20001221]]\n"
     ]
    },
    {
     "name": "stderr",
     "output_type": "stream",
     "text": [
      "\u001b[A\u001b[A\u001b[A\u001b[A\u001b[A\n",
      "\n",
      "\n",
      "\n",
      "\n",
      "  4%|▎         | 17/485 [00:02<01:00,  7.68it/s]"
     ]
    },
    {
     "name": "stdout",
     "output_type": "stream",
     "text": [
      "DEST [[  256.     0.]\n",
      " [ 1024.     0.]\n",
      " [ 1024.   720.]\n",
      " [  256.   720.]]\n",
      "SRC [[  588.79998779   446.3999939 ]\n",
      " [  691.20001221   446.3999939 ]\n",
      " [ 1126.40002441   673.20001221]\n",
      " [  153.6000061    673.20001221]]\n"
     ]
    },
    {
     "name": "stderr",
     "output_type": "stream",
     "text": [
      "\u001b[A\u001b[A\u001b[A\u001b[A\u001b[A\n",
      "\n",
      "\n",
      "\n",
      "\n",
      "  4%|▎         | 18/485 [00:02<00:59,  7.79it/s]"
     ]
    },
    {
     "name": "stdout",
     "output_type": "stream",
     "text": [
      "DEST [[  256.     0.]\n",
      " [ 1024.     0.]\n",
      " [ 1024.   720.]\n",
      " [  256.   720.]]\n",
      "SRC [[  588.79998779   446.3999939 ]\n",
      " [  691.20001221   446.3999939 ]\n",
      " [ 1126.40002441   673.20001221]\n",
      " [  153.6000061    673.20001221]]\n"
     ]
    },
    {
     "name": "stderr",
     "output_type": "stream",
     "text": [
      "\u001b[A\u001b[A\u001b[A\u001b[A\u001b[A\n",
      "\n",
      "\n",
      "\n",
      "\n",
      "  4%|▍         | 19/485 [00:02<00:59,  7.79it/s]"
     ]
    },
    {
     "name": "stdout",
     "output_type": "stream",
     "text": [
      "DEST [[  256.     0.]\n",
      " [ 1024.     0.]\n",
      " [ 1024.   720.]\n",
      " [  256.   720.]]\n",
      "SRC [[  588.79998779   446.3999939 ]\n",
      " [  691.20001221   446.3999939 ]\n",
      " [ 1126.40002441   673.20001221]\n",
      " [  153.6000061    673.20001221]]\n"
     ]
    },
    {
     "name": "stderr",
     "output_type": "stream",
     "text": [
      "\u001b[A\u001b[A\u001b[A\u001b[A\u001b[A\n",
      "\n",
      "\n",
      "\n",
      "\n",
      "  4%|▍         | 20/485 [00:02<00:59,  7.84it/s]"
     ]
    },
    {
     "name": "stdout",
     "output_type": "stream",
     "text": [
      "DEST [[  256.     0.]\n",
      " [ 1024.     0.]\n",
      " [ 1024.   720.]\n",
      " [  256.   720.]]\n",
      "SRC [[  588.79998779   446.3999939 ]\n",
      " [  691.20001221   446.3999939 ]\n",
      " [ 1126.40002441   673.20001221]\n",
      " [  153.6000061    673.20001221]]\n"
     ]
    },
    {
     "name": "stderr",
     "output_type": "stream",
     "text": [
      "\u001b[A\u001b[A\u001b[A\u001b[A\u001b[A\n",
      "\n",
      "\n",
      "\n",
      "\n",
      "  4%|▍         | 21/485 [00:02<00:59,  7.79it/s]"
     ]
    },
    {
     "name": "stdout",
     "output_type": "stream",
     "text": [
      "DEST [[  256.     0.]\n",
      " [ 1024.     0.]\n",
      " [ 1024.   720.]\n",
      " [  256.   720.]]\n",
      "SRC [[  588.79998779   446.3999939 ]\n",
      " [  691.20001221   446.3999939 ]\n",
      " [ 1126.40002441   673.20001221]\n",
      " [  153.6000061    673.20001221]]\n"
     ]
    },
    {
     "name": "stderr",
     "output_type": "stream",
     "text": [
      "\u001b[A\u001b[A\u001b[A\u001b[A\u001b[A\n",
      "\n",
      "\n",
      "\n",
      "\n",
      "  5%|▍         | 22/485 [00:02<00:58,  7.93it/s]"
     ]
    },
    {
     "name": "stdout",
     "output_type": "stream",
     "text": [
      "DEST [[  256.     0.]\n",
      " [ 1024.     0.]\n",
      " [ 1024.   720.]\n",
      " [  256.   720.]]\n",
      "SRC [[  588.79998779   446.3999939 ]\n",
      " [  691.20001221   446.3999939 ]\n",
      " [ 1126.40002441   673.20001221]\n",
      " [  153.6000061    673.20001221]]\n"
     ]
    },
    {
     "name": "stderr",
     "output_type": "stream",
     "text": [
      "\u001b[A\u001b[A\u001b[A\u001b[A\u001b[A\n",
      "\n",
      "\n",
      "\n",
      "\n",
      "  5%|▍         | 23/485 [00:02<00:58,  7.85it/s]"
     ]
    },
    {
     "name": "stdout",
     "output_type": "stream",
     "text": [
      "DEST [[  256.     0.]\n",
      " [ 1024.     0.]\n",
      " [ 1024.   720.]\n",
      " [  256.   720.]]\n",
      "SRC [[  588.79998779   446.3999939 ]\n",
      " [  691.20001221   446.3999939 ]\n",
      " [ 1126.40002441   673.20001221]\n",
      " [  153.6000061    673.20001221]]\n"
     ]
    },
    {
     "name": "stderr",
     "output_type": "stream",
     "text": [
      "\u001b[A\u001b[A\u001b[A\u001b[A\u001b[A\n",
      "\n",
      "\n",
      "\n",
      "\n",
      "  5%|▍         | 24/485 [00:03<00:58,  7.86it/s]"
     ]
    },
    {
     "name": "stdout",
     "output_type": "stream",
     "text": [
      "DEST [[  256.     0.]\n",
      " [ 1024.     0.]\n",
      " [ 1024.   720.]\n",
      " [  256.   720.]]\n",
      "SRC [[  588.79998779   446.3999939 ]\n",
      " [  691.20001221   446.3999939 ]\n",
      " [ 1126.40002441   673.20001221]\n",
      " [  153.6000061    673.20001221]]\n"
     ]
    },
    {
     "name": "stderr",
     "output_type": "stream",
     "text": [
      "\u001b[A\u001b[A\u001b[A\u001b[A\u001b[A\n",
      "\n",
      "\n",
      "\n",
      "\n",
      "  5%|▌         | 25/485 [00:03<00:57,  7.96it/s]"
     ]
    },
    {
     "name": "stdout",
     "output_type": "stream",
     "text": [
      "DEST [[  256.     0.]\n",
      " [ 1024.     0.]\n",
      " [ 1024.   720.]\n",
      " [  256.   720.]]\n",
      "SRC [[  588.79998779   446.3999939 ]\n",
      " [  691.20001221   446.3999939 ]\n",
      " [ 1126.40002441   673.20001221]\n",
      " [  153.6000061    673.20001221]]\n"
     ]
    },
    {
     "name": "stderr",
     "output_type": "stream",
     "text": [
      "\u001b[A\u001b[A\u001b[A\u001b[A\u001b[A\n",
      "\n",
      "\n",
      "\n",
      "\n",
      "  5%|▌         | 26/485 [00:03<00:57,  8.02it/s]"
     ]
    },
    {
     "name": "stdout",
     "output_type": "stream",
     "text": [
      "DEST [[  256.     0.]\n",
      " [ 1024.     0.]\n",
      " [ 1024.   720.]\n",
      " [  256.   720.]]\n",
      "SRC [[  588.79998779   446.3999939 ]\n",
      " [  691.20001221   446.3999939 ]\n",
      " [ 1126.40002441   673.20001221]\n",
      " [  153.6000061    673.20001221]]\n"
     ]
    },
    {
     "name": "stderr",
     "output_type": "stream",
     "text": [
      "\u001b[A\u001b[A\u001b[A\u001b[A\u001b[A\n",
      "\n",
      "\n",
      "\n",
      "\n",
      "  6%|▌         | 27/485 [00:03<00:56,  8.05it/s]"
     ]
    },
    {
     "name": "stdout",
     "output_type": "stream",
     "text": [
      "DEST [[  256.     0.]\n",
      " [ 1024.     0.]\n",
      " [ 1024.   720.]\n",
      " [  256.   720.]]\n",
      "SRC [[  588.79998779   446.3999939 ]\n",
      " [  691.20001221   446.3999939 ]\n",
      " [ 1126.40002441   673.20001221]\n",
      " [  153.6000061    673.20001221]]\n"
     ]
    },
    {
     "name": "stderr",
     "output_type": "stream",
     "text": [
      "\u001b[A\u001b[A\u001b[A\u001b[A\u001b[A\n",
      "\n",
      "\n",
      "\n",
      "\n",
      "  6%|▌         | 28/485 [00:03<00:56,  8.03it/s]"
     ]
    },
    {
     "name": "stdout",
     "output_type": "stream",
     "text": [
      "DEST [[  256.     0.]\n",
      " [ 1024.     0.]\n",
      " [ 1024.   720.]\n",
      " [  256.   720.]]\n",
      "SRC [[  588.79998779   446.3999939 ]\n",
      " [  691.20001221   446.3999939 ]\n",
      " [ 1126.40002441   673.20001221]\n",
      " [  153.6000061    673.20001221]]\n"
     ]
    },
    {
     "name": "stderr",
     "output_type": "stream",
     "text": [
      "\u001b[A\u001b[A\u001b[A\u001b[A\u001b[A\n",
      "\n",
      "\n",
      "\n",
      "\n",
      "  6%|▌         | 29/485 [00:03<00:56,  8.06it/s]"
     ]
    },
    {
     "name": "stdout",
     "output_type": "stream",
     "text": [
      "DEST [[  256.     0.]\n",
      " [ 1024.     0.]\n",
      " [ 1024.   720.]\n",
      " [  256.   720.]]\n",
      "SRC [[  588.79998779   446.3999939 ]\n",
      " [  691.20001221   446.3999939 ]\n",
      " [ 1126.40002441   673.20001221]\n",
      " [  153.6000061    673.20001221]]\n"
     ]
    },
    {
     "name": "stderr",
     "output_type": "stream",
     "text": [
      "\u001b[A\u001b[A\u001b[A\u001b[A\u001b[A\n",
      "\n",
      "\n",
      "\n",
      "\n",
      "  6%|▌         | 30/485 [00:03<00:56,  8.06it/s]"
     ]
    },
    {
     "name": "stdout",
     "output_type": "stream",
     "text": [
      "DEST [[  256.     0.]\n",
      " [ 1024.     0.]\n",
      " [ 1024.   720.]\n",
      " [  256.   720.]]\n",
      "SRC [[  588.79998779   446.3999939 ]\n",
      " [  691.20001221   446.3999939 ]\n",
      " [ 1126.40002441   673.20001221]\n",
      " [  153.6000061    673.20001221]]\n"
     ]
    },
    {
     "name": "stderr",
     "output_type": "stream",
     "text": [
      "\u001b[A\u001b[A\u001b[A\u001b[A\u001b[A\n",
      "\n",
      "\n",
      "\n",
      "\n",
      "  6%|▋         | 31/485 [00:03<00:56,  8.08it/s]"
     ]
    },
    {
     "name": "stdout",
     "output_type": "stream",
     "text": [
      "DEST [[  256.     0.]\n",
      " [ 1024.     0.]\n",
      " [ 1024.   720.]\n",
      " [  256.   720.]]\n",
      "SRC [[  588.79998779   446.3999939 ]\n",
      " [  691.20001221   446.3999939 ]\n",
      " [ 1126.40002441   673.20001221]\n",
      " [  153.6000061    673.20001221]]\n"
     ]
    },
    {
     "name": "stderr",
     "output_type": "stream",
     "text": [
      "\u001b[A\u001b[A\u001b[A\u001b[A\u001b[A\n",
      "\n",
      "\n",
      "\n",
      "\n",
      "  7%|▋         | 32/485 [00:04<00:55,  8.16it/s]"
     ]
    },
    {
     "name": "stdout",
     "output_type": "stream",
     "text": [
      "DEST [[  256.     0.]\n",
      " [ 1024.     0.]\n",
      " [ 1024.   720.]\n",
      " [  256.   720.]]\n",
      "SRC [[  588.79998779   446.3999939 ]\n",
      " [  691.20001221   446.3999939 ]\n",
      " [ 1126.40002441   673.20001221]\n",
      " [  153.6000061    673.20001221]]\n"
     ]
    },
    {
     "name": "stderr",
     "output_type": "stream",
     "text": [
      "\u001b[A\u001b[A\u001b[A\u001b[A\u001b[A\n",
      "\n",
      "\n",
      "\n",
      "\n",
      "  7%|▋         | 33/485 [00:04<00:55,  8.15it/s]"
     ]
    },
    {
     "name": "stdout",
     "output_type": "stream",
     "text": [
      "DEST [[  256.     0.]\n",
      " [ 1024.     0.]\n",
      " [ 1024.   720.]\n",
      " [  256.   720.]]\n",
      "SRC [[  588.79998779   446.3999939 ]\n",
      " [  691.20001221   446.3999939 ]\n",
      " [ 1126.40002441   673.20001221]\n",
      " [  153.6000061    673.20001221]]\n"
     ]
    },
    {
     "name": "stderr",
     "output_type": "stream",
     "text": [
      "\u001b[A\u001b[A\u001b[A\u001b[A\u001b[A\n",
      "\n",
      "\n",
      "\n",
      "\n",
      "  7%|▋         | 34/485 [00:04<00:54,  8.20it/s]"
     ]
    },
    {
     "name": "stdout",
     "output_type": "stream",
     "text": [
      "DEST [[  256.     0.]\n",
      " [ 1024.     0.]\n",
      " [ 1024.   720.]\n",
      " [  256.   720.]]\n",
      "SRC [[  588.79998779   446.3999939 ]\n",
      " [  691.20001221   446.3999939 ]\n",
      " [ 1126.40002441   673.20001221]\n",
      " [  153.6000061    673.20001221]]\n"
     ]
    },
    {
     "name": "stderr",
     "output_type": "stream",
     "text": [
      "\u001b[A\u001b[A\u001b[A\u001b[A\u001b[A\n",
      "\n",
      "\n",
      "\n",
      "\n",
      "  7%|▋         | 35/485 [00:04<00:54,  8.21it/s]"
     ]
    },
    {
     "name": "stdout",
     "output_type": "stream",
     "text": [
      "DEST [[  256.     0.]\n",
      " [ 1024.     0.]\n",
      " [ 1024.   720.]\n",
      " [  256.   720.]]\n",
      "SRC [[  588.79998779   446.3999939 ]\n",
      " [  691.20001221   446.3999939 ]\n",
      " [ 1126.40002441   673.20001221]\n",
      " [  153.6000061    673.20001221]]\n"
     ]
    },
    {
     "name": "stderr",
     "output_type": "stream",
     "text": [
      "\u001b[A\u001b[A\u001b[A\u001b[A\u001b[A\n",
      "\n",
      "\n",
      "\n",
      "\n",
      "  7%|▋         | 36/485 [00:04<00:55,  8.06it/s]"
     ]
    },
    {
     "name": "stdout",
     "output_type": "stream",
     "text": [
      "DEST [[  256.     0.]\n",
      " [ 1024.     0.]\n",
      " [ 1024.   720.]\n",
      " [  256.   720.]]\n",
      "SRC [[  588.79998779   446.3999939 ]\n",
      " [  691.20001221   446.3999939 ]\n",
      " [ 1126.40002441   673.20001221]\n",
      " [  153.6000061    673.20001221]]\n"
     ]
    },
    {
     "name": "stderr",
     "output_type": "stream",
     "text": [
      "\u001b[A\u001b[A\u001b[A\u001b[A\u001b[A\n",
      "\n",
      "\n",
      "\n",
      "\n",
      "  8%|▊         | 37/485 [00:04<00:55,  8.04it/s]"
     ]
    },
    {
     "name": "stdout",
     "output_type": "stream",
     "text": [
      "DEST [[  256.     0.]\n",
      " [ 1024.     0.]\n",
      " [ 1024.   720.]\n",
      " [  256.   720.]]\n",
      "SRC [[  588.79998779   446.3999939 ]\n",
      " [  691.20001221   446.3999939 ]\n",
      " [ 1126.40002441   673.20001221]\n",
      " [  153.6000061    673.20001221]]\n"
     ]
    },
    {
     "name": "stderr",
     "output_type": "stream",
     "text": [
      "\u001b[A\u001b[A\u001b[A\u001b[A\u001b[A\n",
      "\n",
      "\n",
      "\n",
      "\n",
      "  8%|▊         | 38/485 [00:04<00:56,  7.98it/s]"
     ]
    },
    {
     "name": "stdout",
     "output_type": "stream",
     "text": [
      "DEST [[  256.     0.]\n",
      " [ 1024.     0.]\n",
      " [ 1024.   720.]\n",
      " [  256.   720.]]\n",
      "SRC [[  588.79998779   446.3999939 ]\n",
      " [  691.20001221   446.3999939 ]\n",
      " [ 1126.40002441   673.20001221]\n",
      " [  153.6000061    673.20001221]]\n"
     ]
    },
    {
     "name": "stderr",
     "output_type": "stream",
     "text": [
      "\u001b[A\u001b[A\u001b[A\u001b[A\u001b[A\n",
      "\n",
      "\n",
      "\n",
      "\n",
      "  8%|▊         | 39/485 [00:04<00:55,  8.00it/s]"
     ]
    },
    {
     "name": "stdout",
     "output_type": "stream",
     "text": [
      "DEST [[  256.     0.]\n",
      " [ 1024.     0.]\n",
      " [ 1024.   720.]\n",
      " [  256.   720.]]\n",
      "SRC [[  588.79998779   446.3999939 ]\n",
      " [  691.20001221   446.3999939 ]\n",
      " [ 1126.40002441   673.20001221]\n",
      " [  153.6000061    673.20001221]]\n"
     ]
    },
    {
     "name": "stderr",
     "output_type": "stream",
     "text": [
      "\u001b[A\u001b[A\u001b[A\u001b[A\u001b[A\n",
      "\n",
      "\n",
      "\n",
      "\n",
      "  8%|▊         | 40/485 [00:05<00:55,  7.97it/s]"
     ]
    },
    {
     "name": "stdout",
     "output_type": "stream",
     "text": [
      "DEST [[  256.     0.]\n",
      " [ 1024.     0.]\n",
      " [ 1024.   720.]\n",
      " [  256.   720.]]\n",
      "SRC [[  588.79998779   446.3999939 ]\n",
      " [  691.20001221   446.3999939 ]\n",
      " [ 1126.40002441   673.20001221]\n",
      " [  153.6000061    673.20001221]]\n"
     ]
    },
    {
     "name": "stderr",
     "output_type": "stream",
     "text": [
      "\u001b[A\u001b[A\u001b[A\u001b[A\u001b[A\n",
      "\n",
      "\n",
      "\n",
      "\n",
      "  8%|▊         | 41/485 [00:05<00:55,  8.01it/s]"
     ]
    },
    {
     "name": "stdout",
     "output_type": "stream",
     "text": [
      "DEST [[  256.     0.]\n",
      " [ 1024.     0.]\n",
      " [ 1024.   720.]\n",
      " [  256.   720.]]\n",
      "SRC [[  588.79998779   446.3999939 ]\n",
      " [  691.20001221   446.3999939 ]\n",
      " [ 1126.40002441   673.20001221]\n",
      " [  153.6000061    673.20001221]]\n"
     ]
    },
    {
     "name": "stderr",
     "output_type": "stream",
     "text": [
      "\u001b[A\u001b[A\u001b[A\u001b[A\u001b[A\n",
      "\n",
      "\n",
      "\n",
      "\n",
      "  9%|▊         | 42/485 [00:05<00:54,  8.07it/s]"
     ]
    },
    {
     "name": "stdout",
     "output_type": "stream",
     "text": [
      "DEST [[  256.     0.]\n",
      " [ 1024.     0.]\n",
      " [ 1024.   720.]\n",
      " [  256.   720.]]\n",
      "SRC [[  588.79998779   446.3999939 ]\n",
      " [  691.20001221   446.3999939 ]\n",
      " [ 1126.40002441   673.20001221]\n",
      " [  153.6000061    673.20001221]]\n"
     ]
    },
    {
     "name": "stderr",
     "output_type": "stream",
     "text": [
      "\u001b[A\u001b[A\u001b[A\u001b[A\u001b[A\n",
      "\n",
      "\n",
      "\n",
      "\n",
      "  9%|▉         | 43/485 [00:05<00:54,  8.08it/s]"
     ]
    },
    {
     "name": "stdout",
     "output_type": "stream",
     "text": [
      "DEST [[  256.     0.]\n",
      " [ 1024.     0.]\n",
      " [ 1024.   720.]\n",
      " [  256.   720.]]\n",
      "SRC [[  588.79998779   446.3999939 ]\n",
      " [  691.20001221   446.3999939 ]\n",
      " [ 1126.40002441   673.20001221]\n",
      " [  153.6000061    673.20001221]]\n"
     ]
    },
    {
     "name": "stderr",
     "output_type": "stream",
     "text": [
      "\u001b[A\u001b[A\u001b[A\u001b[A\u001b[A\n",
      "\n",
      "\n",
      "\n",
      "\n",
      "  9%|▉         | 44/485 [00:05<00:54,  8.10it/s]"
     ]
    },
    {
     "name": "stdout",
     "output_type": "stream",
     "text": [
      "DEST [[  256.     0.]\n",
      " [ 1024.     0.]\n",
      " [ 1024.   720.]\n",
      " [  256.   720.]]\n",
      "SRC [[  588.79998779   446.3999939 ]\n",
      " [  691.20001221   446.3999939 ]\n",
      " [ 1126.40002441   673.20001221]\n",
      " [  153.6000061    673.20001221]]\n"
     ]
    },
    {
     "name": "stderr",
     "output_type": "stream",
     "text": [
      "\u001b[A\u001b[A\u001b[A\u001b[A\u001b[A\n",
      "\n",
      "\n",
      "\n",
      "\n",
      "  9%|▉         | 45/485 [00:05<00:54,  8.05it/s]"
     ]
    },
    {
     "name": "stdout",
     "output_type": "stream",
     "text": [
      "DEST [[  256.     0.]\n",
      " [ 1024.     0.]\n",
      " [ 1024.   720.]\n",
      " [  256.   720.]]\n",
      "SRC [[  588.79998779   446.3999939 ]\n",
      " [  691.20001221   446.3999939 ]\n",
      " [ 1126.40002441   673.20001221]\n",
      " [  153.6000061    673.20001221]]\n"
     ]
    },
    {
     "name": "stderr",
     "output_type": "stream",
     "text": [
      "\u001b[A\u001b[A\u001b[A\u001b[A\u001b[A\n",
      "\n",
      "\n",
      "\n",
      "\n",
      "  9%|▉         | 46/485 [00:05<00:54,  8.01it/s]"
     ]
    },
    {
     "name": "stdout",
     "output_type": "stream",
     "text": [
      "DEST [[  256.     0.]\n",
      " [ 1024.     0.]\n",
      " [ 1024.   720.]\n",
      " [  256.   720.]]\n",
      "SRC [[  588.79998779   446.3999939 ]\n",
      " [  691.20001221   446.3999939 ]\n",
      " [ 1126.40002441   673.20001221]\n",
      " [  153.6000061    673.20001221]]\n"
     ]
    },
    {
     "name": "stderr",
     "output_type": "stream",
     "text": [
      "\u001b[A\u001b[A\u001b[A\u001b[A\u001b[A\n",
      "\n",
      "\n",
      "\n",
      "\n",
      " 10%|▉         | 47/485 [00:05<00:54,  8.04it/s]"
     ]
    },
    {
     "name": "stdout",
     "output_type": "stream",
     "text": [
      "DEST [[  256.     0.]\n",
      " [ 1024.     0.]\n",
      " [ 1024.   720.]\n",
      " [  256.   720.]]\n",
      "SRC [[  588.79998779   446.3999939 ]\n",
      " [  691.20001221   446.3999939 ]\n",
      " [ 1126.40002441   673.20001221]\n",
      " [  153.6000061    673.20001221]]\n"
     ]
    },
    {
     "name": "stderr",
     "output_type": "stream",
     "text": [
      "\u001b[A\u001b[A\u001b[A\u001b[A\u001b[A\n",
      "\n",
      "\n",
      "\n",
      "\n",
      " 10%|▉         | 48/485 [00:06<00:54,  8.05it/s]"
     ]
    },
    {
     "name": "stdout",
     "output_type": "stream",
     "text": [
      "DEST [[  256.     0.]\n",
      " [ 1024.     0.]\n",
      " [ 1024.   720.]\n",
      " [  256.   720.]]\n",
      "SRC [[  588.79998779   446.3999939 ]\n",
      " [  691.20001221   446.3999939 ]\n",
      " [ 1126.40002441   673.20001221]\n",
      " [  153.6000061    673.20001221]]\n"
     ]
    },
    {
     "name": "stderr",
     "output_type": "stream",
     "text": [
      "\u001b[A\u001b[A\u001b[A\u001b[A\u001b[A\n",
      "\n",
      "\n",
      "\n",
      "\n",
      " 10%|█         | 49/485 [00:06<00:53,  8.09it/s]"
     ]
    },
    {
     "name": "stdout",
     "output_type": "stream",
     "text": [
      "DEST [[  256.     0.]\n",
      " [ 1024.     0.]\n",
      " [ 1024.   720.]\n",
      " [  256.   720.]]\n",
      "SRC [[  588.79998779   446.3999939 ]\n",
      " [  691.20001221   446.3999939 ]\n",
      " [ 1126.40002441   673.20001221]\n",
      " [  153.6000061    673.20001221]]\n"
     ]
    },
    {
     "name": "stderr",
     "output_type": "stream",
     "text": [
      "\u001b[A\u001b[A\u001b[A\u001b[A\u001b[A\n",
      "\n",
      "\n",
      "\n",
      "\n",
      " 10%|█         | 50/485 [00:06<00:53,  8.10it/s]"
     ]
    },
    {
     "name": "stdout",
     "output_type": "stream",
     "text": [
      "DEST [[  256.     0.]\n",
      " [ 1024.     0.]\n",
      " [ 1024.   720.]\n",
      " [  256.   720.]]\n",
      "SRC [[  588.79998779   446.3999939 ]\n",
      " [  691.20001221   446.3999939 ]\n",
      " [ 1126.40002441   673.20001221]\n",
      " [  153.6000061    673.20001221]]\n"
     ]
    },
    {
     "name": "stderr",
     "output_type": "stream",
     "text": [
      "\u001b[A\u001b[A\u001b[A\u001b[A\u001b[A\n",
      "\n",
      "\n",
      "\n",
      "\n",
      " 11%|█         | 51/485 [00:06<00:54,  8.01it/s]"
     ]
    },
    {
     "name": "stdout",
     "output_type": "stream",
     "text": [
      "DEST [[  256.     0.]\n",
      " [ 1024.     0.]\n",
      " [ 1024.   720.]\n",
      " [  256.   720.]]\n",
      "SRC [[  588.79998779   446.3999939 ]\n",
      " [  691.20001221   446.3999939 ]\n",
      " [ 1126.40002441   673.20001221]\n",
      " [  153.6000061    673.20001221]]\n"
     ]
    },
    {
     "name": "stderr",
     "output_type": "stream",
     "text": [
      "\u001b[A\u001b[A\u001b[A\u001b[A\u001b[A\n",
      "\n",
      "\n",
      "\n",
      "\n",
      " 11%|█         | 52/485 [00:06<00:54,  7.91it/s]"
     ]
    },
    {
     "name": "stdout",
     "output_type": "stream",
     "text": [
      "DEST [[  256.     0.]\n",
      " [ 1024.     0.]\n",
      " [ 1024.   720.]\n",
      " [  256.   720.]]\n",
      "SRC [[  588.79998779   446.3999939 ]\n",
      " [  691.20001221   446.3999939 ]\n",
      " [ 1126.40002441   673.20001221]\n",
      " [  153.6000061    673.20001221]]\n"
     ]
    },
    {
     "name": "stderr",
     "output_type": "stream",
     "text": [
      "\u001b[A\u001b[A\u001b[A\u001b[A\u001b[A\n",
      "\n",
      "\n",
      "\n",
      "\n",
      " 11%|█         | 53/485 [00:06<00:55,  7.77it/s]"
     ]
    },
    {
     "name": "stdout",
     "output_type": "stream",
     "text": [
      "DEST [[  256.     0.]\n",
      " [ 1024.     0.]\n",
      " [ 1024.   720.]\n",
      " [  256.   720.]]\n",
      "SRC [[  588.79998779   446.3999939 ]\n",
      " [  691.20001221   446.3999939 ]\n",
      " [ 1126.40002441   673.20001221]\n",
      " [  153.6000061    673.20001221]]\n"
     ]
    },
    {
     "name": "stderr",
     "output_type": "stream",
     "text": [
      "\u001b[A\u001b[A\u001b[A\u001b[A\u001b[A\n",
      "\n",
      "\n",
      "\n",
      "\n",
      " 11%|█         | 54/485 [00:06<00:55,  7.71it/s]"
     ]
    },
    {
     "name": "stdout",
     "output_type": "stream",
     "text": [
      "DEST [[  256.     0.]\n",
      " [ 1024.     0.]\n",
      " [ 1024.   720.]\n",
      " [  256.   720.]]\n",
      "SRC [[  588.79998779   446.3999939 ]\n",
      " [  691.20001221   446.3999939 ]\n",
      " [ 1126.40002441   673.20001221]\n",
      " [  153.6000061    673.20001221]]\n"
     ]
    },
    {
     "name": "stderr",
     "output_type": "stream",
     "text": [
      "\u001b[A\u001b[A\u001b[A\u001b[A\u001b[A\n",
      "\n",
      "\n",
      "\n",
      "\n",
      " 11%|█▏        | 55/485 [00:06<00:55,  7.79it/s]"
     ]
    },
    {
     "name": "stdout",
     "output_type": "stream",
     "text": [
      "DEST [[  256.     0.]\n",
      " [ 1024.     0.]\n",
      " [ 1024.   720.]\n",
      " [  256.   720.]]\n",
      "SRC [[  588.79998779   446.3999939 ]\n",
      " [  691.20001221   446.3999939 ]\n",
      " [ 1126.40002441   673.20001221]\n",
      " [  153.6000061    673.20001221]]\n"
     ]
    },
    {
     "name": "stderr",
     "output_type": "stream",
     "text": [
      "\u001b[A\u001b[A\u001b[A\u001b[A\u001b[A\n",
      "\n",
      "\n",
      "\n",
      "\n",
      " 12%|█▏        | 56/485 [00:07<00:55,  7.77it/s]"
     ]
    },
    {
     "name": "stdout",
     "output_type": "stream",
     "text": [
      "DEST [[  256.     0.]\n",
      " [ 1024.     0.]\n",
      " [ 1024.   720.]\n",
      " [  256.   720.]]\n",
      "SRC [[  588.79998779   446.3999939 ]\n",
      " [  691.20001221   446.3999939 ]\n",
      " [ 1126.40002441   673.20001221]\n",
      " [  153.6000061    673.20001221]]\n"
     ]
    },
    {
     "name": "stderr",
     "output_type": "stream",
     "text": [
      "\u001b[A\u001b[A\u001b[A\u001b[A\u001b[A\n",
      "\n",
      "\n",
      "\n",
      "\n",
      " 12%|█▏        | 57/485 [00:07<00:56,  7.62it/s]"
     ]
    },
    {
     "name": "stdout",
     "output_type": "stream",
     "text": [
      "DEST [[  256.     0.]\n",
      " [ 1024.     0.]\n",
      " [ 1024.   720.]\n",
      " [  256.   720.]]\n",
      "SRC [[  588.79998779   446.3999939 ]\n",
      " [  691.20001221   446.3999939 ]\n",
      " [ 1126.40002441   673.20001221]\n",
      " [  153.6000061    673.20001221]]\n"
     ]
    },
    {
     "name": "stderr",
     "output_type": "stream",
     "text": [
      "\u001b[A\u001b[A\u001b[A\u001b[A\u001b[A\n",
      "\n",
      "\n",
      "\n",
      "\n",
      " 12%|█▏        | 58/485 [00:07<00:55,  7.65it/s]"
     ]
    },
    {
     "name": "stdout",
     "output_type": "stream",
     "text": [
      "DEST [[  256.     0.]\n",
      " [ 1024.     0.]\n",
      " [ 1024.   720.]\n",
      " [  256.   720.]]\n",
      "SRC [[  588.79998779   446.3999939 ]\n",
      " [  691.20001221   446.3999939 ]\n",
      " [ 1126.40002441   673.20001221]\n",
      " [  153.6000061    673.20001221]]\n"
     ]
    },
    {
     "name": "stderr",
     "output_type": "stream",
     "text": [
      "\u001b[A\u001b[A\u001b[A\u001b[A\u001b[A\n",
      "\n",
      "\n",
      "\n",
      "\n",
      " 12%|█▏        | 59/485 [00:07<00:54,  7.86it/s]"
     ]
    },
    {
     "name": "stdout",
     "output_type": "stream",
     "text": [
      "DEST [[  256.     0.]\n",
      " [ 1024.     0.]\n",
      " [ 1024.   720.]\n",
      " [  256.   720.]]\n",
      "SRC [[  588.79998779   446.3999939 ]\n",
      " [  691.20001221   446.3999939 ]\n",
      " [ 1126.40002441   673.20001221]\n",
      " [  153.6000061    673.20001221]]\n"
     ]
    },
    {
     "name": "stderr",
     "output_type": "stream",
     "text": [
      "\u001b[A\u001b[A\u001b[A\u001b[A\u001b[A\n",
      "\n",
      "\n",
      "\n",
      "\n",
      " 12%|█▏        | 60/485 [00:07<00:53,  7.90it/s]"
     ]
    },
    {
     "name": "stdout",
     "output_type": "stream",
     "text": [
      "DEST [[  256.     0.]\n",
      " [ 1024.     0.]\n",
      " [ 1024.   720.]\n",
      " [  256.   720.]]\n",
      "SRC [[  588.79998779   446.3999939 ]\n",
      " [  691.20001221   446.3999939 ]\n",
      " [ 1126.40002441   673.20001221]\n",
      " [  153.6000061    673.20001221]]\n"
     ]
    },
    {
     "name": "stderr",
     "output_type": "stream",
     "text": [
      "\u001b[A\u001b[A\u001b[A\u001b[A\u001b[A\n",
      "\n",
      "\n",
      "\n",
      "\n",
      " 13%|█▎        | 61/485 [00:07<00:53,  7.98it/s]"
     ]
    },
    {
     "name": "stdout",
     "output_type": "stream",
     "text": [
      "DEST [[  256.     0.]\n",
      " [ 1024.     0.]\n",
      " [ 1024.   720.]\n",
      " [  256.   720.]]\n",
      "SRC [[  588.79998779   446.3999939 ]\n",
      " [  691.20001221   446.3999939 ]\n",
      " [ 1126.40002441   673.20001221]\n",
      " [  153.6000061    673.20001221]]\n"
     ]
    },
    {
     "name": "stderr",
     "output_type": "stream",
     "text": [
      "\u001b[A\u001b[A\u001b[A\u001b[A\u001b[A\n",
      "\n",
      "\n",
      "\n",
      "\n",
      " 13%|█▎        | 62/485 [00:07<00:52,  8.07it/s]"
     ]
    },
    {
     "name": "stdout",
     "output_type": "stream",
     "text": [
      "DEST [[  256.     0.]\n",
      " [ 1024.     0.]\n",
      " [ 1024.   720.]\n",
      " [  256.   720.]]\n",
      "SRC [[  588.79998779   446.3999939 ]\n",
      " [  691.20001221   446.3999939 ]\n",
      " [ 1126.40002441   673.20001221]\n",
      " [  153.6000061    673.20001221]]\n"
     ]
    },
    {
     "name": "stderr",
     "output_type": "stream",
     "text": [
      "\u001b[A\u001b[A\u001b[A\u001b[A\u001b[A\n",
      "\n",
      "\n",
      "\n",
      "\n",
      " 13%|█▎        | 63/485 [00:07<00:52,  7.97it/s]"
     ]
    },
    {
     "name": "stdout",
     "output_type": "stream",
     "text": [
      "DEST [[  256.     0.]\n",
      " [ 1024.     0.]\n",
      " [ 1024.   720.]\n",
      " [  256.   720.]]\n",
      "SRC [[  588.79998779   446.3999939 ]\n",
      " [  691.20001221   446.3999939 ]\n",
      " [ 1126.40002441   673.20001221]\n",
      " [  153.6000061    673.20001221]]\n"
     ]
    },
    {
     "name": "stderr",
     "output_type": "stream",
     "text": [
      "\u001b[A\u001b[A\u001b[A\u001b[A\u001b[A\n",
      "\n",
      "\n",
      "\n",
      "\n",
      " 13%|█▎        | 64/485 [00:08<00:52,  8.01it/s]"
     ]
    },
    {
     "name": "stdout",
     "output_type": "stream",
     "text": [
      "DEST [[  256.     0.]\n",
      " [ 1024.     0.]\n",
      " [ 1024.   720.]\n",
      " [  256.   720.]]\n",
      "SRC [[  588.79998779   446.3999939 ]\n",
      " [  691.20001221   446.3999939 ]\n",
      " [ 1126.40002441   673.20001221]\n",
      " [  153.6000061    673.20001221]]\n"
     ]
    },
    {
     "name": "stderr",
     "output_type": "stream",
     "text": [
      "\u001b[A\u001b[A\u001b[A\u001b[A\u001b[A\n",
      "\n",
      "\n",
      "\n",
      "\n",
      " 13%|█▎        | 65/485 [00:08<00:52,  7.98it/s]"
     ]
    },
    {
     "name": "stdout",
     "output_type": "stream",
     "text": [
      "DEST [[  256.     0.]\n",
      " [ 1024.     0.]\n",
      " [ 1024.   720.]\n",
      " [  256.   720.]]\n",
      "SRC [[  588.79998779   446.3999939 ]\n",
      " [  691.20001221   446.3999939 ]\n",
      " [ 1126.40002441   673.20001221]\n",
      " [  153.6000061    673.20001221]]\n"
     ]
    },
    {
     "name": "stderr",
     "output_type": "stream",
     "text": [
      "\u001b[A\u001b[A\u001b[A\u001b[A\u001b[A\n",
      "\n",
      "\n",
      "\n",
      "\n",
      " 14%|█▎        | 66/485 [00:08<00:52,  7.92it/s]"
     ]
    },
    {
     "name": "stdout",
     "output_type": "stream",
     "text": [
      "DEST [[  256.     0.]\n",
      " [ 1024.     0.]\n",
      " [ 1024.   720.]\n",
      " [  256.   720.]]\n",
      "SRC [[  588.79998779   446.3999939 ]\n",
      " [  691.20001221   446.3999939 ]\n",
      " [ 1126.40002441   673.20001221]\n",
      " [  153.6000061    673.20001221]]\n"
     ]
    },
    {
     "name": "stderr",
     "output_type": "stream",
     "text": [
      "\u001b[A\u001b[A\u001b[A\u001b[A\u001b[A\n",
      "\n",
      "\n",
      "\n",
      "\n",
      " 14%|█▍        | 67/485 [00:08<00:52,  7.92it/s]"
     ]
    },
    {
     "name": "stdout",
     "output_type": "stream",
     "text": [
      "DEST [[  256.     0.]\n",
      " [ 1024.     0.]\n",
      " [ 1024.   720.]\n",
      " [  256.   720.]]\n",
      "SRC [[  588.79998779   446.3999939 ]\n",
      " [  691.20001221   446.3999939 ]\n",
      " [ 1126.40002441   673.20001221]\n",
      " [  153.6000061    673.20001221]]\n"
     ]
    },
    {
     "name": "stderr",
     "output_type": "stream",
     "text": [
      "\u001b[A\u001b[A\u001b[A\u001b[A\u001b[A\n",
      "\n",
      "\n",
      "\n",
      "\n",
      " 14%|█▍        | 68/485 [00:08<00:53,  7.83it/s]"
     ]
    },
    {
     "name": "stdout",
     "output_type": "stream",
     "text": [
      "DEST [[  256.     0.]\n",
      " [ 1024.     0.]\n",
      " [ 1024.   720.]\n",
      " [  256.   720.]]\n",
      "SRC [[  588.79998779   446.3999939 ]\n",
      " [  691.20001221   446.3999939 ]\n",
      " [ 1126.40002441   673.20001221]\n",
      " [  153.6000061    673.20001221]]\n"
     ]
    },
    {
     "name": "stderr",
     "output_type": "stream",
     "text": [
      "\u001b[A\u001b[A\u001b[A\u001b[A\u001b[A\n",
      "\n",
      "\n",
      "\n",
      "\n",
      " 14%|█▍        | 69/485 [00:08<00:53,  7.75it/s]"
     ]
    },
    {
     "name": "stdout",
     "output_type": "stream",
     "text": [
      "DEST [[  256.     0.]\n",
      " [ 1024.     0.]\n",
      " [ 1024.   720.]\n",
      " [  256.   720.]]\n",
      "SRC [[  588.79998779   446.3999939 ]\n",
      " [  691.20001221   446.3999939 ]\n",
      " [ 1126.40002441   673.20001221]\n",
      " [  153.6000061    673.20001221]]\n"
     ]
    },
    {
     "name": "stderr",
     "output_type": "stream",
     "text": [
      "\u001b[A\u001b[A\u001b[A\u001b[A\u001b[A\n",
      "\n",
      "\n",
      "\n",
      "\n",
      " 14%|█▍        | 70/485 [00:08<00:53,  7.73it/s]"
     ]
    },
    {
     "name": "stdout",
     "output_type": "stream",
     "text": [
      "DEST [[  256.     0.]\n",
      " [ 1024.     0.]\n",
      " [ 1024.   720.]\n",
      " [  256.   720.]]\n",
      "SRC [[  588.79998779   446.3999939 ]\n",
      " [  691.20001221   446.3999939 ]\n",
      " [ 1126.40002441   673.20001221]\n",
      " [  153.6000061    673.20001221]]\n"
     ]
    },
    {
     "name": "stderr",
     "output_type": "stream",
     "text": [
      "\u001b[A\u001b[A\u001b[A\u001b[A\u001b[A\n",
      "\n",
      "\n",
      "\n",
      "\n",
      " 15%|█▍        | 71/485 [00:09<00:52,  7.84it/s]"
     ]
    },
    {
     "name": "stdout",
     "output_type": "stream",
     "text": [
      "DEST [[  256.     0.]\n",
      " [ 1024.     0.]\n",
      " [ 1024.   720.]\n",
      " [  256.   720.]]\n",
      "SRC [[  588.79998779   446.3999939 ]\n",
      " [  691.20001221   446.3999939 ]\n",
      " [ 1126.40002441   673.20001221]\n",
      " [  153.6000061    673.20001221]]\n"
     ]
    },
    {
     "name": "stderr",
     "output_type": "stream",
     "text": [
      "\u001b[A\u001b[A\u001b[A\u001b[A\u001b[A\n",
      "\n",
      "\n",
      "\n",
      "\n",
      " 15%|█▍        | 72/485 [00:09<00:51,  8.00it/s]"
     ]
    },
    {
     "name": "stdout",
     "output_type": "stream",
     "text": [
      "DEST [[  256.     0.]\n",
      " [ 1024.     0.]\n",
      " [ 1024.   720.]\n",
      " [  256.   720.]]\n",
      "SRC [[  588.79998779   446.3999939 ]\n",
      " [  691.20001221   446.3999939 ]\n",
      " [ 1126.40002441   673.20001221]\n",
      " [  153.6000061    673.20001221]]\n"
     ]
    },
    {
     "name": "stderr",
     "output_type": "stream",
     "text": [
      "\u001b[A\u001b[A\u001b[A\u001b[A\u001b[A\n",
      "\n",
      "\n",
      "\n",
      "\n",
      " 15%|█▌        | 73/485 [00:09<00:51,  8.05it/s]"
     ]
    },
    {
     "name": "stdout",
     "output_type": "stream",
     "text": [
      "DEST [[  256.     0.]\n",
      " [ 1024.     0.]\n",
      " [ 1024.   720.]\n",
      " [  256.   720.]]\n",
      "SRC [[  588.79998779   446.3999939 ]\n",
      " [  691.20001221   446.3999939 ]\n",
      " [ 1126.40002441   673.20001221]\n",
      " [  153.6000061    673.20001221]]\n"
     ]
    },
    {
     "name": "stderr",
     "output_type": "stream",
     "text": [
      "\u001b[A\u001b[A\u001b[A\u001b[A\u001b[A\n",
      "\n",
      "\n",
      "\n",
      "\n",
      " 15%|█▌        | 74/485 [00:09<00:51,  8.03it/s]"
     ]
    },
    {
     "name": "stdout",
     "output_type": "stream",
     "text": [
      "DEST [[  256.     0.]\n",
      " [ 1024.     0.]\n",
      " [ 1024.   720.]\n",
      " [  256.   720.]]\n",
      "SRC [[  588.79998779   446.3999939 ]\n",
      " [  691.20001221   446.3999939 ]\n",
      " [ 1126.40002441   673.20001221]\n",
      " [  153.6000061    673.20001221]]\n"
     ]
    },
    {
     "name": "stderr",
     "output_type": "stream",
     "text": [
      "\u001b[A\u001b[A\u001b[A\u001b[A\u001b[A\n",
      "\n",
      "\n",
      "\n",
      "\n",
      " 15%|█▌        | 75/485 [00:09<00:51,  7.92it/s]"
     ]
    },
    {
     "name": "stdout",
     "output_type": "stream",
     "text": [
      "DEST [[  256.     0.]\n",
      " [ 1024.     0.]\n",
      " [ 1024.   720.]\n",
      " [  256.   720.]]\n",
      "SRC [[  588.79998779   446.3999939 ]\n",
      " [  691.20001221   446.3999939 ]\n",
      " [ 1126.40002441   673.20001221]\n",
      " [  153.6000061    673.20001221]]\n"
     ]
    },
    {
     "name": "stderr",
     "output_type": "stream",
     "text": [
      "\u001b[A\u001b[A\u001b[A\u001b[A\u001b[A\n",
      "\n",
      "\n",
      "\n",
      "\n",
      " 16%|█▌        | 76/485 [00:09<00:51,  7.88it/s]"
     ]
    },
    {
     "name": "stdout",
     "output_type": "stream",
     "text": [
      "DEST [[  256.     0.]\n",
      " [ 1024.     0.]\n",
      " [ 1024.   720.]\n",
      " [  256.   720.]]\n",
      "SRC [[  588.79998779   446.3999939 ]\n",
      " [  691.20001221   446.3999939 ]\n",
      " [ 1126.40002441   673.20001221]\n",
      " [  153.6000061    673.20001221]]\n"
     ]
    },
    {
     "name": "stderr",
     "output_type": "stream",
     "text": [
      "\u001b[A\u001b[A\u001b[A\u001b[A\u001b[A\n",
      "\n",
      "\n",
      "\n",
      "\n",
      " 16%|█▌        | 77/485 [00:09<00:51,  7.85it/s]"
     ]
    },
    {
     "name": "stdout",
     "output_type": "stream",
     "text": [
      "DEST [[  256.     0.]\n",
      " [ 1024.     0.]\n",
      " [ 1024.   720.]\n",
      " [  256.   720.]]\n",
      "SRC [[  588.79998779   446.3999939 ]\n",
      " [  691.20001221   446.3999939 ]\n",
      " [ 1126.40002441   673.20001221]\n",
      " [  153.6000061    673.20001221]]\n"
     ]
    },
    {
     "name": "stderr",
     "output_type": "stream",
     "text": [
      "\u001b[A\u001b[A\u001b[A\u001b[A\u001b[A\n",
      "\n",
      "\n",
      "\n",
      "\n",
      " 16%|█▌        | 78/485 [00:09<00:52,  7.78it/s]"
     ]
    },
    {
     "name": "stdout",
     "output_type": "stream",
     "text": [
      "DEST [[  256.     0.]\n",
      " [ 1024.     0.]\n",
      " [ 1024.   720.]\n",
      " [  256.   720.]]\n",
      "SRC [[  588.79998779   446.3999939 ]\n",
      " [  691.20001221   446.3999939 ]\n",
      " [ 1126.40002441   673.20001221]\n",
      " [  153.6000061    673.20001221]]\n"
     ]
    },
    {
     "name": "stderr",
     "output_type": "stream",
     "text": [
      "\u001b[A\u001b[A\u001b[A\u001b[A\u001b[A\n",
      "\n",
      "\n",
      "\n",
      "\n",
      " 16%|█▋        | 79/485 [00:10<00:52,  7.76it/s]"
     ]
    },
    {
     "name": "stdout",
     "output_type": "stream",
     "text": [
      "DEST [[  256.     0.]\n",
      " [ 1024.     0.]\n",
      " [ 1024.   720.]\n",
      " [  256.   720.]]\n",
      "SRC [[  588.79998779   446.3999939 ]\n",
      " [  691.20001221   446.3999939 ]\n",
      " [ 1126.40002441   673.20001221]\n",
      " [  153.6000061    673.20001221]]\n"
     ]
    },
    {
     "name": "stderr",
     "output_type": "stream",
     "text": [
      "\u001b[A\u001b[A\u001b[A\u001b[A\u001b[A\n",
      "\n",
      "\n",
      "\n",
      "\n",
      " 16%|█▋        | 80/485 [00:10<00:52,  7.76it/s]"
     ]
    },
    {
     "name": "stdout",
     "output_type": "stream",
     "text": [
      "DEST [[  256.     0.]\n",
      " [ 1024.     0.]\n",
      " [ 1024.   720.]\n",
      " [  256.   720.]]\n",
      "SRC [[  588.79998779   446.3999939 ]\n",
      " [  691.20001221   446.3999939 ]\n",
      " [ 1126.40002441   673.20001221]\n",
      " [  153.6000061    673.20001221]]\n"
     ]
    },
    {
     "name": "stderr",
     "output_type": "stream",
     "text": [
      "\u001b[A\u001b[A\u001b[A\u001b[A\u001b[A\n",
      "\n",
      "\n",
      "\n",
      "\n",
      " 17%|█▋        | 81/485 [00:10<00:52,  7.74it/s]"
     ]
    },
    {
     "name": "stdout",
     "output_type": "stream",
     "text": [
      "DEST [[  256.     0.]\n",
      " [ 1024.     0.]\n",
      " [ 1024.   720.]\n",
      " [  256.   720.]]\n",
      "SRC [[  588.79998779   446.3999939 ]\n",
      " [  691.20001221   446.3999939 ]\n",
      " [ 1126.40002441   673.20001221]\n",
      " [  153.6000061    673.20001221]]\n"
     ]
    },
    {
     "name": "stderr",
     "output_type": "stream",
     "text": [
      "\u001b[A\u001b[A\u001b[A\u001b[A\u001b[A\n",
      "\n",
      "\n",
      "\n",
      "\n",
      " 17%|█▋        | 82/485 [00:10<00:52,  7.71it/s]"
     ]
    },
    {
     "name": "stdout",
     "output_type": "stream",
     "text": [
      "DEST [[  256.     0.]\n",
      " [ 1024.     0.]\n",
      " [ 1024.   720.]\n",
      " [  256.   720.]]\n",
      "SRC [[  588.79998779   446.3999939 ]\n",
      " [  691.20001221   446.3999939 ]\n",
      " [ 1126.40002441   673.20001221]\n",
      " [  153.6000061    673.20001221]]\n"
     ]
    },
    {
     "name": "stderr",
     "output_type": "stream",
     "text": [
      "\u001b[A\u001b[A\u001b[A\u001b[A\u001b[A\n",
      "\n",
      "\n",
      "\n",
      "\n",
      " 17%|█▋        | 83/485 [00:10<00:51,  7.77it/s]"
     ]
    },
    {
     "name": "stdout",
     "output_type": "stream",
     "text": [
      "DEST [[  256.     0.]\n",
      " [ 1024.     0.]\n",
      " [ 1024.   720.]\n",
      " [  256.   720.]]\n",
      "SRC [[  588.79998779   446.3999939 ]\n",
      " [  691.20001221   446.3999939 ]\n",
      " [ 1126.40002441   673.20001221]\n",
      " [  153.6000061    673.20001221]]\n"
     ]
    },
    {
     "name": "stderr",
     "output_type": "stream",
     "text": [
      "\u001b[A\u001b[A\u001b[A\u001b[A\u001b[A\n",
      "\n",
      "\n",
      "\n",
      "\n",
      " 17%|█▋        | 84/485 [00:10<00:51,  7.80it/s]"
     ]
    },
    {
     "name": "stdout",
     "output_type": "stream",
     "text": [
      "DEST [[  256.     0.]\n",
      " [ 1024.     0.]\n",
      " [ 1024.   720.]\n",
      " [  256.   720.]]\n",
      "SRC [[  588.79998779   446.3999939 ]\n",
      " [  691.20001221   446.3999939 ]\n",
      " [ 1126.40002441   673.20001221]\n",
      " [  153.6000061    673.20001221]]\n"
     ]
    },
    {
     "name": "stderr",
     "output_type": "stream",
     "text": [
      "\u001b[A\u001b[A\u001b[A\u001b[A\u001b[A\n",
      "\n",
      "\n",
      "\n",
      "\n",
      " 18%|█▊        | 85/485 [00:10<00:50,  7.88it/s]"
     ]
    },
    {
     "name": "stdout",
     "output_type": "stream",
     "text": [
      "DEST [[  256.     0.]\n",
      " [ 1024.     0.]\n",
      " [ 1024.   720.]\n",
      " [  256.   720.]]\n",
      "SRC [[  588.79998779   446.3999939 ]\n",
      " [  691.20001221   446.3999939 ]\n",
      " [ 1126.40002441   673.20001221]\n",
      " [  153.6000061    673.20001221]]\n"
     ]
    },
    {
     "name": "stderr",
     "output_type": "stream",
     "text": [
      "\u001b[A\u001b[A\u001b[A\u001b[A\u001b[A\n",
      "\n",
      "\n",
      "\n",
      "\n",
      " 18%|█▊        | 86/485 [00:10<00:50,  7.82it/s]"
     ]
    },
    {
     "name": "stdout",
     "output_type": "stream",
     "text": [
      "DEST [[  256.     0.]\n",
      " [ 1024.     0.]\n",
      " [ 1024.   720.]\n",
      " [  256.   720.]]\n",
      "SRC [[  588.79998779   446.3999939 ]\n",
      " [  691.20001221   446.3999939 ]\n",
      " [ 1126.40002441   673.20001221]\n",
      " [  153.6000061    673.20001221]]\n"
     ]
    },
    {
     "name": "stderr",
     "output_type": "stream",
     "text": [
      "\u001b[A\u001b[A\u001b[A\u001b[A\u001b[A\n",
      "\n",
      "\n",
      "\n",
      "\n",
      " 18%|█▊        | 87/485 [00:11<00:50,  7.82it/s]"
     ]
    },
    {
     "name": "stdout",
     "output_type": "stream",
     "text": [
      "DEST [[  256.     0.]\n",
      " [ 1024.     0.]\n",
      " [ 1024.   720.]\n",
      " [  256.   720.]]\n",
      "SRC [[  588.79998779   446.3999939 ]\n",
      " [  691.20001221   446.3999939 ]\n",
      " [ 1126.40002441   673.20001221]\n",
      " [  153.6000061    673.20001221]]\n"
     ]
    },
    {
     "name": "stderr",
     "output_type": "stream",
     "text": [
      "\u001b[A\u001b[A\u001b[A\u001b[A\u001b[A\n",
      "\n",
      "\n",
      "\n",
      "\n",
      " 18%|█▊        | 88/485 [00:11<00:50,  7.83it/s]"
     ]
    },
    {
     "name": "stdout",
     "output_type": "stream",
     "text": [
      "DEST [[  256.     0.]\n",
      " [ 1024.     0.]\n",
      " [ 1024.   720.]\n",
      " [  256.   720.]]\n",
      "SRC [[  588.79998779   446.3999939 ]\n",
      " [  691.20001221   446.3999939 ]\n",
      " [ 1126.40002441   673.20001221]\n",
      " [  153.6000061    673.20001221]]\n"
     ]
    },
    {
     "name": "stderr",
     "output_type": "stream",
     "text": [
      "\u001b[A\u001b[A\u001b[A\u001b[A\u001b[A\n",
      "\n",
      "\n",
      "\n",
      "\n",
      " 18%|█▊        | 89/485 [00:11<00:50,  7.80it/s]"
     ]
    },
    {
     "name": "stdout",
     "output_type": "stream",
     "text": [
      "DEST [[  256.     0.]\n",
      " [ 1024.     0.]\n",
      " [ 1024.   720.]\n",
      " [  256.   720.]]\n",
      "SRC [[  588.79998779   446.3999939 ]\n",
      " [  691.20001221   446.3999939 ]\n",
      " [ 1126.40002441   673.20001221]\n",
      " [  153.6000061    673.20001221]]\n"
     ]
    },
    {
     "name": "stderr",
     "output_type": "stream",
     "text": [
      "\u001b[A\u001b[A\u001b[A\u001b[A\u001b[A\n",
      "\n",
      "\n",
      "\n",
      "\n",
      " 19%|█▊        | 90/485 [00:11<00:49,  7.91it/s]"
     ]
    },
    {
     "name": "stdout",
     "output_type": "stream",
     "text": [
      "DEST [[  256.     0.]\n",
      " [ 1024.     0.]\n",
      " [ 1024.   720.]\n",
      " [  256.   720.]]\n",
      "SRC [[  588.79998779   446.3999939 ]\n",
      " [  691.20001221   446.3999939 ]\n",
      " [ 1126.40002441   673.20001221]\n",
      " [  153.6000061    673.20001221]]\n"
     ]
    },
    {
     "name": "stderr",
     "output_type": "stream",
     "text": [
      "\u001b[A\u001b[A\u001b[A\u001b[A\u001b[A\n",
      "\n",
      "\n",
      "\n",
      "\n",
      " 19%|█▉        | 91/485 [00:11<00:49,  7.91it/s]"
     ]
    },
    {
     "name": "stdout",
     "output_type": "stream",
     "text": [
      "DEST [[  256.     0.]\n",
      " [ 1024.     0.]\n",
      " [ 1024.   720.]\n",
      " [  256.   720.]]\n",
      "SRC [[  588.79998779   446.3999939 ]\n",
      " [  691.20001221   446.3999939 ]\n",
      " [ 1126.40002441   673.20001221]\n",
      " [  153.6000061    673.20001221]]\n"
     ]
    },
    {
     "name": "stderr",
     "output_type": "stream",
     "text": [
      "\u001b[A\u001b[A\u001b[A\u001b[A\u001b[A\n",
      "\n",
      "\n",
      "\n",
      "\n",
      " 19%|█▉        | 92/485 [00:11<00:50,  7.85it/s]"
     ]
    },
    {
     "name": "stdout",
     "output_type": "stream",
     "text": [
      "DEST [[  256.     0.]\n",
      " [ 1024.     0.]\n",
      " [ 1024.   720.]\n",
      " [  256.   720.]]\n",
      "SRC [[  588.79998779   446.3999939 ]\n",
      " [  691.20001221   446.3999939 ]\n",
      " [ 1126.40002441   673.20001221]\n",
      " [  153.6000061    673.20001221]]\n"
     ]
    },
    {
     "name": "stderr",
     "output_type": "stream",
     "text": [
      "\u001b[A\u001b[A\u001b[A\u001b[A\u001b[A\n",
      "\n",
      "\n",
      "\n",
      "\n",
      " 19%|█▉        | 93/485 [00:11<00:49,  7.91it/s]"
     ]
    },
    {
     "name": "stdout",
     "output_type": "stream",
     "text": [
      "DEST [[  256.     0.]\n",
      " [ 1024.     0.]\n",
      " [ 1024.   720.]\n",
      " [  256.   720.]]\n",
      "SRC [[  588.79998779   446.3999939 ]\n",
      " [  691.20001221   446.3999939 ]\n",
      " [ 1126.40002441   673.20001221]\n",
      " [  153.6000061    673.20001221]]\n"
     ]
    },
    {
     "name": "stderr",
     "output_type": "stream",
     "text": [
      "\u001b[A\u001b[A\u001b[A\u001b[A\u001b[A\n",
      "\n",
      "\n",
      "\n",
      "\n",
      " 19%|█▉        | 94/485 [00:11<00:49,  7.92it/s]"
     ]
    },
    {
     "name": "stdout",
     "output_type": "stream",
     "text": [
      "DEST [[  256.     0.]\n",
      " [ 1024.     0.]\n",
      " [ 1024.   720.]\n",
      " [  256.   720.]]\n",
      "SRC [[  588.79998779   446.3999939 ]\n",
      " [  691.20001221   446.3999939 ]\n",
      " [ 1126.40002441   673.20001221]\n",
      " [  153.6000061    673.20001221]]\n"
     ]
    },
    {
     "name": "stderr",
     "output_type": "stream",
     "text": [
      "\u001b[A\u001b[A\u001b[A\u001b[A\u001b[A\n",
      "\n",
      "\n",
      "\n",
      "\n",
      " 20%|█▉        | 95/485 [00:12<00:48,  7.99it/s]"
     ]
    },
    {
     "name": "stdout",
     "output_type": "stream",
     "text": [
      "DEST [[  256.     0.]\n",
      " [ 1024.     0.]\n",
      " [ 1024.   720.]\n",
      " [  256.   720.]]\n",
      "SRC [[  588.79998779   446.3999939 ]\n",
      " [  691.20001221   446.3999939 ]\n",
      " [ 1126.40002441   673.20001221]\n",
      " [  153.6000061    673.20001221]]\n"
     ]
    },
    {
     "name": "stderr",
     "output_type": "stream",
     "text": [
      "\u001b[A\u001b[A\u001b[A\u001b[A\u001b[A\n",
      "\n",
      "\n",
      "\n",
      "\n",
      " 20%|█▉        | 96/485 [00:12<00:48,  8.01it/s]"
     ]
    },
    {
     "name": "stdout",
     "output_type": "stream",
     "text": [
      "DEST [[  256.     0.]\n",
      " [ 1024.     0.]\n",
      " [ 1024.   720.]\n",
      " [  256.   720.]]\n",
      "SRC [[  588.79998779   446.3999939 ]\n",
      " [  691.20001221   446.3999939 ]\n",
      " [ 1126.40002441   673.20001221]\n",
      " [  153.6000061    673.20001221]]\n"
     ]
    },
    {
     "name": "stderr",
     "output_type": "stream",
     "text": [
      "\u001b[A\u001b[A\u001b[A\u001b[A\u001b[A\n",
      "\n",
      "\n",
      "\n",
      "\n",
      " 20%|██        | 97/485 [00:12<00:48,  8.01it/s]"
     ]
    },
    {
     "name": "stdout",
     "output_type": "stream",
     "text": [
      "DEST [[  256.     0.]\n",
      " [ 1024.     0.]\n",
      " [ 1024.   720.]\n",
      " [  256.   720.]]\n",
      "SRC [[  588.79998779   446.3999939 ]\n",
      " [  691.20001221   446.3999939 ]\n",
      " [ 1126.40002441   673.20001221]\n",
      " [  153.6000061    673.20001221]]\n"
     ]
    },
    {
     "name": "stderr",
     "output_type": "stream",
     "text": [
      "\u001b[A\u001b[A\u001b[A\u001b[A\u001b[A\n",
      "\n",
      "\n",
      "\n",
      "\n",
      " 20%|██        | 98/485 [00:12<00:47,  8.08it/s]"
     ]
    },
    {
     "name": "stdout",
     "output_type": "stream",
     "text": [
      "DEST [[  256.     0.]\n",
      " [ 1024.     0.]\n",
      " [ 1024.   720.]\n",
      " [  256.   720.]]\n",
      "SRC [[  588.79998779   446.3999939 ]\n",
      " [  691.20001221   446.3999939 ]\n",
      " [ 1126.40002441   673.20001221]\n",
      " [  153.6000061    673.20001221]]\n"
     ]
    },
    {
     "name": "stderr",
     "output_type": "stream",
     "text": [
      "\u001b[A\u001b[A\u001b[A\u001b[A\u001b[A\n",
      "\n",
      "\n",
      "\n",
      "\n",
      " 20%|██        | 99/485 [00:12<00:48,  7.99it/s]"
     ]
    },
    {
     "name": "stdout",
     "output_type": "stream",
     "text": [
      "DEST [[  256.     0.]\n",
      " [ 1024.     0.]\n",
      " [ 1024.   720.]\n",
      " [  256.   720.]]\n",
      "SRC [[  588.79998779   446.3999939 ]\n",
      " [  691.20001221   446.3999939 ]\n",
      " [ 1126.40002441   673.20001221]\n",
      " [  153.6000061    673.20001221]]\n"
     ]
    },
    {
     "name": "stderr",
     "output_type": "stream",
     "text": [
      "\u001b[A\u001b[A\u001b[A\u001b[A\u001b[A\n",
      "\n",
      "\n",
      "\n",
      "\n",
      " 21%|██        | 100/485 [00:12<00:48,  7.89it/s]"
     ]
    },
    {
     "name": "stdout",
     "output_type": "stream",
     "text": [
      "DEST [[  256.     0.]\n",
      " [ 1024.     0.]\n",
      " [ 1024.   720.]\n",
      " [  256.   720.]]\n",
      "SRC [[  588.79998779   446.3999939 ]\n",
      " [  691.20001221   446.3999939 ]\n",
      " [ 1126.40002441   673.20001221]\n",
      " [  153.6000061    673.20001221]]\n"
     ]
    },
    {
     "name": "stderr",
     "output_type": "stream",
     "text": [
      "\u001b[A\u001b[A\u001b[A\u001b[A\u001b[A\n",
      "\n",
      "\n",
      "\n",
      "\n",
      " 21%|██        | 101/485 [00:12<00:48,  7.88it/s]"
     ]
    },
    {
     "name": "stdout",
     "output_type": "stream",
     "text": [
      "DEST [[  256.     0.]\n",
      " [ 1024.     0.]\n",
      " [ 1024.   720.]\n",
      " [  256.   720.]]\n",
      "SRC [[  588.79998779   446.3999939 ]\n",
      " [  691.20001221   446.3999939 ]\n",
      " [ 1126.40002441   673.20001221]\n",
      " [  153.6000061    673.20001221]]\n"
     ]
    },
    {
     "name": "stderr",
     "output_type": "stream",
     "text": [
      "\u001b[A\u001b[A\u001b[A\u001b[A\u001b[A\n",
      "\n",
      "\n",
      "\n",
      "\n",
      " 21%|██        | 102/485 [00:12<00:48,  7.97it/s]"
     ]
    },
    {
     "name": "stdout",
     "output_type": "stream",
     "text": [
      "DEST [[  256.     0.]\n",
      " [ 1024.     0.]\n",
      " [ 1024.   720.]\n",
      " [  256.   720.]]\n",
      "SRC [[  588.79998779   446.3999939 ]\n",
      " [  691.20001221   446.3999939 ]\n",
      " [ 1126.40002441   673.20001221]\n",
      " [  153.6000061    673.20001221]]\n"
     ]
    },
    {
     "name": "stderr",
     "output_type": "stream",
     "text": [
      "\u001b[A\u001b[A\u001b[A\u001b[A\u001b[A\n",
      "\n",
      "\n",
      "\n",
      "\n",
      " 21%|██        | 103/485 [00:13<00:47,  8.05it/s]"
     ]
    },
    {
     "name": "stdout",
     "output_type": "stream",
     "text": [
      "DEST [[  256.     0.]\n",
      " [ 1024.     0.]\n",
      " [ 1024.   720.]\n",
      " [  256.   720.]]\n",
      "SRC [[  588.79998779   446.3999939 ]\n",
      " [  691.20001221   446.3999939 ]\n",
      " [ 1126.40002441   673.20001221]\n",
      " [  153.6000061    673.20001221]]\n"
     ]
    },
    {
     "name": "stderr",
     "output_type": "stream",
     "text": [
      "\u001b[A\u001b[A\u001b[A\u001b[A\u001b[A\n",
      "\n",
      "\n",
      "\n",
      "\n",
      " 21%|██▏       | 104/485 [00:13<00:46,  8.12it/s]"
     ]
    },
    {
     "name": "stdout",
     "output_type": "stream",
     "text": [
      "DEST [[  256.     0.]\n",
      " [ 1024.     0.]\n",
      " [ 1024.   720.]\n",
      " [  256.   720.]]\n",
      "SRC [[  588.79998779   446.3999939 ]\n",
      " [  691.20001221   446.3999939 ]\n",
      " [ 1126.40002441   673.20001221]\n",
      " [  153.6000061    673.20001221]]\n"
     ]
    },
    {
     "name": "stderr",
     "output_type": "stream",
     "text": [
      "\u001b[A\u001b[A\u001b[A\u001b[A\u001b[A\n",
      "\n",
      "\n",
      "\n",
      "\n",
      " 22%|██▏       | 105/485 [00:13<00:47,  8.04it/s]"
     ]
    },
    {
     "name": "stdout",
     "output_type": "stream",
     "text": [
      "DEST [[  256.     0.]\n",
      " [ 1024.     0.]\n",
      " [ 1024.   720.]\n",
      " [  256.   720.]]\n",
      "SRC [[  588.79998779   446.3999939 ]\n",
      " [  691.20001221   446.3999939 ]\n",
      " [ 1126.40002441   673.20001221]\n",
      " [  153.6000061    673.20001221]]\n"
     ]
    },
    {
     "name": "stderr",
     "output_type": "stream",
     "text": [
      "\u001b[A\u001b[A\u001b[A\u001b[A\u001b[A\n",
      "\n",
      "\n",
      "\n",
      "\n",
      " 22%|██▏       | 106/485 [00:13<00:46,  8.14it/s]"
     ]
    },
    {
     "name": "stdout",
     "output_type": "stream",
     "text": [
      "DEST [[  256.     0.]\n",
      " [ 1024.     0.]\n",
      " [ 1024.   720.]\n",
      " [  256.   720.]]\n",
      "SRC [[  588.79998779   446.3999939 ]\n",
      " [  691.20001221   446.3999939 ]\n",
      " [ 1126.40002441   673.20001221]\n",
      " [  153.6000061    673.20001221]]\n"
     ]
    },
    {
     "name": "stderr",
     "output_type": "stream",
     "text": [
      "\u001b[A\u001b[A\u001b[A\u001b[A\u001b[A\n",
      "\n",
      "\n",
      "\n",
      "\n",
      " 22%|██▏       | 107/485 [00:13<00:46,  8.08it/s]"
     ]
    },
    {
     "name": "stdout",
     "output_type": "stream",
     "text": [
      "DEST [[  256.     0.]\n",
      " [ 1024.     0.]\n",
      " [ 1024.   720.]\n",
      " [  256.   720.]]\n",
      "SRC [[  588.79998779   446.3999939 ]\n",
      " [  691.20001221   446.3999939 ]\n",
      " [ 1126.40002441   673.20001221]\n",
      " [  153.6000061    673.20001221]]\n"
     ]
    },
    {
     "name": "stderr",
     "output_type": "stream",
     "text": [
      "\u001b[A\u001b[A\u001b[A\u001b[A\u001b[A\n",
      "\n",
      "\n",
      "\n",
      "\n",
      " 22%|██▏       | 108/485 [00:13<00:47,  8.01it/s]"
     ]
    },
    {
     "name": "stdout",
     "output_type": "stream",
     "text": [
      "DEST [[  256.     0.]\n",
      " [ 1024.     0.]\n",
      " [ 1024.   720.]\n",
      " [  256.   720.]]\n",
      "SRC [[  588.79998779   446.3999939 ]\n",
      " [  691.20001221   446.3999939 ]\n",
      " [ 1126.40002441   673.20001221]\n",
      " [  153.6000061    673.20001221]]\n"
     ]
    },
    {
     "name": "stderr",
     "output_type": "stream",
     "text": [
      "\u001b[A\u001b[A\u001b[A\u001b[A\u001b[A\n",
      "\n",
      "\n",
      "\n",
      "\n",
      " 22%|██▏       | 109/485 [00:13<00:47,  7.93it/s]"
     ]
    },
    {
     "name": "stdout",
     "output_type": "stream",
     "text": [
      "DEST [[  256.     0.]\n",
      " [ 1024.     0.]\n",
      " [ 1024.   720.]\n",
      " [  256.   720.]]\n",
      "SRC [[  588.79998779   446.3999939 ]\n",
      " [  691.20001221   446.3999939 ]\n",
      " [ 1126.40002441   673.20001221]\n",
      " [  153.6000061    673.20001221]]\n"
     ]
    },
    {
     "name": "stderr",
     "output_type": "stream",
     "text": [
      "\u001b[A\u001b[A\u001b[A\u001b[A\u001b[A\n",
      "\n",
      "\n",
      "\n",
      "\n",
      " 23%|██▎       | 110/485 [00:13<00:47,  7.84it/s]"
     ]
    },
    {
     "name": "stdout",
     "output_type": "stream",
     "text": [
      "DEST [[  256.     0.]\n",
      " [ 1024.     0.]\n",
      " [ 1024.   720.]\n",
      " [  256.   720.]]\n",
      "SRC [[  588.79998779   446.3999939 ]\n",
      " [  691.20001221   446.3999939 ]\n",
      " [ 1126.40002441   673.20001221]\n",
      " [  153.6000061    673.20001221]]\n"
     ]
    },
    {
     "name": "stderr",
     "output_type": "stream",
     "text": [
      "\u001b[A\u001b[A\u001b[A\u001b[A\u001b[A\n",
      "\n",
      "\n",
      "\n",
      "\n",
      " 23%|██▎       | 111/485 [00:14<00:48,  7.75it/s]"
     ]
    },
    {
     "name": "stdout",
     "output_type": "stream",
     "text": [
      "DEST [[  256.     0.]\n",
      " [ 1024.     0.]\n",
      " [ 1024.   720.]\n",
      " [  256.   720.]]\n",
      "SRC [[  588.79998779   446.3999939 ]\n",
      " [  691.20001221   446.3999939 ]\n",
      " [ 1126.40002441   673.20001221]\n",
      " [  153.6000061    673.20001221]]\n"
     ]
    },
    {
     "name": "stderr",
     "output_type": "stream",
     "text": [
      "\u001b[A\u001b[A\u001b[A\u001b[A\u001b[A\n",
      "\n",
      "\n",
      "\n",
      "\n",
      " 23%|██▎       | 112/485 [00:14<00:48,  7.77it/s]"
     ]
    },
    {
     "name": "stdout",
     "output_type": "stream",
     "text": [
      "DEST [[  256.     0.]\n",
      " [ 1024.     0.]\n",
      " [ 1024.   720.]\n",
      " [  256.   720.]]\n",
      "SRC [[  588.79998779   446.3999939 ]\n",
      " [  691.20001221   446.3999939 ]\n",
      " [ 1126.40002441   673.20001221]\n",
      " [  153.6000061    673.20001221]]\n"
     ]
    },
    {
     "name": "stderr",
     "output_type": "stream",
     "text": [
      "\u001b[A\u001b[A\u001b[A\u001b[A\u001b[A\n",
      "\n",
      "\n",
      "\n",
      "\n",
      " 23%|██▎       | 113/485 [00:14<00:47,  7.85it/s]"
     ]
    },
    {
     "name": "stdout",
     "output_type": "stream",
     "text": [
      "DEST [[  256.     0.]\n",
      " [ 1024.     0.]\n",
      " [ 1024.   720.]\n",
      " [  256.   720.]]\n",
      "SRC [[  588.79998779   446.3999939 ]\n",
      " [  691.20001221   446.3999939 ]\n",
      " [ 1126.40002441   673.20001221]\n",
      " [  153.6000061    673.20001221]]\n"
     ]
    },
    {
     "name": "stderr",
     "output_type": "stream",
     "text": [
      "\u001b[A\u001b[A\u001b[A\u001b[A\u001b[A\n",
      "\n",
      "\n",
      "\n",
      "\n",
      " 24%|██▎       | 114/485 [00:14<00:46,  7.90it/s]"
     ]
    },
    {
     "name": "stdout",
     "output_type": "stream",
     "text": [
      "DEST [[  256.     0.]\n",
      " [ 1024.     0.]\n",
      " [ 1024.   720.]\n",
      " [  256.   720.]]\n",
      "SRC [[  588.79998779   446.3999939 ]\n",
      " [  691.20001221   446.3999939 ]\n",
      " [ 1126.40002441   673.20001221]\n",
      " [  153.6000061    673.20001221]]\n"
     ]
    },
    {
     "name": "stderr",
     "output_type": "stream",
     "text": [
      "\u001b[A\u001b[A\u001b[A\u001b[A\u001b[A\n",
      "\n",
      "\n",
      "\n",
      "\n",
      " 24%|██▎       | 115/485 [00:14<00:47,  7.71it/s]"
     ]
    },
    {
     "name": "stdout",
     "output_type": "stream",
     "text": [
      "DEST [[  256.     0.]\n",
      " [ 1024.     0.]\n",
      " [ 1024.   720.]\n",
      " [  256.   720.]]\n",
      "SRC [[  588.79998779   446.3999939 ]\n",
      " [  691.20001221   446.3999939 ]\n",
      " [ 1126.40002441   673.20001221]\n",
      " [  153.6000061    673.20001221]]\n"
     ]
    },
    {
     "name": "stderr",
     "output_type": "stream",
     "text": [
      "\u001b[A\u001b[A\u001b[A\u001b[A\u001b[A\n",
      "\n",
      "\n",
      "\n",
      "\n",
      " 24%|██▍       | 116/485 [00:14<00:48,  7.60it/s]"
     ]
    },
    {
     "name": "stdout",
     "output_type": "stream",
     "text": [
      "DEST [[  256.     0.]\n",
      " [ 1024.     0.]\n",
      " [ 1024.   720.]\n",
      " [  256.   720.]]\n",
      "SRC [[  588.79998779   446.3999939 ]\n",
      " [  691.20001221   446.3999939 ]\n",
      " [ 1126.40002441   673.20001221]\n",
      " [  153.6000061    673.20001221]]\n"
     ]
    },
    {
     "name": "stderr",
     "output_type": "stream",
     "text": [
      "\u001b[A\u001b[A\u001b[A\u001b[A\u001b[A\n",
      "\n",
      "\n",
      "\n",
      "\n",
      " 24%|██▍       | 117/485 [00:14<00:48,  7.59it/s]"
     ]
    },
    {
     "name": "stdout",
     "output_type": "stream",
     "text": [
      "DEST [[  256.     0.]\n",
      " [ 1024.     0.]\n",
      " [ 1024.   720.]\n",
      " [  256.   720.]]\n",
      "SRC [[  588.79998779   446.3999939 ]\n",
      " [  691.20001221   446.3999939 ]\n",
      " [ 1126.40002441   673.20001221]\n",
      " [  153.6000061    673.20001221]]\n"
     ]
    },
    {
     "name": "stderr",
     "output_type": "stream",
     "text": [
      "\u001b[A\u001b[A\u001b[A\u001b[A\u001b[A\n",
      "\n",
      "\n",
      "\n",
      "\n",
      " 24%|██▍       | 118/485 [00:14<00:47,  7.69it/s]"
     ]
    },
    {
     "name": "stdout",
     "output_type": "stream",
     "text": [
      "DEST [[  256.     0.]\n",
      " [ 1024.     0.]\n",
      " [ 1024.   720.]\n",
      " [  256.   720.]]\n",
      "SRC [[  588.79998779   446.3999939 ]\n",
      " [  691.20001221   446.3999939 ]\n",
      " [ 1126.40002441   673.20001221]\n",
      " [  153.6000061    673.20001221]]\n"
     ]
    },
    {
     "name": "stderr",
     "output_type": "stream",
     "text": [
      "\u001b[A\u001b[A\u001b[A\u001b[A\u001b[A\n",
      "\n",
      "\n",
      "\n",
      "\n",
      " 25%|██▍       | 119/485 [00:15<00:47,  7.78it/s]"
     ]
    },
    {
     "name": "stdout",
     "output_type": "stream",
     "text": [
      "DEST [[  256.     0.]\n",
      " [ 1024.     0.]\n",
      " [ 1024.   720.]\n",
      " [  256.   720.]]\n",
      "SRC [[  588.79998779   446.3999939 ]\n",
      " [  691.20001221   446.3999939 ]\n",
      " [ 1126.40002441   673.20001221]\n",
      " [  153.6000061    673.20001221]]\n"
     ]
    },
    {
     "name": "stderr",
     "output_type": "stream",
     "text": [
      "\u001b[A\u001b[A\u001b[A\u001b[A\u001b[A\n",
      "\n",
      "\n",
      "\n",
      "\n",
      " 25%|██▍       | 120/485 [00:15<00:46,  7.81it/s]"
     ]
    },
    {
     "name": "stdout",
     "output_type": "stream",
     "text": [
      "DEST [[  256.     0.]\n",
      " [ 1024.     0.]\n",
      " [ 1024.   720.]\n",
      " [  256.   720.]]\n",
      "SRC [[  588.79998779   446.3999939 ]\n",
      " [  691.20001221   446.3999939 ]\n",
      " [ 1126.40002441   673.20001221]\n",
      " [  153.6000061    673.20001221]]\n"
     ]
    },
    {
     "name": "stderr",
     "output_type": "stream",
     "text": [
      "\u001b[A\u001b[A\u001b[A\u001b[A\u001b[A\n",
      "\n",
      "\n",
      "\n",
      "\n",
      " 25%|██▍       | 121/485 [00:15<00:47,  7.60it/s]"
     ]
    },
    {
     "name": "stdout",
     "output_type": "stream",
     "text": [
      "DEST [[  256.     0.]\n",
      " [ 1024.     0.]\n",
      " [ 1024.   720.]\n",
      " [  256.   720.]]\n",
      "SRC [[  588.79998779   446.3999939 ]\n",
      " [  691.20001221   446.3999939 ]\n",
      " [ 1126.40002441   673.20001221]\n",
      " [  153.6000061    673.20001221]]\n"
     ]
    },
    {
     "name": "stderr",
     "output_type": "stream",
     "text": [
      "\u001b[A\u001b[A\u001b[A\u001b[A\u001b[A\n",
      "\n",
      "\n",
      "\n",
      "\n",
      " 25%|██▌       | 122/485 [00:15<00:48,  7.56it/s]"
     ]
    },
    {
     "name": "stdout",
     "output_type": "stream",
     "text": [
      "DEST [[  256.     0.]\n",
      " [ 1024.     0.]\n",
      " [ 1024.   720.]\n",
      " [  256.   720.]]\n",
      "SRC [[  588.79998779   446.3999939 ]\n",
      " [  691.20001221   446.3999939 ]\n",
      " [ 1126.40002441   673.20001221]\n",
      " [  153.6000061    673.20001221]]\n"
     ]
    },
    {
     "name": "stderr",
     "output_type": "stream",
     "text": [
      "\u001b[A\u001b[A\u001b[A\u001b[A\u001b[A\n",
      "\n",
      "\n",
      "\n",
      "\n",
      " 25%|██▌       | 123/485 [00:15<00:49,  7.37it/s]"
     ]
    },
    {
     "name": "stdout",
     "output_type": "stream",
     "text": [
      "DEST [[  256.     0.]\n",
      " [ 1024.     0.]\n",
      " [ 1024.   720.]\n",
      " [  256.   720.]]\n",
      "SRC [[  588.79998779   446.3999939 ]\n",
      " [  691.20001221   446.3999939 ]\n",
      " [ 1126.40002441   673.20001221]\n",
      " [  153.6000061    673.20001221]]\n"
     ]
    },
    {
     "name": "stderr",
     "output_type": "stream",
     "text": [
      "\u001b[A\u001b[A\u001b[A\u001b[A\u001b[A\n",
      "\n",
      "\n",
      "\n",
      "\n",
      " 26%|██▌       | 124/485 [00:15<00:48,  7.39it/s]"
     ]
    },
    {
     "name": "stdout",
     "output_type": "stream",
     "text": [
      "DEST [[  256.     0.]\n",
      " [ 1024.     0.]\n",
      " [ 1024.   720.]\n",
      " [  256.   720.]]\n",
      "SRC [[  588.79998779   446.3999939 ]\n",
      " [  691.20001221   446.3999939 ]\n",
      " [ 1126.40002441   673.20001221]\n",
      " [  153.6000061    673.20001221]]\n"
     ]
    },
    {
     "name": "stderr",
     "output_type": "stream",
     "text": [
      "\u001b[A\u001b[A\u001b[A\u001b[A\u001b[A\n",
      "\n",
      "\n",
      "\n",
      "\n",
      " 26%|██▌       | 125/485 [00:15<00:48,  7.46it/s]"
     ]
    },
    {
     "name": "stdout",
     "output_type": "stream",
     "text": [
      "DEST [[  256.     0.]\n",
      " [ 1024.     0.]\n",
      " [ 1024.   720.]\n",
      " [  256.   720.]]\n",
      "SRC [[  588.79998779   446.3999939 ]\n",
      " [  691.20001221   446.3999939 ]\n",
      " [ 1126.40002441   673.20001221]\n",
      " [  153.6000061    673.20001221]]\n"
     ]
    },
    {
     "name": "stderr",
     "output_type": "stream",
     "text": [
      "\u001b[A\u001b[A\u001b[A\u001b[A\u001b[A\n",
      "\n",
      "\n",
      "\n",
      "\n",
      " 26%|██▌       | 126/485 [00:16<00:48,  7.41it/s]"
     ]
    },
    {
     "name": "stdout",
     "output_type": "stream",
     "text": [
      "DEST [[  256.     0.]\n",
      " [ 1024.     0.]\n",
      " [ 1024.   720.]\n",
      " [  256.   720.]]\n",
      "SRC [[  588.79998779   446.3999939 ]\n",
      " [  691.20001221   446.3999939 ]\n",
      " [ 1126.40002441   673.20001221]\n",
      " [  153.6000061    673.20001221]]\n"
     ]
    },
    {
     "name": "stderr",
     "output_type": "stream",
     "text": [
      "\u001b[A\u001b[A\u001b[A\u001b[A\u001b[A\n",
      "\n",
      "\n",
      "\n",
      "\n",
      " 26%|██▌       | 127/485 [00:16<00:48,  7.34it/s]"
     ]
    },
    {
     "name": "stdout",
     "output_type": "stream",
     "text": [
      "DEST [[  256.     0.]\n",
      " [ 1024.     0.]\n",
      " [ 1024.   720.]\n",
      " [  256.   720.]]\n",
      "SRC [[  588.79998779   446.3999939 ]\n",
      " [  691.20001221   446.3999939 ]\n",
      " [ 1126.40002441   673.20001221]\n",
      " [  153.6000061    673.20001221]]\n"
     ]
    },
    {
     "name": "stderr",
     "output_type": "stream",
     "text": [
      "\u001b[A\u001b[A\u001b[A\u001b[A\u001b[A\n",
      "\n",
      "\n",
      "\n",
      "\n",
      " 26%|██▋       | 128/485 [00:16<00:47,  7.51it/s]"
     ]
    },
    {
     "name": "stdout",
     "output_type": "stream",
     "text": [
      "DEST [[  256.     0.]\n",
      " [ 1024.     0.]\n",
      " [ 1024.   720.]\n",
      " [  256.   720.]]\n",
      "SRC [[  588.79998779   446.3999939 ]\n",
      " [  691.20001221   446.3999939 ]\n",
      " [ 1126.40002441   673.20001221]\n",
      " [  153.6000061    673.20001221]]\n"
     ]
    },
    {
     "name": "stderr",
     "output_type": "stream",
     "text": [
      "\u001b[A\u001b[A\u001b[A\u001b[A\u001b[A\n",
      "\n",
      "\n",
      "\n",
      "\n",
      " 27%|██▋       | 129/485 [00:16<00:46,  7.65it/s]"
     ]
    },
    {
     "name": "stdout",
     "output_type": "stream",
     "text": [
      "DEST [[  256.     0.]\n",
      " [ 1024.     0.]\n",
      " [ 1024.   720.]\n",
      " [  256.   720.]]\n",
      "SRC [[  588.79998779   446.3999939 ]\n",
      " [  691.20001221   446.3999939 ]\n",
      " [ 1126.40002441   673.20001221]\n",
      " [  153.6000061    673.20001221]]\n"
     ]
    },
    {
     "name": "stderr",
     "output_type": "stream",
     "text": [
      "\u001b[A\u001b[A\u001b[A\u001b[A\u001b[A\n",
      "\n",
      "\n",
      "\n",
      "\n",
      " 27%|██▋       | 130/485 [00:16<00:46,  7.62it/s]"
     ]
    },
    {
     "name": "stdout",
     "output_type": "stream",
     "text": [
      "DEST [[  256.     0.]\n",
      " [ 1024.     0.]\n",
      " [ 1024.   720.]\n",
      " [  256.   720.]]\n",
      "SRC [[  588.79998779   446.3999939 ]\n",
      " [  691.20001221   446.3999939 ]\n",
      " [ 1126.40002441   673.20001221]\n",
      " [  153.6000061    673.20001221]]\n"
     ]
    },
    {
     "name": "stderr",
     "output_type": "stream",
     "text": [
      "\u001b[A\u001b[A\u001b[A\u001b[A\u001b[A\n",
      "\n",
      "\n",
      "\n",
      "\n",
      " 27%|██▋       | 131/485 [00:16<00:47,  7.52it/s]"
     ]
    },
    {
     "name": "stdout",
     "output_type": "stream",
     "text": [
      "DEST [[  256.     0.]\n",
      " [ 1024.     0.]\n",
      " [ 1024.   720.]\n",
      " [  256.   720.]]\n",
      "SRC [[  588.79998779   446.3999939 ]\n",
      " [  691.20001221   446.3999939 ]\n",
      " [ 1126.40002441   673.20001221]\n",
      " [  153.6000061    673.20001221]]\n"
     ]
    },
    {
     "name": "stderr",
     "output_type": "stream",
     "text": [
      "\u001b[A\u001b[A\u001b[A\u001b[A\u001b[A\n",
      "\n",
      "\n",
      "\n",
      "\n",
      " 27%|██▋       | 132/485 [00:16<00:47,  7.47it/s]"
     ]
    },
    {
     "name": "stdout",
     "output_type": "stream",
     "text": [
      "DEST [[  256.     0.]\n",
      " [ 1024.     0.]\n",
      " [ 1024.   720.]\n",
      " [  256.   720.]]\n",
      "SRC [[  588.79998779   446.3999939 ]\n",
      " [  691.20001221   446.3999939 ]\n",
      " [ 1126.40002441   673.20001221]\n",
      " [  153.6000061    673.20001221]]\n"
     ]
    },
    {
     "name": "stderr",
     "output_type": "stream",
     "text": [
      "\u001b[A\u001b[A\u001b[A\u001b[A\u001b[A\n",
      "\n",
      "\n",
      "\n",
      "\n",
      " 27%|██▋       | 133/485 [00:16<00:47,  7.48it/s]"
     ]
    },
    {
     "name": "stdout",
     "output_type": "stream",
     "text": [
      "DEST [[  256.     0.]\n",
      " [ 1024.     0.]\n",
      " [ 1024.   720.]\n",
      " [  256.   720.]]\n",
      "SRC [[  588.79998779   446.3999939 ]\n",
      " [  691.20001221   446.3999939 ]\n",
      " [ 1126.40002441   673.20001221]\n",
      " [  153.6000061    673.20001221]]\n"
     ]
    },
    {
     "name": "stderr",
     "output_type": "stream",
     "text": [
      "\u001b[A\u001b[A\u001b[A\u001b[A\u001b[A\n",
      "\n",
      "\n",
      "\n",
      "\n",
      " 28%|██▊       | 134/485 [00:17<00:47,  7.37it/s]"
     ]
    },
    {
     "name": "stdout",
     "output_type": "stream",
     "text": [
      "DEST [[  256.     0.]\n",
      " [ 1024.     0.]\n",
      " [ 1024.   720.]\n",
      " [  256.   720.]]\n",
      "SRC [[  588.79998779   446.3999939 ]\n",
      " [  691.20001221   446.3999939 ]\n",
      " [ 1126.40002441   673.20001221]\n",
      " [  153.6000061    673.20001221]]\n"
     ]
    },
    {
     "name": "stderr",
     "output_type": "stream",
     "text": [
      "\u001b[A\u001b[A\u001b[A\u001b[A\u001b[A\n",
      "\n",
      "\n",
      "\n",
      "\n",
      " 28%|██▊       | 135/485 [00:17<00:47,  7.44it/s]"
     ]
    },
    {
     "name": "stdout",
     "output_type": "stream",
     "text": [
      "DEST [[  256.     0.]\n",
      " [ 1024.     0.]\n",
      " [ 1024.   720.]\n",
      " [  256.   720.]]\n",
      "SRC [[  588.79998779   446.3999939 ]\n",
      " [  691.20001221   446.3999939 ]\n",
      " [ 1126.40002441   673.20001221]\n",
      " [  153.6000061    673.20001221]]\n"
     ]
    },
    {
     "name": "stderr",
     "output_type": "stream",
     "text": [
      "\u001b[A\u001b[A\u001b[A\u001b[A\u001b[A\n",
      "\n",
      "\n",
      "\n",
      "\n",
      " 28%|██▊       | 136/485 [00:17<00:46,  7.45it/s]"
     ]
    },
    {
     "name": "stdout",
     "output_type": "stream",
     "text": [
      "DEST [[  256.     0.]\n",
      " [ 1024.     0.]\n",
      " [ 1024.   720.]\n",
      " [  256.   720.]]\n",
      "SRC [[  588.79998779   446.3999939 ]\n",
      " [  691.20001221   446.3999939 ]\n",
      " [ 1126.40002441   673.20001221]\n",
      " [  153.6000061    673.20001221]]\n"
     ]
    },
    {
     "name": "stderr",
     "output_type": "stream",
     "text": [
      "\u001b[A\u001b[A\u001b[A\u001b[A\u001b[A\n",
      "\n",
      "\n",
      "\n",
      "\n",
      " 28%|██▊       | 137/485 [00:17<00:46,  7.46it/s]"
     ]
    },
    {
     "name": "stdout",
     "output_type": "stream",
     "text": [
      "DEST [[  256.     0.]\n",
      " [ 1024.     0.]\n",
      " [ 1024.   720.]\n",
      " [  256.   720.]]\n",
      "SRC [[  588.79998779   446.3999939 ]\n",
      " [  691.20001221   446.3999939 ]\n",
      " [ 1126.40002441   673.20001221]\n",
      " [  153.6000061    673.20001221]]\n"
     ]
    },
    {
     "name": "stderr",
     "output_type": "stream",
     "text": [
      "\u001b[A\u001b[A\u001b[A\u001b[A\u001b[A\n",
      "\n",
      "\n",
      "\n",
      "\n",
      " 28%|██▊       | 138/485 [00:17<00:46,  7.48it/s]"
     ]
    },
    {
     "name": "stdout",
     "output_type": "stream",
     "text": [
      "DEST [[  256.     0.]\n",
      " [ 1024.     0.]\n",
      " [ 1024.   720.]\n",
      " [  256.   720.]]\n",
      "SRC [[  588.79998779   446.3999939 ]\n",
      " [  691.20001221   446.3999939 ]\n",
      " [ 1126.40002441   673.20001221]\n",
      " [  153.6000061    673.20001221]]\n"
     ]
    },
    {
     "name": "stderr",
     "output_type": "stream",
     "text": [
      "\u001b[A\u001b[A\u001b[A\u001b[A\u001b[A\n",
      "\n",
      "\n",
      "\n",
      "\n",
      " 29%|██▊       | 139/485 [00:17<00:47,  7.36it/s]"
     ]
    },
    {
     "name": "stdout",
     "output_type": "stream",
     "text": [
      "DEST [[  256.     0.]\n",
      " [ 1024.     0.]\n",
      " [ 1024.   720.]\n",
      " [  256.   720.]]\n",
      "SRC [[  588.79998779   446.3999939 ]\n",
      " [  691.20001221   446.3999939 ]\n",
      " [ 1126.40002441   673.20001221]\n",
      " [  153.6000061    673.20001221]]\n"
     ]
    },
    {
     "name": "stderr",
     "output_type": "stream",
     "text": [
      "\u001b[A\u001b[A\u001b[A\u001b[A\u001b[A\n",
      "\n",
      "\n",
      "\n",
      "\n",
      " 29%|██▉       | 140/485 [00:17<00:46,  7.34it/s]"
     ]
    },
    {
     "name": "stdout",
     "output_type": "stream",
     "text": [
      "DEST [[  256.     0.]\n",
      " [ 1024.     0.]\n",
      " [ 1024.   720.]\n",
      " [  256.   720.]]\n",
      "SRC [[  588.79998779   446.3999939 ]\n",
      " [  691.20001221   446.3999939 ]\n",
      " [ 1126.40002441   673.20001221]\n",
      " [  153.6000061    673.20001221]]\n"
     ]
    },
    {
     "name": "stderr",
     "output_type": "stream",
     "text": [
      "\u001b[A\u001b[A\u001b[A\u001b[A\u001b[A\n",
      "\n",
      "\n",
      "\n",
      "\n",
      " 29%|██▉       | 141/485 [00:18<00:45,  7.48it/s]"
     ]
    },
    {
     "name": "stdout",
     "output_type": "stream",
     "text": [
      "DEST [[  256.     0.]\n",
      " [ 1024.     0.]\n",
      " [ 1024.   720.]\n",
      " [  256.   720.]]\n",
      "SRC [[  588.79998779   446.3999939 ]\n",
      " [  691.20001221   446.3999939 ]\n",
      " [ 1126.40002441   673.20001221]\n",
      " [  153.6000061    673.20001221]]\n"
     ]
    },
    {
     "name": "stderr",
     "output_type": "stream",
     "text": [
      "\u001b[A\u001b[A\u001b[A\u001b[A\u001b[A\n",
      "\n",
      "\n",
      "\n",
      "\n",
      " 29%|██▉       | 142/485 [00:18<00:45,  7.52it/s]"
     ]
    },
    {
     "name": "stdout",
     "output_type": "stream",
     "text": [
      "DEST [[  256.     0.]\n",
      " [ 1024.     0.]\n",
      " [ 1024.   720.]\n",
      " [  256.   720.]]\n",
      "SRC [[  588.79998779   446.3999939 ]\n",
      " [  691.20001221   446.3999939 ]\n",
      " [ 1126.40002441   673.20001221]\n",
      " [  153.6000061    673.20001221]]\n"
     ]
    },
    {
     "name": "stderr",
     "output_type": "stream",
     "text": [
      "\u001b[A\u001b[A\u001b[A\u001b[A\u001b[A\n",
      "\n",
      "\n",
      "\n",
      "\n",
      " 29%|██▉       | 143/485 [00:18<00:45,  7.57it/s]"
     ]
    },
    {
     "name": "stdout",
     "output_type": "stream",
     "text": [
      "DEST [[  256.     0.]\n",
      " [ 1024.     0.]\n",
      " [ 1024.   720.]\n",
      " [  256.   720.]]\n",
      "SRC [[  588.79998779   446.3999939 ]\n",
      " [  691.20001221   446.3999939 ]\n",
      " [ 1126.40002441   673.20001221]\n",
      " [  153.6000061    673.20001221]]\n"
     ]
    },
    {
     "name": "stderr",
     "output_type": "stream",
     "text": [
      "\u001b[A\u001b[A\u001b[A\u001b[A\u001b[A\n",
      "\n",
      "\n",
      "\n",
      "\n",
      " 30%|██▉       | 144/485 [00:18<00:45,  7.58it/s]"
     ]
    },
    {
     "name": "stdout",
     "output_type": "stream",
     "text": [
      "DEST [[  256.     0.]\n",
      " [ 1024.     0.]\n",
      " [ 1024.   720.]\n",
      " [  256.   720.]]\n",
      "SRC [[  588.79998779   446.3999939 ]\n",
      " [  691.20001221   446.3999939 ]\n",
      " [ 1126.40002441   673.20001221]\n",
      " [  153.6000061    673.20001221]]\n"
     ]
    },
    {
     "name": "stderr",
     "output_type": "stream",
     "text": [
      "\u001b[A\u001b[A\u001b[A\u001b[A\u001b[A\n",
      "\n",
      "\n",
      "\n",
      "\n",
      " 30%|██▉       | 145/485 [00:18<00:44,  7.59it/s]"
     ]
    },
    {
     "name": "stdout",
     "output_type": "stream",
     "text": [
      "DEST [[  256.     0.]\n",
      " [ 1024.     0.]\n",
      " [ 1024.   720.]\n",
      " [  256.   720.]]\n",
      "SRC [[  588.79998779   446.3999939 ]\n",
      " [  691.20001221   446.3999939 ]\n",
      " [ 1126.40002441   673.20001221]\n",
      " [  153.6000061    673.20001221]]\n"
     ]
    },
    {
     "name": "stderr",
     "output_type": "stream",
     "text": [
      "\u001b[A\u001b[A\u001b[A\u001b[A\u001b[A\n",
      "\n",
      "\n",
      "\n",
      "\n",
      " 30%|███       | 146/485 [00:18<00:44,  7.58it/s]"
     ]
    },
    {
     "name": "stdout",
     "output_type": "stream",
     "text": [
      "DEST [[  256.     0.]\n",
      " [ 1024.     0.]\n",
      " [ 1024.   720.]\n",
      " [  256.   720.]]\n",
      "SRC [[  588.79998779   446.3999939 ]\n",
      " [  691.20001221   446.3999939 ]\n",
      " [ 1126.40002441   673.20001221]\n",
      " [  153.6000061    673.20001221]]\n"
     ]
    },
    {
     "name": "stderr",
     "output_type": "stream",
     "text": [
      "\u001b[A\u001b[A\u001b[A\u001b[A\u001b[A\n",
      "\n",
      "\n",
      "\n",
      "\n",
      " 30%|███       | 147/485 [00:18<00:44,  7.58it/s]"
     ]
    },
    {
     "name": "stdout",
     "output_type": "stream",
     "text": [
      "DEST [[  256.     0.]\n",
      " [ 1024.     0.]\n",
      " [ 1024.   720.]\n",
      " [  256.   720.]]\n",
      "SRC [[  588.79998779   446.3999939 ]\n",
      " [  691.20001221   446.3999939 ]\n",
      " [ 1126.40002441   673.20001221]\n",
      " [  153.6000061    673.20001221]]\n"
     ]
    },
    {
     "name": "stderr",
     "output_type": "stream",
     "text": [
      "\u001b[A\u001b[A\u001b[A\u001b[A\u001b[A\n",
      "\n",
      "\n",
      "\n",
      "\n",
      " 31%|███       | 148/485 [00:18<00:44,  7.50it/s]"
     ]
    },
    {
     "name": "stdout",
     "output_type": "stream",
     "text": [
      "DEST [[  256.     0.]\n",
      " [ 1024.     0.]\n",
      " [ 1024.   720.]\n",
      " [  256.   720.]]\n",
      "SRC [[  588.79998779   446.3999939 ]\n",
      " [  691.20001221   446.3999939 ]\n",
      " [ 1126.40002441   673.20001221]\n",
      " [  153.6000061    673.20001221]]\n"
     ]
    },
    {
     "name": "stderr",
     "output_type": "stream",
     "text": [
      "\u001b[A\u001b[A\u001b[A\u001b[A\u001b[A\n",
      "\n",
      "\n",
      "\n",
      "\n",
      " 31%|███       | 149/485 [00:19<00:45,  7.46it/s]"
     ]
    },
    {
     "name": "stdout",
     "output_type": "stream",
     "text": [
      "DEST [[  256.     0.]\n",
      " [ 1024.     0.]\n",
      " [ 1024.   720.]\n",
      " [  256.   720.]]\n",
      "SRC [[  588.79998779   446.3999939 ]\n",
      " [  691.20001221   446.3999939 ]\n",
      " [ 1126.40002441   673.20001221]\n",
      " [  153.6000061    673.20001221]]\n"
     ]
    },
    {
     "name": "stderr",
     "output_type": "stream",
     "text": [
      "\u001b[A\u001b[A\u001b[A\u001b[A\u001b[A\n",
      "\n",
      "\n",
      "\n",
      "\n",
      " 31%|███       | 150/485 [00:19<00:44,  7.56it/s]"
     ]
    },
    {
     "name": "stdout",
     "output_type": "stream",
     "text": [
      "DEST [[  256.     0.]\n",
      " [ 1024.     0.]\n",
      " [ 1024.   720.]\n",
      " [  256.   720.]]\n",
      "SRC [[  588.79998779   446.3999939 ]\n",
      " [  691.20001221   446.3999939 ]\n",
      " [ 1126.40002441   673.20001221]\n",
      " [  153.6000061    673.20001221]]\n"
     ]
    },
    {
     "name": "stderr",
     "output_type": "stream",
     "text": [
      "\u001b[A\u001b[A\u001b[A\u001b[A\u001b[A\n",
      "\n",
      "\n",
      "\n",
      "\n",
      " 31%|███       | 151/485 [00:19<00:44,  7.47it/s]"
     ]
    },
    {
     "name": "stdout",
     "output_type": "stream",
     "text": [
      "DEST [[  256.     0.]\n",
      " [ 1024.     0.]\n",
      " [ 1024.   720.]\n",
      " [  256.   720.]]\n",
      "SRC [[  588.79998779   446.3999939 ]\n",
      " [  691.20001221   446.3999939 ]\n",
      " [ 1126.40002441   673.20001221]\n",
      " [  153.6000061    673.20001221]]\n"
     ]
    },
    {
     "name": "stderr",
     "output_type": "stream",
     "text": [
      "\u001b[A\u001b[A\u001b[A\u001b[A\u001b[A\n",
      "\n",
      "\n",
      "\n",
      "\n",
      " 31%|███▏      | 152/485 [00:19<00:44,  7.47it/s]"
     ]
    },
    {
     "name": "stdout",
     "output_type": "stream",
     "text": [
      "DEST [[  256.     0.]\n",
      " [ 1024.     0.]\n",
      " [ 1024.   720.]\n",
      " [  256.   720.]]\n",
      "SRC [[  588.79998779   446.3999939 ]\n",
      " [  691.20001221   446.3999939 ]\n",
      " [ 1126.40002441   673.20001221]\n",
      " [  153.6000061    673.20001221]]\n"
     ]
    },
    {
     "name": "stderr",
     "output_type": "stream",
     "text": [
      "\u001b[A\u001b[A\u001b[A\u001b[A\u001b[A\n",
      "\n",
      "\n",
      "\n",
      "\n",
      " 32%|███▏      | 153/485 [00:19<00:44,  7.42it/s]"
     ]
    },
    {
     "name": "stdout",
     "output_type": "stream",
     "text": [
      "DEST [[  256.     0.]\n",
      " [ 1024.     0.]\n",
      " [ 1024.   720.]\n",
      " [  256.   720.]]\n",
      "SRC [[  588.79998779   446.3999939 ]\n",
      " [  691.20001221   446.3999939 ]\n",
      " [ 1126.40002441   673.20001221]\n",
      " [  153.6000061    673.20001221]]\n"
     ]
    },
    {
     "name": "stderr",
     "output_type": "stream",
     "text": [
      "\u001b[A\u001b[A\u001b[A\u001b[A\u001b[A\n",
      "\n",
      "\n",
      "\n",
      "\n",
      " 32%|███▏      | 154/485 [00:19<00:44,  7.44it/s]"
     ]
    },
    {
     "name": "stdout",
     "output_type": "stream",
     "text": [
      "DEST [[  256.     0.]\n",
      " [ 1024.     0.]\n",
      " [ 1024.   720.]\n",
      " [  256.   720.]]\n",
      "SRC [[  588.79998779   446.3999939 ]\n",
      " [  691.20001221   446.3999939 ]\n",
      " [ 1126.40002441   673.20001221]\n",
      " [  153.6000061    673.20001221]]\n"
     ]
    },
    {
     "name": "stderr",
     "output_type": "stream",
     "text": [
      "\u001b[A\u001b[A\u001b[A\u001b[A\u001b[A\n",
      "\n",
      "\n",
      "\n",
      "\n",
      " 32%|███▏      | 155/485 [00:19<00:44,  7.45it/s]"
     ]
    },
    {
     "name": "stdout",
     "output_type": "stream",
     "text": [
      "DEST [[  256.     0.]\n",
      " [ 1024.     0.]\n",
      " [ 1024.   720.]\n",
      " [  256.   720.]]\n",
      "SRC [[  588.79998779   446.3999939 ]\n",
      " [  691.20001221   446.3999939 ]\n",
      " [ 1126.40002441   673.20001221]\n",
      " [  153.6000061    673.20001221]]\n"
     ]
    },
    {
     "name": "stderr",
     "output_type": "stream",
     "text": [
      "\u001b[A\u001b[A\u001b[A\u001b[A\u001b[A\n",
      "\n",
      "\n",
      "\n",
      "\n",
      " 32%|███▏      | 156/485 [00:20<00:43,  7.51it/s]"
     ]
    },
    {
     "name": "stdout",
     "output_type": "stream",
     "text": [
      "DEST [[  256.     0.]\n",
      " [ 1024.     0.]\n",
      " [ 1024.   720.]\n",
      " [  256.   720.]]\n",
      "SRC [[  588.79998779   446.3999939 ]\n",
      " [  691.20001221   446.3999939 ]\n",
      " [ 1126.40002441   673.20001221]\n",
      " [  153.6000061    673.20001221]]\n"
     ]
    },
    {
     "name": "stderr",
     "output_type": "stream",
     "text": [
      "\u001b[A\u001b[A\u001b[A\u001b[A\u001b[A\n",
      "\n",
      "\n",
      "\n",
      "\n",
      " 32%|███▏      | 157/485 [00:20<00:44,  7.45it/s]"
     ]
    },
    {
     "name": "stdout",
     "output_type": "stream",
     "text": [
      "DEST [[  256.     0.]\n",
      " [ 1024.     0.]\n",
      " [ 1024.   720.]\n",
      " [  256.   720.]]\n",
      "SRC [[  588.79998779   446.3999939 ]\n",
      " [  691.20001221   446.3999939 ]\n",
      " [ 1126.40002441   673.20001221]\n",
      " [  153.6000061    673.20001221]]\n"
     ]
    },
    {
     "name": "stderr",
     "output_type": "stream",
     "text": [
      "\u001b[A\u001b[A\u001b[A\u001b[A\u001b[A\n",
      "\n",
      "\n",
      "\n",
      "\n",
      " 33%|███▎      | 158/485 [00:20<00:43,  7.50it/s]"
     ]
    },
    {
     "name": "stdout",
     "output_type": "stream",
     "text": [
      "DEST [[  256.     0.]\n",
      " [ 1024.     0.]\n",
      " [ 1024.   720.]\n",
      " [  256.   720.]]\n",
      "SRC [[  588.79998779   446.3999939 ]\n",
      " [  691.20001221   446.3999939 ]\n",
      " [ 1126.40002441   673.20001221]\n",
      " [  153.6000061    673.20001221]]\n"
     ]
    },
    {
     "name": "stderr",
     "output_type": "stream",
     "text": [
      "\u001b[A\u001b[A\u001b[A\u001b[A\u001b[A\n",
      "\n",
      "\n",
      "\n",
      "\n",
      " 33%|███▎      | 159/485 [00:20<00:43,  7.53it/s]"
     ]
    },
    {
     "name": "stdout",
     "output_type": "stream",
     "text": [
      "DEST [[  256.     0.]\n",
      " [ 1024.     0.]\n",
      " [ 1024.   720.]\n",
      " [  256.   720.]]\n",
      "SRC [[  588.79998779   446.3999939 ]\n",
      " [  691.20001221   446.3999939 ]\n",
      " [ 1126.40002441   673.20001221]\n",
      " [  153.6000061    673.20001221]]\n"
     ]
    },
    {
     "name": "stderr",
     "output_type": "stream",
     "text": [
      "\u001b[A\u001b[A\u001b[A\u001b[A\u001b[A\n",
      "\n",
      "\n",
      "\n",
      "\n",
      " 33%|███▎      | 160/485 [00:20<00:43,  7.51it/s]"
     ]
    },
    {
     "name": "stdout",
     "output_type": "stream",
     "text": [
      "DEST [[  256.     0.]\n",
      " [ 1024.     0.]\n",
      " [ 1024.   720.]\n",
      " [  256.   720.]]\n",
      "SRC [[  588.79998779   446.3999939 ]\n",
      " [  691.20001221   446.3999939 ]\n",
      " [ 1126.40002441   673.20001221]\n",
      " [  153.6000061    673.20001221]]\n"
     ]
    },
    {
     "name": "stderr",
     "output_type": "stream",
     "text": [
      "\u001b[A\u001b[A\u001b[A\u001b[A\u001b[A\n",
      "\n",
      "\n",
      "\n",
      "\n",
      " 33%|███▎      | 161/485 [00:20<00:43,  7.44it/s]"
     ]
    },
    {
     "name": "stdout",
     "output_type": "stream",
     "text": [
      "DEST [[  256.     0.]\n",
      " [ 1024.     0.]\n",
      " [ 1024.   720.]\n",
      " [  256.   720.]]\n",
      "SRC [[  588.79998779   446.3999939 ]\n",
      " [  691.20001221   446.3999939 ]\n",
      " [ 1126.40002441   673.20001221]\n",
      " [  153.6000061    673.20001221]]\n"
     ]
    },
    {
     "name": "stderr",
     "output_type": "stream",
     "text": [
      "\u001b[A\u001b[A\u001b[A\u001b[A\u001b[A\n",
      "\n",
      "\n",
      "\n",
      "\n",
      " 33%|███▎      | 162/485 [00:20<00:43,  7.35it/s]"
     ]
    },
    {
     "name": "stdout",
     "output_type": "stream",
     "text": [
      "DEST [[  256.     0.]\n",
      " [ 1024.     0.]\n",
      " [ 1024.   720.]\n",
      " [  256.   720.]]\n",
      "SRC [[  588.79998779   446.3999939 ]\n",
      " [  691.20001221   446.3999939 ]\n",
      " [ 1126.40002441   673.20001221]\n",
      " [  153.6000061    673.20001221]]\n"
     ]
    },
    {
     "name": "stderr",
     "output_type": "stream",
     "text": [
      "\u001b[A\u001b[A\u001b[A\u001b[A\u001b[A\n",
      "\n",
      "\n",
      "\n",
      "\n",
      " 34%|███▎      | 163/485 [00:20<00:43,  7.45it/s]"
     ]
    },
    {
     "name": "stdout",
     "output_type": "stream",
     "text": [
      "DEST [[  256.     0.]\n",
      " [ 1024.     0.]\n",
      " [ 1024.   720.]\n",
      " [  256.   720.]]\n",
      "SRC [[  588.79998779   446.3999939 ]\n",
      " [  691.20001221   446.3999939 ]\n",
      " [ 1126.40002441   673.20001221]\n",
      " [  153.6000061    673.20001221]]\n"
     ]
    },
    {
     "name": "stderr",
     "output_type": "stream",
     "text": [
      "\u001b[A\u001b[A\u001b[A\u001b[A\u001b[A\n",
      "\n",
      "\n",
      "\n",
      "\n",
      " 34%|███▍      | 164/485 [00:21<00:42,  7.50it/s]"
     ]
    },
    {
     "name": "stdout",
     "output_type": "stream",
     "text": [
      "DEST [[  256.     0.]\n",
      " [ 1024.     0.]\n",
      " [ 1024.   720.]\n",
      " [  256.   720.]]\n",
      "SRC [[  588.79998779   446.3999939 ]\n",
      " [  691.20001221   446.3999939 ]\n",
      " [ 1126.40002441   673.20001221]\n",
      " [  153.6000061    673.20001221]]\n"
     ]
    },
    {
     "name": "stderr",
     "output_type": "stream",
     "text": [
      "\u001b[A\u001b[A\u001b[A\u001b[A\u001b[A\n",
      "\n",
      "\n",
      "\n",
      "\n",
      " 34%|███▍      | 165/485 [00:21<00:42,  7.53it/s]"
     ]
    },
    {
     "name": "stdout",
     "output_type": "stream",
     "text": [
      "DEST [[  256.     0.]\n",
      " [ 1024.     0.]\n",
      " [ 1024.   720.]\n",
      " [  256.   720.]]\n",
      "SRC [[  588.79998779   446.3999939 ]\n",
      " [  691.20001221   446.3999939 ]\n",
      " [ 1126.40002441   673.20001221]\n",
      " [  153.6000061    673.20001221]]\n"
     ]
    },
    {
     "name": "stderr",
     "output_type": "stream",
     "text": [
      "\u001b[A\u001b[A\u001b[A\u001b[A\u001b[A\n",
      "\n",
      "\n",
      "\n",
      "\n",
      " 34%|███▍      | 166/485 [00:21<00:42,  7.57it/s]"
     ]
    },
    {
     "name": "stdout",
     "output_type": "stream",
     "text": [
      "DEST [[  256.     0.]\n",
      " [ 1024.     0.]\n",
      " [ 1024.   720.]\n",
      " [  256.   720.]]\n",
      "SRC [[  588.79998779   446.3999939 ]\n",
      " [  691.20001221   446.3999939 ]\n",
      " [ 1126.40002441   673.20001221]\n",
      " [  153.6000061    673.20001221]]\n"
     ]
    },
    {
     "name": "stderr",
     "output_type": "stream",
     "text": [
      "\u001b[A\u001b[A\u001b[A\u001b[A\u001b[A\n",
      "\n",
      "\n",
      "\n",
      "\n",
      " 34%|███▍      | 167/485 [00:21<00:41,  7.61it/s]"
     ]
    },
    {
     "name": "stdout",
     "output_type": "stream",
     "text": [
      "DEST [[  256.     0.]\n",
      " [ 1024.     0.]\n",
      " [ 1024.   720.]\n",
      " [  256.   720.]]\n",
      "SRC [[  588.79998779   446.3999939 ]\n",
      " [  691.20001221   446.3999939 ]\n",
      " [ 1126.40002441   673.20001221]\n",
      " [  153.6000061    673.20001221]]\n"
     ]
    },
    {
     "name": "stderr",
     "output_type": "stream",
     "text": [
      "\u001b[A\u001b[A\u001b[A\u001b[A\u001b[A\n",
      "\n",
      "\n",
      "\n",
      "\n",
      " 35%|███▍      | 168/485 [00:21<00:41,  7.59it/s]"
     ]
    },
    {
     "name": "stdout",
     "output_type": "stream",
     "text": [
      "DEST [[  256.     0.]\n",
      " [ 1024.     0.]\n",
      " [ 1024.   720.]\n",
      " [  256.   720.]]\n",
      "SRC [[  588.79998779   446.3999939 ]\n",
      " [  691.20001221   446.3999939 ]\n",
      " [ 1126.40002441   673.20001221]\n",
      " [  153.6000061    673.20001221]]\n"
     ]
    },
    {
     "name": "stderr",
     "output_type": "stream",
     "text": [
      "\u001b[A\u001b[A\u001b[A\u001b[A\u001b[A\n",
      "\n",
      "\n",
      "\n",
      "\n",
      " 35%|███▍      | 169/485 [00:21<00:41,  7.62it/s]"
     ]
    },
    {
     "name": "stdout",
     "output_type": "stream",
     "text": [
      "DEST [[  256.     0.]\n",
      " [ 1024.     0.]\n",
      " [ 1024.   720.]\n",
      " [  256.   720.]]\n",
      "SRC [[  588.79998779   446.3999939 ]\n",
      " [  691.20001221   446.3999939 ]\n",
      " [ 1126.40002441   673.20001221]\n",
      " [  153.6000061    673.20001221]]\n"
     ]
    },
    {
     "name": "stderr",
     "output_type": "stream",
     "text": [
      "\u001b[A\u001b[A\u001b[A\u001b[A\u001b[A\n",
      "\n",
      "\n",
      "\n",
      "\n",
      " 35%|███▌      | 170/485 [00:21<00:41,  7.57it/s]"
     ]
    },
    {
     "name": "stdout",
     "output_type": "stream",
     "text": [
      "DEST [[  256.     0.]\n",
      " [ 1024.     0.]\n",
      " [ 1024.   720.]\n",
      " [  256.   720.]]\n",
      "SRC [[  588.79998779   446.3999939 ]\n",
      " [  691.20001221   446.3999939 ]\n",
      " [ 1126.40002441   673.20001221]\n",
      " [  153.6000061    673.20001221]]\n"
     ]
    },
    {
     "name": "stderr",
     "output_type": "stream",
     "text": [
      "\u001b[A\u001b[A\u001b[A\u001b[A\u001b[A\n",
      "\n",
      "\n",
      "\n",
      "\n",
      " 35%|███▌      | 171/485 [00:22<00:41,  7.59it/s]"
     ]
    },
    {
     "name": "stdout",
     "output_type": "stream",
     "text": [
      "DEST [[  256.     0.]\n",
      " [ 1024.     0.]\n",
      " [ 1024.   720.]\n",
      " [  256.   720.]]\n",
      "SRC [[  588.79998779   446.3999939 ]\n",
      " [  691.20001221   446.3999939 ]\n",
      " [ 1126.40002441   673.20001221]\n",
      " [  153.6000061    673.20001221]]\n"
     ]
    },
    {
     "name": "stderr",
     "output_type": "stream",
     "text": [
      "\u001b[A\u001b[A\u001b[A\u001b[A\u001b[A\n",
      "\n",
      "\n",
      "\n",
      "\n",
      " 35%|███▌      | 172/485 [00:22<00:41,  7.58it/s]"
     ]
    },
    {
     "name": "stdout",
     "output_type": "stream",
     "text": [
      "DEST [[  256.     0.]\n",
      " [ 1024.     0.]\n",
      " [ 1024.   720.]\n",
      " [  256.   720.]]\n",
      "SRC [[  588.79998779   446.3999939 ]\n",
      " [  691.20001221   446.3999939 ]\n",
      " [ 1126.40002441   673.20001221]\n",
      " [  153.6000061    673.20001221]]\n"
     ]
    },
    {
     "name": "stderr",
     "output_type": "stream",
     "text": [
      "\u001b[A\u001b[A\u001b[A\u001b[A\u001b[A\n",
      "\n",
      "\n",
      "\n",
      "\n",
      " 36%|███▌      | 173/485 [00:22<00:41,  7.56it/s]"
     ]
    },
    {
     "name": "stdout",
     "output_type": "stream",
     "text": [
      "DEST [[  256.     0.]\n",
      " [ 1024.     0.]\n",
      " [ 1024.   720.]\n",
      " [  256.   720.]]\n",
      "SRC [[  588.79998779   446.3999939 ]\n",
      " [  691.20001221   446.3999939 ]\n",
      " [ 1126.40002441   673.20001221]\n",
      " [  153.6000061    673.20001221]]\n"
     ]
    },
    {
     "name": "stderr",
     "output_type": "stream",
     "text": [
      "\u001b[A\u001b[A\u001b[A\u001b[A\u001b[A\n",
      "\n",
      "\n",
      "\n",
      "\n",
      " 36%|███▌      | 174/485 [00:22<00:41,  7.55it/s]"
     ]
    },
    {
     "name": "stdout",
     "output_type": "stream",
     "text": [
      "DEST [[  256.     0.]\n",
      " [ 1024.     0.]\n",
      " [ 1024.   720.]\n",
      " [  256.   720.]]\n",
      "SRC [[  588.79998779   446.3999939 ]\n",
      " [  691.20001221   446.3999939 ]\n",
      " [ 1126.40002441   673.20001221]\n",
      " [  153.6000061    673.20001221]]\n"
     ]
    },
    {
     "name": "stderr",
     "output_type": "stream",
     "text": [
      "\u001b[A\u001b[A\u001b[A\u001b[A\u001b[A\n",
      "\n",
      "\n",
      "\n",
      "\n",
      " 36%|███▌      | 175/485 [00:22<00:40,  7.60it/s]"
     ]
    },
    {
     "name": "stdout",
     "output_type": "stream",
     "text": [
      "DEST [[  256.     0.]\n",
      " [ 1024.     0.]\n",
      " [ 1024.   720.]\n",
      " [  256.   720.]]\n",
      "SRC [[  588.79998779   446.3999939 ]\n",
      " [  691.20001221   446.3999939 ]\n",
      " [ 1126.40002441   673.20001221]\n",
      " [  153.6000061    673.20001221]]\n"
     ]
    },
    {
     "name": "stderr",
     "output_type": "stream",
     "text": [
      "\u001b[A\u001b[A\u001b[A\u001b[A\u001b[A\n",
      "\n",
      "\n",
      "\n",
      "\n",
      " 36%|███▋      | 176/485 [00:22<00:40,  7.59it/s]"
     ]
    },
    {
     "name": "stdout",
     "output_type": "stream",
     "text": [
      "DEST [[  256.     0.]\n",
      " [ 1024.     0.]\n",
      " [ 1024.   720.]\n",
      " [  256.   720.]]\n",
      "SRC [[  588.79998779   446.3999939 ]\n",
      " [  691.20001221   446.3999939 ]\n",
      " [ 1126.40002441   673.20001221]\n",
      " [  153.6000061    673.20001221]]\n"
     ]
    },
    {
     "name": "stderr",
     "output_type": "stream",
     "text": [
      "\u001b[A\u001b[A\u001b[A\u001b[A\u001b[A\n",
      "\n",
      "\n",
      "\n",
      "\n",
      " 36%|███▋      | 177/485 [00:22<00:40,  7.57it/s]"
     ]
    },
    {
     "name": "stdout",
     "output_type": "stream",
     "text": [
      "DEST [[  256.     0.]\n",
      " [ 1024.     0.]\n",
      " [ 1024.   720.]\n",
      " [  256.   720.]]\n",
      "SRC [[  588.79998779   446.3999939 ]\n",
      " [  691.20001221   446.3999939 ]\n",
      " [ 1126.40002441   673.20001221]\n",
      " [  153.6000061    673.20001221]]\n"
     ]
    },
    {
     "name": "stderr",
     "output_type": "stream",
     "text": [
      "\u001b[A\u001b[A\u001b[A\u001b[A\u001b[A\n",
      "\n",
      "\n",
      "\n",
      "\n",
      " 37%|███▋      | 178/485 [00:22<00:40,  7.61it/s]"
     ]
    },
    {
     "name": "stdout",
     "output_type": "stream",
     "text": [
      "DEST [[  256.     0.]\n",
      " [ 1024.     0.]\n",
      " [ 1024.   720.]\n",
      " [  256.   720.]]\n",
      "SRC [[  588.79998779   446.3999939 ]\n",
      " [  691.20001221   446.3999939 ]\n",
      " [ 1126.40002441   673.20001221]\n",
      " [  153.6000061    673.20001221]]\n"
     ]
    },
    {
     "name": "stderr",
     "output_type": "stream",
     "text": [
      "\u001b[A\u001b[A\u001b[A\u001b[A\u001b[A\n",
      "\n",
      "\n",
      "\n",
      "\n",
      " 37%|███▋      | 179/485 [00:23<00:40,  7.61it/s]"
     ]
    },
    {
     "name": "stdout",
     "output_type": "stream",
     "text": [
      "DEST [[  256.     0.]\n",
      " [ 1024.     0.]\n",
      " [ 1024.   720.]\n",
      " [  256.   720.]]\n",
      "SRC [[  588.79998779   446.3999939 ]\n",
      " [  691.20001221   446.3999939 ]\n",
      " [ 1126.40002441   673.20001221]\n",
      " [  153.6000061    673.20001221]]\n"
     ]
    },
    {
     "name": "stderr",
     "output_type": "stream",
     "text": [
      "\u001b[A\u001b[A\u001b[A\u001b[A\u001b[A\n",
      "\n",
      "\n",
      "\n",
      "\n",
      " 37%|███▋      | 180/485 [00:23<00:39,  7.66it/s]"
     ]
    },
    {
     "name": "stdout",
     "output_type": "stream",
     "text": [
      "DEST [[  256.     0.]\n",
      " [ 1024.     0.]\n",
      " [ 1024.   720.]\n",
      " [  256.   720.]]\n",
      "SRC [[  588.79998779   446.3999939 ]\n",
      " [  691.20001221   446.3999939 ]\n",
      " [ 1126.40002441   673.20001221]\n",
      " [  153.6000061    673.20001221]]\n"
     ]
    },
    {
     "name": "stderr",
     "output_type": "stream",
     "text": [
      "\u001b[A\u001b[A\u001b[A\u001b[A\u001b[A\n",
      "\n",
      "\n",
      "\n",
      "\n",
      " 37%|███▋      | 181/485 [00:23<00:39,  7.64it/s]"
     ]
    },
    {
     "name": "stdout",
     "output_type": "stream",
     "text": [
      "DEST [[  256.     0.]\n",
      " [ 1024.     0.]\n",
      " [ 1024.   720.]\n",
      " [  256.   720.]]\n",
      "SRC [[  588.79998779   446.3999939 ]\n",
      " [  691.20001221   446.3999939 ]\n",
      " [ 1126.40002441   673.20001221]\n",
      " [  153.6000061    673.20001221]]\n"
     ]
    },
    {
     "name": "stderr",
     "output_type": "stream",
     "text": [
      "\u001b[A\u001b[A\u001b[A\u001b[A\u001b[A\n",
      "\n",
      "\n",
      "\n",
      "\n",
      " 38%|███▊      | 182/485 [00:23<00:39,  7.67it/s]"
     ]
    },
    {
     "name": "stdout",
     "output_type": "stream",
     "text": [
      "DEST [[  256.     0.]\n",
      " [ 1024.     0.]\n",
      " [ 1024.   720.]\n",
      " [  256.   720.]]\n",
      "SRC [[  588.79998779   446.3999939 ]\n",
      " [  691.20001221   446.3999939 ]\n",
      " [ 1126.40002441   673.20001221]\n",
      " [  153.6000061    673.20001221]]\n"
     ]
    },
    {
     "name": "stderr",
     "output_type": "stream",
     "text": [
      "\u001b[A\u001b[A\u001b[A\u001b[A\u001b[A\n",
      "\n",
      "\n",
      "\n",
      "\n",
      " 38%|███▊      | 183/485 [00:23<00:39,  7.67it/s]"
     ]
    },
    {
     "name": "stdout",
     "output_type": "stream",
     "text": [
      "DEST [[  256.     0.]\n",
      " [ 1024.     0.]\n",
      " [ 1024.   720.]\n",
      " [  256.   720.]]\n",
      "SRC [[  588.79998779   446.3999939 ]\n",
      " [  691.20001221   446.3999939 ]\n",
      " [ 1126.40002441   673.20001221]\n",
      " [  153.6000061    673.20001221]]\n"
     ]
    },
    {
     "name": "stderr",
     "output_type": "stream",
     "text": [
      "\u001b[A\u001b[A\u001b[A\u001b[A\u001b[A\n",
      "\n",
      "\n",
      "\n",
      "\n",
      " 38%|███▊      | 184/485 [00:23<00:39,  7.69it/s]"
     ]
    },
    {
     "name": "stdout",
     "output_type": "stream",
     "text": [
      "DEST [[  256.     0.]\n",
      " [ 1024.     0.]\n",
      " [ 1024.   720.]\n",
      " [  256.   720.]]\n",
      "SRC [[  588.79998779   446.3999939 ]\n",
      " [  691.20001221   446.3999939 ]\n",
      " [ 1126.40002441   673.20001221]\n",
      " [  153.6000061    673.20001221]]\n"
     ]
    },
    {
     "name": "stderr",
     "output_type": "stream",
     "text": [
      "\u001b[A\u001b[A\u001b[A\u001b[A\u001b[A\n",
      "\n",
      "\n",
      "\n",
      "\n",
      " 38%|███▊      | 185/485 [00:23<00:39,  7.65it/s]"
     ]
    },
    {
     "name": "stdout",
     "output_type": "stream",
     "text": [
      "DEST [[  256.     0.]\n",
      " [ 1024.     0.]\n",
      " [ 1024.   720.]\n",
      " [  256.   720.]]\n",
      "SRC [[  588.79998779   446.3999939 ]\n",
      " [  691.20001221   446.3999939 ]\n",
      " [ 1126.40002441   673.20001221]\n",
      " [  153.6000061    673.20001221]]\n"
     ]
    },
    {
     "name": "stderr",
     "output_type": "stream",
     "text": [
      "\u001b[A\u001b[A\u001b[A\u001b[A\u001b[A\n",
      "\n",
      "\n",
      "\n",
      "\n",
      " 38%|███▊      | 186/485 [00:24<00:39,  7.62it/s]"
     ]
    },
    {
     "name": "stdout",
     "output_type": "stream",
     "text": [
      "DEST [[  256.     0.]\n",
      " [ 1024.     0.]\n",
      " [ 1024.   720.]\n",
      " [  256.   720.]]\n",
      "SRC [[  588.79998779   446.3999939 ]\n",
      " [  691.20001221   446.3999939 ]\n",
      " [ 1126.40002441   673.20001221]\n",
      " [  153.6000061    673.20001221]]\n"
     ]
    },
    {
     "name": "stderr",
     "output_type": "stream",
     "text": [
      "\u001b[A\u001b[A\u001b[A\u001b[A\u001b[A\n",
      "\n",
      "\n",
      "\n",
      "\n",
      " 39%|███▊      | 187/485 [00:24<00:38,  7.68it/s]"
     ]
    },
    {
     "name": "stdout",
     "output_type": "stream",
     "text": [
      "DEST [[  256.     0.]\n",
      " [ 1024.     0.]\n",
      " [ 1024.   720.]\n",
      " [  256.   720.]]\n",
      "SRC [[  588.79998779   446.3999939 ]\n",
      " [  691.20001221   446.3999939 ]\n",
      " [ 1126.40002441   673.20001221]\n",
      " [  153.6000061    673.20001221]]\n"
     ]
    },
    {
     "name": "stderr",
     "output_type": "stream",
     "text": [
      "\u001b[A\u001b[A\u001b[A\u001b[A\u001b[A\n",
      "\n",
      "\n",
      "\n",
      "\n",
      " 39%|███▉      | 188/485 [00:24<00:38,  7.70it/s]"
     ]
    },
    {
     "name": "stdout",
     "output_type": "stream",
     "text": [
      "DEST [[  256.     0.]\n",
      " [ 1024.     0.]\n",
      " [ 1024.   720.]\n",
      " [  256.   720.]]\n",
      "SRC [[  588.79998779   446.3999939 ]\n",
      " [  691.20001221   446.3999939 ]\n",
      " [ 1126.40002441   673.20001221]\n",
      " [  153.6000061    673.20001221]]\n"
     ]
    },
    {
     "name": "stderr",
     "output_type": "stream",
     "text": [
      "\u001b[A\u001b[A\u001b[A\u001b[A\u001b[A\n",
      "\n",
      "\n",
      "\n",
      "\n",
      " 39%|███▉      | 189/485 [00:24<00:38,  7.69it/s]"
     ]
    },
    {
     "name": "stdout",
     "output_type": "stream",
     "text": [
      "DEST [[  256.     0.]\n",
      " [ 1024.     0.]\n",
      " [ 1024.   720.]\n",
      " [  256.   720.]]\n",
      "SRC [[  588.79998779   446.3999939 ]\n",
      " [  691.20001221   446.3999939 ]\n",
      " [ 1126.40002441   673.20001221]\n",
      " [  153.6000061    673.20001221]]\n"
     ]
    },
    {
     "name": "stderr",
     "output_type": "stream",
     "text": [
      "\u001b[A\u001b[A\u001b[A\u001b[A\u001b[A\n",
      "\n",
      "\n",
      "\n",
      "\n",
      " 39%|███▉      | 190/485 [00:24<00:38,  7.68it/s]"
     ]
    },
    {
     "name": "stdout",
     "output_type": "stream",
     "text": [
      "DEST [[  256.     0.]\n",
      " [ 1024.     0.]\n",
      " [ 1024.   720.]\n",
      " [  256.   720.]]\n",
      "SRC [[  588.79998779   446.3999939 ]\n",
      " [  691.20001221   446.3999939 ]\n",
      " [ 1126.40002441   673.20001221]\n",
      " [  153.6000061    673.20001221]]\n"
     ]
    },
    {
     "name": "stderr",
     "output_type": "stream",
     "text": [
      "\u001b[A\u001b[A\u001b[A\u001b[A\u001b[A\n",
      "\n",
      "\n",
      "\n",
      "\n",
      " 39%|███▉      | 191/485 [00:24<00:38,  7.67it/s]"
     ]
    },
    {
     "name": "stdout",
     "output_type": "stream",
     "text": [
      "DEST [[  256.     0.]\n",
      " [ 1024.     0.]\n",
      " [ 1024.   720.]\n",
      " [  256.   720.]]\n",
      "SRC [[  588.79998779   446.3999939 ]\n",
      " [  691.20001221   446.3999939 ]\n",
      " [ 1126.40002441   673.20001221]\n",
      " [  153.6000061    673.20001221]]\n"
     ]
    },
    {
     "name": "stderr",
     "output_type": "stream",
     "text": [
      "\u001b[A\u001b[A\u001b[A\u001b[A\u001b[A\n",
      "\n",
      "\n",
      "\n",
      "\n",
      " 40%|███▉      | 192/485 [00:24<00:38,  7.65it/s]"
     ]
    },
    {
     "name": "stdout",
     "output_type": "stream",
     "text": [
      "DEST [[  256.     0.]\n",
      " [ 1024.     0.]\n",
      " [ 1024.   720.]\n",
      " [  256.   720.]]\n",
      "SRC [[  588.79998779   446.3999939 ]\n",
      " [  691.20001221   446.3999939 ]\n",
      " [ 1126.40002441   673.20001221]\n",
      " [  153.6000061    673.20001221]]\n"
     ]
    },
    {
     "name": "stderr",
     "output_type": "stream",
     "text": [
      "\u001b[A\u001b[A\u001b[A\u001b[A\u001b[A\n",
      "\n",
      "\n",
      "\n",
      "\n",
      " 40%|███▉      | 193/485 [00:24<00:37,  7.70it/s]"
     ]
    },
    {
     "name": "stdout",
     "output_type": "stream",
     "text": [
      "DEST [[  256.     0.]\n",
      " [ 1024.     0.]\n",
      " [ 1024.   720.]\n",
      " [  256.   720.]]\n",
      "SRC [[  588.79998779   446.3999939 ]\n",
      " [  691.20001221   446.3999939 ]\n",
      " [ 1126.40002441   673.20001221]\n",
      " [  153.6000061    673.20001221]]\n"
     ]
    },
    {
     "name": "stderr",
     "output_type": "stream",
     "text": [
      "\u001b[A\u001b[A\u001b[A\u001b[A\u001b[A\n",
      "\n",
      "\n",
      "\n",
      "\n",
      " 40%|████      | 194/485 [00:25<00:37,  7.73it/s]"
     ]
    },
    {
     "name": "stdout",
     "output_type": "stream",
     "text": [
      "DEST [[  256.     0.]\n",
      " [ 1024.     0.]\n",
      " [ 1024.   720.]\n",
      " [  256.   720.]]\n",
      "SRC [[  588.79998779   446.3999939 ]\n",
      " [  691.20001221   446.3999939 ]\n",
      " [ 1126.40002441   673.20001221]\n",
      " [  153.6000061    673.20001221]]\n"
     ]
    },
    {
     "name": "stderr",
     "output_type": "stream",
     "text": [
      "\u001b[A\u001b[A\u001b[A\u001b[A\u001b[A\n",
      "\n",
      "\n",
      "\n",
      "\n",
      " 40%|████      | 195/485 [00:25<00:37,  7.74it/s]"
     ]
    },
    {
     "name": "stdout",
     "output_type": "stream",
     "text": [
      "DEST [[  256.     0.]\n",
      " [ 1024.     0.]\n",
      " [ 1024.   720.]\n",
      " [  256.   720.]]\n",
      "SRC [[  588.79998779   446.3999939 ]\n",
      " [  691.20001221   446.3999939 ]\n",
      " [ 1126.40002441   673.20001221]\n",
      " [  153.6000061    673.20001221]]\n"
     ]
    },
    {
     "name": "stderr",
     "output_type": "stream",
     "text": [
      "\u001b[A\u001b[A\u001b[A\u001b[A\u001b[A\n",
      "\n",
      "\n",
      "\n",
      "\n",
      " 40%|████      | 196/485 [00:25<00:37,  7.72it/s]"
     ]
    },
    {
     "name": "stdout",
     "output_type": "stream",
     "text": [
      "DEST [[  256.     0.]\n",
      " [ 1024.     0.]\n",
      " [ 1024.   720.]\n",
      " [  256.   720.]]\n",
      "SRC [[  588.79998779   446.3999939 ]\n",
      " [  691.20001221   446.3999939 ]\n",
      " [ 1126.40002441   673.20001221]\n",
      " [  153.6000061    673.20001221]]\n"
     ]
    },
    {
     "name": "stderr",
     "output_type": "stream",
     "text": [
      "\u001b[A\u001b[A\u001b[A\u001b[A\u001b[A\n",
      "\n",
      "\n",
      "\n",
      "\n",
      " 41%|████      | 197/485 [00:25<00:37,  7.73it/s]"
     ]
    },
    {
     "name": "stdout",
     "output_type": "stream",
     "text": [
      "DEST [[  256.     0.]\n",
      " [ 1024.     0.]\n",
      " [ 1024.   720.]\n",
      " [  256.   720.]]\n",
      "SRC [[  588.79998779   446.3999939 ]\n",
      " [  691.20001221   446.3999939 ]\n",
      " [ 1126.40002441   673.20001221]\n",
      " [  153.6000061    673.20001221]]\n"
     ]
    },
    {
     "name": "stderr",
     "output_type": "stream",
     "text": [
      "\u001b[A\u001b[A\u001b[A\u001b[A\u001b[A\n",
      "\n",
      "\n",
      "\n",
      "\n",
      " 41%|████      | 198/485 [00:25<00:37,  7.73it/s]"
     ]
    },
    {
     "name": "stdout",
     "output_type": "stream",
     "text": [
      "DEST [[  256.     0.]\n",
      " [ 1024.     0.]\n",
      " [ 1024.   720.]\n",
      " [  256.   720.]]\n",
      "SRC [[  588.79998779   446.3999939 ]\n",
      " [  691.20001221   446.3999939 ]\n",
      " [ 1126.40002441   673.20001221]\n",
      " [  153.6000061    673.20001221]]\n"
     ]
    },
    {
     "name": "stderr",
     "output_type": "stream",
     "text": [
      "\u001b[A\u001b[A\u001b[A\u001b[A\u001b[A\n",
      "\n",
      "\n",
      "\n",
      "\n",
      " 41%|████      | 199/485 [00:25<00:37,  7.65it/s]"
     ]
    },
    {
     "name": "stdout",
     "output_type": "stream",
     "text": [
      "DEST [[  256.     0.]\n",
      " [ 1024.     0.]\n",
      " [ 1024.   720.]\n",
      " [  256.   720.]]\n",
      "SRC [[  588.79998779   446.3999939 ]\n",
      " [  691.20001221   446.3999939 ]\n",
      " [ 1126.40002441   673.20001221]\n",
      " [  153.6000061    673.20001221]]\n"
     ]
    },
    {
     "name": "stderr",
     "output_type": "stream",
     "text": [
      "\u001b[A\u001b[A\u001b[A\u001b[A\u001b[A\n",
      "\n",
      "\n",
      "\n",
      "\n",
      " 41%|████      | 200/485 [00:25<00:37,  7.70it/s]"
     ]
    },
    {
     "name": "stdout",
     "output_type": "stream",
     "text": [
      "DEST [[  256.     0.]\n",
      " [ 1024.     0.]\n",
      " [ 1024.   720.]\n",
      " [  256.   720.]]\n",
      "SRC [[  588.79998779   446.3999939 ]\n",
      " [  691.20001221   446.3999939 ]\n",
      " [ 1126.40002441   673.20001221]\n",
      " [  153.6000061    673.20001221]]\n"
     ]
    },
    {
     "name": "stderr",
     "output_type": "stream",
     "text": [
      "\u001b[A\u001b[A\u001b[A\u001b[A\u001b[A\n",
      "\n",
      "\n",
      "\n",
      "\n",
      " 41%|████▏     | 201/485 [00:25<00:36,  7.71it/s]"
     ]
    },
    {
     "name": "stdout",
     "output_type": "stream",
     "text": [
      "DEST [[  256.     0.]\n",
      " [ 1024.     0.]\n",
      " [ 1024.   720.]\n",
      " [  256.   720.]]\n",
      "SRC [[  588.79998779   446.3999939 ]\n",
      " [  691.20001221   446.3999939 ]\n",
      " [ 1126.40002441   673.20001221]\n",
      " [  153.6000061    673.20001221]]\n"
     ]
    },
    {
     "name": "stderr",
     "output_type": "stream",
     "text": [
      "\u001b[A\u001b[A\u001b[A\u001b[A\u001b[A\n",
      "\n",
      "\n",
      "\n",
      "\n",
      " 42%|████▏     | 202/485 [00:26<00:36,  7.69it/s]"
     ]
    },
    {
     "name": "stdout",
     "output_type": "stream",
     "text": [
      "DEST [[  256.     0.]\n",
      " [ 1024.     0.]\n",
      " [ 1024.   720.]\n",
      " [  256.   720.]]\n",
      "SRC [[  588.79998779   446.3999939 ]\n",
      " [  691.20001221   446.3999939 ]\n",
      " [ 1126.40002441   673.20001221]\n",
      " [  153.6000061    673.20001221]]\n"
     ]
    },
    {
     "name": "stderr",
     "output_type": "stream",
     "text": [
      "\u001b[A\u001b[A\u001b[A\u001b[A\u001b[A\n",
      "\n",
      "\n",
      "\n",
      "\n",
      " 42%|████▏     | 203/485 [00:26<00:36,  7.73it/s]"
     ]
    },
    {
     "name": "stdout",
     "output_type": "stream",
     "text": [
      "DEST [[  256.     0.]\n",
      " [ 1024.     0.]\n",
      " [ 1024.   720.]\n",
      " [  256.   720.]]\n",
      "SRC [[  588.79998779   446.3999939 ]\n",
      " [  691.20001221   446.3999939 ]\n",
      " [ 1126.40002441   673.20001221]\n",
      " [  153.6000061    673.20001221]]\n"
     ]
    },
    {
     "name": "stderr",
     "output_type": "stream",
     "text": [
      "\u001b[A\u001b[A\u001b[A\u001b[A\u001b[A\n",
      "\n",
      "\n",
      "\n",
      "\n",
      " 42%|████▏     | 204/485 [00:26<00:36,  7.72it/s]"
     ]
    },
    {
     "name": "stdout",
     "output_type": "stream",
     "text": [
      "DEST [[  256.     0.]\n",
      " [ 1024.     0.]\n",
      " [ 1024.   720.]\n",
      " [  256.   720.]]\n",
      "SRC [[  588.79998779   446.3999939 ]\n",
      " [  691.20001221   446.3999939 ]\n",
      " [ 1126.40002441   673.20001221]\n",
      " [  153.6000061    673.20001221]]\n"
     ]
    },
    {
     "name": "stderr",
     "output_type": "stream",
     "text": [
      "\u001b[A\u001b[A\u001b[A\u001b[A\u001b[A\n",
      "\n",
      "\n",
      "\n",
      "\n",
      " 42%|████▏     | 205/485 [00:26<00:36,  7.71it/s]"
     ]
    },
    {
     "name": "stdout",
     "output_type": "stream",
     "text": [
      "DEST [[  256.     0.]\n",
      " [ 1024.     0.]\n",
      " [ 1024.   720.]\n",
      " [  256.   720.]]\n",
      "SRC [[  588.79998779   446.3999939 ]\n",
      " [  691.20001221   446.3999939 ]\n",
      " [ 1126.40002441   673.20001221]\n",
      " [  153.6000061    673.20001221]]\n"
     ]
    },
    {
     "name": "stderr",
     "output_type": "stream",
     "text": [
      "\u001b[A\u001b[A\u001b[A\u001b[A\u001b[A\n",
      "\n",
      "\n",
      "\n",
      "\n",
      " 42%|████▏     | 206/485 [00:26<00:36,  7.63it/s]"
     ]
    },
    {
     "name": "stdout",
     "output_type": "stream",
     "text": [
      "DEST [[  256.     0.]\n",
      " [ 1024.     0.]\n",
      " [ 1024.   720.]\n",
      " [  256.   720.]]\n",
      "SRC [[  588.79998779   446.3999939 ]\n",
      " [  691.20001221   446.3999939 ]\n",
      " [ 1126.40002441   673.20001221]\n",
      " [  153.6000061    673.20001221]]\n"
     ]
    },
    {
     "name": "stderr",
     "output_type": "stream",
     "text": [
      "\u001b[A\u001b[A\u001b[A\u001b[A\u001b[A\n",
      "\n",
      "\n",
      "\n",
      "\n",
      " 43%|████▎     | 207/485 [00:26<00:36,  7.65it/s]"
     ]
    },
    {
     "name": "stdout",
     "output_type": "stream",
     "text": [
      "DEST [[  256.     0.]\n",
      " [ 1024.     0.]\n",
      " [ 1024.   720.]\n",
      " [  256.   720.]]\n",
      "SRC [[  588.79998779   446.3999939 ]\n",
      " [  691.20001221   446.3999939 ]\n",
      " [ 1126.40002441   673.20001221]\n",
      " [  153.6000061    673.20001221]]\n"
     ]
    },
    {
     "name": "stderr",
     "output_type": "stream",
     "text": [
      "\u001b[A\u001b[A\u001b[A\u001b[A\u001b[A\n",
      "\n",
      "\n",
      "\n",
      "\n",
      " 43%|████▎     | 208/485 [00:26<00:36,  7.66it/s]"
     ]
    },
    {
     "name": "stdout",
     "output_type": "stream",
     "text": [
      "DEST [[  256.     0.]\n",
      " [ 1024.     0.]\n",
      " [ 1024.   720.]\n",
      " [  256.   720.]]\n",
      "SRC [[  588.79998779   446.3999939 ]\n",
      " [  691.20001221   446.3999939 ]\n",
      " [ 1126.40002441   673.20001221]\n",
      " [  153.6000061    673.20001221]]\n"
     ]
    },
    {
     "name": "stderr",
     "output_type": "stream",
     "text": [
      "\u001b[A\u001b[A\u001b[A\u001b[A\u001b[A\n",
      "\n",
      "\n",
      "\n",
      "\n",
      " 43%|████▎     | 209/485 [00:26<00:36,  7.64it/s]"
     ]
    },
    {
     "name": "stdout",
     "output_type": "stream",
     "text": [
      "DEST [[  256.     0.]\n",
      " [ 1024.     0.]\n",
      " [ 1024.   720.]\n",
      " [  256.   720.]]\n",
      "SRC [[  588.79998779   446.3999939 ]\n",
      " [  691.20001221   446.3999939 ]\n",
      " [ 1126.40002441   673.20001221]\n",
      " [  153.6000061    673.20001221]]\n"
     ]
    },
    {
     "name": "stderr",
     "output_type": "stream",
     "text": [
      "\u001b[A\u001b[A\u001b[A\u001b[A\u001b[A\n",
      "\n",
      "\n",
      "\n",
      "\n",
      " 43%|████▎     | 210/485 [00:27<00:35,  7.67it/s]"
     ]
    },
    {
     "name": "stdout",
     "output_type": "stream",
     "text": [
      "DEST [[  256.     0.]\n",
      " [ 1024.     0.]\n",
      " [ 1024.   720.]\n",
      " [  256.   720.]]\n",
      "SRC [[  588.79998779   446.3999939 ]\n",
      " [  691.20001221   446.3999939 ]\n",
      " [ 1126.40002441   673.20001221]\n",
      " [  153.6000061    673.20001221]]\n"
     ]
    },
    {
     "name": "stderr",
     "output_type": "stream",
     "text": [
      "\u001b[A\u001b[A\u001b[A\u001b[A\u001b[A\n",
      "\n",
      "\n",
      "\n",
      "\n",
      " 44%|████▎     | 211/485 [00:27<00:35,  7.72it/s]"
     ]
    },
    {
     "name": "stdout",
     "output_type": "stream",
     "text": [
      "DEST [[  256.     0.]\n",
      " [ 1024.     0.]\n",
      " [ 1024.   720.]\n",
      " [  256.   720.]]\n",
      "SRC [[  588.79998779   446.3999939 ]\n",
      " [  691.20001221   446.3999939 ]\n",
      " [ 1126.40002441   673.20001221]\n",
      " [  153.6000061    673.20001221]]\n"
     ]
    },
    {
     "name": "stderr",
     "output_type": "stream",
     "text": [
      "\u001b[A\u001b[A\u001b[A\u001b[A\u001b[A\n",
      "\n",
      "\n",
      "\n",
      "\n",
      " 44%|████▎     | 212/485 [00:27<00:35,  7.70it/s]"
     ]
    },
    {
     "name": "stdout",
     "output_type": "stream",
     "text": [
      "DEST [[  256.     0.]\n",
      " [ 1024.     0.]\n",
      " [ 1024.   720.]\n",
      " [  256.   720.]]\n",
      "SRC [[  588.79998779   446.3999939 ]\n",
      " [  691.20001221   446.3999939 ]\n",
      " [ 1126.40002441   673.20001221]\n",
      " [  153.6000061    673.20001221]]\n"
     ]
    },
    {
     "name": "stderr",
     "output_type": "stream",
     "text": [
      "\u001b[A\u001b[A\u001b[A\u001b[A\u001b[A\n",
      "\n",
      "\n",
      "\n",
      "\n",
      " 44%|████▍     | 213/485 [00:27<00:35,  7.71it/s]"
     ]
    },
    {
     "name": "stdout",
     "output_type": "stream",
     "text": [
      "DEST [[  256.     0.]\n",
      " [ 1024.     0.]\n",
      " [ 1024.   720.]\n",
      " [  256.   720.]]\n",
      "SRC [[  588.79998779   446.3999939 ]\n",
      " [  691.20001221   446.3999939 ]\n",
      " [ 1126.40002441   673.20001221]\n",
      " [  153.6000061    673.20001221]]\n"
     ]
    },
    {
     "name": "stderr",
     "output_type": "stream",
     "text": [
      "\u001b[A\u001b[A\u001b[A\u001b[A\u001b[A\n",
      "\n",
      "\n",
      "\n",
      "\n",
      " 44%|████▍     | 214/485 [00:27<00:35,  7.73it/s]"
     ]
    },
    {
     "name": "stdout",
     "output_type": "stream",
     "text": [
      "DEST [[  256.     0.]\n",
      " [ 1024.     0.]\n",
      " [ 1024.   720.]\n",
      " [  256.   720.]]\n",
      "SRC [[  588.79998779   446.3999939 ]\n",
      " [  691.20001221   446.3999939 ]\n",
      " [ 1126.40002441   673.20001221]\n",
      " [  153.6000061    673.20001221]]\n"
     ]
    },
    {
     "name": "stderr",
     "output_type": "stream",
     "text": [
      "\u001b[A\u001b[A\u001b[A\u001b[A\u001b[A\n",
      "\n",
      "\n",
      "\n",
      "\n",
      " 44%|████▍     | 215/485 [00:27<00:35,  7.71it/s]"
     ]
    },
    {
     "name": "stdout",
     "output_type": "stream",
     "text": [
      "DEST [[  256.     0.]\n",
      " [ 1024.     0.]\n",
      " [ 1024.   720.]\n",
      " [  256.   720.]]\n",
      "SRC [[  588.79998779   446.3999939 ]\n",
      " [  691.20001221   446.3999939 ]\n",
      " [ 1126.40002441   673.20001221]\n",
      " [  153.6000061    673.20001221]]\n"
     ]
    },
    {
     "name": "stderr",
     "output_type": "stream",
     "text": [
      "\u001b[A\u001b[A\u001b[A\u001b[A\u001b[A\n",
      "\n",
      "\n",
      "\n",
      "\n",
      " 45%|████▍     | 216/485 [00:27<00:34,  7.69it/s]"
     ]
    },
    {
     "name": "stdout",
     "output_type": "stream",
     "text": [
      "DEST [[  256.     0.]\n",
      " [ 1024.     0.]\n",
      " [ 1024.   720.]\n",
      " [  256.   720.]]\n",
      "SRC [[  588.79998779   446.3999939 ]\n",
      " [  691.20001221   446.3999939 ]\n",
      " [ 1126.40002441   673.20001221]\n",
      " [  153.6000061    673.20001221]]\n"
     ]
    },
    {
     "name": "stderr",
     "output_type": "stream",
     "text": [
      "\u001b[A\u001b[A\u001b[A\u001b[A\u001b[A\n",
      "\n",
      "\n",
      "\n",
      "\n",
      " 45%|████▍     | 217/485 [00:28<00:34,  7.68it/s]"
     ]
    },
    {
     "name": "stdout",
     "output_type": "stream",
     "text": [
      "DEST [[  256.     0.]\n",
      " [ 1024.     0.]\n",
      " [ 1024.   720.]\n",
      " [  256.   720.]]\n",
      "SRC [[  588.79998779   446.3999939 ]\n",
      " [  691.20001221   446.3999939 ]\n",
      " [ 1126.40002441   673.20001221]\n",
      " [  153.6000061    673.20001221]]\n"
     ]
    },
    {
     "name": "stderr",
     "output_type": "stream",
     "text": [
      "\u001b[A\u001b[A\u001b[A\u001b[A\u001b[A\n",
      "\n",
      "\n",
      "\n",
      "\n",
      " 45%|████▍     | 218/485 [00:28<00:34,  7.67it/s]"
     ]
    },
    {
     "name": "stdout",
     "output_type": "stream",
     "text": [
      "DEST [[  256.     0.]\n",
      " [ 1024.     0.]\n",
      " [ 1024.   720.]\n",
      " [  256.   720.]]\n",
      "SRC [[  588.79998779   446.3999939 ]\n",
      " [  691.20001221   446.3999939 ]\n",
      " [ 1126.40002441   673.20001221]\n",
      " [  153.6000061    673.20001221]]\n"
     ]
    },
    {
     "name": "stderr",
     "output_type": "stream",
     "text": [
      "\u001b[A\u001b[A\u001b[A\u001b[A\u001b[A\n",
      "\n",
      "\n",
      "\n",
      "\n",
      " 45%|████▌     | 219/485 [00:28<00:34,  7.65it/s]"
     ]
    },
    {
     "name": "stdout",
     "output_type": "stream",
     "text": [
      "DEST [[  256.     0.]\n",
      " [ 1024.     0.]\n",
      " [ 1024.   720.]\n",
      " [  256.   720.]]\n",
      "SRC [[  588.79998779   446.3999939 ]\n",
      " [  691.20001221   446.3999939 ]\n",
      " [ 1126.40002441   673.20001221]\n",
      " [  153.6000061    673.20001221]]\n"
     ]
    },
    {
     "name": "stderr",
     "output_type": "stream",
     "text": [
      "\u001b[A\u001b[A\u001b[A\u001b[A\u001b[A\n",
      "\n",
      "\n",
      "\n",
      "\n",
      " 45%|████▌     | 220/485 [00:28<00:34,  7.65it/s]"
     ]
    },
    {
     "name": "stdout",
     "output_type": "stream",
     "text": [
      "DEST [[  256.     0.]\n",
      " [ 1024.     0.]\n",
      " [ 1024.   720.]\n",
      " [  256.   720.]]\n",
      "SRC [[  588.79998779   446.3999939 ]\n",
      " [  691.20001221   446.3999939 ]\n",
      " [ 1126.40002441   673.20001221]\n",
      " [  153.6000061    673.20001221]]\n"
     ]
    },
    {
     "name": "stderr",
     "output_type": "stream",
     "text": [
      "\u001b[A\u001b[A\u001b[A\u001b[A\u001b[A\n",
      "\n",
      "\n",
      "\n",
      "\n",
      " 46%|████▌     | 221/485 [00:28<00:34,  7.72it/s]"
     ]
    },
    {
     "name": "stdout",
     "output_type": "stream",
     "text": [
      "DEST [[  256.     0.]\n",
      " [ 1024.     0.]\n",
      " [ 1024.   720.]\n",
      " [  256.   720.]]\n",
      "SRC [[  588.79998779   446.3999939 ]\n",
      " [  691.20001221   446.3999939 ]\n",
      " [ 1126.40002441   673.20001221]\n",
      " [  153.6000061    673.20001221]]\n"
     ]
    },
    {
     "name": "stderr",
     "output_type": "stream",
     "text": [
      "\u001b[A\u001b[A\u001b[A\u001b[A\u001b[A\n",
      "\n",
      "\n",
      "\n",
      "\n",
      " 46%|████▌     | 222/485 [00:28<00:34,  7.73it/s]"
     ]
    },
    {
     "name": "stdout",
     "output_type": "stream",
     "text": [
      "DEST [[  256.     0.]\n",
      " [ 1024.     0.]\n",
      " [ 1024.   720.]\n",
      " [  256.   720.]]\n",
      "SRC [[  588.79998779   446.3999939 ]\n",
      " [  691.20001221   446.3999939 ]\n",
      " [ 1126.40002441   673.20001221]\n",
      " [  153.6000061    673.20001221]]\n"
     ]
    },
    {
     "name": "stderr",
     "output_type": "stream",
     "text": [
      "\u001b[A\u001b[A\u001b[A\u001b[A\u001b[A\n",
      "\n",
      "\n",
      "\n",
      "\n",
      " 46%|████▌     | 223/485 [00:28<00:34,  7.67it/s]"
     ]
    },
    {
     "name": "stdout",
     "output_type": "stream",
     "text": [
      "DEST [[  256.     0.]\n",
      " [ 1024.     0.]\n",
      " [ 1024.   720.]\n",
      " [  256.   720.]]\n",
      "SRC [[  588.79998779   446.3999939 ]\n",
      " [  691.20001221   446.3999939 ]\n",
      " [ 1126.40002441   673.20001221]\n",
      " [  153.6000061    673.20001221]]\n"
     ]
    },
    {
     "name": "stderr",
     "output_type": "stream",
     "text": [
      "\u001b[A\u001b[A\u001b[A\u001b[A\u001b[A\n",
      "\n",
      "\n",
      "\n",
      "\n",
      " 46%|████▌     | 224/485 [00:28<00:34,  7.60it/s]"
     ]
    },
    {
     "name": "stdout",
     "output_type": "stream",
     "text": [
      "DEST [[  256.     0.]\n",
      " [ 1024.     0.]\n",
      " [ 1024.   720.]\n",
      " [  256.   720.]]\n",
      "SRC [[  588.79998779   446.3999939 ]\n",
      " [  691.20001221   446.3999939 ]\n",
      " [ 1126.40002441   673.20001221]\n",
      " [  153.6000061    673.20001221]]\n"
     ]
    },
    {
     "name": "stderr",
     "output_type": "stream",
     "text": [
      "\u001b[A\u001b[A\u001b[A\u001b[A\u001b[A\n",
      "\n",
      "\n",
      "\n",
      "\n",
      " 46%|████▋     | 225/485 [00:29<00:33,  7.67it/s]"
     ]
    },
    {
     "name": "stdout",
     "output_type": "stream",
     "text": [
      "DEST [[  256.     0.]\n",
      " [ 1024.     0.]\n",
      " [ 1024.   720.]\n",
      " [  256.   720.]]\n",
      "SRC [[  588.79998779   446.3999939 ]\n",
      " [  691.20001221   446.3999939 ]\n",
      " [ 1126.40002441   673.20001221]\n",
      " [  153.6000061    673.20001221]]\n"
     ]
    },
    {
     "name": "stderr",
     "output_type": "stream",
     "text": [
      "\u001b[A\u001b[A\u001b[A\u001b[A\u001b[A\n",
      "\n",
      "\n",
      "\n",
      "\n",
      " 47%|████▋     | 226/485 [00:29<00:33,  7.70it/s]"
     ]
    },
    {
     "name": "stdout",
     "output_type": "stream",
     "text": [
      "DEST [[  256.     0.]\n",
      " [ 1024.     0.]\n",
      " [ 1024.   720.]\n",
      " [  256.   720.]]\n",
      "SRC [[  588.79998779   446.3999939 ]\n",
      " [  691.20001221   446.3999939 ]\n",
      " [ 1126.40002441   673.20001221]\n",
      " [  153.6000061    673.20001221]]\n"
     ]
    },
    {
     "name": "stderr",
     "output_type": "stream",
     "text": [
      "\u001b[A\u001b[A\u001b[A\u001b[A\u001b[A\n",
      "\n",
      "\n",
      "\n",
      "\n",
      " 47%|████▋     | 227/485 [00:29<00:33,  7.68it/s]"
     ]
    },
    {
     "name": "stdout",
     "output_type": "stream",
     "text": [
      "DEST [[  256.     0.]\n",
      " [ 1024.     0.]\n",
      " [ 1024.   720.]\n",
      " [  256.   720.]]\n",
      "SRC [[  588.79998779   446.3999939 ]\n",
      " [  691.20001221   446.3999939 ]\n",
      " [ 1126.40002441   673.20001221]\n",
      " [  153.6000061    673.20001221]]\n"
     ]
    },
    {
     "name": "stderr",
     "output_type": "stream",
     "text": [
      "\u001b[A\u001b[A\u001b[A\u001b[A\u001b[A\n",
      "\n",
      "\n",
      "\n",
      "\n",
      " 47%|████▋     | 228/485 [00:29<00:33,  7.66it/s]"
     ]
    },
    {
     "name": "stdout",
     "output_type": "stream",
     "text": [
      "DEST [[  256.     0.]\n",
      " [ 1024.     0.]\n",
      " [ 1024.   720.]\n",
      " [  256.   720.]]\n",
      "SRC [[  588.79998779   446.3999939 ]\n",
      " [  691.20001221   446.3999939 ]\n",
      " [ 1126.40002441   673.20001221]\n",
      " [  153.6000061    673.20001221]]\n"
     ]
    },
    {
     "name": "stderr",
     "output_type": "stream",
     "text": [
      "\u001b[A\u001b[A\u001b[A\u001b[A\u001b[A\n",
      "\n",
      "\n",
      "\n",
      "\n",
      " 47%|████▋     | 229/485 [00:29<00:33,  7.62it/s]"
     ]
    },
    {
     "name": "stdout",
     "output_type": "stream",
     "text": [
      "DEST [[  256.     0.]\n",
      " [ 1024.     0.]\n",
      " [ 1024.   720.]\n",
      " [  256.   720.]]\n",
      "SRC [[  588.79998779   446.3999939 ]\n",
      " [  691.20001221   446.3999939 ]\n",
      " [ 1126.40002441   673.20001221]\n",
      " [  153.6000061    673.20001221]]\n"
     ]
    },
    {
     "name": "stderr",
     "output_type": "stream",
     "text": [
      "\u001b[A\u001b[A\u001b[A\u001b[A\u001b[A\n",
      "\n",
      "\n",
      "\n",
      "\n",
      " 47%|████▋     | 230/485 [00:29<00:33,  7.58it/s]"
     ]
    },
    {
     "name": "stdout",
     "output_type": "stream",
     "text": [
      "DEST [[  256.     0.]\n",
      " [ 1024.     0.]\n",
      " [ 1024.   720.]\n",
      " [  256.   720.]]\n",
      "SRC [[  588.79998779   446.3999939 ]\n",
      " [  691.20001221   446.3999939 ]\n",
      " [ 1126.40002441   673.20001221]\n",
      " [  153.6000061    673.20001221]]\n"
     ]
    },
    {
     "name": "stderr",
     "output_type": "stream",
     "text": [
      "\u001b[A\u001b[A\u001b[A\u001b[A\u001b[A\n",
      "\n",
      "\n",
      "\n",
      "\n",
      " 48%|████▊     | 231/485 [00:29<00:33,  7.64it/s]"
     ]
    },
    {
     "name": "stdout",
     "output_type": "stream",
     "text": [
      "DEST [[  256.     0.]\n",
      " [ 1024.     0.]\n",
      " [ 1024.   720.]\n",
      " [  256.   720.]]\n",
      "SRC [[  588.79998779   446.3999939 ]\n",
      " [  691.20001221   446.3999939 ]\n",
      " [ 1126.40002441   673.20001221]\n",
      " [  153.6000061    673.20001221]]\n"
     ]
    },
    {
     "name": "stderr",
     "output_type": "stream",
     "text": [
      "\u001b[A\u001b[A\u001b[A\u001b[A\u001b[A\n",
      "\n",
      "\n",
      "\n",
      "\n",
      " 48%|████▊     | 232/485 [00:29<00:33,  7.65it/s]"
     ]
    },
    {
     "name": "stdout",
     "output_type": "stream",
     "text": [
      "DEST [[  256.     0.]\n",
      " [ 1024.     0.]\n",
      " [ 1024.   720.]\n",
      " [  256.   720.]]\n",
      "SRC [[  588.79998779   446.3999939 ]\n",
      " [  691.20001221   446.3999939 ]\n",
      " [ 1126.40002441   673.20001221]\n",
      " [  153.6000061    673.20001221]]\n"
     ]
    },
    {
     "name": "stderr",
     "output_type": "stream",
     "text": [
      "\u001b[A\u001b[A\u001b[A\u001b[A\u001b[A\n",
      "\n",
      "\n",
      "\n",
      "\n",
      " 48%|████▊     | 233/485 [00:30<00:32,  7.65it/s]"
     ]
    },
    {
     "name": "stdout",
     "output_type": "stream",
     "text": [
      "DEST [[  256.     0.]\n",
      " [ 1024.     0.]\n",
      " [ 1024.   720.]\n",
      " [  256.   720.]]\n",
      "SRC [[  588.79998779   446.3999939 ]\n",
      " [  691.20001221   446.3999939 ]\n",
      " [ 1126.40002441   673.20001221]\n",
      " [  153.6000061    673.20001221]]\n"
     ]
    },
    {
     "name": "stderr",
     "output_type": "stream",
     "text": [
      "\u001b[A\u001b[A\u001b[A\u001b[A\u001b[A\n",
      "\n",
      "\n",
      "\n",
      "\n",
      " 48%|████▊     | 234/485 [00:30<00:32,  7.69it/s]"
     ]
    },
    {
     "name": "stdout",
     "output_type": "stream",
     "text": [
      "DEST [[  256.     0.]\n",
      " [ 1024.     0.]\n",
      " [ 1024.   720.]\n",
      " [  256.   720.]]\n",
      "SRC [[  588.79998779   446.3999939 ]\n",
      " [  691.20001221   446.3999939 ]\n",
      " [ 1126.40002441   673.20001221]\n",
      " [  153.6000061    673.20001221]]\n"
     ]
    },
    {
     "name": "stderr",
     "output_type": "stream",
     "text": [
      "\u001b[A\u001b[A\u001b[A\u001b[A\u001b[A\n",
      "\n",
      "\n",
      "\n",
      "\n",
      " 48%|████▊     | 235/485 [00:30<00:32,  7.68it/s]"
     ]
    },
    {
     "name": "stdout",
     "output_type": "stream",
     "text": [
      "DEST [[  256.     0.]\n",
      " [ 1024.     0.]\n",
      " [ 1024.   720.]\n",
      " [  256.   720.]]\n",
      "SRC [[  588.79998779   446.3999939 ]\n",
      " [  691.20001221   446.3999939 ]\n",
      " [ 1126.40002441   673.20001221]\n",
      " [  153.6000061    673.20001221]]\n"
     ]
    },
    {
     "name": "stderr",
     "output_type": "stream",
     "text": [
      "\u001b[A\u001b[A\u001b[A\u001b[A\u001b[A\n",
      "\n",
      "\n",
      "\n",
      "\n",
      " 49%|████▊     | 236/485 [00:30<00:32,  7.66it/s]"
     ]
    },
    {
     "name": "stdout",
     "output_type": "stream",
     "text": [
      "DEST [[  256.     0.]\n",
      " [ 1024.     0.]\n",
      " [ 1024.   720.]\n",
      " [  256.   720.]]\n",
      "SRC [[  588.79998779   446.3999939 ]\n",
      " [  691.20001221   446.3999939 ]\n",
      " [ 1126.40002441   673.20001221]\n",
      " [  153.6000061    673.20001221]]\n"
     ]
    },
    {
     "name": "stderr",
     "output_type": "stream",
     "text": [
      "\u001b[A\u001b[A\u001b[A\u001b[A\u001b[A\n",
      "\n",
      "\n",
      "\n",
      "\n",
      " 49%|████▉     | 237/485 [00:30<00:33,  7.48it/s]"
     ]
    },
    {
     "name": "stdout",
     "output_type": "stream",
     "text": [
      "DEST [[  256.     0.]\n",
      " [ 1024.     0.]\n",
      " [ 1024.   720.]\n",
      " [  256.   720.]]\n",
      "SRC [[  588.79998779   446.3999939 ]\n",
      " [  691.20001221   446.3999939 ]\n",
      " [ 1126.40002441   673.20001221]\n",
      " [  153.6000061    673.20001221]]\n"
     ]
    },
    {
     "name": "stderr",
     "output_type": "stream",
     "text": [
      "\u001b[A\u001b[A\u001b[A\u001b[A\u001b[A\n",
      "\n",
      "\n",
      "\n",
      "\n",
      " 49%|████▉     | 238/485 [00:30<00:32,  7.50it/s]"
     ]
    },
    {
     "name": "stdout",
     "output_type": "stream",
     "text": [
      "DEST [[  256.     0.]\n",
      " [ 1024.     0.]\n",
      " [ 1024.   720.]\n",
      " [  256.   720.]]\n",
      "SRC [[  588.79998779   446.3999939 ]\n",
      " [  691.20001221   446.3999939 ]\n",
      " [ 1126.40002441   673.20001221]\n",
      " [  153.6000061    673.20001221]]\n"
     ]
    },
    {
     "name": "stderr",
     "output_type": "stream",
     "text": [
      "\u001b[A\u001b[A\u001b[A\u001b[A\u001b[A\n",
      "\n",
      "\n",
      "\n",
      "\n",
      " 49%|████▉     | 239/485 [00:30<00:32,  7.55it/s]"
     ]
    },
    {
     "name": "stdout",
     "output_type": "stream",
     "text": [
      "DEST [[  256.     0.]\n",
      " [ 1024.     0.]\n",
      " [ 1024.   720.]\n",
      " [  256.   720.]]\n",
      "SRC [[  588.79998779   446.3999939 ]\n",
      " [  691.20001221   446.3999939 ]\n",
      " [ 1126.40002441   673.20001221]\n",
      " [  153.6000061    673.20001221]]\n"
     ]
    },
    {
     "name": "stderr",
     "output_type": "stream",
     "text": [
      "\u001b[A\u001b[A\u001b[A\u001b[A\u001b[A\n",
      "\n",
      "\n",
      "\n",
      "\n",
      " 49%|████▉     | 240/485 [00:31<00:32,  7.55it/s]"
     ]
    },
    {
     "name": "stdout",
     "output_type": "stream",
     "text": [
      "DEST [[  256.     0.]\n",
      " [ 1024.     0.]\n",
      " [ 1024.   720.]\n",
      " [  256.   720.]]\n",
      "SRC [[  588.79998779   446.3999939 ]\n",
      " [  691.20001221   446.3999939 ]\n",
      " [ 1126.40002441   673.20001221]\n",
      " [  153.6000061    673.20001221]]\n"
     ]
    },
    {
     "name": "stderr",
     "output_type": "stream",
     "text": [
      "\u001b[A\u001b[A\u001b[A\u001b[A\u001b[A\n",
      "\n",
      "\n",
      "\n",
      "\n",
      " 50%|████▉     | 241/485 [00:31<00:32,  7.61it/s]"
     ]
    },
    {
     "name": "stdout",
     "output_type": "stream",
     "text": [
      "DEST [[  256.     0.]\n",
      " [ 1024.     0.]\n",
      " [ 1024.   720.]\n",
      " [  256.   720.]]\n",
      "SRC [[  588.79998779   446.3999939 ]\n",
      " [  691.20001221   446.3999939 ]\n",
      " [ 1126.40002441   673.20001221]\n",
      " [  153.6000061    673.20001221]]\n"
     ]
    },
    {
     "name": "stderr",
     "output_type": "stream",
     "text": [
      "\u001b[A\u001b[A\u001b[A\u001b[A\u001b[A\n",
      "\n",
      "\n",
      "\n",
      "\n",
      " 50%|████▉     | 242/485 [00:31<00:31,  7.61it/s]"
     ]
    },
    {
     "name": "stdout",
     "output_type": "stream",
     "text": [
      "DEST [[  256.     0.]\n",
      " [ 1024.     0.]\n",
      " [ 1024.   720.]\n",
      " [  256.   720.]]\n",
      "SRC [[  588.79998779   446.3999939 ]\n",
      " [  691.20001221   446.3999939 ]\n",
      " [ 1126.40002441   673.20001221]\n",
      " [  153.6000061    673.20001221]]\n"
     ]
    },
    {
     "name": "stderr",
     "output_type": "stream",
     "text": [
      "\u001b[A\u001b[A\u001b[A\u001b[A\u001b[A\n",
      "\n",
      "\n",
      "\n",
      "\n",
      " 50%|█████     | 243/485 [00:31<00:31,  7.57it/s]"
     ]
    },
    {
     "name": "stdout",
     "output_type": "stream",
     "text": [
      "DEST [[  256.     0.]\n",
      " [ 1024.     0.]\n",
      " [ 1024.   720.]\n",
      " [  256.   720.]]\n",
      "SRC [[  588.79998779   446.3999939 ]\n",
      " [  691.20001221   446.3999939 ]\n",
      " [ 1126.40002441   673.20001221]\n",
      " [  153.6000061    673.20001221]]\n"
     ]
    },
    {
     "name": "stderr",
     "output_type": "stream",
     "text": [
      "\u001b[A\u001b[A\u001b[A\u001b[A\u001b[A\n",
      "\n",
      "\n",
      "\n",
      "\n",
      " 50%|█████     | 244/485 [00:31<00:31,  7.59it/s]"
     ]
    },
    {
     "name": "stdout",
     "output_type": "stream",
     "text": [
      "DEST [[  256.     0.]\n",
      " [ 1024.     0.]\n",
      " [ 1024.   720.]\n",
      " [  256.   720.]]\n",
      "SRC [[  588.79998779   446.3999939 ]\n",
      " [  691.20001221   446.3999939 ]\n",
      " [ 1126.40002441   673.20001221]\n",
      " [  153.6000061    673.20001221]]\n"
     ]
    },
    {
     "name": "stderr",
     "output_type": "stream",
     "text": [
      "\u001b[A\u001b[A\u001b[A\u001b[A\u001b[A\n",
      "\n",
      "\n",
      "\n",
      "\n",
      " 51%|█████     | 245/485 [00:31<00:31,  7.59it/s]"
     ]
    },
    {
     "name": "stdout",
     "output_type": "stream",
     "text": [
      "DEST [[  256.     0.]\n",
      " [ 1024.     0.]\n",
      " [ 1024.   720.]\n",
      " [  256.   720.]]\n",
      "SRC [[  588.79998779   446.3999939 ]\n",
      " [  691.20001221   446.3999939 ]\n",
      " [ 1126.40002441   673.20001221]\n",
      " [  153.6000061    673.20001221]]\n"
     ]
    },
    {
     "name": "stderr",
     "output_type": "stream",
     "text": [
      "\u001b[A\u001b[A\u001b[A\u001b[A\u001b[A\n",
      "\n",
      "\n",
      "\n",
      "\n",
      " 51%|█████     | 246/485 [00:31<00:31,  7.55it/s]"
     ]
    },
    {
     "name": "stdout",
     "output_type": "stream",
     "text": [
      "DEST [[  256.     0.]\n",
      " [ 1024.     0.]\n",
      " [ 1024.   720.]\n",
      " [  256.   720.]]\n",
      "SRC [[  588.79998779   446.3999939 ]\n",
      " [  691.20001221   446.3999939 ]\n",
      " [ 1126.40002441   673.20001221]\n",
      " [  153.6000061    673.20001221]]\n"
     ]
    },
    {
     "name": "stderr",
     "output_type": "stream",
     "text": [
      "\u001b[A\u001b[A\u001b[A\u001b[A\u001b[A\n",
      "\n",
      "\n",
      "\n",
      "\n",
      " 51%|█████     | 247/485 [00:31<00:31,  7.53it/s]"
     ]
    },
    {
     "name": "stdout",
     "output_type": "stream",
     "text": [
      "DEST [[  256.     0.]\n",
      " [ 1024.     0.]\n",
      " [ 1024.   720.]\n",
      " [  256.   720.]]\n",
      "SRC [[  588.79998779   446.3999939 ]\n",
      " [  691.20001221   446.3999939 ]\n",
      " [ 1126.40002441   673.20001221]\n",
      " [  153.6000061    673.20001221]]\n"
     ]
    },
    {
     "name": "stderr",
     "output_type": "stream",
     "text": [
      "\u001b[A\u001b[A\u001b[A\u001b[A\u001b[A\n",
      "\n",
      "\n",
      "\n",
      "\n",
      " 51%|█████     | 248/485 [00:32<00:31,  7.58it/s]"
     ]
    },
    {
     "name": "stdout",
     "output_type": "stream",
     "text": [
      "DEST [[  256.     0.]\n",
      " [ 1024.     0.]\n",
      " [ 1024.   720.]\n",
      " [  256.   720.]]\n",
      "SRC [[  588.79998779   446.3999939 ]\n",
      " [  691.20001221   446.3999939 ]\n",
      " [ 1126.40002441   673.20001221]\n",
      " [  153.6000061    673.20001221]]\n"
     ]
    },
    {
     "name": "stderr",
     "output_type": "stream",
     "text": [
      "\u001b[A\u001b[A\u001b[A\u001b[A\u001b[A\n",
      "\n",
      "\n",
      "\n",
      "\n",
      " 51%|█████▏    | 249/485 [00:32<00:31,  7.54it/s]"
     ]
    },
    {
     "name": "stdout",
     "output_type": "stream",
     "text": [
      "DEST [[  256.     0.]\n",
      " [ 1024.     0.]\n",
      " [ 1024.   720.]\n",
      " [  256.   720.]]\n",
      "SRC [[  588.79998779   446.3999939 ]\n",
      " [  691.20001221   446.3999939 ]\n",
      " [ 1126.40002441   673.20001221]\n",
      " [  153.6000061    673.20001221]]\n"
     ]
    },
    {
     "name": "stderr",
     "output_type": "stream",
     "text": [
      "\u001b[A\u001b[A\u001b[A\u001b[A\u001b[A\n",
      "\n",
      "\n",
      "\n",
      "\n",
      " 52%|█████▏    | 250/485 [00:32<00:30,  7.60it/s]"
     ]
    },
    {
     "name": "stdout",
     "output_type": "stream",
     "text": [
      "DEST [[  256.     0.]\n",
      " [ 1024.     0.]\n",
      " [ 1024.   720.]\n",
      " [  256.   720.]]\n",
      "SRC [[  588.79998779   446.3999939 ]\n",
      " [  691.20001221   446.3999939 ]\n",
      " [ 1126.40002441   673.20001221]\n",
      " [  153.6000061    673.20001221]]\n"
     ]
    },
    {
     "name": "stderr",
     "output_type": "stream",
     "text": [
      "\u001b[A\u001b[A\u001b[A\u001b[A\u001b[A\n",
      "\n",
      "\n",
      "\n",
      "\n",
      " 52%|█████▏    | 251/485 [00:32<00:30,  7.59it/s]"
     ]
    },
    {
     "name": "stdout",
     "output_type": "stream",
     "text": [
      "DEST [[  256.     0.]\n",
      " [ 1024.     0.]\n",
      " [ 1024.   720.]\n",
      " [  256.   720.]]\n",
      "SRC [[  588.79998779   446.3999939 ]\n",
      " [  691.20001221   446.3999939 ]\n",
      " [ 1126.40002441   673.20001221]\n",
      " [  153.6000061    673.20001221]]\n"
     ]
    },
    {
     "name": "stderr",
     "output_type": "stream",
     "text": [
      "\u001b[A\u001b[A\u001b[A\u001b[A\u001b[A\n",
      "\n",
      "\n",
      "\n",
      "\n",
      " 52%|█████▏    | 252/485 [00:32<00:30,  7.64it/s]"
     ]
    },
    {
     "name": "stdout",
     "output_type": "stream",
     "text": [
      "DEST [[  256.     0.]\n",
      " [ 1024.     0.]\n",
      " [ 1024.   720.]\n",
      " [  256.   720.]]\n",
      "SRC [[  588.79998779   446.3999939 ]\n",
      " [  691.20001221   446.3999939 ]\n",
      " [ 1126.40002441   673.20001221]\n",
      " [  153.6000061    673.20001221]]\n"
     ]
    },
    {
     "name": "stderr",
     "output_type": "stream",
     "text": [
      "\u001b[A\u001b[A\u001b[A\u001b[A\u001b[A\n",
      "\n",
      "\n",
      "\n",
      "\n",
      " 52%|█████▏    | 253/485 [00:32<00:30,  7.71it/s]"
     ]
    },
    {
     "name": "stdout",
     "output_type": "stream",
     "text": [
      "DEST [[  256.     0.]\n",
      " [ 1024.     0.]\n",
      " [ 1024.   720.]\n",
      " [  256.   720.]]\n",
      "SRC [[  588.79998779   446.3999939 ]\n",
      " [  691.20001221   446.3999939 ]\n",
      " [ 1126.40002441   673.20001221]\n",
      " [  153.6000061    673.20001221]]\n"
     ]
    },
    {
     "name": "stderr",
     "output_type": "stream",
     "text": [
      "\u001b[A\u001b[A\u001b[A\u001b[A\u001b[A\n",
      "\n",
      "\n",
      "\n",
      "\n",
      " 52%|█████▏    | 254/485 [00:32<00:30,  7.58it/s]"
     ]
    },
    {
     "name": "stdout",
     "output_type": "stream",
     "text": [
      "DEST [[  256.     0.]\n",
      " [ 1024.     0.]\n",
      " [ 1024.   720.]\n",
      " [  256.   720.]]\n",
      "SRC [[  588.79998779   446.3999939 ]\n",
      " [  691.20001221   446.3999939 ]\n",
      " [ 1126.40002441   673.20001221]\n",
      " [  153.6000061    673.20001221]]\n"
     ]
    },
    {
     "name": "stderr",
     "output_type": "stream",
     "text": [
      "\u001b[A\u001b[A\u001b[A\u001b[A\u001b[A\n",
      "\n",
      "\n",
      "\n",
      "\n",
      " 53%|█████▎    | 255/485 [00:33<00:30,  7.53it/s]"
     ]
    },
    {
     "name": "stdout",
     "output_type": "stream",
     "text": [
      "DEST [[  256.     0.]\n",
      " [ 1024.     0.]\n",
      " [ 1024.   720.]\n",
      " [  256.   720.]]\n",
      "SRC [[  588.79998779   446.3999939 ]\n",
      " [  691.20001221   446.3999939 ]\n",
      " [ 1126.40002441   673.20001221]\n",
      " [  153.6000061    673.20001221]]\n"
     ]
    },
    {
     "name": "stderr",
     "output_type": "stream",
     "text": [
      "\u001b[A\u001b[A\u001b[A\u001b[A\u001b[A\n",
      "\n",
      "\n",
      "\n",
      "\n",
      " 53%|█████▎    | 256/485 [00:33<00:30,  7.62it/s]"
     ]
    },
    {
     "name": "stdout",
     "output_type": "stream",
     "text": [
      "DEST [[  256.     0.]\n",
      " [ 1024.     0.]\n",
      " [ 1024.   720.]\n",
      " [  256.   720.]]\n",
      "SRC [[  588.79998779   446.3999939 ]\n",
      " [  691.20001221   446.3999939 ]\n",
      " [ 1126.40002441   673.20001221]\n",
      " [  153.6000061    673.20001221]]\n"
     ]
    },
    {
     "name": "stderr",
     "output_type": "stream",
     "text": [
      "\u001b[A\u001b[A\u001b[A\u001b[A\u001b[A\n",
      "\n",
      "\n",
      "\n",
      "\n",
      " 53%|█████▎    | 257/485 [00:33<00:29,  7.63it/s]"
     ]
    },
    {
     "name": "stdout",
     "output_type": "stream",
     "text": [
      "DEST [[  256.     0.]\n",
      " [ 1024.     0.]\n",
      " [ 1024.   720.]\n",
      " [  256.   720.]]\n",
      "SRC [[  588.79998779   446.3999939 ]\n",
      " [  691.20001221   446.3999939 ]\n",
      " [ 1126.40002441   673.20001221]\n",
      " [  153.6000061    673.20001221]]\n"
     ]
    },
    {
     "name": "stderr",
     "output_type": "stream",
     "text": [
      "\u001b[A\u001b[A\u001b[A\u001b[A\u001b[A\n",
      "\n",
      "\n",
      "\n",
      "\n",
      " 53%|█████▎    | 258/485 [00:33<00:29,  7.70it/s]"
     ]
    },
    {
     "name": "stdout",
     "output_type": "stream",
     "text": [
      "DEST [[  256.     0.]\n",
      " [ 1024.     0.]\n",
      " [ 1024.   720.]\n",
      " [  256.   720.]]\n",
      "SRC [[  588.79998779   446.3999939 ]\n",
      " [  691.20001221   446.3999939 ]\n",
      " [ 1126.40002441   673.20001221]\n",
      " [  153.6000061    673.20001221]]\n"
     ]
    },
    {
     "name": "stderr",
     "output_type": "stream",
     "text": [
      "\u001b[A\u001b[A\u001b[A\u001b[A\u001b[A\n",
      "\n",
      "\n",
      "\n",
      "\n",
      " 53%|█████▎    | 259/485 [00:33<00:29,  7.74it/s]"
     ]
    },
    {
     "name": "stdout",
     "output_type": "stream",
     "text": [
      "DEST [[  256.     0.]\n",
      " [ 1024.     0.]\n",
      " [ 1024.   720.]\n",
      " [  256.   720.]]\n",
      "SRC [[  588.79998779   446.3999939 ]\n",
      " [  691.20001221   446.3999939 ]\n",
      " [ 1126.40002441   673.20001221]\n",
      " [  153.6000061    673.20001221]]\n"
     ]
    },
    {
     "name": "stderr",
     "output_type": "stream",
     "text": [
      "\u001b[A\u001b[A\u001b[A\u001b[A\u001b[A\n",
      "\n",
      "\n",
      "\n",
      "\n",
      " 54%|█████▎    | 260/485 [00:33<00:29,  7.70it/s]"
     ]
    },
    {
     "name": "stdout",
     "output_type": "stream",
     "text": [
      "DEST [[  256.     0.]\n",
      " [ 1024.     0.]\n",
      " [ 1024.   720.]\n",
      " [  256.   720.]]\n",
      "SRC [[  588.79998779   446.3999939 ]\n",
      " [  691.20001221   446.3999939 ]\n",
      " [ 1126.40002441   673.20001221]\n",
      " [  153.6000061    673.20001221]]\n"
     ]
    },
    {
     "name": "stderr",
     "output_type": "stream",
     "text": [
      "\u001b[A\u001b[A\u001b[A\u001b[A\u001b[A\n",
      "\n",
      "\n",
      "\n",
      "\n",
      " 54%|█████▍    | 261/485 [00:33<00:29,  7.66it/s]"
     ]
    },
    {
     "name": "stdout",
     "output_type": "stream",
     "text": [
      "DEST [[  256.     0.]\n",
      " [ 1024.     0.]\n",
      " [ 1024.   720.]\n",
      " [  256.   720.]]\n",
      "SRC [[  588.79998779   446.3999939 ]\n",
      " [  691.20001221   446.3999939 ]\n",
      " [ 1126.40002441   673.20001221]\n",
      " [  153.6000061    673.20001221]]\n"
     ]
    },
    {
     "name": "stderr",
     "output_type": "stream",
     "text": [
      "\u001b[A\u001b[A\u001b[A\u001b[A\u001b[A\n",
      "\n",
      "\n",
      "\n",
      "\n",
      " 54%|█████▍    | 262/485 [00:33<00:29,  7.61it/s]"
     ]
    },
    {
     "name": "stdout",
     "output_type": "stream",
     "text": [
      "DEST [[  256.     0.]\n",
      " [ 1024.     0.]\n",
      " [ 1024.   720.]\n",
      " [  256.   720.]]\n",
      "SRC [[  588.79998779   446.3999939 ]\n",
      " [  691.20001221   446.3999939 ]\n",
      " [ 1126.40002441   673.20001221]\n",
      " [  153.6000061    673.20001221]]\n"
     ]
    },
    {
     "name": "stderr",
     "output_type": "stream",
     "text": [
      "\u001b[A\u001b[A\u001b[A\u001b[A\u001b[A\n",
      "\n",
      "\n",
      "\n",
      "\n",
      " 54%|█████▍    | 263/485 [00:34<00:29,  7.51it/s]"
     ]
    },
    {
     "name": "stdout",
     "output_type": "stream",
     "text": [
      "DEST [[  256.     0.]\n",
      " [ 1024.     0.]\n",
      " [ 1024.   720.]\n",
      " [  256.   720.]]\n",
      "SRC [[  588.79998779   446.3999939 ]\n",
      " [  691.20001221   446.3999939 ]\n",
      " [ 1126.40002441   673.20001221]\n",
      " [  153.6000061    673.20001221]]\n"
     ]
    },
    {
     "name": "stderr",
     "output_type": "stream",
     "text": [
      "\u001b[A\u001b[A\u001b[A\u001b[A\u001b[A\n",
      "\n",
      "\n",
      "\n",
      "\n",
      " 54%|█████▍    | 264/485 [00:34<00:29,  7.39it/s]"
     ]
    },
    {
     "name": "stdout",
     "output_type": "stream",
     "text": [
      "DEST [[  256.     0.]\n",
      " [ 1024.     0.]\n",
      " [ 1024.   720.]\n",
      " [  256.   720.]]\n",
      "SRC [[  588.79998779   446.3999939 ]\n",
      " [  691.20001221   446.3999939 ]\n",
      " [ 1126.40002441   673.20001221]\n",
      " [  153.6000061    673.20001221]]\n"
     ]
    },
    {
     "name": "stderr",
     "output_type": "stream",
     "text": [
      "\u001b[A\u001b[A\u001b[A\u001b[A\u001b[A\n",
      "\n",
      "\n",
      "\n",
      "\n",
      " 55%|█████▍    | 265/485 [00:34<00:30,  7.32it/s]"
     ]
    },
    {
     "name": "stdout",
     "output_type": "stream",
     "text": [
      "DEST [[  256.     0.]\n",
      " [ 1024.     0.]\n",
      " [ 1024.   720.]\n",
      " [  256.   720.]]\n",
      "SRC [[  588.79998779   446.3999939 ]\n",
      " [  691.20001221   446.3999939 ]\n",
      " [ 1126.40002441   673.20001221]\n",
      " [  153.6000061    673.20001221]]\n"
     ]
    },
    {
     "name": "stderr",
     "output_type": "stream",
     "text": [
      "\u001b[A\u001b[A\u001b[A\u001b[A\u001b[A\n",
      "\n",
      "\n",
      "\n",
      "\n",
      " 55%|█████▍    | 266/485 [00:34<00:30,  7.28it/s]"
     ]
    },
    {
     "name": "stdout",
     "output_type": "stream",
     "text": [
      "DEST [[  256.     0.]\n",
      " [ 1024.     0.]\n",
      " [ 1024.   720.]\n",
      " [  256.   720.]]\n",
      "SRC [[  588.79998779   446.3999939 ]\n",
      " [  691.20001221   446.3999939 ]\n",
      " [ 1126.40002441   673.20001221]\n",
      " [  153.6000061    673.20001221]]\n"
     ]
    },
    {
     "name": "stderr",
     "output_type": "stream",
     "text": [
      "\u001b[A\u001b[A\u001b[A\u001b[A\u001b[A\n",
      "\n",
      "\n",
      "\n",
      "\n",
      " 55%|█████▌    | 267/485 [00:34<00:29,  7.31it/s]"
     ]
    },
    {
     "name": "stdout",
     "output_type": "stream",
     "text": [
      "DEST [[  256.     0.]\n",
      " [ 1024.     0.]\n",
      " [ 1024.   720.]\n",
      " [  256.   720.]]\n",
      "SRC [[  588.79998779   446.3999939 ]\n",
      " [  691.20001221   446.3999939 ]\n",
      " [ 1126.40002441   673.20001221]\n",
      " [  153.6000061    673.20001221]]\n"
     ]
    },
    {
     "name": "stderr",
     "output_type": "stream",
     "text": [
      "\u001b[A\u001b[A\u001b[A\u001b[A\u001b[A\n",
      "\n",
      "\n",
      "\n",
      "\n",
      " 55%|█████▌    | 268/485 [00:34<00:29,  7.33it/s]"
     ]
    },
    {
     "name": "stdout",
     "output_type": "stream",
     "text": [
      "DEST [[  256.     0.]\n",
      " [ 1024.     0.]\n",
      " [ 1024.   720.]\n",
      " [  256.   720.]]\n",
      "SRC [[  588.79998779   446.3999939 ]\n",
      " [  691.20001221   446.3999939 ]\n",
      " [ 1126.40002441   673.20001221]\n",
      " [  153.6000061    673.20001221]]\n"
     ]
    },
    {
     "name": "stderr",
     "output_type": "stream",
     "text": [
      "\u001b[A\u001b[A\u001b[A\u001b[A\u001b[A\n",
      "\n",
      "\n",
      "\n",
      "\n",
      " 55%|█████▌    | 269/485 [00:34<00:29,  7.35it/s]"
     ]
    },
    {
     "name": "stdout",
     "output_type": "stream",
     "text": [
      "DEST [[  256.     0.]\n",
      " [ 1024.     0.]\n",
      " [ 1024.   720.]\n",
      " [  256.   720.]]\n",
      "SRC [[  588.79998779   446.3999939 ]\n",
      " [  691.20001221   446.3999939 ]\n",
      " [ 1126.40002441   673.20001221]\n",
      " [  153.6000061    673.20001221]]\n"
     ]
    },
    {
     "name": "stderr",
     "output_type": "stream",
     "text": [
      "\u001b[A\u001b[A\u001b[A\u001b[A\u001b[A\n",
      "\n",
      "\n",
      "\n",
      "\n",
      " 56%|█████▌    | 270/485 [00:35<00:29,  7.41it/s]"
     ]
    },
    {
     "name": "stdout",
     "output_type": "stream",
     "text": [
      "DEST [[  256.     0.]\n",
      " [ 1024.     0.]\n",
      " [ 1024.   720.]\n",
      " [  256.   720.]]\n",
      "SRC [[  588.79998779   446.3999939 ]\n",
      " [  691.20001221   446.3999939 ]\n",
      " [ 1126.40002441   673.20001221]\n",
      " [  153.6000061    673.20001221]]\n"
     ]
    },
    {
     "name": "stderr",
     "output_type": "stream",
     "text": [
      "\u001b[A\u001b[A\u001b[A\u001b[A\u001b[A\n",
      "\n",
      "\n",
      "\n",
      "\n",
      " 56%|█████▌    | 271/485 [00:35<00:28,  7.42it/s]"
     ]
    },
    {
     "name": "stdout",
     "output_type": "stream",
     "text": [
      "DEST [[  256.     0.]\n",
      " [ 1024.     0.]\n",
      " [ 1024.   720.]\n",
      " [  256.   720.]]\n",
      "SRC [[  588.79998779   446.3999939 ]\n",
      " [  691.20001221   446.3999939 ]\n",
      " [ 1126.40002441   673.20001221]\n",
      " [  153.6000061    673.20001221]]\n"
     ]
    },
    {
     "name": "stderr",
     "output_type": "stream",
     "text": [
      "\u001b[A\u001b[A\u001b[A\u001b[A\u001b[A\n",
      "\n",
      "\n",
      "\n",
      "\n",
      " 56%|█████▌    | 272/485 [00:35<00:29,  7.27it/s]"
     ]
    },
    {
     "name": "stdout",
     "output_type": "stream",
     "text": [
      "DEST [[  256.     0.]\n",
      " [ 1024.     0.]\n",
      " [ 1024.   720.]\n",
      " [  256.   720.]]\n",
      "SRC [[  588.79998779   446.3999939 ]\n",
      " [  691.20001221   446.3999939 ]\n",
      " [ 1126.40002441   673.20001221]\n",
      " [  153.6000061    673.20001221]]\n"
     ]
    },
    {
     "name": "stderr",
     "output_type": "stream",
     "text": [
      "\u001b[A\u001b[A\u001b[A\u001b[A\u001b[A\n",
      "\n",
      "\n",
      "\n",
      "\n",
      " 56%|█████▋    | 273/485 [00:35<00:29,  7.08it/s]"
     ]
    },
    {
     "name": "stdout",
     "output_type": "stream",
     "text": [
      "DEST [[  256.     0.]\n",
      " [ 1024.     0.]\n",
      " [ 1024.   720.]\n",
      " [  256.   720.]]\n",
      "SRC [[  588.79998779   446.3999939 ]\n",
      " [  691.20001221   446.3999939 ]\n",
      " [ 1126.40002441   673.20001221]\n",
      " [  153.6000061    673.20001221]]\n"
     ]
    },
    {
     "name": "stderr",
     "output_type": "stream",
     "text": [
      "\u001b[A\u001b[A\u001b[A\u001b[A\u001b[A\n",
      "\n",
      "\n",
      "\n",
      "\n",
      " 56%|█████▋    | 274/485 [00:35<00:29,  7.07it/s]"
     ]
    },
    {
     "name": "stdout",
     "output_type": "stream",
     "text": [
      "DEST [[  256.     0.]\n",
      " [ 1024.     0.]\n",
      " [ 1024.   720.]\n",
      " [  256.   720.]]\n",
      "SRC [[  588.79998779   446.3999939 ]\n",
      " [  691.20001221   446.3999939 ]\n",
      " [ 1126.40002441   673.20001221]\n",
      " [  153.6000061    673.20001221]]\n"
     ]
    },
    {
     "name": "stderr",
     "output_type": "stream",
     "text": [
      "\u001b[A\u001b[A\u001b[A\u001b[A\u001b[A\n",
      "\n",
      "\n",
      "\n",
      "\n",
      " 57%|█████▋    | 275/485 [00:35<00:29,  7.05it/s]"
     ]
    },
    {
     "name": "stdout",
     "output_type": "stream",
     "text": [
      "DEST [[  256.     0.]\n",
      " [ 1024.     0.]\n",
      " [ 1024.   720.]\n",
      " [  256.   720.]]\n",
      "SRC [[  588.79998779   446.3999939 ]\n",
      " [  691.20001221   446.3999939 ]\n",
      " [ 1126.40002441   673.20001221]\n",
      " [  153.6000061    673.20001221]]\n"
     ]
    },
    {
     "name": "stderr",
     "output_type": "stream",
     "text": [
      "\u001b[A\u001b[A\u001b[A\u001b[A\u001b[A\n",
      "\n",
      "\n",
      "\n",
      "\n",
      " 57%|█████▋    | 276/485 [00:35<00:29,  7.19it/s]"
     ]
    },
    {
     "name": "stdout",
     "output_type": "stream",
     "text": [
      "DEST [[  256.     0.]\n",
      " [ 1024.     0.]\n",
      " [ 1024.   720.]\n",
      " [  256.   720.]]\n",
      "SRC [[  588.79998779   446.3999939 ]\n",
      " [  691.20001221   446.3999939 ]\n",
      " [ 1126.40002441   673.20001221]\n",
      " [  153.6000061    673.20001221]]\n"
     ]
    },
    {
     "name": "stderr",
     "output_type": "stream",
     "text": [
      "\u001b[A\u001b[A\u001b[A\u001b[A\u001b[A\n",
      "\n",
      "\n",
      "\n",
      "\n",
      " 57%|█████▋    | 277/485 [00:36<00:28,  7.35it/s]"
     ]
    },
    {
     "name": "stdout",
     "output_type": "stream",
     "text": [
      "DEST [[  256.     0.]\n",
      " [ 1024.     0.]\n",
      " [ 1024.   720.]\n",
      " [  256.   720.]]\n",
      "SRC [[  588.79998779   446.3999939 ]\n",
      " [  691.20001221   446.3999939 ]\n",
      " [ 1126.40002441   673.20001221]\n",
      " [  153.6000061    673.20001221]]\n"
     ]
    },
    {
     "name": "stderr",
     "output_type": "stream",
     "text": [
      "\u001b[A\u001b[A\u001b[A\u001b[A\u001b[A\n",
      "\n",
      "\n",
      "\n",
      "\n",
      " 57%|█████▋    | 278/485 [00:36<00:28,  7.30it/s]"
     ]
    },
    {
     "name": "stdout",
     "output_type": "stream",
     "text": [
      "DEST [[  256.     0.]\n",
      " [ 1024.     0.]\n",
      " [ 1024.   720.]\n",
      " [  256.   720.]]\n",
      "SRC [[  588.79998779   446.3999939 ]\n",
      " [  691.20001221   446.3999939 ]\n",
      " [ 1126.40002441   673.20001221]\n",
      " [  153.6000061    673.20001221]]\n"
     ]
    },
    {
     "name": "stderr",
     "output_type": "stream",
     "text": [
      "\u001b[A\u001b[A\u001b[A\u001b[A\u001b[A\n",
      "\n",
      "\n",
      "\n",
      "\n",
      " 58%|█████▊    | 279/485 [00:36<00:28,  7.26it/s]"
     ]
    },
    {
     "name": "stdout",
     "output_type": "stream",
     "text": [
      "DEST [[  256.     0.]\n",
      " [ 1024.     0.]\n",
      " [ 1024.   720.]\n",
      " [  256.   720.]]\n",
      "SRC [[  588.79998779   446.3999939 ]\n",
      " [  691.20001221   446.3999939 ]\n",
      " [ 1126.40002441   673.20001221]\n",
      " [  153.6000061    673.20001221]]\n"
     ]
    },
    {
     "name": "stderr",
     "output_type": "stream",
     "text": [
      "\u001b[A\u001b[A\u001b[A\u001b[A\u001b[A\n",
      "\n",
      "\n",
      "\n",
      "\n",
      " 58%|█████▊    | 280/485 [00:36<00:27,  7.34it/s]"
     ]
    },
    {
     "name": "stdout",
     "output_type": "stream",
     "text": [
      "DEST [[  256.     0.]\n",
      " [ 1024.     0.]\n",
      " [ 1024.   720.]\n",
      " [  256.   720.]]\n",
      "SRC [[  588.79998779   446.3999939 ]\n",
      " [  691.20001221   446.3999939 ]\n",
      " [ 1126.40002441   673.20001221]\n",
      " [  153.6000061    673.20001221]]\n"
     ]
    },
    {
     "name": "stderr",
     "output_type": "stream",
     "text": [
      "\u001b[A\u001b[A\u001b[A\u001b[A\u001b[A\n",
      "\n",
      "\n",
      "\n",
      "\n",
      " 58%|█████▊    | 281/485 [00:36<00:27,  7.40it/s]"
     ]
    },
    {
     "name": "stdout",
     "output_type": "stream",
     "text": [
      "DEST [[  256.     0.]\n",
      " [ 1024.     0.]\n",
      " [ 1024.   720.]\n",
      " [  256.   720.]]\n",
      "SRC [[  588.79998779   446.3999939 ]\n",
      " [  691.20001221   446.3999939 ]\n",
      " [ 1126.40002441   673.20001221]\n",
      " [  153.6000061    673.20001221]]\n"
     ]
    },
    {
     "name": "stderr",
     "output_type": "stream",
     "text": [
      "\u001b[A\u001b[A\u001b[A\u001b[A\u001b[A\n",
      "\n",
      "\n",
      "\n",
      "\n",
      " 58%|█████▊    | 282/485 [00:36<00:26,  7.59it/s]"
     ]
    },
    {
     "name": "stdout",
     "output_type": "stream",
     "text": [
      "DEST [[  256.     0.]\n",
      " [ 1024.     0.]\n",
      " [ 1024.   720.]\n",
      " [  256.   720.]]\n",
      "SRC [[  588.79998779   446.3999939 ]\n",
      " [  691.20001221   446.3999939 ]\n",
      " [ 1126.40002441   673.20001221]\n",
      " [  153.6000061    673.20001221]]\n"
     ]
    },
    {
     "name": "stderr",
     "output_type": "stream",
     "text": [
      "\u001b[A\u001b[A\u001b[A\u001b[A\u001b[A\n",
      "\n",
      "\n",
      "\n",
      "\n",
      " 58%|█████▊    | 283/485 [00:36<00:26,  7.73it/s]"
     ]
    },
    {
     "name": "stdout",
     "output_type": "stream",
     "text": [
      "DEST [[  256.     0.]\n",
      " [ 1024.     0.]\n",
      " [ 1024.   720.]\n",
      " [  256.   720.]]\n",
      "SRC [[  588.79998779   446.3999939 ]\n",
      " [  691.20001221   446.3999939 ]\n",
      " [ 1126.40002441   673.20001221]\n",
      " [  153.6000061    673.20001221]]\n"
     ]
    },
    {
     "name": "stderr",
     "output_type": "stream",
     "text": [
      "\u001b[A\u001b[A\u001b[A\u001b[A\u001b[A\n",
      "\n",
      "\n",
      "\n",
      "\n",
      " 59%|█████▊    | 284/485 [00:36<00:25,  7.77it/s]"
     ]
    },
    {
     "name": "stdout",
     "output_type": "stream",
     "text": [
      "DEST [[  256.     0.]\n",
      " [ 1024.     0.]\n",
      " [ 1024.   720.]\n",
      " [  256.   720.]]\n",
      "SRC [[  588.79998779   446.3999939 ]\n",
      " [  691.20001221   446.3999939 ]\n",
      " [ 1126.40002441   673.20001221]\n",
      " [  153.6000061    673.20001221]]\n"
     ]
    },
    {
     "name": "stderr",
     "output_type": "stream",
     "text": [
      "\u001b[A\u001b[A\u001b[A\u001b[A\u001b[A\n",
      "\n",
      "\n",
      "\n",
      "\n",
      " 59%|█████▉    | 285/485 [00:37<00:25,  7.70it/s]"
     ]
    },
    {
     "name": "stdout",
     "output_type": "stream",
     "text": [
      "DEST [[  256.     0.]\n",
      " [ 1024.     0.]\n",
      " [ 1024.   720.]\n",
      " [  256.   720.]]\n",
      "SRC [[  588.79998779   446.3999939 ]\n",
      " [  691.20001221   446.3999939 ]\n",
      " [ 1126.40002441   673.20001221]\n",
      " [  153.6000061    673.20001221]]\n"
     ]
    },
    {
     "name": "stderr",
     "output_type": "stream",
     "text": [
      "\u001b[A\u001b[A\u001b[A\u001b[A\u001b[A\n",
      "\n",
      "\n",
      "\n",
      "\n",
      " 59%|█████▉    | 286/485 [00:37<00:25,  7.92it/s]"
     ]
    },
    {
     "name": "stdout",
     "output_type": "stream",
     "text": [
      "DEST [[  256.     0.]\n",
      " [ 1024.     0.]\n",
      " [ 1024.   720.]\n",
      " [  256.   720.]]\n",
      "SRC [[  588.79998779   446.3999939 ]\n",
      " [  691.20001221   446.3999939 ]\n",
      " [ 1126.40002441   673.20001221]\n",
      " [  153.6000061    673.20001221]]\n"
     ]
    },
    {
     "name": "stderr",
     "output_type": "stream",
     "text": [
      "\u001b[A\u001b[A\u001b[A\u001b[A\u001b[A\n",
      "\n",
      "\n",
      "\n",
      "\n",
      " 59%|█████▉    | 287/485 [00:37<00:24,  8.04it/s]"
     ]
    },
    {
     "name": "stdout",
     "output_type": "stream",
     "text": [
      "DEST [[  256.     0.]\n",
      " [ 1024.     0.]\n",
      " [ 1024.   720.]\n",
      " [  256.   720.]]\n",
      "SRC [[  588.79998779   446.3999939 ]\n",
      " [  691.20001221   446.3999939 ]\n",
      " [ 1126.40002441   673.20001221]\n",
      " [  153.6000061    673.20001221]]\n"
     ]
    },
    {
     "name": "stderr",
     "output_type": "stream",
     "text": [
      "\u001b[A\u001b[A\u001b[A\u001b[A\u001b[A\n",
      "\n",
      "\n",
      "\n",
      "\n",
      " 59%|█████▉    | 288/485 [00:37<00:24,  8.08it/s]"
     ]
    },
    {
     "name": "stdout",
     "output_type": "stream",
     "text": [
      "DEST [[  256.     0.]\n",
      " [ 1024.     0.]\n",
      " [ 1024.   720.]\n",
      " [  256.   720.]]\n",
      "SRC [[  588.79998779   446.3999939 ]\n",
      " [  691.20001221   446.3999939 ]\n",
      " [ 1126.40002441   673.20001221]\n",
      " [  153.6000061    673.20001221]]\n"
     ]
    },
    {
     "name": "stderr",
     "output_type": "stream",
     "text": [
      "\u001b[A\u001b[A\u001b[A\u001b[A\u001b[A\n",
      "\n",
      "\n",
      "\n",
      "\n",
      " 60%|█████▉    | 289/485 [00:37<00:24,  8.12it/s]"
     ]
    },
    {
     "name": "stdout",
     "output_type": "stream",
     "text": [
      "DEST [[  256.     0.]\n",
      " [ 1024.     0.]\n",
      " [ 1024.   720.]\n",
      " [  256.   720.]]\n",
      "SRC [[  588.79998779   446.3999939 ]\n",
      " [  691.20001221   446.3999939 ]\n",
      " [ 1126.40002441   673.20001221]\n",
      " [  153.6000061    673.20001221]]\n"
     ]
    },
    {
     "name": "stderr",
     "output_type": "stream",
     "text": [
      "\u001b[A\u001b[A\u001b[A\u001b[A\u001b[A\n",
      "\n",
      "\n",
      "\n",
      "\n",
      " 60%|█████▉    | 290/485 [00:37<00:24,  8.08it/s]"
     ]
    },
    {
     "name": "stdout",
     "output_type": "stream",
     "text": [
      "DEST [[  256.     0.]\n",
      " [ 1024.     0.]\n",
      " [ 1024.   720.]\n",
      " [  256.   720.]]\n",
      "SRC [[  588.79998779   446.3999939 ]\n",
      " [  691.20001221   446.3999939 ]\n",
      " [ 1126.40002441   673.20001221]\n",
      " [  153.6000061    673.20001221]]\n"
     ]
    },
    {
     "name": "stderr",
     "output_type": "stream",
     "text": [
      "\u001b[A\u001b[A\u001b[A\u001b[A\u001b[A\n",
      "\n",
      "\n",
      "\n",
      "\n",
      " 60%|██████    | 291/485 [00:37<00:23,  8.12it/s]"
     ]
    },
    {
     "name": "stdout",
     "output_type": "stream",
     "text": [
      "DEST [[  256.     0.]\n",
      " [ 1024.     0.]\n",
      " [ 1024.   720.]\n",
      " [  256.   720.]]\n",
      "SRC [[  588.79998779   446.3999939 ]\n",
      " [  691.20001221   446.3999939 ]\n",
      " [ 1126.40002441   673.20001221]\n",
      " [  153.6000061    673.20001221]]\n"
     ]
    },
    {
     "name": "stderr",
     "output_type": "stream",
     "text": [
      "\u001b[A\u001b[A\u001b[A\u001b[A\u001b[A\n",
      "\n",
      "\n",
      "\n",
      "\n",
      " 60%|██████    | 292/485 [00:37<00:23,  8.12it/s]"
     ]
    },
    {
     "name": "stdout",
     "output_type": "stream",
     "text": [
      "DEST [[  256.     0.]\n",
      " [ 1024.     0.]\n",
      " [ 1024.   720.]\n",
      " [  256.   720.]]\n",
      "SRC [[  588.79998779   446.3999939 ]\n",
      " [  691.20001221   446.3999939 ]\n",
      " [ 1126.40002441   673.20001221]\n",
      " [  153.6000061    673.20001221]]\n"
     ]
    },
    {
     "name": "stderr",
     "output_type": "stream",
     "text": [
      "\u001b[A\u001b[A\u001b[A\u001b[A\u001b[A\n",
      "\n",
      "\n",
      "\n",
      "\n",
      " 60%|██████    | 293/485 [00:38<00:23,  8.06it/s]"
     ]
    },
    {
     "name": "stdout",
     "output_type": "stream",
     "text": [
      "DEST [[  256.     0.]\n",
      " [ 1024.     0.]\n",
      " [ 1024.   720.]\n",
      " [  256.   720.]]\n",
      "SRC [[  588.79998779   446.3999939 ]\n",
      " [  691.20001221   446.3999939 ]\n",
      " [ 1126.40002441   673.20001221]\n",
      " [  153.6000061    673.20001221]]\n"
     ]
    },
    {
     "name": "stderr",
     "output_type": "stream",
     "text": [
      "\u001b[A\u001b[A\u001b[A\u001b[A\u001b[A\n",
      "\n",
      "\n",
      "\n",
      "\n",
      " 61%|██████    | 294/485 [00:38<00:23,  8.14it/s]"
     ]
    },
    {
     "name": "stdout",
     "output_type": "stream",
     "text": [
      "DEST [[  256.     0.]\n",
      " [ 1024.     0.]\n",
      " [ 1024.   720.]\n",
      " [  256.   720.]]\n",
      "SRC [[  588.79998779   446.3999939 ]\n",
      " [  691.20001221   446.3999939 ]\n",
      " [ 1126.40002441   673.20001221]\n",
      " [  153.6000061    673.20001221]]\n"
     ]
    },
    {
     "name": "stderr",
     "output_type": "stream",
     "text": [
      "\u001b[A\u001b[A\u001b[A\u001b[A\u001b[A\n",
      "\n",
      "\n",
      "\n",
      "\n",
      " 61%|██████    | 295/485 [00:38<00:23,  8.22it/s]"
     ]
    },
    {
     "name": "stdout",
     "output_type": "stream",
     "text": [
      "DEST [[  256.     0.]\n",
      " [ 1024.     0.]\n",
      " [ 1024.   720.]\n",
      " [  256.   720.]]\n",
      "SRC [[  588.79998779   446.3999939 ]\n",
      " [  691.20001221   446.3999939 ]\n",
      " [ 1126.40002441   673.20001221]\n",
      " [  153.6000061    673.20001221]]\n"
     ]
    },
    {
     "name": "stderr",
     "output_type": "stream",
     "text": [
      "\u001b[A\u001b[A\u001b[A\u001b[A\u001b[A\n",
      "\n",
      "\n",
      "\n",
      "\n",
      " 61%|██████    | 296/485 [00:38<00:23,  8.19it/s]"
     ]
    },
    {
     "name": "stdout",
     "output_type": "stream",
     "text": [
      "DEST [[  256.     0.]\n",
      " [ 1024.     0.]\n",
      " [ 1024.   720.]\n",
      " [  256.   720.]]\n",
      "SRC [[  588.79998779   446.3999939 ]\n",
      " [  691.20001221   446.3999939 ]\n",
      " [ 1126.40002441   673.20001221]\n",
      " [  153.6000061    673.20001221]]\n"
     ]
    },
    {
     "name": "stderr",
     "output_type": "stream",
     "text": [
      "\u001b[A\u001b[A\u001b[A\u001b[A\u001b[A\n",
      "\n",
      "\n",
      "\n",
      "\n",
      " 61%|██████    | 297/485 [00:38<00:23,  8.13it/s]"
     ]
    },
    {
     "name": "stdout",
     "output_type": "stream",
     "text": [
      "DEST [[  256.     0.]\n",
      " [ 1024.     0.]\n",
      " [ 1024.   720.]\n",
      " [  256.   720.]]\n",
      "SRC [[  588.79998779   446.3999939 ]\n",
      " [  691.20001221   446.3999939 ]\n",
      " [ 1126.40002441   673.20001221]\n",
      " [  153.6000061    673.20001221]]\n"
     ]
    },
    {
     "name": "stderr",
     "output_type": "stream",
     "text": [
      "\u001b[A\u001b[A\u001b[A\u001b[A\u001b[A\n",
      "\n",
      "\n",
      "\n",
      "\n",
      " 61%|██████▏   | 298/485 [00:38<00:23,  8.08it/s]"
     ]
    },
    {
     "name": "stdout",
     "output_type": "stream",
     "text": [
      "DEST [[  256.     0.]\n",
      " [ 1024.     0.]\n",
      " [ 1024.   720.]\n",
      " [  256.   720.]]\n",
      "SRC [[  588.79998779   446.3999939 ]\n",
      " [  691.20001221   446.3999939 ]\n",
      " [ 1126.40002441   673.20001221]\n",
      " [  153.6000061    673.20001221]]\n"
     ]
    },
    {
     "name": "stderr",
     "output_type": "stream",
     "text": [
      "\u001b[A\u001b[A\u001b[A\u001b[A\u001b[A\n",
      "\n",
      "\n",
      "\n",
      "\n",
      " 62%|██████▏   | 299/485 [00:38<00:22,  8.14it/s]"
     ]
    },
    {
     "name": "stdout",
     "output_type": "stream",
     "text": [
      "DEST [[  256.     0.]\n",
      " [ 1024.     0.]\n",
      " [ 1024.   720.]\n",
      " [  256.   720.]]\n",
      "SRC [[  588.79998779   446.3999939 ]\n",
      " [  691.20001221   446.3999939 ]\n",
      " [ 1126.40002441   673.20001221]\n",
      " [  153.6000061    673.20001221]]\n"
     ]
    },
    {
     "name": "stderr",
     "output_type": "stream",
     "text": [
      "\u001b[A\u001b[A\u001b[A\u001b[A\u001b[A\n",
      "\n",
      "\n",
      "\n",
      "\n",
      " 62%|██████▏   | 300/485 [00:38<00:22,  8.18it/s]"
     ]
    },
    {
     "name": "stdout",
     "output_type": "stream",
     "text": [
      "DEST [[  256.     0.]\n",
      " [ 1024.     0.]\n",
      " [ 1024.   720.]\n",
      " [  256.   720.]]\n",
      "SRC [[  588.79998779   446.3999939 ]\n",
      " [  691.20001221   446.3999939 ]\n",
      " [ 1126.40002441   673.20001221]\n",
      " [  153.6000061    673.20001221]]\n"
     ]
    },
    {
     "name": "stderr",
     "output_type": "stream",
     "text": [
      "\u001b[A\u001b[A\u001b[A\u001b[A\u001b[A\n",
      "\n",
      "\n",
      "\n",
      "\n",
      " 62%|██████▏   | 301/485 [00:39<00:22,  8.17it/s]"
     ]
    },
    {
     "name": "stdout",
     "output_type": "stream",
     "text": [
      "DEST [[  256.     0.]\n",
      " [ 1024.     0.]\n",
      " [ 1024.   720.]\n",
      " [  256.   720.]]\n",
      "SRC [[  588.79998779   446.3999939 ]\n",
      " [  691.20001221   446.3999939 ]\n",
      " [ 1126.40002441   673.20001221]\n",
      " [  153.6000061    673.20001221]]\n"
     ]
    },
    {
     "name": "stderr",
     "output_type": "stream",
     "text": [
      "\u001b[A\u001b[A\u001b[A\u001b[A\u001b[A\n",
      "\n",
      "\n",
      "\n",
      "\n",
      " 62%|██████▏   | 302/485 [00:39<00:22,  8.17it/s]"
     ]
    },
    {
     "name": "stdout",
     "output_type": "stream",
     "text": [
      "DEST [[  256.     0.]\n",
      " [ 1024.     0.]\n",
      " [ 1024.   720.]\n",
      " [  256.   720.]]\n",
      "SRC [[  588.79998779   446.3999939 ]\n",
      " [  691.20001221   446.3999939 ]\n",
      " [ 1126.40002441   673.20001221]\n",
      " [  153.6000061    673.20001221]]\n"
     ]
    },
    {
     "name": "stderr",
     "output_type": "stream",
     "text": [
      "\u001b[A\u001b[A\u001b[A\u001b[A\u001b[A\n",
      "\n",
      "\n",
      "\n",
      "\n",
      " 62%|██████▏   | 303/485 [00:39<00:22,  8.19it/s]"
     ]
    },
    {
     "name": "stdout",
     "output_type": "stream",
     "text": [
      "DEST [[  256.     0.]\n",
      " [ 1024.     0.]\n",
      " [ 1024.   720.]\n",
      " [  256.   720.]]\n",
      "SRC [[  588.79998779   446.3999939 ]\n",
      " [  691.20001221   446.3999939 ]\n",
      " [ 1126.40002441   673.20001221]\n",
      " [  153.6000061    673.20001221]]\n"
     ]
    },
    {
     "name": "stderr",
     "output_type": "stream",
     "text": [
      "\u001b[A\u001b[A\u001b[A\u001b[A\u001b[A\n",
      "\n",
      "\n",
      "\n",
      "\n",
      " 63%|██████▎   | 304/485 [00:39<00:21,  8.25it/s]"
     ]
    },
    {
     "name": "stdout",
     "output_type": "stream",
     "text": [
      "DEST [[  256.     0.]\n",
      " [ 1024.     0.]\n",
      " [ 1024.   720.]\n",
      " [  256.   720.]]\n",
      "SRC [[  588.79998779   446.3999939 ]\n",
      " [  691.20001221   446.3999939 ]\n",
      " [ 1126.40002441   673.20001221]\n",
      " [  153.6000061    673.20001221]]\n"
     ]
    },
    {
     "name": "stderr",
     "output_type": "stream",
     "text": [
      "\u001b[A\u001b[A\u001b[A\u001b[A\u001b[A\n",
      "\n",
      "\n",
      "\n",
      "\n",
      " 63%|██████▎   | 305/485 [00:39<00:21,  8.26it/s]"
     ]
    },
    {
     "name": "stdout",
     "output_type": "stream",
     "text": [
      "DEST [[  256.     0.]\n",
      " [ 1024.     0.]\n",
      " [ 1024.   720.]\n",
      " [  256.   720.]]\n",
      "SRC [[  588.79998779   446.3999939 ]\n",
      " [  691.20001221   446.3999939 ]\n",
      " [ 1126.40002441   673.20001221]\n",
      " [  153.6000061    673.20001221]]\n"
     ]
    },
    {
     "name": "stderr",
     "output_type": "stream",
     "text": [
      "\u001b[A\u001b[A\u001b[A\u001b[A\u001b[A\n",
      "\n",
      "\n",
      "\n",
      "\n",
      " 63%|██████▎   | 306/485 [00:39<00:22,  8.04it/s]"
     ]
    },
    {
     "name": "stdout",
     "output_type": "stream",
     "text": [
      "DEST [[  256.     0.]\n",
      " [ 1024.     0.]\n",
      " [ 1024.   720.]\n",
      " [  256.   720.]]\n",
      "SRC [[  588.79998779   446.3999939 ]\n",
      " [  691.20001221   446.3999939 ]\n",
      " [ 1126.40002441   673.20001221]\n",
      " [  153.6000061    673.20001221]]\n"
     ]
    },
    {
     "name": "stderr",
     "output_type": "stream",
     "text": [
      "\u001b[A\u001b[A\u001b[A\u001b[A\u001b[A\n",
      "\n",
      "\n",
      "\n",
      "\n",
      " 63%|██████▎   | 307/485 [00:39<00:22,  7.91it/s]"
     ]
    },
    {
     "name": "stdout",
     "output_type": "stream",
     "text": [
      "DEST [[  256.     0.]\n",
      " [ 1024.     0.]\n",
      " [ 1024.   720.]\n",
      " [  256.   720.]]\n",
      "SRC [[  588.79998779   446.3999939 ]\n",
      " [  691.20001221   446.3999939 ]\n",
      " [ 1126.40002441   673.20001221]\n",
      " [  153.6000061    673.20001221]]\n"
     ]
    },
    {
     "name": "stderr",
     "output_type": "stream",
     "text": [
      "\u001b[A\u001b[A\u001b[A\u001b[A\u001b[A\n",
      "\n",
      "\n",
      "\n",
      "\n",
      " 64%|██████▎   | 308/485 [00:39<00:23,  7.62it/s]"
     ]
    },
    {
     "name": "stdout",
     "output_type": "stream",
     "text": [
      "DEST [[  256.     0.]\n",
      " [ 1024.     0.]\n",
      " [ 1024.   720.]\n",
      " [  256.   720.]]\n",
      "SRC [[  588.79998779   446.3999939 ]\n",
      " [  691.20001221   446.3999939 ]\n",
      " [ 1126.40002441   673.20001221]\n",
      " [  153.6000061    673.20001221]]\n"
     ]
    },
    {
     "name": "stderr",
     "output_type": "stream",
     "text": [
      "\u001b[A\u001b[A\u001b[A\u001b[A\u001b[A\n",
      "\n",
      "\n",
      "\n",
      "\n",
      " 64%|██████▎   | 309/485 [00:40<00:23,  7.54it/s]"
     ]
    },
    {
     "name": "stdout",
     "output_type": "stream",
     "text": [
      "DEST [[  256.     0.]\n",
      " [ 1024.     0.]\n",
      " [ 1024.   720.]\n",
      " [  256.   720.]]\n",
      "SRC [[  588.79998779   446.3999939 ]\n",
      " [  691.20001221   446.3999939 ]\n",
      " [ 1126.40002441   673.20001221]\n",
      " [  153.6000061    673.20001221]]\n"
     ]
    },
    {
     "name": "stderr",
     "output_type": "stream",
     "text": [
      "\u001b[A\u001b[A\u001b[A\u001b[A\u001b[A\n",
      "\n",
      "\n",
      "\n",
      "\n",
      " 64%|██████▍   | 310/485 [00:40<00:23,  7.38it/s]"
     ]
    },
    {
     "name": "stdout",
     "output_type": "stream",
     "text": [
      "DEST [[  256.     0.]\n",
      " [ 1024.     0.]\n",
      " [ 1024.   720.]\n",
      " [  256.   720.]]\n",
      "SRC [[  588.79998779   446.3999939 ]\n",
      " [  691.20001221   446.3999939 ]\n",
      " [ 1126.40002441   673.20001221]\n",
      " [  153.6000061    673.20001221]]\n"
     ]
    },
    {
     "name": "stderr",
     "output_type": "stream",
     "text": [
      "\u001b[A\u001b[A\u001b[A\u001b[A\u001b[A\n",
      "\n",
      "\n",
      "\n",
      "\n",
      " 64%|██████▍   | 311/485 [00:40<00:23,  7.37it/s]"
     ]
    },
    {
     "name": "stdout",
     "output_type": "stream",
     "text": [
      "DEST [[  256.     0.]\n",
      " [ 1024.     0.]\n",
      " [ 1024.   720.]\n",
      " [  256.   720.]]\n",
      "SRC [[  588.79998779   446.3999939 ]\n",
      " [  691.20001221   446.3999939 ]\n",
      " [ 1126.40002441   673.20001221]\n",
      " [  153.6000061    673.20001221]]\n"
     ]
    },
    {
     "name": "stderr",
     "output_type": "stream",
     "text": [
      "\u001b[A\u001b[A\u001b[A\u001b[A\u001b[A\n",
      "\n",
      "\n",
      "\n",
      "\n",
      " 64%|██████▍   | 312/485 [00:40<00:23,  7.48it/s]"
     ]
    },
    {
     "name": "stdout",
     "output_type": "stream",
     "text": [
      "DEST [[  256.     0.]\n",
      " [ 1024.     0.]\n",
      " [ 1024.   720.]\n",
      " [  256.   720.]]\n",
      "SRC [[  588.79998779   446.3999939 ]\n",
      " [  691.20001221   446.3999939 ]\n",
      " [ 1126.40002441   673.20001221]\n",
      " [  153.6000061    673.20001221]]\n"
     ]
    },
    {
     "name": "stderr",
     "output_type": "stream",
     "text": [
      "\u001b[A\u001b[A\u001b[A\u001b[A\u001b[A\n",
      "\n",
      "\n",
      "\n",
      "\n",
      " 65%|██████▍   | 313/485 [00:40<00:22,  7.52it/s]"
     ]
    },
    {
     "name": "stdout",
     "output_type": "stream",
     "text": [
      "DEST [[  256.     0.]\n",
      " [ 1024.     0.]\n",
      " [ 1024.   720.]\n",
      " [  256.   720.]]\n",
      "SRC [[  588.79998779   446.3999939 ]\n",
      " [  691.20001221   446.3999939 ]\n",
      " [ 1126.40002441   673.20001221]\n",
      " [  153.6000061    673.20001221]]\n"
     ]
    },
    {
     "name": "stderr",
     "output_type": "stream",
     "text": [
      "\u001b[A\u001b[A\u001b[A\u001b[A\u001b[A\n",
      "\n",
      "\n",
      "\n",
      "\n",
      " 65%|██████▍   | 314/485 [00:40<00:22,  7.48it/s]"
     ]
    },
    {
     "name": "stdout",
     "output_type": "stream",
     "text": [
      "DEST [[  256.     0.]\n",
      " [ 1024.     0.]\n",
      " [ 1024.   720.]\n",
      " [  256.   720.]]\n",
      "SRC [[  588.79998779   446.3999939 ]\n",
      " [  691.20001221   446.3999939 ]\n",
      " [ 1126.40002441   673.20001221]\n",
      " [  153.6000061    673.20001221]]\n"
     ]
    },
    {
     "name": "stderr",
     "output_type": "stream",
     "text": [
      "\u001b[A\u001b[A\u001b[A\u001b[A\u001b[A\n",
      "\n",
      "\n",
      "\n",
      "\n",
      " 65%|██████▍   | 315/485 [00:40<00:22,  7.55it/s]"
     ]
    },
    {
     "name": "stdout",
     "output_type": "stream",
     "text": [
      "DEST [[  256.     0.]\n",
      " [ 1024.     0.]\n",
      " [ 1024.   720.]\n",
      " [  256.   720.]]\n",
      "SRC [[  588.79998779   446.3999939 ]\n",
      " [  691.20001221   446.3999939 ]\n",
      " [ 1126.40002441   673.20001221]\n",
      " [  153.6000061    673.20001221]]\n"
     ]
    },
    {
     "name": "stderr",
     "output_type": "stream",
     "text": [
      "\u001b[A\u001b[A\u001b[A\u001b[A\u001b[A\n",
      "\n",
      "\n",
      "\n",
      "\n",
      " 65%|██████▌   | 316/485 [00:40<00:22,  7.58it/s]"
     ]
    },
    {
     "name": "stdout",
     "output_type": "stream",
     "text": [
      "DEST [[  256.     0.]\n",
      " [ 1024.     0.]\n",
      " [ 1024.   720.]\n",
      " [  256.   720.]]\n",
      "SRC [[  588.79998779   446.3999939 ]\n",
      " [  691.20001221   446.3999939 ]\n",
      " [ 1126.40002441   673.20001221]\n",
      " [  153.6000061    673.20001221]]\n"
     ]
    },
    {
     "name": "stderr",
     "output_type": "stream",
     "text": [
      "\u001b[A\u001b[A\u001b[A\u001b[A\u001b[A\n",
      "\n",
      "\n",
      "\n",
      "\n",
      " 65%|██████▌   | 317/485 [00:41<00:22,  7.58it/s]"
     ]
    },
    {
     "name": "stdout",
     "output_type": "stream",
     "text": [
      "DEST [[  256.     0.]\n",
      " [ 1024.     0.]\n",
      " [ 1024.   720.]\n",
      " [  256.   720.]]\n",
      "SRC [[  588.79998779   446.3999939 ]\n",
      " [  691.20001221   446.3999939 ]\n",
      " [ 1126.40002441   673.20001221]\n",
      " [  153.6000061    673.20001221]]\n"
     ]
    },
    {
     "name": "stderr",
     "output_type": "stream",
     "text": [
      "\u001b[A\u001b[A\u001b[A\u001b[A\u001b[A\n",
      "\n",
      "\n",
      "\n",
      "\n",
      " 66%|██████▌   | 318/485 [00:41<00:22,  7.48it/s]"
     ]
    },
    {
     "name": "stdout",
     "output_type": "stream",
     "text": [
      "DEST [[  256.     0.]\n",
      " [ 1024.     0.]\n",
      " [ 1024.   720.]\n",
      " [  256.   720.]]\n",
      "SRC [[  588.79998779   446.3999939 ]\n",
      " [  691.20001221   446.3999939 ]\n",
      " [ 1126.40002441   673.20001221]\n",
      " [  153.6000061    673.20001221]]\n"
     ]
    },
    {
     "name": "stderr",
     "output_type": "stream",
     "text": [
      "\u001b[A\u001b[A\u001b[A\u001b[A\u001b[A\n",
      "\n",
      "\n",
      "\n",
      "\n",
      " 66%|██████▌   | 319/485 [00:41<00:22,  7.53it/s]"
     ]
    },
    {
     "name": "stdout",
     "output_type": "stream",
     "text": [
      "DEST [[  256.     0.]\n",
      " [ 1024.     0.]\n",
      " [ 1024.   720.]\n",
      " [  256.   720.]]\n",
      "SRC [[  588.79998779   446.3999939 ]\n",
      " [  691.20001221   446.3999939 ]\n",
      " [ 1126.40002441   673.20001221]\n",
      " [  153.6000061    673.20001221]]\n"
     ]
    },
    {
     "name": "stderr",
     "output_type": "stream",
     "text": [
      "\u001b[A\u001b[A\u001b[A\u001b[A\u001b[A\n",
      "\n",
      "\n",
      "\n",
      "\n",
      " 66%|██████▌   | 320/485 [00:41<00:22,  7.37it/s]"
     ]
    },
    {
     "name": "stdout",
     "output_type": "stream",
     "text": [
      "DEST [[  256.     0.]\n",
      " [ 1024.     0.]\n",
      " [ 1024.   720.]\n",
      " [  256.   720.]]\n",
      "SRC [[  588.79998779   446.3999939 ]\n",
      " [  691.20001221   446.3999939 ]\n",
      " [ 1126.40002441   673.20001221]\n",
      " [  153.6000061    673.20001221]]\n"
     ]
    },
    {
     "name": "stderr",
     "output_type": "stream",
     "text": [
      "\u001b[A\u001b[A\u001b[A\u001b[A\u001b[A\n",
      "\n",
      "\n",
      "\n",
      "\n",
      " 66%|██████▌   | 321/485 [00:41<00:22,  7.37it/s]"
     ]
    },
    {
     "name": "stdout",
     "output_type": "stream",
     "text": [
      "DEST [[  256.     0.]\n",
      " [ 1024.     0.]\n",
      " [ 1024.   720.]\n",
      " [  256.   720.]]\n",
      "SRC [[  588.79998779   446.3999939 ]\n",
      " [  691.20001221   446.3999939 ]\n",
      " [ 1126.40002441   673.20001221]\n",
      " [  153.6000061    673.20001221]]\n"
     ]
    },
    {
     "name": "stderr",
     "output_type": "stream",
     "text": [
      "\u001b[A\u001b[A\u001b[A\u001b[A\u001b[A\n",
      "\n",
      "\n",
      "\n",
      "\n",
      " 66%|██████▋   | 322/485 [00:41<00:21,  7.44it/s]"
     ]
    },
    {
     "name": "stdout",
     "output_type": "stream",
     "text": [
      "DEST [[  256.     0.]\n",
      " [ 1024.     0.]\n",
      " [ 1024.   720.]\n",
      " [  256.   720.]]\n",
      "SRC [[  588.79998779   446.3999939 ]\n",
      " [  691.20001221   446.3999939 ]\n",
      " [ 1126.40002441   673.20001221]\n",
      " [  153.6000061    673.20001221]]\n"
     ]
    },
    {
     "name": "stderr",
     "output_type": "stream",
     "text": [
      "\u001b[A\u001b[A\u001b[A\u001b[A\u001b[A\n",
      "\n",
      "\n",
      "\n",
      "\n",
      " 67%|██████▋   | 323/485 [00:41<00:21,  7.44it/s]"
     ]
    },
    {
     "name": "stdout",
     "output_type": "stream",
     "text": [
      "DEST [[  256.     0.]\n",
      " [ 1024.     0.]\n",
      " [ 1024.   720.]\n",
      " [  256.   720.]]\n",
      "SRC [[  588.79998779   446.3999939 ]\n",
      " [  691.20001221   446.3999939 ]\n",
      " [ 1126.40002441   673.20001221]\n",
      " [  153.6000061    673.20001221]]\n"
     ]
    },
    {
     "name": "stderr",
     "output_type": "stream",
     "text": [
      "\u001b[A\u001b[A\u001b[A\u001b[A\u001b[A\n",
      "\n",
      "\n",
      "\n",
      "\n",
      " 67%|██████▋   | 324/485 [00:42<00:21,  7.47it/s]"
     ]
    },
    {
     "name": "stdout",
     "output_type": "stream",
     "text": [
      "DEST [[  256.     0.]\n",
      " [ 1024.     0.]\n",
      " [ 1024.   720.]\n",
      " [  256.   720.]]\n",
      "SRC [[  588.79998779   446.3999939 ]\n",
      " [  691.20001221   446.3999939 ]\n",
      " [ 1126.40002441   673.20001221]\n",
      " [  153.6000061    673.20001221]]\n"
     ]
    },
    {
     "name": "stderr",
     "output_type": "stream",
     "text": [
      "\u001b[A\u001b[A\u001b[A\u001b[A\u001b[A\n",
      "\n",
      "\n",
      "\n",
      "\n",
      " 67%|██████▋   | 325/485 [00:42<00:21,  7.38it/s]"
     ]
    },
    {
     "name": "stdout",
     "output_type": "stream",
     "text": [
      "DEST [[  256.     0.]\n",
      " [ 1024.     0.]\n",
      " [ 1024.   720.]\n",
      " [  256.   720.]]\n",
      "SRC [[  588.79998779   446.3999939 ]\n",
      " [  691.20001221   446.3999939 ]\n",
      " [ 1126.40002441   673.20001221]\n",
      " [  153.6000061    673.20001221]]\n"
     ]
    },
    {
     "name": "stderr",
     "output_type": "stream",
     "text": [
      "\u001b[A\u001b[A\u001b[A\u001b[A\u001b[A\n",
      "\n",
      "\n",
      "\n",
      "\n",
      " 67%|██████▋   | 326/485 [00:42<00:22,  7.21it/s]"
     ]
    },
    {
     "name": "stdout",
     "output_type": "stream",
     "text": [
      "DEST [[  256.     0.]\n",
      " [ 1024.     0.]\n",
      " [ 1024.   720.]\n",
      " [  256.   720.]]\n",
      "SRC [[  588.79998779   446.3999939 ]\n",
      " [  691.20001221   446.3999939 ]\n",
      " [ 1126.40002441   673.20001221]\n",
      " [  153.6000061    673.20001221]]\n"
     ]
    },
    {
     "name": "stderr",
     "output_type": "stream",
     "text": [
      "\u001b[A\u001b[A\u001b[A\u001b[A\u001b[A\n",
      "\n",
      "\n",
      "\n",
      "\n",
      " 67%|██████▋   | 327/485 [00:42<00:21,  7.29it/s]"
     ]
    },
    {
     "name": "stdout",
     "output_type": "stream",
     "text": [
      "DEST [[  256.     0.]\n",
      " [ 1024.     0.]\n",
      " [ 1024.   720.]\n",
      " [  256.   720.]]\n",
      "SRC [[  588.79998779   446.3999939 ]\n",
      " [  691.20001221   446.3999939 ]\n",
      " [ 1126.40002441   673.20001221]\n",
      " [  153.6000061    673.20001221]]\n"
     ]
    },
    {
     "name": "stderr",
     "output_type": "stream",
     "text": [
      "\u001b[A\u001b[A\u001b[A\u001b[A\u001b[A\n",
      "\n",
      "\n",
      "\n",
      "\n",
      " 68%|██████▊   | 328/485 [00:42<00:21,  7.39it/s]"
     ]
    },
    {
     "name": "stdout",
     "output_type": "stream",
     "text": [
      "DEST [[  256.     0.]\n",
      " [ 1024.     0.]\n",
      " [ 1024.   720.]\n",
      " [  256.   720.]]\n",
      "SRC [[  588.79998779   446.3999939 ]\n",
      " [  691.20001221   446.3999939 ]\n",
      " [ 1126.40002441   673.20001221]\n",
      " [  153.6000061    673.20001221]]\n"
     ]
    },
    {
     "name": "stderr",
     "output_type": "stream",
     "text": [
      "\u001b[A\u001b[A\u001b[A\u001b[A\u001b[A\n",
      "\n",
      "\n",
      "\n",
      "\n",
      " 68%|██████▊   | 329/485 [00:42<00:21,  7.37it/s]"
     ]
    },
    {
     "name": "stdout",
     "output_type": "stream",
     "text": [
      "DEST [[  256.     0.]\n",
      " [ 1024.     0.]\n",
      " [ 1024.   720.]\n",
      " [  256.   720.]]\n",
      "SRC [[  588.79998779   446.3999939 ]\n",
      " [  691.20001221   446.3999939 ]\n",
      " [ 1126.40002441   673.20001221]\n",
      " [  153.6000061    673.20001221]]\n"
     ]
    },
    {
     "name": "stderr",
     "output_type": "stream",
     "text": [
      "\u001b[A\u001b[A\u001b[A\u001b[A\u001b[A\n",
      "\n",
      "\n",
      "\n",
      "\n",
      " 68%|██████▊   | 330/485 [00:42<00:21,  7.29it/s]"
     ]
    },
    {
     "name": "stdout",
     "output_type": "stream",
     "text": [
      "DEST [[  256.     0.]\n",
      " [ 1024.     0.]\n",
      " [ 1024.   720.]\n",
      " [  256.   720.]]\n",
      "SRC [[  588.79998779   446.3999939 ]\n",
      " [  691.20001221   446.3999939 ]\n",
      " [ 1126.40002441   673.20001221]\n",
      " [  153.6000061    673.20001221]]\n"
     ]
    },
    {
     "name": "stderr",
     "output_type": "stream",
     "text": [
      "\u001b[A\u001b[A\u001b[A\u001b[A\u001b[A\n",
      "\n",
      "\n",
      "\n",
      "\n",
      " 68%|██████▊   | 331/485 [00:43<00:21,  7.18it/s]"
     ]
    },
    {
     "name": "stdout",
     "output_type": "stream",
     "text": [
      "DEST [[  256.     0.]\n",
      " [ 1024.     0.]\n",
      " [ 1024.   720.]\n",
      " [  256.   720.]]\n",
      "SRC [[  588.79998779   446.3999939 ]\n",
      " [  691.20001221   446.3999939 ]\n",
      " [ 1126.40002441   673.20001221]\n",
      " [  153.6000061    673.20001221]]\n"
     ]
    },
    {
     "name": "stderr",
     "output_type": "stream",
     "text": [
      "\u001b[A\u001b[A\u001b[A\u001b[A\u001b[A\n",
      "\n",
      "\n",
      "\n",
      "\n",
      " 68%|██████▊   | 332/485 [00:43<00:21,  7.05it/s]"
     ]
    },
    {
     "name": "stdout",
     "output_type": "stream",
     "text": [
      "DEST [[  256.     0.]\n",
      " [ 1024.     0.]\n",
      " [ 1024.   720.]\n",
      " [  256.   720.]]\n",
      "SRC [[  588.79998779   446.3999939 ]\n",
      " [  691.20001221   446.3999939 ]\n",
      " [ 1126.40002441   673.20001221]\n",
      " [  153.6000061    673.20001221]]\n"
     ]
    },
    {
     "name": "stderr",
     "output_type": "stream",
     "text": [
      "\u001b[A\u001b[A\u001b[A\u001b[A\u001b[A\n",
      "\n",
      "\n",
      "\n",
      "\n",
      " 69%|██████▊   | 333/485 [00:43<00:21,  7.02it/s]"
     ]
    },
    {
     "name": "stdout",
     "output_type": "stream",
     "text": [
      "DEST [[  256.     0.]\n",
      " [ 1024.     0.]\n",
      " [ 1024.   720.]\n",
      " [  256.   720.]]\n",
      "SRC [[  588.79998779   446.3999939 ]\n",
      " [  691.20001221   446.3999939 ]\n",
      " [ 1126.40002441   673.20001221]\n",
      " [  153.6000061    673.20001221]]\n"
     ]
    },
    {
     "name": "stderr",
     "output_type": "stream",
     "text": [
      "\u001b[A\u001b[A\u001b[A\u001b[A\u001b[A\n",
      "\n",
      "\n",
      "\n",
      "\n",
      " 69%|██████▉   | 334/485 [00:43<00:21,  7.05it/s]"
     ]
    },
    {
     "name": "stdout",
     "output_type": "stream",
     "text": [
      "DEST [[  256.     0.]\n",
      " [ 1024.     0.]\n",
      " [ 1024.   720.]\n",
      " [  256.   720.]]\n",
      "SRC [[  588.79998779   446.3999939 ]\n",
      " [  691.20001221   446.3999939 ]\n",
      " [ 1126.40002441   673.20001221]\n",
      " [  153.6000061    673.20001221]]\n"
     ]
    },
    {
     "name": "stderr",
     "output_type": "stream",
     "text": [
      "\u001b[A\u001b[A\u001b[A\u001b[A\u001b[A\n",
      "\n",
      "\n",
      "\n",
      "\n",
      " 69%|██████▉   | 335/485 [00:43<00:21,  7.10it/s]"
     ]
    },
    {
     "name": "stdout",
     "output_type": "stream",
     "text": [
      "DEST [[  256.     0.]\n",
      " [ 1024.     0.]\n",
      " [ 1024.   720.]\n",
      " [  256.   720.]]\n",
      "SRC [[  588.79998779   446.3999939 ]\n",
      " [  691.20001221   446.3999939 ]\n",
      " [ 1126.40002441   673.20001221]\n",
      " [  153.6000061    673.20001221]]\n"
     ]
    },
    {
     "name": "stderr",
     "output_type": "stream",
     "text": [
      "\u001b[A\u001b[A\u001b[A\u001b[A\u001b[A\n",
      "\n",
      "\n",
      "\n",
      "\n",
      " 69%|██████▉   | 336/485 [00:43<00:21,  7.03it/s]"
     ]
    },
    {
     "name": "stdout",
     "output_type": "stream",
     "text": [
      "DEST [[  256.     0.]\n",
      " [ 1024.     0.]\n",
      " [ 1024.   720.]\n",
      " [  256.   720.]]\n",
      "SRC [[  588.79998779   446.3999939 ]\n",
      " [  691.20001221   446.3999939 ]\n",
      " [ 1126.40002441   673.20001221]\n",
      " [  153.6000061    673.20001221]]\n"
     ]
    },
    {
     "name": "stderr",
     "output_type": "stream",
     "text": [
      "\u001b[A\u001b[A\u001b[A\u001b[A\u001b[A\n",
      "\n",
      "\n",
      "\n",
      "\n",
      " 69%|██████▉   | 337/485 [00:43<00:21,  7.05it/s]"
     ]
    },
    {
     "name": "stdout",
     "output_type": "stream",
     "text": [
      "DEST [[  256.     0.]\n",
      " [ 1024.     0.]\n",
      " [ 1024.   720.]\n",
      " [  256.   720.]]\n",
      "SRC [[  588.79998779   446.3999939 ]\n",
      " [  691.20001221   446.3999939 ]\n",
      " [ 1126.40002441   673.20001221]\n",
      " [  153.6000061    673.20001221]]\n"
     ]
    },
    {
     "name": "stderr",
     "output_type": "stream",
     "text": [
      "\u001b[A\u001b[A\u001b[A\u001b[A\u001b[A\n",
      "\n",
      "\n",
      "\n",
      "\n",
      " 70%|██████▉   | 338/485 [00:44<00:20,  7.05it/s]"
     ]
    },
    {
     "name": "stdout",
     "output_type": "stream",
     "text": [
      "DEST [[  256.     0.]\n",
      " [ 1024.     0.]\n",
      " [ 1024.   720.]\n",
      " [  256.   720.]]\n",
      "SRC [[  588.79998779   446.3999939 ]\n",
      " [  691.20001221   446.3999939 ]\n",
      " [ 1126.40002441   673.20001221]\n",
      " [  153.6000061    673.20001221]]\n"
     ]
    },
    {
     "name": "stderr",
     "output_type": "stream",
     "text": [
      "\u001b[A\u001b[A\u001b[A\u001b[A\u001b[A\n",
      "\n",
      "\n",
      "\n",
      "\n",
      " 70%|██████▉   | 339/485 [00:44<00:20,  7.11it/s]"
     ]
    },
    {
     "name": "stdout",
     "output_type": "stream",
     "text": [
      "DEST [[  256.     0.]\n",
      " [ 1024.     0.]\n",
      " [ 1024.   720.]\n",
      " [  256.   720.]]\n",
      "SRC [[  588.79998779   446.3999939 ]\n",
      " [  691.20001221   446.3999939 ]\n",
      " [ 1126.40002441   673.20001221]\n",
      " [  153.6000061    673.20001221]]\n"
     ]
    },
    {
     "name": "stderr",
     "output_type": "stream",
     "text": [
      "\u001b[A\u001b[A\u001b[A\u001b[A\u001b[A\n",
      "\n",
      "\n",
      "\n",
      "\n",
      " 70%|███████   | 340/485 [00:44<00:20,  7.02it/s]"
     ]
    },
    {
     "name": "stdout",
     "output_type": "stream",
     "text": [
      "DEST [[  256.     0.]\n",
      " [ 1024.     0.]\n",
      " [ 1024.   720.]\n",
      " [  256.   720.]]\n",
      "SRC [[  588.79998779   446.3999939 ]\n",
      " [  691.20001221   446.3999939 ]\n",
      " [ 1126.40002441   673.20001221]\n",
      " [  153.6000061    673.20001221]]\n"
     ]
    },
    {
     "name": "stderr",
     "output_type": "stream",
     "text": [
      "\u001b[A\u001b[A\u001b[A\u001b[A\u001b[A\n",
      "\n",
      "\n",
      "\n",
      "\n",
      " 70%|███████   | 341/485 [00:44<00:20,  7.05it/s]"
     ]
    },
    {
     "name": "stdout",
     "output_type": "stream",
     "text": [
      "DEST [[  256.     0.]\n",
      " [ 1024.     0.]\n",
      " [ 1024.   720.]\n",
      " [  256.   720.]]\n",
      "SRC [[  588.79998779   446.3999939 ]\n",
      " [  691.20001221   446.3999939 ]\n",
      " [ 1126.40002441   673.20001221]\n",
      " [  153.6000061    673.20001221]]\n"
     ]
    },
    {
     "name": "stderr",
     "output_type": "stream",
     "text": [
      "\u001b[A\u001b[A\u001b[A\u001b[A\u001b[A\n",
      "\n",
      "\n",
      "\n",
      "\n",
      " 71%|███████   | 342/485 [00:44<00:20,  7.10it/s]"
     ]
    },
    {
     "name": "stdout",
     "output_type": "stream",
     "text": [
      "DEST [[  256.     0.]\n",
      " [ 1024.     0.]\n",
      " [ 1024.   720.]\n",
      " [  256.   720.]]\n",
      "SRC [[  588.79998779   446.3999939 ]\n",
      " [  691.20001221   446.3999939 ]\n",
      " [ 1126.40002441   673.20001221]\n",
      " [  153.6000061    673.20001221]]\n"
     ]
    },
    {
     "name": "stderr",
     "output_type": "stream",
     "text": [
      "\u001b[A\u001b[A\u001b[A\u001b[A\u001b[A\n",
      "\n",
      "\n",
      "\n",
      "\n",
      " 71%|███████   | 343/485 [00:44<00:20,  7.04it/s]"
     ]
    },
    {
     "name": "stdout",
     "output_type": "stream",
     "text": [
      "DEST [[  256.     0.]\n",
      " [ 1024.     0.]\n",
      " [ 1024.   720.]\n",
      " [  256.   720.]]\n",
      "SRC [[  588.79998779   446.3999939 ]\n",
      " [  691.20001221   446.3999939 ]\n",
      " [ 1126.40002441   673.20001221]\n",
      " [  153.6000061    673.20001221]]\n"
     ]
    },
    {
     "name": "stderr",
     "output_type": "stream",
     "text": [
      "\u001b[A\u001b[A\u001b[A\u001b[A\u001b[A\n",
      "\n",
      "\n",
      "\n",
      "\n",
      " 71%|███████   | 344/485 [00:44<00:19,  7.15it/s]"
     ]
    },
    {
     "name": "stdout",
     "output_type": "stream",
     "text": [
      "DEST [[  256.     0.]\n",
      " [ 1024.     0.]\n",
      " [ 1024.   720.]\n",
      " [  256.   720.]]\n",
      "SRC [[  588.79998779   446.3999939 ]\n",
      " [  691.20001221   446.3999939 ]\n",
      " [ 1126.40002441   673.20001221]\n",
      " [  153.6000061    673.20001221]]\n"
     ]
    },
    {
     "name": "stderr",
     "output_type": "stream",
     "text": [
      "\u001b[A\u001b[A\u001b[A\u001b[A\u001b[A\n",
      "\n",
      "\n",
      "\n",
      "\n",
      " 71%|███████   | 345/485 [00:44<00:19,  7.26it/s]"
     ]
    },
    {
     "name": "stdout",
     "output_type": "stream",
     "text": [
      "DEST [[  256.     0.]\n",
      " [ 1024.     0.]\n",
      " [ 1024.   720.]\n",
      " [  256.   720.]]\n",
      "SRC [[  588.79998779   446.3999939 ]\n",
      " [  691.20001221   446.3999939 ]\n",
      " [ 1126.40002441   673.20001221]\n",
      " [  153.6000061    673.20001221]]\n"
     ]
    },
    {
     "name": "stderr",
     "output_type": "stream",
     "text": [
      "\u001b[A\u001b[A\u001b[A\u001b[A\u001b[A\n",
      "\n",
      "\n",
      "\n",
      "\n",
      " 71%|███████▏  | 346/485 [00:45<00:18,  7.34it/s]"
     ]
    },
    {
     "name": "stdout",
     "output_type": "stream",
     "text": [
      "DEST [[  256.     0.]\n",
      " [ 1024.     0.]\n",
      " [ 1024.   720.]\n",
      " [  256.   720.]]\n",
      "SRC [[  588.79998779   446.3999939 ]\n",
      " [  691.20001221   446.3999939 ]\n",
      " [ 1126.40002441   673.20001221]\n",
      " [  153.6000061    673.20001221]]\n"
     ]
    },
    {
     "name": "stderr",
     "output_type": "stream",
     "text": [
      "\u001b[A\u001b[A\u001b[A\u001b[A\u001b[A\n",
      "\n",
      "\n",
      "\n",
      "\n",
      " 72%|███████▏  | 347/485 [00:45<00:18,  7.30it/s]"
     ]
    },
    {
     "name": "stdout",
     "output_type": "stream",
     "text": [
      "DEST [[  256.     0.]\n",
      " [ 1024.     0.]\n",
      " [ 1024.   720.]\n",
      " [  256.   720.]]\n",
      "SRC [[  588.79998779   446.3999939 ]\n",
      " [  691.20001221   446.3999939 ]\n",
      " [ 1126.40002441   673.20001221]\n",
      " [  153.6000061    673.20001221]]\n"
     ]
    },
    {
     "name": "stderr",
     "output_type": "stream",
     "text": [
      "\u001b[A\u001b[A\u001b[A\u001b[A\u001b[A"
     ]
    },
    {
     "name": "stdout",
     "output_type": "stream",
     "text": [
      "DEST [[  256.     0.]\n",
      " [ 1024.     0.]\n",
      " [ 1024.   720.]\n",
      " [  256.   720.]]\n",
      "SRC [[  588.79998779   446.3999939 ]\n",
      " [  691.20001221   446.3999939 ]\n",
      " [ 1126.40002441   673.20001221]\n",
      " [  153.6000061    673.20001221]]\n"
     ]
    },
    {
     "name": "stderr",
     "output_type": "stream",
     "text": [
      "\n",
      "\n",
      "\n",
      "\n",
      "\n",
      " 72%|███████▏  | 348/485 [00:45<00:19,  7.02it/s]\u001b[A\u001b[A\u001b[A\u001b[A\u001b[A\n",
      "\n",
      "\n",
      "\n",
      "\n",
      " 72%|███████▏  | 349/485 [00:45<00:19,  6.96it/s]"
     ]
    },
    {
     "name": "stdout",
     "output_type": "stream",
     "text": [
      "DEST [[  256.     0.]\n",
      " [ 1024.     0.]\n",
      " [ 1024.   720.]\n",
      " [  256.   720.]]\n",
      "SRC [[  588.79998779   446.3999939 ]\n",
      " [  691.20001221   446.3999939 ]\n",
      " [ 1126.40002441   673.20001221]\n",
      " [  153.6000061    673.20001221]]\n"
     ]
    },
    {
     "name": "stderr",
     "output_type": "stream",
     "text": [
      "\u001b[A\u001b[A\u001b[A\u001b[A\u001b[A"
     ]
    },
    {
     "name": "stdout",
     "output_type": "stream",
     "text": [
      "DEST [[  256.     0.]\n",
      " [ 1024.     0.]\n",
      " [ 1024.   720.]\n",
      " [  256.   720.]]\n",
      "SRC [[  588.79998779   446.3999939 ]\n",
      " [  691.20001221   446.3999939 ]\n",
      " [ 1126.40002441   673.20001221]\n",
      " [  153.6000061    673.20001221]]\n"
     ]
    },
    {
     "name": "stderr",
     "output_type": "stream",
     "text": [
      "\n",
      "\n",
      "\n",
      "\n",
      "\n",
      " 72%|███████▏  | 350/485 [00:45<00:19,  6.80it/s]\u001b[A\u001b[A\u001b[A\u001b[A\u001b[A"
     ]
    },
    {
     "name": "stdout",
     "output_type": "stream",
     "text": [
      "DEST [[  256.     0.]\n",
      " [ 1024.     0.]\n",
      " [ 1024.   720.]\n",
      " [  256.   720.]]\n",
      "SRC [[  588.79998779   446.3999939 ]\n",
      " [  691.20001221   446.3999939 ]\n",
      " [ 1126.40002441   673.20001221]\n",
      " [  153.6000061    673.20001221]]\n"
     ]
    },
    {
     "name": "stderr",
     "output_type": "stream",
     "text": [
      "\n",
      "\n",
      "\n",
      "\n",
      "\n",
      " 72%|███████▏  | 351/485 [00:45<00:19,  6.75it/s]\u001b[A\u001b[A\u001b[A\u001b[A\u001b[A"
     ]
    },
    {
     "name": "stdout",
     "output_type": "stream",
     "text": [
      "DEST [[  256.     0.]\n",
      " [ 1024.     0.]\n",
      " [ 1024.   720.]\n",
      " [  256.   720.]]\n",
      "SRC [[  588.79998779   446.3999939 ]\n",
      " [  691.20001221   446.3999939 ]\n",
      " [ 1126.40002441   673.20001221]\n",
      " [  153.6000061    673.20001221]]\n"
     ]
    },
    {
     "name": "stderr",
     "output_type": "stream",
     "text": [
      "\n",
      "\n",
      "\n",
      "\n",
      "\n",
      " 73%|███████▎  | 352/485 [00:46<00:20,  6.58it/s]\u001b[A\u001b[A\u001b[A\u001b[A\u001b[A\n",
      "\n",
      "\n",
      "\n",
      "\n",
      " 73%|███████▎  | 353/485 [00:46<00:19,  6.77it/s]"
     ]
    },
    {
     "name": "stdout",
     "output_type": "stream",
     "text": [
      "DEST [[  256.     0.]\n",
      " [ 1024.     0.]\n",
      " [ 1024.   720.]\n",
      " [  256.   720.]]\n",
      "SRC [[  588.79998779   446.3999939 ]\n",
      " [  691.20001221   446.3999939 ]\n",
      " [ 1126.40002441   673.20001221]\n",
      " [  153.6000061    673.20001221]]\n"
     ]
    },
    {
     "name": "stderr",
     "output_type": "stream",
     "text": [
      "\u001b[A\u001b[A\u001b[A\u001b[A\u001b[A\n",
      "\n",
      "\n",
      "\n",
      "\n",
      " 73%|███████▎  | 354/485 [00:46<00:19,  6.89it/s]"
     ]
    },
    {
     "name": "stdout",
     "output_type": "stream",
     "text": [
      "DEST [[  256.     0.]\n",
      " [ 1024.     0.]\n",
      " [ 1024.   720.]\n",
      " [  256.   720.]]\n",
      "SRC [[  588.79998779   446.3999939 ]\n",
      " [  691.20001221   446.3999939 ]\n",
      " [ 1126.40002441   673.20001221]\n",
      " [  153.6000061    673.20001221]]\n"
     ]
    },
    {
     "name": "stderr",
     "output_type": "stream",
     "text": [
      "\u001b[A\u001b[A\u001b[A\u001b[A\u001b[A\n",
      "\n",
      "\n",
      "\n",
      "\n",
      " 73%|███████▎  | 355/485 [00:46<00:18,  6.97it/s]"
     ]
    },
    {
     "name": "stdout",
     "output_type": "stream",
     "text": [
      "DEST [[  256.     0.]\n",
      " [ 1024.     0.]\n",
      " [ 1024.   720.]\n",
      " [  256.   720.]]\n",
      "SRC [[  588.79998779   446.3999939 ]\n",
      " [  691.20001221   446.3999939 ]\n",
      " [ 1126.40002441   673.20001221]\n",
      " [  153.6000061    673.20001221]]\n"
     ]
    },
    {
     "name": "stderr",
     "output_type": "stream",
     "text": [
      "\u001b[A\u001b[A\u001b[A\u001b[A\u001b[A\n",
      "\n",
      "\n",
      "\n",
      "\n",
      " 73%|███████▎  | 356/485 [00:46<00:18,  7.05it/s]"
     ]
    },
    {
     "name": "stdout",
     "output_type": "stream",
     "text": [
      "DEST [[  256.     0.]\n",
      " [ 1024.     0.]\n",
      " [ 1024.   720.]\n",
      " [  256.   720.]]\n",
      "SRC [[  588.79998779   446.3999939 ]\n",
      " [  691.20001221   446.3999939 ]\n",
      " [ 1126.40002441   673.20001221]\n",
      " [  153.6000061    673.20001221]]\n"
     ]
    },
    {
     "name": "stderr",
     "output_type": "stream",
     "text": [
      "\u001b[A\u001b[A\u001b[A\u001b[A\u001b[A\n",
      "\n",
      "\n",
      "\n",
      "\n",
      " 74%|███████▎  | 357/485 [00:46<00:18,  7.06it/s]"
     ]
    },
    {
     "name": "stdout",
     "output_type": "stream",
     "text": [
      "DEST [[  256.     0.]\n",
      " [ 1024.     0.]\n",
      " [ 1024.   720.]\n",
      " [  256.   720.]]\n",
      "SRC [[  588.79998779   446.3999939 ]\n",
      " [  691.20001221   446.3999939 ]\n",
      " [ 1126.40002441   673.20001221]\n",
      " [  153.6000061    673.20001221]]\n"
     ]
    },
    {
     "name": "stderr",
     "output_type": "stream",
     "text": [
      "\u001b[A\u001b[A\u001b[A\u001b[A\u001b[A\n",
      "\n",
      "\n",
      "\n",
      "\n",
      " 74%|███████▍  | 358/485 [00:46<00:17,  7.13it/s]"
     ]
    },
    {
     "name": "stdout",
     "output_type": "stream",
     "text": [
      "DEST [[  256.     0.]\n",
      " [ 1024.     0.]\n",
      " [ 1024.   720.]\n",
      " [  256.   720.]]\n",
      "SRC [[  588.79998779   446.3999939 ]\n",
      " [  691.20001221   446.3999939 ]\n",
      " [ 1126.40002441   673.20001221]\n",
      " [  153.6000061    673.20001221]]\n"
     ]
    },
    {
     "name": "stderr",
     "output_type": "stream",
     "text": [
      "\u001b[A\u001b[A\u001b[A\u001b[A\u001b[A\n",
      "\n",
      "\n",
      "\n",
      "\n",
      " 74%|███████▍  | 359/485 [00:47<00:17,  7.20it/s]"
     ]
    },
    {
     "name": "stdout",
     "output_type": "stream",
     "text": [
      "DEST [[  256.     0.]\n",
      " [ 1024.     0.]\n",
      " [ 1024.   720.]\n",
      " [  256.   720.]]\n",
      "SRC [[  588.79998779   446.3999939 ]\n",
      " [  691.20001221   446.3999939 ]\n",
      " [ 1126.40002441   673.20001221]\n",
      " [  153.6000061    673.20001221]]\n"
     ]
    },
    {
     "name": "stderr",
     "output_type": "stream",
     "text": [
      "\u001b[A\u001b[A\u001b[A\u001b[A\u001b[A\n",
      "\n",
      "\n",
      "\n",
      "\n",
      " 74%|███████▍  | 360/485 [00:47<00:17,  7.13it/s]"
     ]
    },
    {
     "name": "stdout",
     "output_type": "stream",
     "text": [
      "DEST [[  256.     0.]\n",
      " [ 1024.     0.]\n",
      " [ 1024.   720.]\n",
      " [  256.   720.]]\n",
      "SRC [[  588.79998779   446.3999939 ]\n",
      " [  691.20001221   446.3999939 ]\n",
      " [ 1126.40002441   673.20001221]\n",
      " [  153.6000061    673.20001221]]\n"
     ]
    },
    {
     "name": "stderr",
     "output_type": "stream",
     "text": [
      "\u001b[A\u001b[A\u001b[A\u001b[A\u001b[A\n",
      "\n",
      "\n",
      "\n",
      "\n",
      " 74%|███████▍  | 361/485 [00:47<00:17,  7.19it/s]"
     ]
    },
    {
     "name": "stdout",
     "output_type": "stream",
     "text": [
      "DEST [[  256.     0.]\n",
      " [ 1024.     0.]\n",
      " [ 1024.   720.]\n",
      " [  256.   720.]]\n",
      "SRC [[  588.79998779   446.3999939 ]\n",
      " [  691.20001221   446.3999939 ]\n",
      " [ 1126.40002441   673.20001221]\n",
      " [  153.6000061    673.20001221]]\n"
     ]
    },
    {
     "name": "stderr",
     "output_type": "stream",
     "text": [
      "\u001b[A\u001b[A\u001b[A\u001b[A\u001b[A\n",
      "\n",
      "\n",
      "\n",
      "\n",
      " 75%|███████▍  | 362/485 [00:47<00:16,  7.26it/s]"
     ]
    },
    {
     "name": "stdout",
     "output_type": "stream",
     "text": [
      "DEST [[  256.     0.]\n",
      " [ 1024.     0.]\n",
      " [ 1024.   720.]\n",
      " [  256.   720.]]\n",
      "SRC [[  588.79998779   446.3999939 ]\n",
      " [  691.20001221   446.3999939 ]\n",
      " [ 1126.40002441   673.20001221]\n",
      " [  153.6000061    673.20001221]]\n"
     ]
    },
    {
     "name": "stderr",
     "output_type": "stream",
     "text": [
      "\u001b[A\u001b[A\u001b[A\u001b[A\u001b[A\n",
      "\n",
      "\n",
      "\n",
      "\n",
      " 75%|███████▍  | 363/485 [00:47<00:16,  7.38it/s]"
     ]
    },
    {
     "name": "stdout",
     "output_type": "stream",
     "text": [
      "DEST [[  256.     0.]\n",
      " [ 1024.     0.]\n",
      " [ 1024.   720.]\n",
      " [  256.   720.]]\n",
      "SRC [[  588.79998779   446.3999939 ]\n",
      " [  691.20001221   446.3999939 ]\n",
      " [ 1126.40002441   673.20001221]\n",
      " [  153.6000061    673.20001221]]\n"
     ]
    },
    {
     "name": "stderr",
     "output_type": "stream",
     "text": [
      "\u001b[A\u001b[A\u001b[A\u001b[A\u001b[A\n",
      "\n",
      "\n",
      "\n",
      "\n",
      " 75%|███████▌  | 364/485 [00:47<00:16,  7.33it/s]"
     ]
    },
    {
     "name": "stdout",
     "output_type": "stream",
     "text": [
      "DEST [[  256.     0.]\n",
      " [ 1024.     0.]\n",
      " [ 1024.   720.]\n",
      " [  256.   720.]]\n",
      "SRC [[  588.79998779   446.3999939 ]\n",
      " [  691.20001221   446.3999939 ]\n",
      " [ 1126.40002441   673.20001221]\n",
      " [  153.6000061    673.20001221]]\n"
     ]
    },
    {
     "name": "stderr",
     "output_type": "stream",
     "text": [
      "\u001b[A\u001b[A\u001b[A\u001b[A\u001b[A\n",
      "\n",
      "\n",
      "\n",
      "\n",
      " 75%|███████▌  | 365/485 [00:47<00:16,  7.19it/s]"
     ]
    },
    {
     "name": "stdout",
     "output_type": "stream",
     "text": [
      "DEST [[  256.     0.]\n",
      " [ 1024.     0.]\n",
      " [ 1024.   720.]\n",
      " [  256.   720.]]\n",
      "SRC [[  588.79998779   446.3999939 ]\n",
      " [  691.20001221   446.3999939 ]\n",
      " [ 1126.40002441   673.20001221]\n",
      " [  153.6000061    673.20001221]]\n"
     ]
    },
    {
     "name": "stderr",
     "output_type": "stream",
     "text": [
      "\u001b[A\u001b[A\u001b[A\u001b[A\u001b[A\n",
      "\n",
      "\n",
      "\n",
      "\n",
      " 75%|███████▌  | 366/485 [00:47<00:16,  7.11it/s]"
     ]
    },
    {
     "name": "stdout",
     "output_type": "stream",
     "text": [
      "DEST [[  256.     0.]\n",
      " [ 1024.     0.]\n",
      " [ 1024.   720.]\n",
      " [  256.   720.]]\n",
      "SRC [[  588.79998779   446.3999939 ]\n",
      " [  691.20001221   446.3999939 ]\n",
      " [ 1126.40002441   673.20001221]\n",
      " [  153.6000061    673.20001221]]\n"
     ]
    },
    {
     "name": "stderr",
     "output_type": "stream",
     "text": [
      "\u001b[A\u001b[A\u001b[A\u001b[A\u001b[A\n",
      "\n",
      "\n",
      "\n",
      "\n",
      " 76%|███████▌  | 367/485 [00:48<00:16,  7.02it/s]"
     ]
    },
    {
     "name": "stdout",
     "output_type": "stream",
     "text": [
      "DEST [[  256.     0.]\n",
      " [ 1024.     0.]\n",
      " [ 1024.   720.]\n",
      " [  256.   720.]]\n",
      "SRC [[  588.79998779   446.3999939 ]\n",
      " [  691.20001221   446.3999939 ]\n",
      " [ 1126.40002441   673.20001221]\n",
      " [  153.6000061    673.20001221]]\n"
     ]
    },
    {
     "name": "stderr",
     "output_type": "stream",
     "text": [
      "\u001b[A\u001b[A\u001b[A\u001b[A\u001b[A\n",
      "\n",
      "\n",
      "\n",
      "\n",
      " 76%|███████▌  | 368/485 [00:48<00:16,  7.09it/s]"
     ]
    },
    {
     "name": "stdout",
     "output_type": "stream",
     "text": [
      "DEST [[  256.     0.]\n",
      " [ 1024.     0.]\n",
      " [ 1024.   720.]\n",
      " [  256.   720.]]\n",
      "SRC [[  588.79998779   446.3999939 ]\n",
      " [  691.20001221   446.3999939 ]\n",
      " [ 1126.40002441   673.20001221]\n",
      " [  153.6000061    673.20001221]]\n"
     ]
    },
    {
     "name": "stderr",
     "output_type": "stream",
     "text": [
      "\u001b[A\u001b[A\u001b[A\u001b[A\u001b[A\n",
      "\n",
      "\n",
      "\n",
      "\n",
      " 76%|███████▌  | 369/485 [00:48<00:16,  7.17it/s]"
     ]
    },
    {
     "name": "stdout",
     "output_type": "stream",
     "text": [
      "DEST [[  256.     0.]\n",
      " [ 1024.     0.]\n",
      " [ 1024.   720.]\n",
      " [  256.   720.]]\n",
      "SRC [[  588.79998779   446.3999939 ]\n",
      " [  691.20001221   446.3999939 ]\n",
      " [ 1126.40002441   673.20001221]\n",
      " [  153.6000061    673.20001221]]\n"
     ]
    },
    {
     "name": "stderr",
     "output_type": "stream",
     "text": [
      "\u001b[A\u001b[A\u001b[A\u001b[A\u001b[A\n",
      "\n",
      "\n",
      "\n",
      "\n",
      " 76%|███████▋  | 370/485 [00:48<00:15,  7.30it/s]"
     ]
    },
    {
     "name": "stdout",
     "output_type": "stream",
     "text": [
      "DEST [[  256.     0.]\n",
      " [ 1024.     0.]\n",
      " [ 1024.   720.]\n",
      " [  256.   720.]]\n",
      "SRC [[  588.79998779   446.3999939 ]\n",
      " [  691.20001221   446.3999939 ]\n",
      " [ 1126.40002441   673.20001221]\n",
      " [  153.6000061    673.20001221]]\n"
     ]
    },
    {
     "name": "stderr",
     "output_type": "stream",
     "text": [
      "\u001b[A\u001b[A\u001b[A\u001b[A\u001b[A\n",
      "\n",
      "\n",
      "\n",
      "\n",
      " 76%|███████▋  | 371/485 [00:48<00:15,  7.38it/s]"
     ]
    },
    {
     "name": "stdout",
     "output_type": "stream",
     "text": [
      "DEST [[  256.     0.]\n",
      " [ 1024.     0.]\n",
      " [ 1024.   720.]\n",
      " [  256.   720.]]\n",
      "SRC [[  588.79998779   446.3999939 ]\n",
      " [  691.20001221   446.3999939 ]\n",
      " [ 1126.40002441   673.20001221]\n",
      " [  153.6000061    673.20001221]]\n"
     ]
    },
    {
     "name": "stderr",
     "output_type": "stream",
     "text": [
      "\u001b[A\u001b[A\u001b[A\u001b[A\u001b[A\n",
      "\n",
      "\n",
      "\n",
      "\n",
      " 77%|███████▋  | 372/485 [00:48<00:15,  7.34it/s]"
     ]
    },
    {
     "name": "stdout",
     "output_type": "stream",
     "text": [
      "DEST [[  256.     0.]\n",
      " [ 1024.     0.]\n",
      " [ 1024.   720.]\n",
      " [  256.   720.]]\n",
      "SRC [[  588.79998779   446.3999939 ]\n",
      " [  691.20001221   446.3999939 ]\n",
      " [ 1126.40002441   673.20001221]\n",
      " [  153.6000061    673.20001221]]\n"
     ]
    },
    {
     "name": "stderr",
     "output_type": "stream",
     "text": [
      "\u001b[A\u001b[A\u001b[A\u001b[A\u001b[A\n",
      "\n",
      "\n",
      "\n",
      "\n",
      " 77%|███████▋  | 373/485 [00:48<00:15,  7.42it/s]"
     ]
    },
    {
     "name": "stdout",
     "output_type": "stream",
     "text": [
      "DEST [[  256.     0.]\n",
      " [ 1024.     0.]\n",
      " [ 1024.   720.]\n",
      " [  256.   720.]]\n",
      "SRC [[  588.79998779   446.3999939 ]\n",
      " [  691.20001221   446.3999939 ]\n",
      " [ 1126.40002441   673.20001221]\n",
      " [  153.6000061    673.20001221]]\n"
     ]
    },
    {
     "name": "stderr",
     "output_type": "stream",
     "text": [
      "\u001b[A\u001b[A\u001b[A\u001b[A\u001b[A\n",
      "\n",
      "\n",
      "\n",
      "\n",
      " 77%|███████▋  | 374/485 [00:49<00:14,  7.47it/s]"
     ]
    },
    {
     "name": "stdout",
     "output_type": "stream",
     "text": [
      "DEST [[  256.     0.]\n",
      " [ 1024.     0.]\n",
      " [ 1024.   720.]\n",
      " [  256.   720.]]\n",
      "SRC [[  588.79998779   446.3999939 ]\n",
      " [  691.20001221   446.3999939 ]\n",
      " [ 1126.40002441   673.20001221]\n",
      " [  153.6000061    673.20001221]]\n"
     ]
    },
    {
     "name": "stderr",
     "output_type": "stream",
     "text": [
      "\u001b[A\u001b[A\u001b[A\u001b[A\u001b[A\n",
      "\n",
      "\n",
      "\n",
      "\n",
      " 77%|███████▋  | 375/485 [00:49<00:14,  7.51it/s]"
     ]
    },
    {
     "name": "stdout",
     "output_type": "stream",
     "text": [
      "DEST [[  256.     0.]\n",
      " [ 1024.     0.]\n",
      " [ 1024.   720.]\n",
      " [  256.   720.]]\n",
      "SRC [[  588.79998779   446.3999939 ]\n",
      " [  691.20001221   446.3999939 ]\n",
      " [ 1126.40002441   673.20001221]\n",
      " [  153.6000061    673.20001221]]\n"
     ]
    },
    {
     "name": "stderr",
     "output_type": "stream",
     "text": [
      "\u001b[A\u001b[A\u001b[A\u001b[A\u001b[A\n",
      "\n",
      "\n",
      "\n",
      "\n",
      " 78%|███████▊  | 376/485 [00:49<00:14,  7.56it/s]"
     ]
    },
    {
     "name": "stdout",
     "output_type": "stream",
     "text": [
      "DEST [[  256.     0.]\n",
      " [ 1024.     0.]\n",
      " [ 1024.   720.]\n",
      " [  256.   720.]]\n",
      "SRC [[  588.79998779   446.3999939 ]\n",
      " [  691.20001221   446.3999939 ]\n",
      " [ 1126.40002441   673.20001221]\n",
      " [  153.6000061    673.20001221]]\n"
     ]
    },
    {
     "name": "stderr",
     "output_type": "stream",
     "text": [
      "\u001b[A\u001b[A\u001b[A\u001b[A\u001b[A\n",
      "\n",
      "\n",
      "\n",
      "\n",
      " 78%|███████▊  | 377/485 [00:49<00:14,  7.48it/s]"
     ]
    },
    {
     "name": "stdout",
     "output_type": "stream",
     "text": [
      "DEST [[  256.     0.]\n",
      " [ 1024.     0.]\n",
      " [ 1024.   720.]\n",
      " [  256.   720.]]\n",
      "SRC [[  588.79998779   446.3999939 ]\n",
      " [  691.20001221   446.3999939 ]\n",
      " [ 1126.40002441   673.20001221]\n",
      " [  153.6000061    673.20001221]]\n"
     ]
    },
    {
     "name": "stderr",
     "output_type": "stream",
     "text": [
      "\u001b[A\u001b[A\u001b[A\u001b[A\u001b[A\n",
      "\n",
      "\n",
      "\n",
      "\n",
      " 78%|███████▊  | 378/485 [00:49<00:14,  7.48it/s]"
     ]
    },
    {
     "name": "stdout",
     "output_type": "stream",
     "text": [
      "DEST [[  256.     0.]\n",
      " [ 1024.     0.]\n",
      " [ 1024.   720.]\n",
      " [  256.   720.]]\n",
      "SRC [[  588.79998779   446.3999939 ]\n",
      " [  691.20001221   446.3999939 ]\n",
      " [ 1126.40002441   673.20001221]\n",
      " [  153.6000061    673.20001221]]\n"
     ]
    },
    {
     "name": "stderr",
     "output_type": "stream",
     "text": [
      "\u001b[A\u001b[A\u001b[A\u001b[A\u001b[A\n",
      "\n",
      "\n",
      "\n",
      "\n",
      " 78%|███████▊  | 379/485 [00:49<00:14,  7.43it/s]"
     ]
    },
    {
     "name": "stdout",
     "output_type": "stream",
     "text": [
      "DEST [[  256.     0.]\n",
      " [ 1024.     0.]\n",
      " [ 1024.   720.]\n",
      " [  256.   720.]]\n",
      "SRC [[  588.79998779   446.3999939 ]\n",
      " [  691.20001221   446.3999939 ]\n",
      " [ 1126.40002441   673.20001221]\n",
      " [  153.6000061    673.20001221]]\n"
     ]
    },
    {
     "name": "stderr",
     "output_type": "stream",
     "text": [
      "\u001b[A\u001b[A\u001b[A\u001b[A\u001b[A\n",
      "\n",
      "\n",
      "\n",
      "\n",
      " 78%|███████▊  | 380/485 [00:49<00:14,  7.43it/s]"
     ]
    },
    {
     "name": "stdout",
     "output_type": "stream",
     "text": [
      "DEST [[  256.     0.]\n",
      " [ 1024.     0.]\n",
      " [ 1024.   720.]\n",
      " [  256.   720.]]\n",
      "SRC [[  588.79998779   446.3999939 ]\n",
      " [  691.20001221   446.3999939 ]\n",
      " [ 1126.40002441   673.20001221]\n",
      " [  153.6000061    673.20001221]]\n"
     ]
    },
    {
     "name": "stderr",
     "output_type": "stream",
     "text": [
      "\u001b[A\u001b[A\u001b[A\u001b[A\u001b[A\n",
      "\n",
      "\n",
      "\n",
      "\n",
      " 79%|███████▊  | 381/485 [00:50<00:14,  7.42it/s]"
     ]
    },
    {
     "name": "stdout",
     "output_type": "stream",
     "text": [
      "DEST [[  256.     0.]\n",
      " [ 1024.     0.]\n",
      " [ 1024.   720.]\n",
      " [  256.   720.]]\n",
      "SRC [[  588.79998779   446.3999939 ]\n",
      " [  691.20001221   446.3999939 ]\n",
      " [ 1126.40002441   673.20001221]\n",
      " [  153.6000061    673.20001221]]\n"
     ]
    },
    {
     "name": "stderr",
     "output_type": "stream",
     "text": [
      "\u001b[A\u001b[A\u001b[A\u001b[A\u001b[A\n",
      "\n",
      "\n",
      "\n",
      "\n",
      " 79%|███████▉  | 382/485 [00:50<00:13,  7.43it/s]"
     ]
    },
    {
     "name": "stdout",
     "output_type": "stream",
     "text": [
      "DEST [[  256.     0.]\n",
      " [ 1024.     0.]\n",
      " [ 1024.   720.]\n",
      " [  256.   720.]]\n",
      "SRC [[  588.79998779   446.3999939 ]\n",
      " [  691.20001221   446.3999939 ]\n",
      " [ 1126.40002441   673.20001221]\n",
      " [  153.6000061    673.20001221]]\n"
     ]
    },
    {
     "name": "stderr",
     "output_type": "stream",
     "text": [
      "\u001b[A\u001b[A\u001b[A\u001b[A\u001b[A\n",
      "\n",
      "\n",
      "\n",
      "\n",
      " 79%|███████▉  | 383/485 [00:50<00:13,  7.49it/s]"
     ]
    },
    {
     "name": "stdout",
     "output_type": "stream",
     "text": [
      "DEST [[  256.     0.]\n",
      " [ 1024.     0.]\n",
      " [ 1024.   720.]\n",
      " [  256.   720.]]\n",
      "SRC [[  588.79998779   446.3999939 ]\n",
      " [  691.20001221   446.3999939 ]\n",
      " [ 1126.40002441   673.20001221]\n",
      " [  153.6000061    673.20001221]]\n"
     ]
    },
    {
     "name": "stderr",
     "output_type": "stream",
     "text": [
      "\u001b[A\u001b[A\u001b[A\u001b[A\u001b[A\n",
      "\n",
      "\n",
      "\n",
      "\n",
      " 79%|███████▉  | 384/485 [00:50<00:13,  7.53it/s]"
     ]
    },
    {
     "name": "stdout",
     "output_type": "stream",
     "text": [
      "DEST [[  256.     0.]\n",
      " [ 1024.     0.]\n",
      " [ 1024.   720.]\n",
      " [  256.   720.]]\n",
      "SRC [[  588.79998779   446.3999939 ]\n",
      " [  691.20001221   446.3999939 ]\n",
      " [ 1126.40002441   673.20001221]\n",
      " [  153.6000061    673.20001221]]\n"
     ]
    },
    {
     "name": "stderr",
     "output_type": "stream",
     "text": [
      "\u001b[A\u001b[A\u001b[A\u001b[A\u001b[A\n",
      "\n",
      "\n",
      "\n",
      "\n",
      " 79%|███████▉  | 385/485 [00:50<00:13,  7.48it/s]"
     ]
    },
    {
     "name": "stdout",
     "output_type": "stream",
     "text": [
      "DEST [[  256.     0.]\n",
      " [ 1024.     0.]\n",
      " [ 1024.   720.]\n",
      " [  256.   720.]]\n",
      "SRC [[  588.79998779   446.3999939 ]\n",
      " [  691.20001221   446.3999939 ]\n",
      " [ 1126.40002441   673.20001221]\n",
      " [  153.6000061    673.20001221]]\n"
     ]
    },
    {
     "name": "stderr",
     "output_type": "stream",
     "text": [
      "\u001b[A\u001b[A\u001b[A\u001b[A\u001b[A\n",
      "\n",
      "\n",
      "\n",
      "\n",
      " 80%|███████▉  | 386/485 [00:50<00:13,  7.45it/s]"
     ]
    },
    {
     "name": "stdout",
     "output_type": "stream",
     "text": [
      "DEST [[  256.     0.]\n",
      " [ 1024.     0.]\n",
      " [ 1024.   720.]\n",
      " [  256.   720.]]\n",
      "SRC [[  588.79998779   446.3999939 ]\n",
      " [  691.20001221   446.3999939 ]\n",
      " [ 1126.40002441   673.20001221]\n",
      " [  153.6000061    673.20001221]]\n"
     ]
    },
    {
     "name": "stderr",
     "output_type": "stream",
     "text": [
      "\u001b[A\u001b[A\u001b[A\u001b[A\u001b[A\n",
      "\n",
      "\n",
      "\n",
      "\n",
      " 80%|███████▉  | 387/485 [00:50<00:13,  7.28it/s]"
     ]
    },
    {
     "name": "stdout",
     "output_type": "stream",
     "text": [
      "DEST [[  256.     0.]\n",
      " [ 1024.     0.]\n",
      " [ 1024.   720.]\n",
      " [  256.   720.]]\n",
      "SRC [[  588.79998779   446.3999939 ]\n",
      " [  691.20001221   446.3999939 ]\n",
      " [ 1126.40002441   673.20001221]\n",
      " [  153.6000061    673.20001221]]\n"
     ]
    },
    {
     "name": "stderr",
     "output_type": "stream",
     "text": [
      "\u001b[A\u001b[A\u001b[A\u001b[A\u001b[A\n",
      "\n",
      "\n",
      "\n",
      "\n",
      " 80%|████████  | 388/485 [00:50<00:13,  7.24it/s]"
     ]
    },
    {
     "name": "stdout",
     "output_type": "stream",
     "text": [
      "DEST [[  256.     0.]\n",
      " [ 1024.     0.]\n",
      " [ 1024.   720.]\n",
      " [  256.   720.]]\n",
      "SRC [[  588.79998779   446.3999939 ]\n",
      " [  691.20001221   446.3999939 ]\n",
      " [ 1126.40002441   673.20001221]\n",
      " [  153.6000061    673.20001221]]\n"
     ]
    },
    {
     "name": "stderr",
     "output_type": "stream",
     "text": [
      "\u001b[A\u001b[A\u001b[A\u001b[A\u001b[A\n",
      "\n",
      "\n",
      "\n",
      "\n",
      " 80%|████████  | 389/485 [00:51<00:13,  7.35it/s]"
     ]
    },
    {
     "name": "stdout",
     "output_type": "stream",
     "text": [
      "DEST [[  256.     0.]\n",
      " [ 1024.     0.]\n",
      " [ 1024.   720.]\n",
      " [  256.   720.]]\n",
      "SRC [[  588.79998779   446.3999939 ]\n",
      " [  691.20001221   446.3999939 ]\n",
      " [ 1126.40002441   673.20001221]\n",
      " [  153.6000061    673.20001221]]\n"
     ]
    },
    {
     "name": "stderr",
     "output_type": "stream",
     "text": [
      "\u001b[A\u001b[A\u001b[A\u001b[A\u001b[A\n",
      "\n",
      "\n",
      "\n",
      "\n",
      " 80%|████████  | 390/485 [00:51<00:12,  7.43it/s]"
     ]
    },
    {
     "name": "stdout",
     "output_type": "stream",
     "text": [
      "DEST [[  256.     0.]\n",
      " [ 1024.     0.]\n",
      " [ 1024.   720.]\n",
      " [  256.   720.]]\n",
      "SRC [[  588.79998779   446.3999939 ]\n",
      " [  691.20001221   446.3999939 ]\n",
      " [ 1126.40002441   673.20001221]\n",
      " [  153.6000061    673.20001221]]\n"
     ]
    },
    {
     "name": "stderr",
     "output_type": "stream",
     "text": [
      "\u001b[A\u001b[A\u001b[A\u001b[A\u001b[A\n",
      "\n",
      "\n",
      "\n",
      "\n",
      " 81%|████████  | 391/485 [00:51<00:12,  7.46it/s]"
     ]
    },
    {
     "name": "stdout",
     "output_type": "stream",
     "text": [
      "DEST [[  256.     0.]\n",
      " [ 1024.     0.]\n",
      " [ 1024.   720.]\n",
      " [  256.   720.]]\n",
      "SRC [[  588.79998779   446.3999939 ]\n",
      " [  691.20001221   446.3999939 ]\n",
      " [ 1126.40002441   673.20001221]\n",
      " [  153.6000061    673.20001221]]\n"
     ]
    },
    {
     "name": "stderr",
     "output_type": "stream",
     "text": [
      "\u001b[A\u001b[A\u001b[A\u001b[A\u001b[A\n",
      "\n",
      "\n",
      "\n",
      "\n",
      " 81%|████████  | 392/485 [00:51<00:12,  7.43it/s]"
     ]
    },
    {
     "name": "stdout",
     "output_type": "stream",
     "text": [
      "DEST [[  256.     0.]\n",
      " [ 1024.     0.]\n",
      " [ 1024.   720.]\n",
      " [  256.   720.]]\n",
      "SRC [[  588.79998779   446.3999939 ]\n",
      " [  691.20001221   446.3999939 ]\n",
      " [ 1126.40002441   673.20001221]\n",
      " [  153.6000061    673.20001221]]\n"
     ]
    },
    {
     "name": "stderr",
     "output_type": "stream",
     "text": [
      "\u001b[A\u001b[A\u001b[A\u001b[A\u001b[A\n",
      "\n",
      "\n",
      "\n",
      "\n",
      " 81%|████████  | 393/485 [00:51<00:12,  7.45it/s]"
     ]
    },
    {
     "name": "stdout",
     "output_type": "stream",
     "text": [
      "DEST [[  256.     0.]\n",
      " [ 1024.     0.]\n",
      " [ 1024.   720.]\n",
      " [  256.   720.]]\n",
      "SRC [[  588.79998779   446.3999939 ]\n",
      " [  691.20001221   446.3999939 ]\n",
      " [ 1126.40002441   673.20001221]\n",
      " [  153.6000061    673.20001221]]\n"
     ]
    },
    {
     "name": "stderr",
     "output_type": "stream",
     "text": [
      "\u001b[A\u001b[A\u001b[A\u001b[A\u001b[A\n",
      "\n",
      "\n",
      "\n",
      "\n",
      " 81%|████████  | 394/485 [00:51<00:12,  7.48it/s]"
     ]
    },
    {
     "name": "stdout",
     "output_type": "stream",
     "text": [
      "DEST [[  256.     0.]\n",
      " [ 1024.     0.]\n",
      " [ 1024.   720.]\n",
      " [  256.   720.]]\n",
      "SRC [[  588.79998779   446.3999939 ]\n",
      " [  691.20001221   446.3999939 ]\n",
      " [ 1126.40002441   673.20001221]\n",
      " [  153.6000061    673.20001221]]\n"
     ]
    },
    {
     "name": "stderr",
     "output_type": "stream",
     "text": [
      "\u001b[A\u001b[A\u001b[A\u001b[A\u001b[A\n",
      "\n",
      "\n",
      "\n",
      "\n",
      " 81%|████████▏ | 395/485 [00:51<00:12,  7.48it/s]"
     ]
    },
    {
     "name": "stdout",
     "output_type": "stream",
     "text": [
      "DEST [[  256.     0.]\n",
      " [ 1024.     0.]\n",
      " [ 1024.   720.]\n",
      " [  256.   720.]]\n",
      "SRC [[  588.79998779   446.3999939 ]\n",
      " [  691.20001221   446.3999939 ]\n",
      " [ 1126.40002441   673.20001221]\n",
      " [  153.6000061    673.20001221]]\n"
     ]
    },
    {
     "name": "stderr",
     "output_type": "stream",
     "text": [
      "\u001b[A\u001b[A\u001b[A\u001b[A\u001b[A\n",
      "\n",
      "\n",
      "\n",
      "\n",
      " 82%|████████▏ | 396/485 [00:52<00:11,  7.52it/s]"
     ]
    },
    {
     "name": "stdout",
     "output_type": "stream",
     "text": [
      "DEST [[  256.     0.]\n",
      " [ 1024.     0.]\n",
      " [ 1024.   720.]\n",
      " [  256.   720.]]\n",
      "SRC [[  588.79998779   446.3999939 ]\n",
      " [  691.20001221   446.3999939 ]\n",
      " [ 1126.40002441   673.20001221]\n",
      " [  153.6000061    673.20001221]]\n"
     ]
    },
    {
     "name": "stderr",
     "output_type": "stream",
     "text": [
      "\u001b[A\u001b[A\u001b[A\u001b[A\u001b[A\n",
      "\n",
      "\n",
      "\n",
      "\n",
      " 82%|████████▏ | 397/485 [00:52<00:11,  7.42it/s]"
     ]
    },
    {
     "name": "stdout",
     "output_type": "stream",
     "text": [
      "DEST [[  256.     0.]\n",
      " [ 1024.     0.]\n",
      " [ 1024.   720.]\n",
      " [  256.   720.]]\n",
      "SRC [[  588.79998779   446.3999939 ]\n",
      " [  691.20001221   446.3999939 ]\n",
      " [ 1126.40002441   673.20001221]\n",
      " [  153.6000061    673.20001221]]\n"
     ]
    },
    {
     "name": "stderr",
     "output_type": "stream",
     "text": [
      "\u001b[A\u001b[A\u001b[A\u001b[A\u001b[A\n",
      "\n",
      "\n",
      "\n",
      "\n",
      " 82%|████████▏ | 398/485 [00:52<00:11,  7.40it/s]"
     ]
    },
    {
     "name": "stdout",
     "output_type": "stream",
     "text": [
      "DEST [[  256.     0.]\n",
      " [ 1024.     0.]\n",
      " [ 1024.   720.]\n",
      " [  256.   720.]]\n",
      "SRC [[  588.79998779   446.3999939 ]\n",
      " [  691.20001221   446.3999939 ]\n",
      " [ 1126.40002441   673.20001221]\n",
      " [  153.6000061    673.20001221]]\n"
     ]
    },
    {
     "name": "stderr",
     "output_type": "stream",
     "text": [
      "\u001b[A\u001b[A\u001b[A\u001b[A\u001b[A\n",
      "\n",
      "\n",
      "\n",
      "\n",
      " 82%|████████▏ | 399/485 [00:52<00:11,  7.48it/s]"
     ]
    },
    {
     "name": "stdout",
     "output_type": "stream",
     "text": [
      "DEST [[  256.     0.]\n",
      " [ 1024.     0.]\n",
      " [ 1024.   720.]\n",
      " [  256.   720.]]\n",
      "SRC [[  588.79998779   446.3999939 ]\n",
      " [  691.20001221   446.3999939 ]\n",
      " [ 1126.40002441   673.20001221]\n",
      " [  153.6000061    673.20001221]]\n"
     ]
    },
    {
     "name": "stderr",
     "output_type": "stream",
     "text": [
      "\u001b[A\u001b[A\u001b[A\u001b[A\u001b[A\n",
      "\n",
      "\n",
      "\n",
      "\n",
      " 82%|████████▏ | 400/485 [00:52<00:11,  7.35it/s]"
     ]
    },
    {
     "name": "stdout",
     "output_type": "stream",
     "text": [
      "DEST [[  256.     0.]\n",
      " [ 1024.     0.]\n",
      " [ 1024.   720.]\n",
      " [  256.   720.]]\n",
      "SRC [[  588.79998779   446.3999939 ]\n",
      " [  691.20001221   446.3999939 ]\n",
      " [ 1126.40002441   673.20001221]\n",
      " [  153.6000061    673.20001221]]\n"
     ]
    },
    {
     "name": "stderr",
     "output_type": "stream",
     "text": [
      "\u001b[A\u001b[A\u001b[A\u001b[A\u001b[A\n",
      "\n",
      "\n",
      "\n",
      "\n",
      " 83%|████████▎ | 401/485 [00:52<00:11,  7.33it/s]"
     ]
    },
    {
     "name": "stdout",
     "output_type": "stream",
     "text": [
      "DEST [[  256.     0.]\n",
      " [ 1024.     0.]\n",
      " [ 1024.   720.]\n",
      " [  256.   720.]]\n",
      "SRC [[  588.79998779   446.3999939 ]\n",
      " [  691.20001221   446.3999939 ]\n",
      " [ 1126.40002441   673.20001221]\n",
      " [  153.6000061    673.20001221]]\n"
     ]
    },
    {
     "name": "stderr",
     "output_type": "stream",
     "text": [
      "\u001b[A\u001b[A\u001b[A\u001b[A\u001b[A\n",
      "\n",
      "\n",
      "\n",
      "\n",
      " 83%|████████▎ | 402/485 [00:52<00:11,  7.31it/s]"
     ]
    },
    {
     "name": "stdout",
     "output_type": "stream",
     "text": [
      "DEST [[  256.     0.]\n",
      " [ 1024.     0.]\n",
      " [ 1024.   720.]\n",
      " [  256.   720.]]\n",
      "SRC [[  588.79998779   446.3999939 ]\n",
      " [  691.20001221   446.3999939 ]\n",
      " [ 1126.40002441   673.20001221]\n",
      " [  153.6000061    673.20001221]]\n"
     ]
    },
    {
     "name": "stderr",
     "output_type": "stream",
     "text": [
      "\u001b[A\u001b[A\u001b[A\u001b[A\u001b[A\n",
      "\n",
      "\n",
      "\n",
      "\n",
      " 83%|████████▎ | 403/485 [00:52<00:11,  7.33it/s]"
     ]
    },
    {
     "name": "stdout",
     "output_type": "stream",
     "text": [
      "DEST [[  256.     0.]\n",
      " [ 1024.     0.]\n",
      " [ 1024.   720.]\n",
      " [  256.   720.]]\n",
      "SRC [[  588.79998779   446.3999939 ]\n",
      " [  691.20001221   446.3999939 ]\n",
      " [ 1126.40002441   673.20001221]\n",
      " [  153.6000061    673.20001221]]\n"
     ]
    },
    {
     "name": "stderr",
     "output_type": "stream",
     "text": [
      "\u001b[A\u001b[A\u001b[A\u001b[A\u001b[A\n",
      "\n",
      "\n",
      "\n",
      "\n",
      " 83%|████████▎ | 404/485 [00:53<00:10,  7.42it/s]"
     ]
    },
    {
     "name": "stdout",
     "output_type": "stream",
     "text": [
      "DEST [[  256.     0.]\n",
      " [ 1024.     0.]\n",
      " [ 1024.   720.]\n",
      " [  256.   720.]]\n",
      "SRC [[  588.79998779   446.3999939 ]\n",
      " [  691.20001221   446.3999939 ]\n",
      " [ 1126.40002441   673.20001221]\n",
      " [  153.6000061    673.20001221]]\n"
     ]
    },
    {
     "name": "stderr",
     "output_type": "stream",
     "text": [
      "\u001b[A\u001b[A\u001b[A\u001b[A\u001b[A\n",
      "\n",
      "\n",
      "\n",
      "\n",
      " 84%|████████▎ | 405/485 [00:53<00:10,  7.40it/s]"
     ]
    },
    {
     "name": "stdout",
     "output_type": "stream",
     "text": [
      "DEST [[  256.     0.]\n",
      " [ 1024.     0.]\n",
      " [ 1024.   720.]\n",
      " [  256.   720.]]\n",
      "SRC [[  588.79998779   446.3999939 ]\n",
      " [  691.20001221   446.3999939 ]\n",
      " [ 1126.40002441   673.20001221]\n",
      " [  153.6000061    673.20001221]]\n"
     ]
    },
    {
     "name": "stderr",
     "output_type": "stream",
     "text": [
      "\u001b[A\u001b[A\u001b[A\u001b[A\u001b[A\n",
      "\n",
      "\n",
      "\n",
      "\n",
      " 84%|████████▎ | 406/485 [00:53<00:10,  7.44it/s]"
     ]
    },
    {
     "name": "stdout",
     "output_type": "stream",
     "text": [
      "DEST [[  256.     0.]\n",
      " [ 1024.     0.]\n",
      " [ 1024.   720.]\n",
      " [  256.   720.]]\n",
      "SRC [[  588.79998779   446.3999939 ]\n",
      " [  691.20001221   446.3999939 ]\n",
      " [ 1126.40002441   673.20001221]\n",
      " [  153.6000061    673.20001221]]\n"
     ]
    },
    {
     "name": "stderr",
     "output_type": "stream",
     "text": [
      "\u001b[A\u001b[A\u001b[A\u001b[A\u001b[A\n",
      "\n",
      "\n",
      "\n",
      "\n",
      " 84%|████████▍ | 407/485 [00:53<00:10,  7.28it/s]"
     ]
    },
    {
     "name": "stdout",
     "output_type": "stream",
     "text": [
      "DEST [[  256.     0.]\n",
      " [ 1024.     0.]\n",
      " [ 1024.   720.]\n",
      " [  256.   720.]]\n",
      "SRC [[  588.79998779   446.3999939 ]\n",
      " [  691.20001221   446.3999939 ]\n",
      " [ 1126.40002441   673.20001221]\n",
      " [  153.6000061    673.20001221]]\n"
     ]
    },
    {
     "name": "stderr",
     "output_type": "stream",
     "text": [
      "\u001b[A\u001b[A\u001b[A\u001b[A\u001b[A\n",
      "\n",
      "\n",
      "\n",
      "\n",
      " 84%|████████▍ | 408/485 [00:53<00:10,  7.26it/s]"
     ]
    },
    {
     "name": "stdout",
     "output_type": "stream",
     "text": [
      "DEST [[  256.     0.]\n",
      " [ 1024.     0.]\n",
      " [ 1024.   720.]\n",
      " [  256.   720.]]\n",
      "SRC [[  588.79998779   446.3999939 ]\n",
      " [  691.20001221   446.3999939 ]\n",
      " [ 1126.40002441   673.20001221]\n",
      " [  153.6000061    673.20001221]]\n"
     ]
    },
    {
     "name": "stderr",
     "output_type": "stream",
     "text": [
      "\u001b[A\u001b[A\u001b[A\u001b[A\u001b[A\n",
      "\n",
      "\n",
      "\n",
      "\n",
      " 84%|████████▍ | 409/485 [00:53<00:10,  7.16it/s]"
     ]
    },
    {
     "name": "stdout",
     "output_type": "stream",
     "text": [
      "DEST [[  256.     0.]\n",
      " [ 1024.     0.]\n",
      " [ 1024.   720.]\n",
      " [  256.   720.]]\n",
      "SRC [[  588.79998779   446.3999939 ]\n",
      " [  691.20001221   446.3999939 ]\n",
      " [ 1126.40002441   673.20001221]\n",
      " [  153.6000061    673.20001221]]\n"
     ]
    },
    {
     "name": "stderr",
     "output_type": "stream",
     "text": [
      "\u001b[A\u001b[A\u001b[A\u001b[A\u001b[A\n",
      "\n",
      "\n",
      "\n",
      "\n",
      " 85%|████████▍ | 410/485 [00:53<00:10,  7.20it/s]"
     ]
    },
    {
     "name": "stdout",
     "output_type": "stream",
     "text": [
      "DEST [[  256.     0.]\n",
      " [ 1024.     0.]\n",
      " [ 1024.   720.]\n",
      " [  256.   720.]]\n",
      "SRC [[  588.79998779   446.3999939 ]\n",
      " [  691.20001221   446.3999939 ]\n",
      " [ 1126.40002441   673.20001221]\n",
      " [  153.6000061    673.20001221]]\n"
     ]
    },
    {
     "name": "stderr",
     "output_type": "stream",
     "text": [
      "\u001b[A\u001b[A\u001b[A\u001b[A\u001b[A\n",
      "\n",
      "\n",
      "\n",
      "\n",
      " 85%|████████▍ | 411/485 [00:54<00:10,  7.24it/s]"
     ]
    },
    {
     "name": "stdout",
     "output_type": "stream",
     "text": [
      "DEST [[  256.     0.]\n",
      " [ 1024.     0.]\n",
      " [ 1024.   720.]\n",
      " [  256.   720.]]\n",
      "SRC [[  588.79998779   446.3999939 ]\n",
      " [  691.20001221   446.3999939 ]\n",
      " [ 1126.40002441   673.20001221]\n",
      " [  153.6000061    673.20001221]]\n"
     ]
    },
    {
     "name": "stderr",
     "output_type": "stream",
     "text": [
      "\u001b[A\u001b[A\u001b[A\u001b[A\u001b[A\n",
      "\n",
      "\n",
      "\n",
      "\n",
      " 85%|████████▍ | 412/485 [00:54<00:10,  7.24it/s]"
     ]
    },
    {
     "name": "stdout",
     "output_type": "stream",
     "text": [
      "DEST [[  256.     0.]\n",
      " [ 1024.     0.]\n",
      " [ 1024.   720.]\n",
      " [  256.   720.]]\n",
      "SRC [[  588.79998779   446.3999939 ]\n",
      " [  691.20001221   446.3999939 ]\n",
      " [ 1126.40002441   673.20001221]\n",
      " [  153.6000061    673.20001221]]\n"
     ]
    },
    {
     "name": "stderr",
     "output_type": "stream",
     "text": [
      "\u001b[A\u001b[A\u001b[A\u001b[A\u001b[A\n",
      "\n",
      "\n",
      "\n",
      "\n",
      " 85%|████████▌ | 413/485 [00:54<00:10,  7.16it/s]"
     ]
    },
    {
     "name": "stdout",
     "output_type": "stream",
     "text": [
      "DEST [[  256.     0.]\n",
      " [ 1024.     0.]\n",
      " [ 1024.   720.]\n",
      " [  256.   720.]]\n",
      "SRC [[  588.79998779   446.3999939 ]\n",
      " [  691.20001221   446.3999939 ]\n",
      " [ 1126.40002441   673.20001221]\n",
      " [  153.6000061    673.20001221]]\n"
     ]
    },
    {
     "name": "stderr",
     "output_type": "stream",
     "text": [
      "\u001b[A\u001b[A\u001b[A\u001b[A\u001b[A\n",
      "\n",
      "\n",
      "\n",
      "\n",
      " 85%|████████▌ | 414/485 [00:54<00:09,  7.14it/s]"
     ]
    },
    {
     "name": "stdout",
     "output_type": "stream",
     "text": [
      "DEST [[  256.     0.]\n",
      " [ 1024.     0.]\n",
      " [ 1024.   720.]\n",
      " [  256.   720.]]\n",
      "SRC [[  588.79998779   446.3999939 ]\n",
      " [  691.20001221   446.3999939 ]\n",
      " [ 1126.40002441   673.20001221]\n",
      " [  153.6000061    673.20001221]]\n"
     ]
    },
    {
     "name": "stderr",
     "output_type": "stream",
     "text": [
      "\u001b[A\u001b[A\u001b[A\u001b[A\u001b[A\n",
      "\n",
      "\n",
      "\n",
      "\n",
      " 86%|████████▌ | 415/485 [00:54<00:09,  7.08it/s]"
     ]
    },
    {
     "name": "stdout",
     "output_type": "stream",
     "text": [
      "DEST [[  256.     0.]\n",
      " [ 1024.     0.]\n",
      " [ 1024.   720.]\n",
      " [  256.   720.]]\n",
      "SRC [[  588.79998779   446.3999939 ]\n",
      " [  691.20001221   446.3999939 ]\n",
      " [ 1126.40002441   673.20001221]\n",
      " [  153.6000061    673.20001221]]\n"
     ]
    },
    {
     "name": "stderr",
     "output_type": "stream",
     "text": [
      "\u001b[A\u001b[A\u001b[A\u001b[A\u001b[A\n",
      "\n",
      "\n",
      "\n",
      "\n",
      " 86%|████████▌ | 416/485 [00:54<00:09,  7.09it/s]"
     ]
    },
    {
     "name": "stdout",
     "output_type": "stream",
     "text": [
      "DEST [[  256.     0.]\n",
      " [ 1024.     0.]\n",
      " [ 1024.   720.]\n",
      " [  256.   720.]]\n",
      "SRC [[  588.79998779   446.3999939 ]\n",
      " [  691.20001221   446.3999939 ]\n",
      " [ 1126.40002441   673.20001221]\n",
      " [  153.6000061    673.20001221]]\n"
     ]
    },
    {
     "name": "stderr",
     "output_type": "stream",
     "text": [
      "\u001b[A\u001b[A\u001b[A\u001b[A\u001b[A\n",
      "\n",
      "\n",
      "\n",
      "\n",
      " 86%|████████▌ | 417/485 [00:54<00:09,  7.08it/s]"
     ]
    },
    {
     "name": "stdout",
     "output_type": "stream",
     "text": [
      "DEST [[  256.     0.]\n",
      " [ 1024.     0.]\n",
      " [ 1024.   720.]\n",
      " [  256.   720.]]\n",
      "SRC [[  588.79998779   446.3999939 ]\n",
      " [  691.20001221   446.3999939 ]\n",
      " [ 1126.40002441   673.20001221]\n",
      " [  153.6000061    673.20001221]]\n"
     ]
    },
    {
     "name": "stderr",
     "output_type": "stream",
     "text": [
      "\u001b[A\u001b[A\u001b[A\u001b[A\u001b[A\n",
      "\n",
      "\n",
      "\n",
      "\n",
      " 86%|████████▌ | 418/485 [00:55<00:09,  7.09it/s]"
     ]
    },
    {
     "name": "stdout",
     "output_type": "stream",
     "text": [
      "DEST [[  256.     0.]\n",
      " [ 1024.     0.]\n",
      " [ 1024.   720.]\n",
      " [  256.   720.]]\n",
      "SRC [[  588.79998779   446.3999939 ]\n",
      " [  691.20001221   446.3999939 ]\n",
      " [ 1126.40002441   673.20001221]\n",
      " [  153.6000061    673.20001221]]\n"
     ]
    },
    {
     "name": "stderr",
     "output_type": "stream",
     "text": [
      "\u001b[A\u001b[A\u001b[A\u001b[A\u001b[A\n",
      "\n",
      "\n",
      "\n",
      "\n",
      " 86%|████████▋ | 419/485 [00:55<00:09,  7.04it/s]"
     ]
    },
    {
     "name": "stdout",
     "output_type": "stream",
     "text": [
      "DEST [[  256.     0.]\n",
      " [ 1024.     0.]\n",
      " [ 1024.   720.]\n",
      " [  256.   720.]]\n",
      "SRC [[  588.79998779   446.3999939 ]\n",
      " [  691.20001221   446.3999939 ]\n",
      " [ 1126.40002441   673.20001221]\n",
      " [  153.6000061    673.20001221]]\n"
     ]
    },
    {
     "name": "stderr",
     "output_type": "stream",
     "text": [
      "\u001b[A\u001b[A\u001b[A\u001b[A\u001b[A\n",
      "\n",
      "\n",
      "\n",
      "\n",
      " 87%|████████▋ | 420/485 [00:55<00:09,  7.01it/s]"
     ]
    },
    {
     "name": "stdout",
     "output_type": "stream",
     "text": [
      "DEST [[  256.     0.]\n",
      " [ 1024.     0.]\n",
      " [ 1024.   720.]\n",
      " [  256.   720.]]\n",
      "SRC [[  588.79998779   446.3999939 ]\n",
      " [  691.20001221   446.3999939 ]\n",
      " [ 1126.40002441   673.20001221]\n",
      " [  153.6000061    673.20001221]]\n"
     ]
    },
    {
     "name": "stderr",
     "output_type": "stream",
     "text": [
      "\u001b[A\u001b[A\u001b[A\u001b[A\u001b[A\n",
      "\n",
      "\n",
      "\n",
      "\n",
      " 87%|████████▋ | 421/485 [00:55<00:08,  7.12it/s]"
     ]
    },
    {
     "name": "stdout",
     "output_type": "stream",
     "text": [
      "DEST [[  256.     0.]\n",
      " [ 1024.     0.]\n",
      " [ 1024.   720.]\n",
      " [  256.   720.]]\n",
      "SRC [[  588.79998779   446.3999939 ]\n",
      " [  691.20001221   446.3999939 ]\n",
      " [ 1126.40002441   673.20001221]\n",
      " [  153.6000061    673.20001221]]\n"
     ]
    },
    {
     "name": "stderr",
     "output_type": "stream",
     "text": [
      "\u001b[A\u001b[A\u001b[A\u001b[A\u001b[A\n",
      "\n",
      "\n",
      "\n",
      "\n",
      " 87%|████████▋ | 422/485 [00:55<00:08,  7.19it/s]"
     ]
    },
    {
     "name": "stdout",
     "output_type": "stream",
     "text": [
      "DEST [[  256.     0.]\n",
      " [ 1024.     0.]\n",
      " [ 1024.   720.]\n",
      " [  256.   720.]]\n",
      "SRC [[  588.79998779   446.3999939 ]\n",
      " [  691.20001221   446.3999939 ]\n",
      " [ 1126.40002441   673.20001221]\n",
      " [  153.6000061    673.20001221]]\n"
     ]
    },
    {
     "name": "stderr",
     "output_type": "stream",
     "text": [
      "\u001b[A\u001b[A\u001b[A\u001b[A\u001b[A\n",
      "\n",
      "\n",
      "\n",
      "\n",
      " 87%|████████▋ | 423/485 [00:55<00:08,  7.22it/s]"
     ]
    },
    {
     "name": "stdout",
     "output_type": "stream",
     "text": [
      "DEST [[  256.     0.]\n",
      " [ 1024.     0.]\n",
      " [ 1024.   720.]\n",
      " [  256.   720.]]\n",
      "SRC [[  588.79998779   446.3999939 ]\n",
      " [  691.20001221   446.3999939 ]\n",
      " [ 1126.40002441   673.20001221]\n",
      " [  153.6000061    673.20001221]]\n"
     ]
    },
    {
     "name": "stderr",
     "output_type": "stream",
     "text": [
      "\u001b[A\u001b[A\u001b[A\u001b[A\u001b[A\n",
      "\n",
      "\n",
      "\n",
      "\n",
      " 87%|████████▋ | 424/485 [00:55<00:08,  7.24it/s]"
     ]
    },
    {
     "name": "stdout",
     "output_type": "stream",
     "text": [
      "DEST [[  256.     0.]\n",
      " [ 1024.     0.]\n",
      " [ 1024.   720.]\n",
      " [  256.   720.]]\n",
      "SRC [[  588.79998779   446.3999939 ]\n",
      " [  691.20001221   446.3999939 ]\n",
      " [ 1126.40002441   673.20001221]\n",
      " [  153.6000061    673.20001221]]\n"
     ]
    },
    {
     "name": "stderr",
     "output_type": "stream",
     "text": [
      "\u001b[A\u001b[A\u001b[A\u001b[A\u001b[A\n",
      "\n",
      "\n",
      "\n",
      "\n",
      " 88%|████████▊ | 425/485 [00:56<00:08,  7.23it/s]"
     ]
    },
    {
     "name": "stdout",
     "output_type": "stream",
     "text": [
      "DEST [[  256.     0.]\n",
      " [ 1024.     0.]\n",
      " [ 1024.   720.]\n",
      " [  256.   720.]]\n",
      "SRC [[  588.79998779   446.3999939 ]\n",
      " [  691.20001221   446.3999939 ]\n",
      " [ 1126.40002441   673.20001221]\n",
      " [  153.6000061    673.20001221]]\n"
     ]
    },
    {
     "name": "stderr",
     "output_type": "stream",
     "text": [
      "\u001b[A\u001b[A\u001b[A\u001b[A\u001b[A\n",
      "\n",
      "\n",
      "\n",
      "\n",
      " 88%|████████▊ | 426/485 [00:56<00:08,  7.22it/s]"
     ]
    },
    {
     "name": "stdout",
     "output_type": "stream",
     "text": [
      "DEST [[  256.     0.]\n",
      " [ 1024.     0.]\n",
      " [ 1024.   720.]\n",
      " [  256.   720.]]\n",
      "SRC [[  588.79998779   446.3999939 ]\n",
      " [  691.20001221   446.3999939 ]\n",
      " [ 1126.40002441   673.20001221]\n",
      " [  153.6000061    673.20001221]]\n"
     ]
    },
    {
     "name": "stderr",
     "output_type": "stream",
     "text": [
      "\u001b[A\u001b[A\u001b[A\u001b[A\u001b[A\n",
      "\n",
      "\n",
      "\n",
      "\n",
      " 88%|████████▊ | 427/485 [00:56<00:08,  7.16it/s]"
     ]
    },
    {
     "name": "stdout",
     "output_type": "stream",
     "text": [
      "DEST [[  256.     0.]\n",
      " [ 1024.     0.]\n",
      " [ 1024.   720.]\n",
      " [  256.   720.]]\n",
      "SRC [[  588.79998779   446.3999939 ]\n",
      " [  691.20001221   446.3999939 ]\n",
      " [ 1126.40002441   673.20001221]\n",
      " [  153.6000061    673.20001221]]\n"
     ]
    },
    {
     "name": "stderr",
     "output_type": "stream",
     "text": [
      "\u001b[A\u001b[A\u001b[A\u001b[A\u001b[A\n",
      "\n",
      "\n",
      "\n",
      "\n",
      " 88%|████████▊ | 428/485 [00:56<00:07,  7.15it/s]"
     ]
    },
    {
     "name": "stdout",
     "output_type": "stream",
     "text": [
      "DEST [[  256.     0.]\n",
      " [ 1024.     0.]\n",
      " [ 1024.   720.]\n",
      " [  256.   720.]]\n",
      "SRC [[  588.79998779   446.3999939 ]\n",
      " [  691.20001221   446.3999939 ]\n",
      " [ 1126.40002441   673.20001221]\n",
      " [  153.6000061    673.20001221]]\n"
     ]
    },
    {
     "name": "stderr",
     "output_type": "stream",
     "text": [
      "\u001b[A\u001b[A\u001b[A\u001b[A\u001b[A\n",
      "\n",
      "\n",
      "\n",
      "\n",
      " 88%|████████▊ | 429/485 [00:56<00:07,  7.19it/s]"
     ]
    },
    {
     "name": "stdout",
     "output_type": "stream",
     "text": [
      "DEST [[  256.     0.]\n",
      " [ 1024.     0.]\n",
      " [ 1024.   720.]\n",
      " [  256.   720.]]\n",
      "SRC [[  588.79998779   446.3999939 ]\n",
      " [  691.20001221   446.3999939 ]\n",
      " [ 1126.40002441   673.20001221]\n",
      " [  153.6000061    673.20001221]]\n"
     ]
    },
    {
     "name": "stderr",
     "output_type": "stream",
     "text": [
      "\u001b[A\u001b[A\u001b[A\u001b[A\u001b[A\n",
      "\n",
      "\n",
      "\n",
      "\n",
      " 89%|████████▊ | 430/485 [00:56<00:07,  7.28it/s]"
     ]
    },
    {
     "name": "stdout",
     "output_type": "stream",
     "text": [
      "DEST [[  256.     0.]\n",
      " [ 1024.     0.]\n",
      " [ 1024.   720.]\n",
      " [  256.   720.]]\n",
      "SRC [[  588.79998779   446.3999939 ]\n",
      " [  691.20001221   446.3999939 ]\n",
      " [ 1126.40002441   673.20001221]\n",
      " [  153.6000061    673.20001221]]\n"
     ]
    },
    {
     "name": "stderr",
     "output_type": "stream",
     "text": [
      "\u001b[A\u001b[A\u001b[A\u001b[A\u001b[A\n",
      "\n",
      "\n",
      "\n",
      "\n",
      " 89%|████████▉ | 431/485 [00:56<00:07,  7.22it/s]"
     ]
    },
    {
     "name": "stdout",
     "output_type": "stream",
     "text": [
      "DEST [[  256.     0.]\n",
      " [ 1024.     0.]\n",
      " [ 1024.   720.]\n",
      " [  256.   720.]]\n",
      "SRC [[  588.79998779   446.3999939 ]\n",
      " [  691.20001221   446.3999939 ]\n",
      " [ 1126.40002441   673.20001221]\n",
      " [  153.6000061    673.20001221]]\n"
     ]
    },
    {
     "name": "stderr",
     "output_type": "stream",
     "text": [
      "\u001b[A\u001b[A\u001b[A\u001b[A\u001b[A\n",
      "\n",
      "\n",
      "\n",
      "\n",
      " 89%|████████▉ | 432/485 [00:56<00:07,  7.35it/s]"
     ]
    },
    {
     "name": "stdout",
     "output_type": "stream",
     "text": [
      "DEST [[  256.     0.]\n",
      " [ 1024.     0.]\n",
      " [ 1024.   720.]\n",
      " [  256.   720.]]\n",
      "SRC [[  588.79998779   446.3999939 ]\n",
      " [  691.20001221   446.3999939 ]\n",
      " [ 1126.40002441   673.20001221]\n",
      " [  153.6000061    673.20001221]]\n"
     ]
    },
    {
     "name": "stderr",
     "output_type": "stream",
     "text": [
      "\u001b[A\u001b[A\u001b[A\u001b[A\u001b[A\n",
      "\n",
      "\n",
      "\n",
      "\n",
      " 89%|████████▉ | 433/485 [00:57<00:07,  7.34it/s]"
     ]
    },
    {
     "name": "stdout",
     "output_type": "stream",
     "text": [
      "DEST [[  256.     0.]\n",
      " [ 1024.     0.]\n",
      " [ 1024.   720.]\n",
      " [  256.   720.]]\n",
      "SRC [[  588.79998779   446.3999939 ]\n",
      " [  691.20001221   446.3999939 ]\n",
      " [ 1126.40002441   673.20001221]\n",
      " [  153.6000061    673.20001221]]\n"
     ]
    },
    {
     "name": "stderr",
     "output_type": "stream",
     "text": [
      "\u001b[A\u001b[A\u001b[A\u001b[A\u001b[A\n",
      "\n",
      "\n",
      "\n",
      "\n",
      " 89%|████████▉ | 434/485 [00:57<00:06,  7.35it/s]"
     ]
    },
    {
     "name": "stdout",
     "output_type": "stream",
     "text": [
      "DEST [[  256.     0.]\n",
      " [ 1024.     0.]\n",
      " [ 1024.   720.]\n",
      " [  256.   720.]]\n",
      "SRC [[  588.79998779   446.3999939 ]\n",
      " [  691.20001221   446.3999939 ]\n",
      " [ 1126.40002441   673.20001221]\n",
      " [  153.6000061    673.20001221]]\n"
     ]
    },
    {
     "name": "stderr",
     "output_type": "stream",
     "text": [
      "\u001b[A\u001b[A\u001b[A\u001b[A\u001b[A\n",
      "\n",
      "\n",
      "\n",
      "\n",
      " 90%|████████▉ | 435/485 [00:57<00:06,  7.47it/s]"
     ]
    },
    {
     "name": "stdout",
     "output_type": "stream",
     "text": [
      "DEST [[  256.     0.]\n",
      " [ 1024.     0.]\n",
      " [ 1024.   720.]\n",
      " [  256.   720.]]\n",
      "SRC [[  588.79998779   446.3999939 ]\n",
      " [  691.20001221   446.3999939 ]\n",
      " [ 1126.40002441   673.20001221]\n",
      " [  153.6000061    673.20001221]]\n"
     ]
    },
    {
     "name": "stderr",
     "output_type": "stream",
     "text": [
      "\u001b[A\u001b[A\u001b[A\u001b[A\u001b[A\n",
      "\n",
      "\n",
      "\n",
      "\n",
      " 90%|████████▉ | 436/485 [00:57<00:06,  7.46it/s]"
     ]
    },
    {
     "name": "stdout",
     "output_type": "stream",
     "text": [
      "DEST [[  256.     0.]\n",
      " [ 1024.     0.]\n",
      " [ 1024.   720.]\n",
      " [  256.   720.]]\n",
      "SRC [[  588.79998779   446.3999939 ]\n",
      " [  691.20001221   446.3999939 ]\n",
      " [ 1126.40002441   673.20001221]\n",
      " [  153.6000061    673.20001221]]\n"
     ]
    },
    {
     "name": "stderr",
     "output_type": "stream",
     "text": [
      "\u001b[A\u001b[A\u001b[A\u001b[A\u001b[A\n",
      "\n",
      "\n",
      "\n",
      "\n",
      " 90%|█████████ | 437/485 [00:57<00:06,  7.48it/s]"
     ]
    },
    {
     "name": "stdout",
     "output_type": "stream",
     "text": [
      "DEST [[  256.     0.]\n",
      " [ 1024.     0.]\n",
      " [ 1024.   720.]\n",
      " [  256.   720.]]\n",
      "SRC [[  588.79998779   446.3999939 ]\n",
      " [  691.20001221   446.3999939 ]\n",
      " [ 1126.40002441   673.20001221]\n",
      " [  153.6000061    673.20001221]]\n"
     ]
    },
    {
     "name": "stderr",
     "output_type": "stream",
     "text": [
      "\u001b[A\u001b[A\u001b[A\u001b[A\u001b[A\n",
      "\n",
      "\n",
      "\n",
      "\n",
      " 90%|█████████ | 438/485 [00:57<00:06,  7.44it/s]"
     ]
    },
    {
     "name": "stdout",
     "output_type": "stream",
     "text": [
      "DEST [[  256.     0.]\n",
      " [ 1024.     0.]\n",
      " [ 1024.   720.]\n",
      " [  256.   720.]]\n",
      "SRC [[  588.79998779   446.3999939 ]\n",
      " [  691.20001221   446.3999939 ]\n",
      " [ 1126.40002441   673.20001221]\n",
      " [  153.6000061    673.20001221]]\n"
     ]
    },
    {
     "name": "stderr",
     "output_type": "stream",
     "text": [
      "\u001b[A\u001b[A\u001b[A\u001b[A\u001b[A\n",
      "\n",
      "\n",
      "\n",
      "\n",
      " 91%|█████████ | 439/485 [00:57<00:06,  7.49it/s]"
     ]
    },
    {
     "name": "stdout",
     "output_type": "stream",
     "text": [
      "DEST [[  256.     0.]\n",
      " [ 1024.     0.]\n",
      " [ 1024.   720.]\n",
      " [  256.   720.]]\n",
      "SRC [[  588.79998779   446.3999939 ]\n",
      " [  691.20001221   446.3999939 ]\n",
      " [ 1126.40002441   673.20001221]\n",
      " [  153.6000061    673.20001221]]\n"
     ]
    },
    {
     "name": "stderr",
     "output_type": "stream",
     "text": [
      "\u001b[A\u001b[A\u001b[A\u001b[A\u001b[A\n",
      "\n",
      "\n",
      "\n",
      "\n",
      " 91%|█████████ | 440/485 [00:58<00:05,  7.53it/s]"
     ]
    },
    {
     "name": "stdout",
     "output_type": "stream",
     "text": [
      "DEST [[  256.     0.]\n",
      " [ 1024.     0.]\n",
      " [ 1024.   720.]\n",
      " [  256.   720.]]\n",
      "SRC [[  588.79998779   446.3999939 ]\n",
      " [  691.20001221   446.3999939 ]\n",
      " [ 1126.40002441   673.20001221]\n",
      " [  153.6000061    673.20001221]]\n"
     ]
    },
    {
     "name": "stderr",
     "output_type": "stream",
     "text": [
      "\u001b[A\u001b[A\u001b[A\u001b[A\u001b[A\n",
      "\n",
      "\n",
      "\n",
      "\n",
      " 91%|█████████ | 441/485 [00:58<00:05,  7.54it/s]"
     ]
    },
    {
     "name": "stdout",
     "output_type": "stream",
     "text": [
      "DEST [[  256.     0.]\n",
      " [ 1024.     0.]\n",
      " [ 1024.   720.]\n",
      " [  256.   720.]]\n",
      "SRC [[  588.79998779   446.3999939 ]\n",
      " [  691.20001221   446.3999939 ]\n",
      " [ 1126.40002441   673.20001221]\n",
      " [  153.6000061    673.20001221]]\n"
     ]
    },
    {
     "name": "stderr",
     "output_type": "stream",
     "text": [
      "\u001b[A\u001b[A\u001b[A\u001b[A\u001b[A\n",
      "\n",
      "\n",
      "\n",
      "\n",
      " 91%|█████████ | 442/485 [00:58<00:05,  7.43it/s]"
     ]
    },
    {
     "name": "stdout",
     "output_type": "stream",
     "text": [
      "DEST [[  256.     0.]\n",
      " [ 1024.     0.]\n",
      " [ 1024.   720.]\n",
      " [  256.   720.]]\n",
      "SRC [[  588.79998779   446.3999939 ]\n",
      " [  691.20001221   446.3999939 ]\n",
      " [ 1126.40002441   673.20001221]\n",
      " [  153.6000061    673.20001221]]\n"
     ]
    },
    {
     "name": "stderr",
     "output_type": "stream",
     "text": [
      "\u001b[A\u001b[A\u001b[A\u001b[A\u001b[A\n",
      "\n",
      "\n",
      "\n",
      "\n",
      " 91%|█████████▏| 443/485 [00:58<00:05,  7.40it/s]"
     ]
    },
    {
     "name": "stdout",
     "output_type": "stream",
     "text": [
      "DEST [[  256.     0.]\n",
      " [ 1024.     0.]\n",
      " [ 1024.   720.]\n",
      " [  256.   720.]]\n",
      "SRC [[  588.79998779   446.3999939 ]\n",
      " [  691.20001221   446.3999939 ]\n",
      " [ 1126.40002441   673.20001221]\n",
      " [  153.6000061    673.20001221]]\n"
     ]
    },
    {
     "name": "stderr",
     "output_type": "stream",
     "text": [
      "\u001b[A\u001b[A\u001b[A\u001b[A\u001b[A\n",
      "\n",
      "\n",
      "\n",
      "\n",
      " 92%|█████████▏| 444/485 [00:58<00:05,  7.38it/s]"
     ]
    },
    {
     "name": "stdout",
     "output_type": "stream",
     "text": [
      "DEST [[  256.     0.]\n",
      " [ 1024.     0.]\n",
      " [ 1024.   720.]\n",
      " [  256.   720.]]\n",
      "SRC [[  588.79998779   446.3999939 ]\n",
      " [  691.20001221   446.3999939 ]\n",
      " [ 1126.40002441   673.20001221]\n",
      " [  153.6000061    673.20001221]]\n"
     ]
    },
    {
     "name": "stderr",
     "output_type": "stream",
     "text": [
      "\u001b[A\u001b[A\u001b[A\u001b[A\u001b[A\n",
      "\n",
      "\n",
      "\n",
      "\n",
      " 92%|█████████▏| 445/485 [00:58<00:05,  7.44it/s]"
     ]
    },
    {
     "name": "stdout",
     "output_type": "stream",
     "text": [
      "DEST [[  256.     0.]\n",
      " [ 1024.     0.]\n",
      " [ 1024.   720.]\n",
      " [  256.   720.]]\n",
      "SRC [[  588.79998779   446.3999939 ]\n",
      " [  691.20001221   446.3999939 ]\n",
      " [ 1126.40002441   673.20001221]\n",
      " [  153.6000061    673.20001221]]\n"
     ]
    },
    {
     "name": "stderr",
     "output_type": "stream",
     "text": [
      "\u001b[A\u001b[A\u001b[A\u001b[A\u001b[A\n",
      "\n",
      "\n",
      "\n",
      "\n",
      " 92%|█████████▏| 446/485 [00:58<00:05,  7.44it/s]"
     ]
    },
    {
     "name": "stdout",
     "output_type": "stream",
     "text": [
      "DEST [[  256.     0.]\n",
      " [ 1024.     0.]\n",
      " [ 1024.   720.]\n",
      " [  256.   720.]]\n",
      "SRC [[  588.79998779   446.3999939 ]\n",
      " [  691.20001221   446.3999939 ]\n",
      " [ 1126.40002441   673.20001221]\n",
      " [  153.6000061    673.20001221]]\n"
     ]
    },
    {
     "name": "stderr",
     "output_type": "stream",
     "text": [
      "\u001b[A\u001b[A\u001b[A\u001b[A\u001b[A\n",
      "\n",
      "\n",
      "\n",
      "\n",
      " 92%|█████████▏| 447/485 [00:59<00:05,  7.50it/s]"
     ]
    },
    {
     "name": "stdout",
     "output_type": "stream",
     "text": [
      "DEST [[  256.     0.]\n",
      " [ 1024.     0.]\n",
      " [ 1024.   720.]\n",
      " [  256.   720.]]\n",
      "SRC [[  588.79998779   446.3999939 ]\n",
      " [  691.20001221   446.3999939 ]\n",
      " [ 1126.40002441   673.20001221]\n",
      " [  153.6000061    673.20001221]]\n"
     ]
    },
    {
     "name": "stderr",
     "output_type": "stream",
     "text": [
      "\u001b[A\u001b[A\u001b[A\u001b[A\u001b[A\n",
      "\n",
      "\n",
      "\n",
      "\n",
      " 92%|█████████▏| 448/485 [00:59<00:04,  7.53it/s]"
     ]
    },
    {
     "name": "stdout",
     "output_type": "stream",
     "text": [
      "DEST [[  256.     0.]\n",
      " [ 1024.     0.]\n",
      " [ 1024.   720.]\n",
      " [  256.   720.]]\n",
      "SRC [[  588.79998779   446.3999939 ]\n",
      " [  691.20001221   446.3999939 ]\n",
      " [ 1126.40002441   673.20001221]\n",
      " [  153.6000061    673.20001221]]\n"
     ]
    },
    {
     "name": "stderr",
     "output_type": "stream",
     "text": [
      "\u001b[A\u001b[A\u001b[A\u001b[A\u001b[A\n",
      "\n",
      "\n",
      "\n",
      "\n",
      " 93%|█████████▎| 449/485 [00:59<00:04,  7.51it/s]"
     ]
    },
    {
     "name": "stdout",
     "output_type": "stream",
     "text": [
      "DEST [[  256.     0.]\n",
      " [ 1024.     0.]\n",
      " [ 1024.   720.]\n",
      " [  256.   720.]]\n",
      "SRC [[  588.79998779   446.3999939 ]\n",
      " [  691.20001221   446.3999939 ]\n",
      " [ 1126.40002441   673.20001221]\n",
      " [  153.6000061    673.20001221]]\n"
     ]
    },
    {
     "name": "stderr",
     "output_type": "stream",
     "text": [
      "\u001b[A\u001b[A\u001b[A\u001b[A\u001b[A\n",
      "\n",
      "\n",
      "\n",
      "\n",
      " 93%|█████████▎| 450/485 [00:59<00:04,  7.53it/s]"
     ]
    },
    {
     "name": "stdout",
     "output_type": "stream",
     "text": [
      "DEST [[  256.     0.]\n",
      " [ 1024.     0.]\n",
      " [ 1024.   720.]\n",
      " [  256.   720.]]\n",
      "SRC [[  588.79998779   446.3999939 ]\n",
      " [  691.20001221   446.3999939 ]\n",
      " [ 1126.40002441   673.20001221]\n",
      " [  153.6000061    673.20001221]]\n"
     ]
    },
    {
     "name": "stderr",
     "output_type": "stream",
     "text": [
      "\u001b[A\u001b[A\u001b[A\u001b[A\u001b[A\n",
      "\n",
      "\n",
      "\n",
      "\n",
      " 93%|█████████▎| 451/485 [00:59<00:04,  7.58it/s]"
     ]
    },
    {
     "name": "stdout",
     "output_type": "stream",
     "text": [
      "DEST [[  256.     0.]\n",
      " [ 1024.     0.]\n",
      " [ 1024.   720.]\n",
      " [  256.   720.]]\n",
      "SRC [[  588.79998779   446.3999939 ]\n",
      " [  691.20001221   446.3999939 ]\n",
      " [ 1126.40002441   673.20001221]\n",
      " [  153.6000061    673.20001221]]\n"
     ]
    },
    {
     "name": "stderr",
     "output_type": "stream",
     "text": [
      "\u001b[A\u001b[A\u001b[A\u001b[A\u001b[A\n",
      "\n",
      "\n",
      "\n",
      "\n",
      " 93%|█████████▎| 452/485 [00:59<00:04,  7.53it/s]"
     ]
    },
    {
     "name": "stdout",
     "output_type": "stream",
     "text": [
      "DEST [[  256.     0.]\n",
      " [ 1024.     0.]\n",
      " [ 1024.   720.]\n",
      " [  256.   720.]]\n",
      "SRC [[  588.79998779   446.3999939 ]\n",
      " [  691.20001221   446.3999939 ]\n",
      " [ 1126.40002441   673.20001221]\n",
      " [  153.6000061    673.20001221]]\n"
     ]
    },
    {
     "name": "stderr",
     "output_type": "stream",
     "text": [
      "\u001b[A\u001b[A\u001b[A\u001b[A\u001b[A\n",
      "\n",
      "\n",
      "\n",
      "\n",
      " 93%|█████████▎| 453/485 [00:59<00:04,  7.53it/s]"
     ]
    },
    {
     "name": "stdout",
     "output_type": "stream",
     "text": [
      "DEST [[  256.     0.]\n",
      " [ 1024.     0.]\n",
      " [ 1024.   720.]\n",
      " [  256.   720.]]\n",
      "SRC [[  588.79998779   446.3999939 ]\n",
      " [  691.20001221   446.3999939 ]\n",
      " [ 1126.40002441   673.20001221]\n",
      " [  153.6000061    673.20001221]]\n"
     ]
    },
    {
     "name": "stderr",
     "output_type": "stream",
     "text": [
      "\u001b[A\u001b[A\u001b[A\u001b[A\u001b[A\n",
      "\n",
      "\n",
      "\n",
      "\n",
      " 94%|█████████▎| 454/485 [00:59<00:04,  7.56it/s]"
     ]
    },
    {
     "name": "stdout",
     "output_type": "stream",
     "text": [
      "DEST [[  256.     0.]\n",
      " [ 1024.     0.]\n",
      " [ 1024.   720.]\n",
      " [  256.   720.]]\n",
      "SRC [[  588.79998779   446.3999939 ]\n",
      " [  691.20001221   446.3999939 ]\n",
      " [ 1126.40002441   673.20001221]\n",
      " [  153.6000061    673.20001221]]\n"
     ]
    },
    {
     "name": "stderr",
     "output_type": "stream",
     "text": [
      "\u001b[A\u001b[A\u001b[A\u001b[A\u001b[A\n",
      "\n",
      "\n",
      "\n",
      "\n",
      " 94%|█████████▍| 455/485 [01:00<00:03,  7.60it/s]"
     ]
    },
    {
     "name": "stdout",
     "output_type": "stream",
     "text": [
      "DEST [[  256.     0.]\n",
      " [ 1024.     0.]\n",
      " [ 1024.   720.]\n",
      " [  256.   720.]]\n",
      "SRC [[  588.79998779   446.3999939 ]\n",
      " [  691.20001221   446.3999939 ]\n",
      " [ 1126.40002441   673.20001221]\n",
      " [  153.6000061    673.20001221]]\n"
     ]
    },
    {
     "name": "stderr",
     "output_type": "stream",
     "text": [
      "\u001b[A\u001b[A\u001b[A\u001b[A\u001b[A\n",
      "\n",
      "\n",
      "\n",
      "\n",
      " 94%|█████████▍| 456/485 [01:00<00:03,  7.67it/s]"
     ]
    },
    {
     "name": "stdout",
     "output_type": "stream",
     "text": [
      "DEST [[  256.     0.]\n",
      " [ 1024.     0.]\n",
      " [ 1024.   720.]\n",
      " [  256.   720.]]\n",
      "SRC [[  588.79998779   446.3999939 ]\n",
      " [  691.20001221   446.3999939 ]\n",
      " [ 1126.40002441   673.20001221]\n",
      " [  153.6000061    673.20001221]]\n"
     ]
    },
    {
     "name": "stderr",
     "output_type": "stream",
     "text": [
      "\u001b[A\u001b[A\u001b[A\u001b[A\u001b[A\n",
      "\n",
      "\n",
      "\n",
      "\n",
      " 94%|█████████▍| 457/485 [01:00<00:03,  7.66it/s]"
     ]
    },
    {
     "name": "stdout",
     "output_type": "stream",
     "text": [
      "DEST [[  256.     0.]\n",
      " [ 1024.     0.]\n",
      " [ 1024.   720.]\n",
      " [  256.   720.]]\n",
      "SRC [[  588.79998779   446.3999939 ]\n",
      " [  691.20001221   446.3999939 ]\n",
      " [ 1126.40002441   673.20001221]\n",
      " [  153.6000061    673.20001221]]\n"
     ]
    },
    {
     "name": "stderr",
     "output_type": "stream",
     "text": [
      "\u001b[A\u001b[A\u001b[A\u001b[A\u001b[A\n",
      "\n",
      "\n",
      "\n",
      "\n",
      " 94%|█████████▍| 458/485 [01:00<00:03,  7.64it/s]"
     ]
    },
    {
     "name": "stdout",
     "output_type": "stream",
     "text": [
      "DEST [[  256.     0.]\n",
      " [ 1024.     0.]\n",
      " [ 1024.   720.]\n",
      " [  256.   720.]]\n",
      "SRC [[  588.79998779   446.3999939 ]\n",
      " [  691.20001221   446.3999939 ]\n",
      " [ 1126.40002441   673.20001221]\n",
      " [  153.6000061    673.20001221]]\n"
     ]
    },
    {
     "name": "stderr",
     "output_type": "stream",
     "text": [
      "\u001b[A\u001b[A\u001b[A\u001b[A\u001b[A\n",
      "\n",
      "\n",
      "\n",
      "\n",
      " 95%|█████████▍| 459/485 [01:00<00:03,  7.69it/s]"
     ]
    },
    {
     "name": "stdout",
     "output_type": "stream",
     "text": [
      "DEST [[  256.     0.]\n",
      " [ 1024.     0.]\n",
      " [ 1024.   720.]\n",
      " [  256.   720.]]\n",
      "SRC [[  588.79998779   446.3999939 ]\n",
      " [  691.20001221   446.3999939 ]\n",
      " [ 1126.40002441   673.20001221]\n",
      " [  153.6000061    673.20001221]]\n"
     ]
    },
    {
     "name": "stderr",
     "output_type": "stream",
     "text": [
      "\u001b[A\u001b[A\u001b[A\u001b[A\u001b[A\n",
      "\n",
      "\n",
      "\n",
      "\n",
      " 95%|█████████▍| 460/485 [01:00<00:03,  7.64it/s]"
     ]
    },
    {
     "name": "stdout",
     "output_type": "stream",
     "text": [
      "DEST [[  256.     0.]\n",
      " [ 1024.     0.]\n",
      " [ 1024.   720.]\n",
      " [  256.   720.]]\n",
      "SRC [[  588.79998779   446.3999939 ]\n",
      " [  691.20001221   446.3999939 ]\n",
      " [ 1126.40002441   673.20001221]\n",
      " [  153.6000061    673.20001221]]\n"
     ]
    },
    {
     "name": "stderr",
     "output_type": "stream",
     "text": [
      "\u001b[A\u001b[A\u001b[A\u001b[A\u001b[A\n",
      "\n",
      "\n",
      "\n",
      "\n",
      " 95%|█████████▌| 461/485 [01:00<00:03,  7.63it/s]"
     ]
    },
    {
     "name": "stdout",
     "output_type": "stream",
     "text": [
      "DEST [[  256.     0.]\n",
      " [ 1024.     0.]\n",
      " [ 1024.   720.]\n",
      " [  256.   720.]]\n",
      "SRC [[  588.79998779   446.3999939 ]\n",
      " [  691.20001221   446.3999939 ]\n",
      " [ 1126.40002441   673.20001221]\n",
      " [  153.6000061    673.20001221]]\n"
     ]
    },
    {
     "name": "stderr",
     "output_type": "stream",
     "text": [
      "\u001b[A\u001b[A\u001b[A\u001b[A\u001b[A\n",
      "\n",
      "\n",
      "\n",
      "\n",
      " 95%|█████████▌| 462/485 [01:00<00:02,  7.68it/s]"
     ]
    },
    {
     "name": "stdout",
     "output_type": "stream",
     "text": [
      "DEST [[  256.     0.]\n",
      " [ 1024.     0.]\n",
      " [ 1024.   720.]\n",
      " [  256.   720.]]\n",
      "SRC [[  588.79998779   446.3999939 ]\n",
      " [  691.20001221   446.3999939 ]\n",
      " [ 1126.40002441   673.20001221]\n",
      " [  153.6000061    673.20001221]]\n"
     ]
    },
    {
     "name": "stderr",
     "output_type": "stream",
     "text": [
      "\u001b[A\u001b[A\u001b[A\u001b[A\u001b[A\n",
      "\n",
      "\n",
      "\n",
      "\n",
      " 95%|█████████▌| 463/485 [01:01<00:02,  7.70it/s]"
     ]
    },
    {
     "name": "stdout",
     "output_type": "stream",
     "text": [
      "DEST [[  256.     0.]\n",
      " [ 1024.     0.]\n",
      " [ 1024.   720.]\n",
      " [  256.   720.]]\n",
      "SRC [[  588.79998779   446.3999939 ]\n",
      " [  691.20001221   446.3999939 ]\n",
      " [ 1126.40002441   673.20001221]\n",
      " [  153.6000061    673.20001221]]\n"
     ]
    },
    {
     "name": "stderr",
     "output_type": "stream",
     "text": [
      "\u001b[A\u001b[A\u001b[A\u001b[A\u001b[A\n",
      "\n",
      "\n",
      "\n",
      "\n",
      " 96%|█████████▌| 464/485 [01:01<00:02,  7.68it/s]"
     ]
    },
    {
     "name": "stdout",
     "output_type": "stream",
     "text": [
      "DEST [[  256.     0.]\n",
      " [ 1024.     0.]\n",
      " [ 1024.   720.]\n",
      " [  256.   720.]]\n",
      "SRC [[  588.79998779   446.3999939 ]\n",
      " [  691.20001221   446.3999939 ]\n",
      " [ 1126.40002441   673.20001221]\n",
      " [  153.6000061    673.20001221]]\n"
     ]
    },
    {
     "name": "stderr",
     "output_type": "stream",
     "text": [
      "\u001b[A\u001b[A\u001b[A\u001b[A\u001b[A\n",
      "\n",
      "\n",
      "\n",
      "\n",
      " 96%|█████████▌| 465/485 [01:01<00:02,  7.61it/s]"
     ]
    },
    {
     "name": "stdout",
     "output_type": "stream",
     "text": [
      "DEST [[  256.     0.]\n",
      " [ 1024.     0.]\n",
      " [ 1024.   720.]\n",
      " [  256.   720.]]\n",
      "SRC [[  588.79998779   446.3999939 ]\n",
      " [  691.20001221   446.3999939 ]\n",
      " [ 1126.40002441   673.20001221]\n",
      " [  153.6000061    673.20001221]]\n"
     ]
    },
    {
     "name": "stderr",
     "output_type": "stream",
     "text": [
      "\u001b[A\u001b[A\u001b[A\u001b[A\u001b[A\n",
      "\n",
      "\n",
      "\n",
      "\n",
      " 96%|█████████▌| 466/485 [01:01<00:02,  7.67it/s]"
     ]
    },
    {
     "name": "stdout",
     "output_type": "stream",
     "text": [
      "DEST [[  256.     0.]\n",
      " [ 1024.     0.]\n",
      " [ 1024.   720.]\n",
      " [  256.   720.]]\n",
      "SRC [[  588.79998779   446.3999939 ]\n",
      " [  691.20001221   446.3999939 ]\n",
      " [ 1126.40002441   673.20001221]\n",
      " [  153.6000061    673.20001221]]\n"
     ]
    },
    {
     "name": "stderr",
     "output_type": "stream",
     "text": [
      "\u001b[A\u001b[A\u001b[A\u001b[A\u001b[A\n",
      "\n",
      "\n",
      "\n",
      "\n",
      " 96%|█████████▋| 467/485 [01:01<00:02,  7.71it/s]"
     ]
    },
    {
     "name": "stdout",
     "output_type": "stream",
     "text": [
      "DEST [[  256.     0.]\n",
      " [ 1024.     0.]\n",
      " [ 1024.   720.]\n",
      " [  256.   720.]]\n",
      "SRC [[  588.79998779   446.3999939 ]\n",
      " [  691.20001221   446.3999939 ]\n",
      " [ 1126.40002441   673.20001221]\n",
      " [  153.6000061    673.20001221]]\n"
     ]
    },
    {
     "name": "stderr",
     "output_type": "stream",
     "text": [
      "\u001b[A\u001b[A\u001b[A\u001b[A\u001b[A\n",
      "\n",
      "\n",
      "\n",
      "\n",
      " 96%|█████████▋| 468/485 [01:01<00:02,  7.71it/s]"
     ]
    },
    {
     "name": "stdout",
     "output_type": "stream",
     "text": [
      "DEST [[  256.     0.]\n",
      " [ 1024.     0.]\n",
      " [ 1024.   720.]\n",
      " [  256.   720.]]\n",
      "SRC [[  588.79998779   446.3999939 ]\n",
      " [  691.20001221   446.3999939 ]\n",
      " [ 1126.40002441   673.20001221]\n",
      " [  153.6000061    673.20001221]]\n"
     ]
    },
    {
     "name": "stderr",
     "output_type": "stream",
     "text": [
      "\u001b[A\u001b[A\u001b[A\u001b[A\u001b[A\n",
      "\n",
      "\n",
      "\n",
      "\n",
      " 97%|█████████▋| 469/485 [01:01<00:02,  7.68it/s]"
     ]
    },
    {
     "name": "stdout",
     "output_type": "stream",
     "text": [
      "DEST [[  256.     0.]\n",
      " [ 1024.     0.]\n",
      " [ 1024.   720.]\n",
      " [  256.   720.]]\n",
      "SRC [[  588.79998779   446.3999939 ]\n",
      " [  691.20001221   446.3999939 ]\n",
      " [ 1126.40002441   673.20001221]\n",
      " [  153.6000061    673.20001221]]\n"
     ]
    },
    {
     "name": "stderr",
     "output_type": "stream",
     "text": [
      "\u001b[A\u001b[A\u001b[A\u001b[A\u001b[A\n",
      "\n",
      "\n",
      "\n",
      "\n",
      " 97%|█████████▋| 470/485 [01:02<00:01,  7.68it/s]"
     ]
    },
    {
     "name": "stdout",
     "output_type": "stream",
     "text": [
      "DEST [[  256.     0.]\n",
      " [ 1024.     0.]\n",
      " [ 1024.   720.]\n",
      " [  256.   720.]]\n",
      "SRC [[  588.79998779   446.3999939 ]\n",
      " [  691.20001221   446.3999939 ]\n",
      " [ 1126.40002441   673.20001221]\n",
      " [  153.6000061    673.20001221]]\n"
     ]
    },
    {
     "name": "stderr",
     "output_type": "stream",
     "text": [
      "\u001b[A\u001b[A\u001b[A\u001b[A\u001b[A\n",
      "\n",
      "\n",
      "\n",
      "\n",
      " 97%|█████████▋| 471/485 [01:02<00:01,  7.71it/s]"
     ]
    },
    {
     "name": "stdout",
     "output_type": "stream",
     "text": [
      "DEST [[  256.     0.]\n",
      " [ 1024.     0.]\n",
      " [ 1024.   720.]\n",
      " [  256.   720.]]\n",
      "SRC [[  588.79998779   446.3999939 ]\n",
      " [  691.20001221   446.3999939 ]\n",
      " [ 1126.40002441   673.20001221]\n",
      " [  153.6000061    673.20001221]]\n"
     ]
    },
    {
     "name": "stderr",
     "output_type": "stream",
     "text": [
      "\u001b[A\u001b[A\u001b[A\u001b[A\u001b[A\n",
      "\n",
      "\n",
      "\n",
      "\n",
      " 97%|█████████▋| 472/485 [01:02<00:01,  7.71it/s]"
     ]
    },
    {
     "name": "stdout",
     "output_type": "stream",
     "text": [
      "DEST [[  256.     0.]\n",
      " [ 1024.     0.]\n",
      " [ 1024.   720.]\n",
      " [  256.   720.]]\n",
      "SRC [[  588.79998779   446.3999939 ]\n",
      " [  691.20001221   446.3999939 ]\n",
      " [ 1126.40002441   673.20001221]\n",
      " [  153.6000061    673.20001221]]\n"
     ]
    },
    {
     "name": "stderr",
     "output_type": "stream",
     "text": [
      "\u001b[A\u001b[A\u001b[A\u001b[A\u001b[A\n",
      "\n",
      "\n",
      "\n",
      "\n",
      " 98%|█████████▊| 473/485 [01:02<00:01,  7.66it/s]"
     ]
    },
    {
     "name": "stdout",
     "output_type": "stream",
     "text": [
      "DEST [[  256.     0.]\n",
      " [ 1024.     0.]\n",
      " [ 1024.   720.]\n",
      " [  256.   720.]]\n",
      "SRC [[  588.79998779   446.3999939 ]\n",
      " [  691.20001221   446.3999939 ]\n",
      " [ 1126.40002441   673.20001221]\n",
      " [  153.6000061    673.20001221]]\n"
     ]
    },
    {
     "name": "stderr",
     "output_type": "stream",
     "text": [
      "\u001b[A\u001b[A\u001b[A\u001b[A\u001b[A\n",
      "\n",
      "\n",
      "\n",
      "\n",
      " 98%|█████████▊| 474/485 [01:02<00:01,  7.66it/s]"
     ]
    },
    {
     "name": "stdout",
     "output_type": "stream",
     "text": [
      "DEST [[  256.     0.]\n",
      " [ 1024.     0.]\n",
      " [ 1024.   720.]\n",
      " [  256.   720.]]\n",
      "SRC [[  588.79998779   446.3999939 ]\n",
      " [  691.20001221   446.3999939 ]\n",
      " [ 1126.40002441   673.20001221]\n",
      " [  153.6000061    673.20001221]]\n"
     ]
    },
    {
     "name": "stderr",
     "output_type": "stream",
     "text": [
      "\u001b[A\u001b[A\u001b[A\u001b[A\u001b[A\n",
      "\n",
      "\n",
      "\n",
      "\n",
      " 98%|█████████▊| 475/485 [01:02<00:01,  7.62it/s]"
     ]
    },
    {
     "name": "stdout",
     "output_type": "stream",
     "text": [
      "DEST [[  256.     0.]\n",
      " [ 1024.     0.]\n",
      " [ 1024.   720.]\n",
      " [  256.   720.]]\n",
      "SRC [[  588.79998779   446.3999939 ]\n",
      " [  691.20001221   446.3999939 ]\n",
      " [ 1126.40002441   673.20001221]\n",
      " [  153.6000061    673.20001221]]\n"
     ]
    },
    {
     "name": "stderr",
     "output_type": "stream",
     "text": [
      "\u001b[A\u001b[A\u001b[A\u001b[A\u001b[A\n",
      "\n",
      "\n",
      "\n",
      "\n",
      " 98%|█████████▊| 476/485 [01:02<00:01,  7.64it/s]"
     ]
    },
    {
     "name": "stdout",
     "output_type": "stream",
     "text": [
      "DEST [[  256.     0.]\n",
      " [ 1024.     0.]\n",
      " [ 1024.   720.]\n",
      " [  256.   720.]]\n",
      "SRC [[  588.79998779   446.3999939 ]\n",
      " [  691.20001221   446.3999939 ]\n",
      " [ 1126.40002441   673.20001221]\n",
      " [  153.6000061    673.20001221]]\n"
     ]
    },
    {
     "name": "stderr",
     "output_type": "stream",
     "text": [
      "\u001b[A\u001b[A\u001b[A\u001b[A\u001b[A\n",
      "\n",
      "\n",
      "\n",
      "\n",
      " 98%|█████████▊| 477/485 [01:02<00:01,  7.64it/s]"
     ]
    },
    {
     "name": "stdout",
     "output_type": "stream",
     "text": [
      "DEST [[  256.     0.]\n",
      " [ 1024.     0.]\n",
      " [ 1024.   720.]\n",
      " [  256.   720.]]\n",
      "SRC [[  588.79998779   446.3999939 ]\n",
      " [  691.20001221   446.3999939 ]\n",
      " [ 1126.40002441   673.20001221]\n",
      " [  153.6000061    673.20001221]]\n"
     ]
    },
    {
     "name": "stderr",
     "output_type": "stream",
     "text": [
      "\u001b[A\u001b[A\u001b[A\u001b[A\u001b[A\n",
      "\n",
      "\n",
      "\n",
      "\n",
      " 99%|█████████▊| 478/485 [01:03<00:00,  7.66it/s]"
     ]
    },
    {
     "name": "stdout",
     "output_type": "stream",
     "text": [
      "DEST [[  256.     0.]\n",
      " [ 1024.     0.]\n",
      " [ 1024.   720.]\n",
      " [  256.   720.]]\n",
      "SRC [[  588.79998779   446.3999939 ]\n",
      " [  691.20001221   446.3999939 ]\n",
      " [ 1126.40002441   673.20001221]\n",
      " [  153.6000061    673.20001221]]\n"
     ]
    },
    {
     "name": "stderr",
     "output_type": "stream",
     "text": [
      "\u001b[A\u001b[A\u001b[A\u001b[A\u001b[A\n",
      "\n",
      "\n",
      "\n",
      "\n",
      " 99%|█████████▉| 479/485 [01:03<00:00,  7.70it/s]"
     ]
    },
    {
     "name": "stdout",
     "output_type": "stream",
     "text": [
      "DEST [[  256.     0.]\n",
      " [ 1024.     0.]\n",
      " [ 1024.   720.]\n",
      " [  256.   720.]]\n",
      "SRC [[  588.79998779   446.3999939 ]\n",
      " [  691.20001221   446.3999939 ]\n",
      " [ 1126.40002441   673.20001221]\n",
      " [  153.6000061    673.20001221]]\n"
     ]
    },
    {
     "name": "stderr",
     "output_type": "stream",
     "text": [
      "\u001b[A\u001b[A\u001b[A\u001b[A\u001b[A\n",
      "\n",
      "\n",
      "\n",
      "\n",
      " 99%|█████████▉| 480/485 [01:03<00:00,  7.66it/s]"
     ]
    },
    {
     "name": "stdout",
     "output_type": "stream",
     "text": [
      "DEST [[  256.     0.]\n",
      " [ 1024.     0.]\n",
      " [ 1024.   720.]\n",
      " [  256.   720.]]\n",
      "SRC [[  588.79998779   446.3999939 ]\n",
      " [  691.20001221   446.3999939 ]\n",
      " [ 1126.40002441   673.20001221]\n",
      " [  153.6000061    673.20001221]]\n"
     ]
    },
    {
     "name": "stderr",
     "output_type": "stream",
     "text": [
      "\u001b[A\u001b[A\u001b[A\u001b[A\u001b[A\n",
      "\n",
      "\n",
      "\n",
      "\n",
      " 99%|█████████▉| 481/485 [01:03<00:00,  7.60it/s]"
     ]
    },
    {
     "name": "stdout",
     "output_type": "stream",
     "text": [
      "DEST [[  256.     0.]\n",
      " [ 1024.     0.]\n",
      " [ 1024.   720.]\n",
      " [  256.   720.]]\n",
      "SRC [[  588.79998779   446.3999939 ]\n",
      " [  691.20001221   446.3999939 ]\n",
      " [ 1126.40002441   673.20001221]\n",
      " [  153.6000061    673.20001221]]\n"
     ]
    },
    {
     "name": "stderr",
     "output_type": "stream",
     "text": [
      "\u001b[A\u001b[A\u001b[A\u001b[A\u001b[A\n",
      "\n",
      "\n",
      "\n",
      "\n",
      " 99%|█████████▉| 482/485 [01:03<00:00,  7.57it/s]"
     ]
    },
    {
     "name": "stdout",
     "output_type": "stream",
     "text": [
      "DEST [[  256.     0.]\n",
      " [ 1024.     0.]\n",
      " [ 1024.   720.]\n",
      " [  256.   720.]]\n",
      "SRC [[  588.79998779   446.3999939 ]\n",
      " [  691.20001221   446.3999939 ]\n",
      " [ 1126.40002441   673.20001221]\n",
      " [  153.6000061    673.20001221]]\n"
     ]
    },
    {
     "name": "stderr",
     "output_type": "stream",
     "text": [
      "\u001b[A\u001b[A\u001b[A\u001b[A\u001b[A\n",
      "\n",
      "\n",
      "\n",
      "\n",
      "100%|█████████▉| 483/485 [01:03<00:00,  7.60it/s]"
     ]
    },
    {
     "name": "stdout",
     "output_type": "stream",
     "text": [
      "DEST [[  256.     0.]\n",
      " [ 1024.     0.]\n",
      " [ 1024.   720.]\n",
      " [  256.   720.]]\n",
      "SRC [[  588.79998779   446.3999939 ]\n",
      " [  691.20001221   446.3999939 ]\n",
      " [ 1126.40002441   673.20001221]\n",
      " [  153.6000061    673.20001221]]\n"
     ]
    },
    {
     "name": "stderr",
     "output_type": "stream",
     "text": [
      "\u001b[A\u001b[A\u001b[A\u001b[A\u001b[A\n",
      "\n",
      "\n",
      "\n",
      "\n",
      "100%|█████████▉| 484/485 [01:03<00:00,  7.27it/s]"
     ]
    },
    {
     "name": "stdout",
     "output_type": "stream",
     "text": [
      "DEST [[  256.     0.]\n",
      " [ 1024.     0.]\n",
      " [ 1024.   720.]\n",
      " [  256.   720.]]\n",
      "SRC [[  588.79998779   446.3999939 ]\n",
      " [  691.20001221   446.3999939 ]\n",
      " [ 1126.40002441   673.20001221]\n",
      " [  153.6000061    673.20001221]]\n"
     ]
    },
    {
     "name": "stderr",
     "output_type": "stream",
     "text": [
      "\u001b[A\u001b[A\u001b[A\u001b[A\u001b[A\n",
      "\n",
      "\n",
      "\n",
      "\n",
      "100%|██████████| 485/485 [01:04<00:00,  7.25it/s]"
     ]
    },
    {
     "name": "stdout",
     "output_type": "stream",
     "text": [
      "DEST [[  256.     0.]\n",
      " [ 1024.     0.]\n",
      " [ 1024.   720.]\n",
      " [  256.   720.]]\n",
      "SRC [[  588.79998779   446.3999939 ]\n",
      " [  691.20001221   446.3999939 ]\n",
      " [ 1126.40002441   673.20001221]\n",
      " [  153.6000061    673.20001221]]\n"
     ]
    },
    {
     "name": "stderr",
     "output_type": "stream",
     "text": [
      "\u001b[A\u001b[A\u001b[A\u001b[A\u001b[A\n",
      "\n",
      "\n",
      "\n",
      "\n",
      "\u001b[A\u001b[A\u001b[A\u001b[A\u001b[A"
     ]
    },
    {
     "name": "stdout",
     "output_type": "stream",
     "text": [
      "[MoviePy] Done.\n",
      "[MoviePy] >>>> Video ready: ./output_challenge.mp4 \n",
      "\n",
      "CPU times: user 1min 32s, sys: 17 s, total: 1min 49s\n",
      "Wall time: 1min 4s\n"
     ]
    }
   ],
   "source": [
    "from moviepy.editor import VideoFileClip\n",
    "\n",
    "output = './output_challenge.mp4'\n",
    "tracker = Tracker()\n",
    "clip1 = VideoFileClip(\"../challenge_video.mp4\")\n",
    "clip = clip1.fl_image(tracker.process_image) #NOTE: this function expects color images!!\n",
    "%time clip.write_videofile(output, audio=False)"
   ]
  },
  {
   "cell_type": "code",
   "execution_count": null,
   "metadata": {
    "collapsed": true,
    "deletable": true,
    "editable": true
   },
   "outputs": [],
   "source": []
  }
 ],
 "metadata": {
  "anaconda-cloud": {},
  "kernelspec": {
   "display_name": "Python 3",
   "language": "python",
   "name": "python3"
  },
  "language_info": {
   "codemirror_mode": {
    "name": "ipython",
    "version": 3
   },
   "file_extension": ".py",
   "mimetype": "text/x-python",
   "name": "python",
   "nbconvert_exporter": "python",
   "pygments_lexer": "ipython3",
   "version": "3.5.2"
  },
  "widgets": {
   "state": {},
   "version": "1.1.2"
  }
 },
 "nbformat": 4,
 "nbformat_minor": 1
}
